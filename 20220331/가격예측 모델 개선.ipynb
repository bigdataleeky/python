{
 "cells": [
  {
   "cell_type": "code",
   "execution_count": 33,
   "id": "afcb4f82",
   "metadata": {},
   "outputs": [
    {
     "data": {
      "text/html": [
       "<div>\n",
       "<style scoped>\n",
       "    .dataframe tbody tr th:only-of-type {\n",
       "        vertical-align: middle;\n",
       "    }\n",
       "\n",
       "    .dataframe tbody tr th {\n",
       "        vertical-align: top;\n",
       "    }\n",
       "\n",
       "    .dataframe thead th {\n",
       "        text-align: right;\n",
       "    }\n",
       "</style>\n",
       "<table border=\"1\" class=\"dataframe\">\n",
       "  <thead>\n",
       "    <tr style=\"text-align: right;\">\n",
       "      <th></th>\n",
       "      <th>create_date</th>\n",
       "      <th>price</th>\n",
       "      <th>text</th>\n",
       "      <th>phone_model</th>\n",
       "      <th>factory_price</th>\n",
       "      <th>maker</th>\n",
       "      <th>price_index</th>\n",
       "    </tr>\n",
       "  </thead>\n",
       "  <tbody>\n",
       "    <tr>\n",
       "      <th>0</th>\n",
       "      <td>2017-03-19  4 35 00 PM</td>\n",
       "      <td>550000.0</td>\n",
       "      <td>아이폰6플러스 블랙+애플라이트 64기가 팝니다  아이폰6플러스 블랙+애플라이트 64...</td>\n",
       "      <td>iphone 6 64gb</td>\n",
       "      <td>924000</td>\n",
       "      <td>apple</td>\n",
       "      <td>95.96</td>\n",
       "    </tr>\n",
       "    <tr>\n",
       "      <th>1</th>\n",
       "      <td>2016-10-26  12 08 00 PM</td>\n",
       "      <td>380000.0</td>\n",
       "      <td>갤럭시s6엣지 32기가 팝니다 직거래  갤럭시s6엣지 32기가 품명 갤럭시s6엣지제...</td>\n",
       "      <td>galaxy s6 edge 32gb</td>\n",
       "      <td>979000</td>\n",
       "      <td>samsung</td>\n",
       "      <td>103.05</td>\n",
       "    </tr>\n",
       "    <tr>\n",
       "      <th>2</th>\n",
       "      <td>2016-10-25  12 52 00 PM</td>\n",
       "      <td>300000.0</td>\n",
       "      <td>갤럭시s6 풀박스로 팝니다~~~ 새상품급  실기스조차 없어요  직접거래 구매한지 1...</td>\n",
       "      <td>galaxy s6 32gb</td>\n",
       "      <td>854000</td>\n",
       "      <td>samsung</td>\n",
       "      <td>103.05</td>\n",
       "    </tr>\n",
       "    <tr>\n",
       "      <th>3</th>\n",
       "      <td>2017-03-23  11 14 00 PM</td>\n",
       "      <td>290000.0</td>\n",
       "      <td>sk  g5 티탄 폰 단품판매합니다  직접거래 sk g5 티탄 폰 단품판매합니다 올...</td>\n",
       "      <td>lg g5 32gb</td>\n",
       "      <td>836000</td>\n",
       "      <td>lg</td>\n",
       "      <td>95.96</td>\n",
       "    </tr>\n",
       "    <tr>\n",
       "      <th>4</th>\n",
       "      <td>2016-04-11  7 35 00 PM</td>\n",
       "      <td>280000.0</td>\n",
       "      <td>sony 엑스페리아 c5 ultra e5506 16gb  미사용 새제품 팝니다 1...</td>\n",
       "      <td>lg u 32gb</td>\n",
       "      <td>396000</td>\n",
       "      <td>lg</td>\n",
       "      <td>102.59</td>\n",
       "    </tr>\n",
       "  </tbody>\n",
       "</table>\n",
       "</div>"
      ],
      "text/plain": [
       "               create_date     price  \\\n",
       "0   2017-03-19  4 35 00 PM  550000.0   \n",
       "1  2016-10-26  12 08 00 PM  380000.0   \n",
       "2  2016-10-25  12 52 00 PM  300000.0   \n",
       "3  2017-03-23  11 14 00 PM  290000.0   \n",
       "4   2016-04-11  7 35 00 PM  280000.0   \n",
       "\n",
       "                                                text          phone_model  \\\n",
       "0  아이폰6플러스 블랙+애플라이트 64기가 팝니다  아이폰6플러스 블랙+애플라이트 64...        iphone 6 64gb   \n",
       "1  갤럭시s6엣지 32기가 팝니다 직거래  갤럭시s6엣지 32기가 품명 갤럭시s6엣지제...  galaxy s6 edge 32gb   \n",
       "2  갤럭시s6 풀박스로 팝니다~~~ 새상품급  실기스조차 없어요  직접거래 구매한지 1...       galaxy s6 32gb   \n",
       "3  sk  g5 티탄 폰 단품판매합니다  직접거래 sk g5 티탄 폰 단품판매합니다 올...           lg g5 32gb   \n",
       "4   sony 엑스페리아 c5 ultra e5506 16gb  미사용 새제품 팝니다 1...            lg u 32gb   \n",
       "\n",
       "   factory_price    maker  price_index  \n",
       "0         924000    apple        95.96  \n",
       "1         979000  samsung       103.05  \n",
       "2         854000  samsung       103.05  \n",
       "3         836000       lg        95.96  \n",
       "4         396000       lg       102.59  "
      ]
     },
     "execution_count": 33,
     "metadata": {},
     "output_type": "execute_result"
    }
   ],
   "source": [
    "import pandas as pd\n",
    "df = pd.read_csv('https://raw.githubusercontent.com/bigdataleeky/python/main/data/mobile_phone.csv')\n",
    "df.head()"
   ]
  },
  {
   "cell_type": "code",
   "execution_count": 34,
   "id": "bf406ee8",
   "metadata": {},
   "outputs": [],
   "source": [
    "from datetime import datetime\n",
    "import time"
   ]
  },
  {
   "cell_type": "code",
   "execution_count": 35,
   "id": "f21e7cd9",
   "metadata": {},
   "outputs": [],
   "source": [
    "#create_date -unix time FUNCTION CREATE "
   ]
  },
  {
   "cell_type": "code",
   "execution_count": 36,
   "id": "267b6a47",
   "metadata": {},
   "outputs": [],
   "source": [
    "def change_unixtime(str_date):\n",
    "    timestamp =  time.mktime(datetime.strptime(str_date,'%Y-%m-%d').timetuple() )\n",
    "    return timestamp"
   ]
  },
  {
   "cell_type": "code",
   "execution_count": 37,
   "id": "e59a4227",
   "metadata": {},
   "outputs": [
    {
     "data": {
      "text/plain": [
       "'2017-03-19'"
      ]
     },
     "execution_count": 37,
     "metadata": {},
     "output_type": "execute_result"
    }
   ],
   "source": [
    "df['create_date'][0][:10]"
   ]
  },
  {
   "cell_type": "code",
   "execution_count": 38,
   "id": "df2c14f1",
   "metadata": {},
   "outputs": [
    {
     "data": {
      "text/plain": [
       "1489849200.0"
      ]
     },
     "execution_count": 38,
     "metadata": {},
     "output_type": "execute_result"
    }
   ],
   "source": [
    "change_unixtime(df['create_date'][0][:10])"
   ]
  },
  {
   "cell_type": "code",
   "execution_count": 39,
   "id": "54f9ef1e",
   "metadata": {},
   "outputs": [
    {
     "data": {
      "text/plain": [
       "0    1.489849e+09\n",
       "1    1.477408e+09\n",
       "2    1.477321e+09\n",
       "3    1.490195e+09\n",
       "4    1.460300e+09\n",
       "5    1.490108e+09\n",
       "Name: create_date_unixtime, dtype: float64"
      ]
     },
     "execution_count": 39,
     "metadata": {},
     "output_type": "execute_result"
    }
   ],
   "source": [
    "df['create_date_unixtime'] = df['create_date'].apply(lambda x :change_unixtime(x[:10]) )\n",
    "df['create_date_unixtime'][:6]"
   ]
  },
  {
   "cell_type": "code",
   "execution_count": 40,
   "id": "ec6978f9",
   "metadata": {},
   "outputs": [
    {
     "data": {
      "text/html": [
       "<div>\n",
       "<style scoped>\n",
       "    .dataframe tbody tr th:only-of-type {\n",
       "        vertical-align: middle;\n",
       "    }\n",
       "\n",
       "    .dataframe tbody tr th {\n",
       "        vertical-align: top;\n",
       "    }\n",
       "\n",
       "    .dataframe thead th {\n",
       "        text-align: right;\n",
       "    }\n",
       "</style>\n",
       "<table border=\"1\" class=\"dataframe\">\n",
       "  <thead>\n",
       "    <tr style=\"text-align: right;\">\n",
       "      <th></th>\n",
       "      <th>create_date</th>\n",
       "      <th>create_date_unixtime</th>\n",
       "      <th>create_unixtime_scale</th>\n",
       "    </tr>\n",
       "  </thead>\n",
       "  <tbody>\n",
       "    <tr>\n",
       "      <th>0</th>\n",
       "      <td>2017-03-19  4 35 00 PM</td>\n",
       "      <td>1.489849e+09</td>\n",
       "      <td>0.985612</td>\n",
       "    </tr>\n",
       "    <tr>\n",
       "      <th>1</th>\n",
       "      <td>2016-10-26  12 08 00 PM</td>\n",
       "      <td>1.477408e+09</td>\n",
       "      <td>0.640288</td>\n",
       "    </tr>\n",
       "    <tr>\n",
       "      <th>2</th>\n",
       "      <td>2016-10-25  12 52 00 PM</td>\n",
       "      <td>1.477321e+09</td>\n",
       "      <td>0.637890</td>\n",
       "    </tr>\n",
       "    <tr>\n",
       "      <th>3</th>\n",
       "      <td>2017-03-23  11 14 00 PM</td>\n",
       "      <td>1.490195e+09</td>\n",
       "      <td>0.995204</td>\n",
       "    </tr>\n",
       "    <tr>\n",
       "      <th>4</th>\n",
       "      <td>2016-04-11  7 35 00 PM</td>\n",
       "      <td>1.460300e+09</td>\n",
       "      <td>0.165468</td>\n",
       "    </tr>\n",
       "  </tbody>\n",
       "</table>\n",
       "</div>"
      ],
      "text/plain": [
       "               create_date  create_date_unixtime  create_unixtime_scale\n",
       "0   2017-03-19  4 35 00 PM          1.489849e+09               0.985612\n",
       "1  2016-10-26  12 08 00 PM          1.477408e+09               0.640288\n",
       "2  2016-10-25  12 52 00 PM          1.477321e+09               0.637890\n",
       "3  2017-03-23  11 14 00 PM          1.490195e+09               0.995204\n",
       "4   2016-04-11  7 35 00 PM          1.460300e+09               0.165468"
      ]
     },
     "execution_count": 40,
     "metadata": {},
     "output_type": "execute_result"
    }
   ],
   "source": [
    "# min-max scaling  - std\n",
    "# X_std = (X - X.min(axis=0)) / (X.max(axis=0) - X.min(axis=0))\n",
    "# X_scaled = X_std * (max - min) + min\n",
    "# sklearn.preprocessing.MinMaxScaler\n",
    "\n",
    "# (각 요소 - 평균) / (최대값 - 최소값)\n",
    "df['create_unixtime_scale'] = (df['create_date_unixtime'] - df['create_date_unixtime'].min()) / \\\n",
    "        (df['create_date_unixtime'].max() - df['create_date_unixtime'].min())\n",
    "df[['create_date','create_date_unixtime','create_unixtime_scale']].head()  \n"
   ]
  },
  {
   "cell_type": "code",
   "execution_count": 41,
   "id": "663c814f",
   "metadata": {},
   "outputs": [
    {
     "data": {
      "text/html": [
       "<div>\n",
       "<style scoped>\n",
       "    .dataframe tbody tr th:only-of-type {\n",
       "        vertical-align: middle;\n",
       "    }\n",
       "\n",
       "    .dataframe tbody tr th {\n",
       "        vertical-align: top;\n",
       "    }\n",
       "\n",
       "    .dataframe thead th {\n",
       "        text-align: right;\n",
       "    }\n",
       "</style>\n",
       "<table border=\"1\" class=\"dataframe\">\n",
       "  <thead>\n",
       "    <tr style=\"text-align: right;\">\n",
       "      <th></th>\n",
       "      <th>phone_model_st</th>\n",
       "      <th>phone_model_detail</th>\n",
       "    </tr>\n",
       "  </thead>\n",
       "  <tbody>\n",
       "    <tr>\n",
       "      <th>0</th>\n",
       "      <td>64gb</td>\n",
       "      <td>iphone 6</td>\n",
       "    </tr>\n",
       "    <tr>\n",
       "      <th>1</th>\n",
       "      <td>32gb</td>\n",
       "      <td>galaxy s6 edge</td>\n",
       "    </tr>\n",
       "    <tr>\n",
       "      <th>2</th>\n",
       "      <td>32gb</td>\n",
       "      <td>galaxy s6</td>\n",
       "    </tr>\n",
       "    <tr>\n",
       "      <th>3</th>\n",
       "      <td>32gb</td>\n",
       "      <td>lg g5</td>\n",
       "    </tr>\n",
       "    <tr>\n",
       "      <th>4</th>\n",
       "      <td>32gb</td>\n",
       "      <td>lg u</td>\n",
       "    </tr>\n",
       "  </tbody>\n",
       "</table>\n",
       "</div>"
      ],
      "text/plain": [
       "  phone_model_st phone_model_detail\n",
       "0           64gb           iphone 6\n",
       "1           32gb     galaxy s6 edge\n",
       "2           32gb          galaxy s6\n",
       "3           32gb              lg g5\n",
       "4           32gb               lg u"
      ]
     },
     "execution_count": 41,
     "metadata": {},
     "output_type": "execute_result"
    }
   ],
   "source": [
    "# phone model 을 분리\n",
    "df['phone_model_st'] =  df['phone_model'].apply(lambda x : x.split(\" \")[-1])\n",
    "df['phone_model_detail'] = df['phone_model'].apply(lambda x : ' '.join( x.split(\" \")[:-1]))\n",
    "df[['phone_model_st','phone_model_detail']].head()"
   ]
  },
  {
   "cell_type": "code",
   "execution_count": 42,
   "id": "5ded92da",
   "metadata": {},
   "outputs": [
    {
     "data": {
      "image/png": "[encoded data removed]",
      "text/plain": [
       "<Figure size 432x288 with 1 Axes>"
      ]
     },
     "metadata": {
      "needs_background": "light"
     },
     "output_type": "display_data"
    }
   ],
   "source": [
    "# 모델별 거래\n",
    "model_counts =  df['phone_model'].value_counts()\n",
    "model_detail_counts =  df['phone_model_detail'].value_counts()\n",
    "\n",
    "temp = [model_counts, model_detail_counts]\n",
    "# 두 피처간의 기종별 거래 데이터\n",
    "import matplotlib.pyplot as plt\n",
    "\n",
    "plt.boxplot(temp)\n",
    "plt.show()"
   ]
  },
  {
   "cell_type": "code",
   "execution_count": 43,
   "id": "b43362db",
   "metadata": {},
   "outputs": [
    {
     "data": {
      "text/plain": [
       "\"{('iphone 6', '64gb'): 924000, ('galaxy s6 edge', \""
      ]
     },
     "execution_count": 43,
     "metadata": {},
     "output_type": "execute_result"
    }
   ],
   "source": [
    "# 기종명+용량으로 \n",
    "model_storage_factory_dic = {}\n",
    "\n",
    "for index, row in  df.iterrows():\n",
    "    model_concat =  (row['phone_model_detail'], row['phone_model_st'])\n",
    "    if model_concat in model_storage_factory_dic:\n",
    "        pass\n",
    "    else:\n",
    "        model_storage_factory_dic[model_concat] = row['factory_price']\n",
    "str(model_storage_factory_dic)[:50]"
   ]
  },
  {
   "cell_type": "code",
   "execution_count": 44,
   "id": "6686417e",
   "metadata": {},
   "outputs": [],
   "source": [
    "# z-score.....  평균으로부터 표준편차의 몇배 만큼 떨어져 있는지를 보여주는 지수\n",
    "# z = (x - mean) / std\n",
    "# price z score : 어떤 데이터의 가격이 해당 기종의 평균에 비해 어느정도 높거나 낮은지 알수있게\n",
    "df['zscore_price'] = df.groupby('phone_model_detail')['price'].transform(lambda x: (x - x.mean()) / x.std())"
   ]
  },
  {
   "cell_type": "code",
   "execution_count": 45,
   "id": "44338f82",
   "metadata": {},
   "outputs": [
    {
     "data": {
      "image/png": "[encoded data removed]",
      "text/plain": [
       "<Figure size 432x288 with 1 Axes>"
      ]
     },
     "metadata": {
      "needs_background": "light"
     },
     "output_type": "display_data"
    }
   ],
   "source": [
    "ax = df['zscore_price'].hist(bins='auto')\n",
    "lower= df['zscore_price'].quantile(0.05)\n",
    "upper = df['zscore_price'].quantile(0.95)\n",
    "\n",
    "ax.axvline(x = lower,color = 'r', linestyle='dashed', linewidth=2)\n",
    "ax.axvline(x = upper,color = 'r', linestyle='dashed', linewidth=2)\n",
    "\n",
    "plt.show()\n"
   ]
  },
  {
   "cell_type": "code",
   "execution_count": 46,
   "id": "04e3d98c",
   "metadata": {},
   "outputs": [],
   "source": [
    "def makepricelevel(price, lower, upper):\n",
    "    if price > upper:\n",
    "        return 2\n",
    "    elif price > lower:\n",
    "        return 1\n",
    "    else:\n",
    "        return 0;"
   ]
  },
  {
   "cell_type": "code",
   "execution_count": 47,
   "id": "45e3636b",
   "metadata": {},
   "outputs": [],
   "source": [
    "lower, upper\n",
    "df['lower_price'] =  df.groupby('phone_model_detail')['price'].transform(lambda x: x.quantile(0.05))\n",
    "df['upper_price'] =  df.groupby('phone_model_detail')['price'].transform(lambda x: x.quantile(0.95))\n",
    "df['price_level'] =  df.apply(lambda x : makepricelevel(x['price'],x['lower_price'],x['upper_price']), axis=1)"
   ]
  },
  {
   "cell_type": "code",
   "execution_count": 48,
   "id": "afd31f88",
   "metadata": {},
   "outputs": [
    {
     "name": "stdout",
     "output_type": "stream",
     "text": [
      "<class 'pandas.core.frame.DataFrame'>\n",
      "RangeIndex: 4951 entries, 0 to 4950\n",
      "Data columns (total 15 columns):\n",
      " #   Column                 Non-Null Count  Dtype  \n",
      "---  ------                 --------------  -----  \n",
      " 0   create_date            4951 non-null   object \n",
      " 1   price                  4951 non-null   float64\n",
      " 2   text                   4951 non-null   object \n",
      " 3   phone_model            4951 non-null   object \n",
      " 4   factory_price          4951 non-null   int64  \n",
      " 5   maker                  4951 non-null   object \n",
      " 6   price_index            4951 non-null   float64\n",
      " 7   create_date_unixtime   4951 non-null   float64\n",
      " 8   create_unixtime_scale  4951 non-null   float64\n",
      " 9   phone_model_st         4951 non-null   object \n",
      " 10  phone_model_detail     4951 non-null   object \n",
      " 11  zscore_price           4951 non-null   float64\n",
      " 12  lower_price            4951 non-null   float64\n",
      " 13  upper_price            4951 non-null   float64\n",
      " 14  price_level            4951 non-null   int64  \n",
      "dtypes: float64(7), int64(2), object(6)\n",
      "memory usage: 580.3+ KB\n"
     ]
    }
   ],
   "source": [
    "df.info()"
   ]
  },
  {
   "cell_type": "code",
   "execution_count": 50,
   "id": "c2c177e9",
   "metadata": {},
   "outputs": [
    {
     "data": {
      "text/html": [
       "<div>\n",
       "<style scoped>\n",
       "    .dataframe tbody tr th:only-of-type {\n",
       "        vertical-align: middle;\n",
       "    }\n",
       "\n",
       "    .dataframe tbody tr th {\n",
       "        vertical-align: top;\n",
       "    }\n",
       "\n",
       "    .dataframe thead th {\n",
       "        text-align: right;\n",
       "    }\n",
       "</style>\n",
       "<table border=\"1\" class=\"dataframe\">\n",
       "  <thead>\n",
       "    <tr style=\"text-align: right;\">\n",
       "      <th></th>\n",
       "      <th>create_date</th>\n",
       "      <th>price</th>\n",
       "      <th>text</th>\n",
       "      <th>phone_model</th>\n",
       "      <th>factory_price</th>\n",
       "      <th>maker</th>\n",
       "      <th>price_index</th>\n",
       "      <th>create_date_unixtime</th>\n",
       "      <th>create_unixtime_scale</th>\n",
       "      <th>phone_model_st</th>\n",
       "      <th>phone_model_detail</th>\n",
       "      <th>zscore_price</th>\n",
       "      <th>lower_price</th>\n",
       "      <th>upper_price</th>\n",
       "      <th>price_level</th>\n",
       "    </tr>\n",
       "  </thead>\n",
       "  <tbody>\n",
       "    <tr>\n",
       "      <th>0</th>\n",
       "      <td>2017-03-19  4 35 00 PM</td>\n",
       "      <td>550000.0</td>\n",
       "      <td>아이폰6플러스 블랙+애플라이트 64기가 팝니다  아이폰6플러스 블랙+애플라이트 64...</td>\n",
       "      <td>iphone 6 64gb</td>\n",
       "      <td>924000</td>\n",
       "      <td>apple</td>\n",
       "      <td>95.96</td>\n",
       "      <td>1.489849e+09</td>\n",
       "      <td>0.985612</td>\n",
       "      <td>64gb</td>\n",
       "      <td>iphone 6</td>\n",
       "      <td>0.910563</td>\n",
       "      <td>180000.0</td>\n",
       "      <td>680000.0</td>\n",
       "      <td>1</td>\n",
       "    </tr>\n",
       "    <tr>\n",
       "      <th>1</th>\n",
       "      <td>2016-10-26  12 08 00 PM</td>\n",
       "      <td>380000.0</td>\n",
       "      <td>갤럭시s6엣지 32기가 팝니다 직거래  갤럭시s6엣지 32기가 품명 갤럭시s6엣지제...</td>\n",
       "      <td>galaxy s6 edge 32gb</td>\n",
       "      <td>979000</td>\n",
       "      <td>samsung</td>\n",
       "      <td>103.05</td>\n",
       "      <td>1.477408e+09</td>\n",
       "      <td>0.640288</td>\n",
       "      <td>32gb</td>\n",
       "      <td>galaxy s6 edge</td>\n",
       "      <td>1.003699</td>\n",
       "      <td>180000.0</td>\n",
       "      <td>414000.0</td>\n",
       "      <td>1</td>\n",
       "    </tr>\n",
       "    <tr>\n",
       "      <th>2</th>\n",
       "      <td>2016-10-25  12 52 00 PM</td>\n",
       "      <td>300000.0</td>\n",
       "      <td>갤럭시s6 풀박스로 팝니다~~~ 새상품급  실기스조차 없어요  직접거래 구매한지 1...</td>\n",
       "      <td>galaxy s6 32gb</td>\n",
       "      <td>854000</td>\n",
       "      <td>samsung</td>\n",
       "      <td>103.05</td>\n",
       "      <td>1.477321e+09</td>\n",
       "      <td>0.637890</td>\n",
       "      <td>32gb</td>\n",
       "      <td>galaxy s6</td>\n",
       "      <td>0.669017</td>\n",
       "      <td>150000.0</td>\n",
       "      <td>349000.0</td>\n",
       "      <td>1</td>\n",
       "    </tr>\n",
       "    <tr>\n",
       "      <th>3</th>\n",
       "      <td>2017-03-23  11 14 00 PM</td>\n",
       "      <td>290000.0</td>\n",
       "      <td>sk  g5 티탄 폰 단품판매합니다  직접거래 sk g5 티탄 폰 단품판매합니다 올...</td>\n",
       "      <td>lg g5 32gb</td>\n",
       "      <td>836000</td>\n",
       "      <td>lg</td>\n",
       "      <td>95.96</td>\n",
       "      <td>1.490195e+09</td>\n",
       "      <td>0.995204</td>\n",
       "      <td>32gb</td>\n",
       "      <td>lg g5</td>\n",
       "      <td>-0.330426</td>\n",
       "      <td>100000.0</td>\n",
       "      <td>500000.0</td>\n",
       "      <td>1</td>\n",
       "    </tr>\n",
       "    <tr>\n",
       "      <th>4</th>\n",
       "      <td>2016-04-11  7 35 00 PM</td>\n",
       "      <td>280000.0</td>\n",
       "      <td>sony 엑스페리아 c5 ultra e5506 16gb  미사용 새제품 팝니다 1...</td>\n",
       "      <td>lg u 32gb</td>\n",
       "      <td>396000</td>\n",
       "      <td>lg</td>\n",
       "      <td>102.59</td>\n",
       "      <td>1.460300e+09</td>\n",
       "      <td>0.165468</td>\n",
       "      <td>32gb</td>\n",
       "      <td>lg u</td>\n",
       "      <td>1.014392</td>\n",
       "      <td>18000.0</td>\n",
       "      <td>400000.0</td>\n",
       "      <td>1</td>\n",
       "    </tr>\n",
       "  </tbody>\n",
       "</table>\n",
       "</div>"
      ],
      "text/plain": [
       "               create_date     price  \\\n",
       "0   2017-03-19  4 35 00 PM  550000.0   \n",
       "1  2016-10-26  12 08 00 PM  380000.0   \n",
       "2  2016-10-25  12 52 00 PM  300000.0   \n",
       "3  2017-03-23  11 14 00 PM  290000.0   \n",
       "4   2016-04-11  7 35 00 PM  280000.0   \n",
       "\n",
       "                                                text          phone_model  \\\n",
       "0  아이폰6플러스 블랙+애플라이트 64기가 팝니다  아이폰6플러스 블랙+애플라이트 64...        iphone 6 64gb   \n",
       "1  갤럭시s6엣지 32기가 팝니다 직거래  갤럭시s6엣지 32기가 품명 갤럭시s6엣지제...  galaxy s6 edge 32gb   \n",
       "2  갤럭시s6 풀박스로 팝니다~~~ 새상품급  실기스조차 없어요  직접거래 구매한지 1...       galaxy s6 32gb   \n",
       "3  sk  g5 티탄 폰 단품판매합니다  직접거래 sk g5 티탄 폰 단품판매합니다 올...           lg g5 32gb   \n",
       "4   sony 엑스페리아 c5 ultra e5506 16gb  미사용 새제품 팝니다 1...            lg u 32gb   \n",
       "\n",
       "   factory_price    maker  price_index  create_date_unixtime  \\\n",
       "0         924000    apple        95.96          1.489849e+09   \n",
       "1         979000  samsung       103.05          1.477408e+09   \n",
       "2         854000  samsung       103.05          1.477321e+09   \n",
       "3         836000       lg        95.96          1.490195e+09   \n",
       "4         396000       lg       102.59          1.460300e+09   \n",
       "\n",
       "   create_unixtime_scale phone_model_st phone_model_detail  zscore_price  \\\n",
       "0               0.985612           64gb           iphone 6      0.910563   \n",
       "1               0.640288           32gb     galaxy s6 edge      1.003699   \n",
       "2               0.637890           32gb          galaxy s6      0.669017   \n",
       "3               0.995204           32gb              lg g5     -0.330426   \n",
       "4               0.165468           32gb               lg u      1.014392   \n",
       "\n",
       "   lower_price  upper_price  price_level  \n",
       "0     180000.0     680000.0            1  \n",
       "1     180000.0     414000.0            1  \n",
       "2     150000.0     349000.0            1  \n",
       "3     100000.0     500000.0            1  \n",
       "4      18000.0     400000.0            1  "
      ]
     },
     "execution_count": 50,
     "metadata": {},
     "output_type": "execute_result"
    }
   ],
   "source": [
    "# price lower_price upper_price price_level text    \n",
    "df.head()"
   ]
  },
  {
   "cell_type": "code",
   "execution_count": 51,
   "id": "f18f18be",
   "metadata": {},
   "outputs": [],
   "source": [
    "# Text 데이터 사용하기\n",
    "# 한글데이터 처리..."
   ]
  },
  {
   "cell_type": "code",
   "execution_count": 53,
   "id": "3620570b",
   "metadata": {},
   "outputs": [
    {
     "data": {
      "text/plain": [
       "'갤럭시 s3 3g 16g 3만원 팝니다  skt 모델입니다 초기 구성품 거의 있습니다순정 이어폰은 어디갔는지 모르겠네요모니터 성능에 따라 안 보일 수도 있습니다전면부 카메라 아래 쪽 액정 금가있습니다마찬가지로액정부 중앙 우측에서부터 홈버튼 위까지 금 있습니다우측 하단부 찍힘 자국 있습니다정상작동합니다연락주세요칠칠'"
      ]
     },
     "execution_count": 53,
     "metadata": {},
     "output_type": "execute_result"
    }
   ],
   "source": [
    "df['text'][100]"
   ]
  },
  {
   "cell_type": "code",
   "execution_count": 54,
   "id": "74133b51",
   "metadata": {},
   "outputs": [],
   "source": [
    "# 불용어 https://www.ranks.nl/stopwords/korean"
   ]
  },
  {
   "cell_type": "code",
   "execution_count": 55,
   "id": "6f18dc6f",
   "metadata": {},
   "outputs": [],
   "source": [
    "import pickle\n",
    "import re"
   ]
  },
  {
   "cell_type": "code",
   "execution_count": 56,
   "id": "f808447c",
   "metadata": {},
   "outputs": [
    {
     "name": "stdout",
     "output_type": "stream",
     "text": [
      "Requirement already satisfied: konlpy in c:\\anaconda\\envs\\crawling\\lib\\site-packages (0.6.0)\n",
      "Requirement already satisfied: lxml>=4.1.0 in c:\\anaconda\\envs\\crawling\\lib\\site-packages (from konlpy) (4.8.0)\n",
      "Requirement already satisfied: JPype1>=0.7.0 in c:\\anaconda\\envs\\crawling\\lib\\site-packages (from konlpy) (1.3.0)\n",
      "Requirement already satisfied: numpy>=1.6 in c:\\anaconda\\envs\\crawling\\lib\\site-packages (from konlpy) (1.21.2)\n"
     ]
    }
   ],
   "source": [
    "!pip install konlpy"
   ]
  },
  {
   "cell_type": "code",
   "execution_count": 57,
   "id": "4b953d6a",
   "metadata": {},
   "outputs": [],
   "source": [
    "from konlpy.tag import Okt"
   ]
  },
  {
   "cell_type": "code",
   "execution_count": 58,
   "id": "d64e06d1",
   "metadata": {},
   "outputs": [],
   "source": [
    "with open('stopwords.pkl', 'rb') as f:\n",
    "    swords =  pickle.load(f)"
   ]
  },
  {
   "cell_type": "code",
   "execution_count": 107,
   "id": "2267a889",
   "metadata": {},
   "outputs": [
    {
     "data": {
      "text/plain": [
       "['거래', '입니', '판매', '아이폰', '갤럭시', '골드', '팝', '만원', '폰', '시']"
      ]
     },
     "execution_count": 107,
     "metadata": {},
     "output_type": "execute_result"
    }
   ],
   "source": [
    "swords[:10]\n",
    "    "
   ]
  },
  {
   "cell_type": "code",
   "execution_count": 97,
   "id": "6d96a94c",
   "metadata": {},
   "outputs": [
    {
     "data": {
      "text/plain": [
       "'갤럭시만원팝니다모델입니다초기구성품거의있습니다순정이어폰은어디갔는지모르겠네요모니터성능에따라안보일수도있습니다전면부카메라아래쪽액정금가있습니다마찬가지로액정부중앙우측에서부터홈버튼위까지금있습니다우측하단부찍힘자국있습니다정상작동합니다연락주세요칠칠'"
      ]
     },
     "execution_count": 97,
     "metadata": {},
     "output_type": "execute_result"
    }
   ],
   "source": [
    "# 특수문자를 제거, 숫자형태의 문자\n",
    "# df['text'][0].replace('[^ㄱ-ㅎㅏ-ㅣ|가-힣]','')\n",
    "# re.compile('[^ㄱ-ㅎㅏ-ㅣ|가-힣]').findall(df['text'][0])\n",
    "temp = df['text'][100]\n",
    "temp = ''.join(re.compile('[ㄱ-ㅎㅏ-ㅣ|가-힣]').findall(temp))\n",
    "temp\n"
   ]
  },
  {
   "cell_type": "code",
   "execution_count": 112,
   "id": "b5672de1",
   "metadata": {},
   "outputs": [
    {
     "data": {
      "text/plain": [
       "'모델 초기 성품 거의 순정 이어폰 어디 모니터 성능 전면 부 카메라 아래쪽 액정 금 마찬가지 액 정부 중앙 우측 홈 버튼 금 우측 단부 자국 정상 작동 칠칠'"
      ]
     },
     "execution_count": 112,
     "metadata": {},
     "output_type": "execute_result"
    }
   ],
   "source": [
    "# 형태소 분류하는 함수를 통해 단어를 추출\n",
    "okt =  Okt()\n",
    "okt.pos(temp)\n",
    "' '.join([i[0] for i in okt.pos(temp) if i[1] == 'Noun' and i[0] not in swords])\n"
   ]
  },
  {
   "cell_type": "code",
   "execution_count": null,
   "id": "a52f367c",
   "metadata": {},
   "outputs": [],
   "source": [
    "def getNoun(x):\n",
    "    temp = ''.join(re.compile('[ㄱ-ㅎㅏ-ㅣ|가-힣]').findall(x))\n",
    "    okt =  Okt()\n",
    "    okt.pos(temp)\n",
    "    ' '.join([i[0] for i in okt.pos(temp) if i[1] == 'Noun' and i[0] not in swords])\n"
   ]
  },
  {
   "cell_type": "code",
   "execution_count": null,
   "id": "037af885",
   "metadata": {},
   "outputs": [],
   "source": [
    "df['text2'] = df['text'].apply(lambda x : getNoun(x))"
   ]
  },
  {
   "cell_type": "code",
   "execution_count": 117,
   "id": "0f1b3bb5",
   "metadata": {},
   "outputs": [
    {
     "data": {
      "text/plain": [
       "4951"
      ]
     },
     "execution_count": 117,
     "metadata": {},
     "output_type": "execute_result"
    }
   ],
   "source": [
    "len(df)"
   ]
  },
  {
   "cell_type": "code",
   "execution_count": null,
   "id": "58b33adb",
   "metadata": {},
   "outputs": [],
   "source": []
  }
 ],
 "metadata": {
  "kernelspec": {
   "display_name": "Python 3 (ipykernel)",
   "language": "python",
   "name": "python3"
  },
  "language_info": {
   "codemirror_mode": {
    "name": "ipython",
    "version": 3
   },
   "file_extension": ".py",
   "mimetype": "text/x-python",
   "name": "python",
   "nbconvert_exporter": "python",
   "pygments_lexer": "ipython3",
   "version": "3.9.7"
  }
 },
 "nbformat": 4,
 "nbformat_minor": 5
}
