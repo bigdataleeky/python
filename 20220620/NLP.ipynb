{
  "nbformat": 4,
  "nbformat_minor": 0,
  "metadata": {
    "colab": {
      "name": "NLP.ipynb",
      "provenance": []
    },
    "kernelspec": {
      "name": "python3",
      "display_name": "Python 3"
    },
    "language_info": {
      "name": "python"
    }
  },
  "cells": [
    {
      "cell_type": "code",
      "execution_count": 2,
      "metadata": {
        "id": "TY9CeY97zH3l"
      },
      "outputs": [],
      "source": [
        "# 필요 라이브러리 다운로드\n",
        "import numpy as np\n",
        "import tensorflow as tf\n",
        "from numpy import array\n",
        "from keras.preprocessing.text import Tokenizer\n",
        "from keras.preprocessing.sequence import pad_sequences\n",
        "from keras.models import Sequential\n",
        "from keras.layers import Dense,Flatten,Embedding"
      ]
    },
    {
      "cell_type": "code",
      "source": [
        "# 텍스트  전처리를 담당하는 라이브러리\n",
        "from keras.preprocessing.text import text_to_word_sequence"
      ],
      "metadata": {
        "id": "JnLB1Knr0FOy"
      },
      "execution_count": 3,
      "outputs": []
    },
    {
      "cell_type": "code",
      "source": [
        "# 전처리할 텍스트를 정합니다.\n",
        "text = \"도전하지 않으면 해낼 수 없다\""
      ],
      "metadata": {
        "id": "mWrrCbdA0UW2"
      },
      "execution_count": 4,
      "outputs": []
    },
    {
      "cell_type": "code",
      "source": [
        "# 해당 텍스트를 토근화\n",
        "result = text_to_word_sequence(text)\n",
        "print(f\"원문 : {text}\\n토큰화 : {result}\")"
      ],
      "metadata": {
        "colab": {
          "base_uri": "https://localhost:8080/"
        },
        "id": "YRw3K_Yw0fSu",
        "outputId": "0830c165-5636-41a1-c616-895ed64205d5"
      },
      "execution_count": 5,
      "outputs": [
        {
          "output_type": "stream",
          "name": "stdout",
          "text": [
            "원문 : 도전하지 않으면 해낼 수 없다\n",
            "토큰화 : ['도전하지', '않으면', '해낼', '수', '없다']\n"
          ]
        }
      ]
    },
    {
      "cell_type": "code",
      "source": [
        "# 전처리 하려는 문장\n",
        "docs = [\n",
        "        '먼저 텍스트의 각 단어를 나누어 토큰화 합니다.'\n",
        "        ,'토큰화 함수를 적용해야 딥러닝에서 인식합니다.'\n",
        "        ,'토근화 한 결과는 딥러닝에서 사용 할 수 있습니다.'\n",
        "]"
      ],
      "metadata": {
        "id": "pZaijpq40wHu"
      },
      "execution_count": 6,
      "outputs": []
    },
    {
      "cell_type": "code",
      "source": [
        "token = Tokenizer() \n",
        "token.fit_on_texts(docs) # 토큰화 함수적용"
      ],
      "metadata": {
        "id": "C1zQhL011bxv"
      },
      "execution_count": 7,
      "outputs": []
    },
    {
      "cell_type": "code",
      "source": [
        "# 단어의 빈도수를 계산한 결과를 가 ㄱ옵션에 맞추어 출력\n",
        "print(f'단어카운트:{token.word_counts}')"
      ],
      "metadata": {
        "colab": {
          "base_uri": "https://localhost:8080/"
        },
        "id": "Z-Kc5LBW1v0_",
        "outputId": "de327a9c-eb93-4fa7-c94b-839ba0a4f699"
      },
      "execution_count": 8,
      "outputs": [
        {
          "output_type": "stream",
          "name": "stdout",
          "text": [
            "단어카운트:OrderedDict([('먼저', 1), ('텍스트의', 2), ('각', 1), ('단어를', 1), ('나누어', 1), ('토큰화', 2), ('합니다', 1), ('단어로', 1), ('해야', 1), ('딥러닝에서', 2), ('인식합니다', 1), ('토근화', 1), ('한', 1), ('결과는', 1), ('사용', 1), ('할', 1), ('수', 1), ('있습니다', 1)])\n"
          ]
        }
      ]
    },
    {
      "cell_type": "code",
      "source": [
        "print(f'문장 카운트 : {token.document_count}')\n",
        "print(f'각 단어가 몇개의 문장에 포함되어 있는가 : {token.word_docs}')\n",
        "print(f'각 단어에 매겨진 인덱스 값 : {token.word_index}')"
      ],
      "metadata": {
        "colab": {
          "base_uri": "https://localhost:8080/"
        },
        "id": "UtDjtIJ82BLO",
        "outputId": "32d4400b-7eea-4490-d95c-33d0c9c2a5fa"
      },
      "execution_count": 9,
      "outputs": [
        {
          "output_type": "stream",
          "name": "stdout",
          "text": [
            "문장 카운트 : 3\n",
            "각 단어가 몇개의 문장에 포함되어 있는가 : defaultdict(<class 'int'>, {'각': 1, '텍스트의': 2, '먼저': 1, '합니다': 1, '단어를': 1, '나누어': 1, '토큰화': 2, '단어로': 1, '해야': 1, '인식합니다': 1, '딥러닝에서': 2, '결과는': 1, '한': 1, '사용': 1, '있습니다': 1, '토근화': 1, '할': 1, '수': 1})\n",
            "각 단어에 매겨진 인덱스 값 : {'텍스트의': 1, '토큰화': 2, '딥러닝에서': 3, '먼저': 4, '각': 5, '단어를': 6, '나누어': 7, '합니다': 8, '단어로': 9, '해야': 10, '인식합니다': 11, '토근화': 12, '한': 13, '결과는': 14, '사용': 15, '할': 16, '수': 17, '있습니다': 18}\n"
          ]
        }
      ]
    },
    {
      "cell_type": "code",
      "source": [
        "# 텍스트의 리뷰 자료\n",
        "doc=[\"너무 재미있네요\",\"최고에요\",\"참 잘 만든 영화입니다.\",\"추천하고 싶은 영화 입니다.\",'한번 더 보고싶네요','글쎄요'\n",
        ",'별루예요','생각보다 지루하네요']\n",
        "# 긍정리뷰는 1, 부정리뷰는 0으로 클래스를 지정\n",
        "classes = array([1,1,1,1,1,0,0,0])"
      ],
      "metadata": {
        "id": "ri-R3XRK2qYX"
      },
      "execution_count": 10,
      "outputs": []
    },
    {
      "cell_type": "code",
      "source": [
        "#토큰화\n",
        "token = Tokenizer()\n",
        "token.fit_on_texts(doc)\n",
        "print(token.word_index)\n",
        "x = token.texts_to_sequences(doc)\n",
        "print(f\"리뷰텍스트를 토근화 결과 : {x}\")"
      ],
      "metadata": {
        "colab": {
          "base_uri": "https://localhost:8080/"
        },
        "id": "b9-t0Kfz3r3P",
        "outputId": "00bf601e-de0a-477e-c0e7-18a947a302ad"
      },
      "execution_count": 31,
      "outputs": [
        {
          "output_type": "stream",
          "name": "stdout",
          "text": [
            "{'너무': 1, '재미있네요': 2, '최고에요': 3, '참': 4, '잘': 5, '만든': 6, '영화입니다': 7, '추천하고': 8, '싶은': 9, '영화': 10, '입니다': 11, '한번': 12, '더': 13, '보고싶네요': 14, '글쎄요': 15, '별루예요': 16, '생각보다': 17, '지루하네요': 18}\n",
            "리뷰텍스트를 토근화 결과 : [[1, 2], [3], [4, 5, 6, 7], [8, 9, 10, 11], [12, 13, 14], [15], [16], [17, 18]]\n"
          ]
        }
      ]
    },
    {
      "cell_type": "code",
      "source": [
        ""
      ],
      "metadata": {
        "id": "yaZdRwQAJjrW"
      },
      "execution_count": null,
      "outputs": []
    },
    {
      "cell_type": "code",
      "source": [
        "# 패딩.. 서로다른 길이의 데이터를 4로 맞추어 줍니다. \n",
        "padded_x = pad_sequences(x,4)\n",
        "print(f\"패딩결과 : {padded_x}\")"
      ],
      "metadata": {
        "colab": {
          "base_uri": "https://localhost:8080/"
        },
        "id": "fQtWP_Zg4CO-",
        "outputId": "9c462545-d858-4903-f802-dcfa4fb8a3ad"
      },
      "execution_count": 32,
      "outputs": [
        {
          "output_type": "stream",
          "name": "stdout",
          "text": [
            "패딩결과 : [[ 0  0  1  2]\n",
            " [ 0  0  0  3]\n",
            " [ 4  5  6  7]\n",
            " [ 8  9 10 11]\n",
            " [ 0 12 13 14]\n",
            " [ 0  0  0 15]\n",
            " [ 0  0  0 16]\n",
            " [ 0  0 17 18]]\n"
          ]
        }
      ]
    },
    {
      "cell_type": "code",
      "source": [
        "# 딥러닝 시작\n",
        "# 임베딩에 입력될 단어의 수를 지정\n",
        "word_size =  len(token.word_index)+1\n",
        "word_size"
      ],
      "metadata": {
        "colab": {
          "base_uri": "https://localhost:8080/"
        },
        "id": "Zh40h2zY4r6X",
        "outputId": "865eb7c2-1f9e-45eb-b452-376874ee5b3d"
      },
      "execution_count": 21,
      "outputs": [
        {
          "output_type": "execute_result",
          "data": {
            "text/plain": [
              "19"
            ]
          },
          "metadata": {},
          "execution_count": 21
        }
      ]
    },
    {
      "cell_type": "code",
      "source": [
        "padded_x, classes"
      ],
      "metadata": {
        "colab": {
          "base_uri": "https://localhost:8080/"
        },
        "id": "f1hhwdN66h5U",
        "outputId": "21b0a0c0-dea1-44eb-909d-f53b5ba16850"
      },
      "execution_count": 33,
      "outputs": [
        {
          "output_type": "execute_result",
          "data": {
            "text/plain": [
              "(array([[ 0,  0,  1,  2],\n",
              "        [ 0,  0,  0,  3],\n",
              "        [ 4,  5,  6,  7],\n",
              "        [ 8,  9, 10, 11],\n",
              "        [ 0, 12, 13, 14],\n",
              "        [ 0,  0,  0, 15],\n",
              "        [ 0,  0,  0, 16],\n",
              "        [ 0,  0, 17, 18]], dtype=int32), array([1, 1, 1, 1, 1, 0, 0, 0]))"
            ]
          },
          "metadata": {},
          "execution_count": 33
        }
      ]
    },
    {
      "cell_type": "code",
      "source": [
        "#단어이베딩을 포함해서 딥러닝 모델을 만들고 결과를 출력\n",
        "model = Sequential()\n",
        "model.add(Embedding(word_size,8,input_length=4))\n",
        "model.add(Flatten())\n",
        "model.add(Dense(1,activation='sigmoid'))\n",
        "model.compile(optimizer='adam', loss='binary_crossentropy', metrics=['accuracy'])\n",
        "model.summary()"
      ],
      "metadata": {
        "colab": {
          "base_uri": "https://localhost:8080/"
        },
        "id": "Qe7bsieM5ElO",
        "outputId": "6c85934a-77f1-4919-94fd-24421e8d06c6"
      },
      "execution_count": 36,
      "outputs": [
        {
          "output_type": "stream",
          "name": "stdout",
          "text": [
            "Model: \"sequential_5\"\n",
            "_________________________________________________________________\n",
            " Layer (type)                Output Shape              Param #   \n",
            "=================================================================\n",
            " embedding_5 (Embedding)     (None, 4, 8)              152       \n",
            "                                                                 \n",
            " flatten_5 (Flatten)         (None, 32)                0         \n",
            "                                                                 \n",
            " dense_5 (Dense)             (None, 1)                 33        \n",
            "                                                                 \n",
            "=================================================================\n",
            "Total params: 185\n",
            "Trainable params: 185\n",
            "Non-trainable params: 0\n",
            "_________________________________________________________________\n"
          ]
        }
      ]
    },
    {
      "cell_type": "code",
      "source": [
        "padded_x.shape, classes.shape"
      ],
      "metadata": {
        "colab": {
          "base_uri": "https://localhost:8080/"
        },
        "id": "tMPyhihO62pq",
        "outputId": "1cf11076-241e-4556-8488-f34279886295"
      },
      "execution_count": 37,
      "outputs": [
        {
          "output_type": "execute_result",
          "data": {
            "text/plain": [
              "((8, 4), (8,))"
            ]
          },
          "metadata": {},
          "execution_count": 37
        }
      ]
    },
    {
      "cell_type": "code",
      "source": [
        "model.fit(padded_x,classes,epochs=20)\n",
        "print(\"Accuracy: %.4f\"%(model.evaluate(padded_x,classes)[1] ) )"
      ],
      "metadata": {
        "colab": {
          "base_uri": "https://localhost:8080/"
        },
        "id": "0eDSX-mC5Fv-",
        "outputId": "695e43b1-fb87-484e-ca2f-f6cb0235ebf2"
      },
      "execution_count": 38,
      "outputs": [
        {
          "output_type": "stream",
          "name": "stdout",
          "text": [
            "Epoch 1/20\n",
            "1/1 [==============================] - 1s 823ms/step - loss: 0.6982 - accuracy: 0.5000\n",
            "Epoch 2/20\n",
            "1/1 [==============================] - 0s 11ms/step - loss: 0.6963 - accuracy: 0.5000\n",
            "Epoch 3/20\n",
            "1/1 [==============================] - 0s 12ms/step - loss: 0.6943 - accuracy: 0.5000\n",
            "Epoch 4/20\n",
            "1/1 [==============================] - 0s 10ms/step - loss: 0.6924 - accuracy: 0.5000\n",
            "Epoch 5/20\n",
            "1/1 [==============================] - 0s 18ms/step - loss: 0.6905 - accuracy: 0.5000\n",
            "Epoch 6/20\n",
            "1/1 [==============================] - 0s 13ms/step - loss: 0.6885 - accuracy: 0.5000\n",
            "Epoch 7/20\n",
            "1/1 [==============================] - 0s 9ms/step - loss: 0.6866 - accuracy: 0.6250\n",
            "Epoch 8/20\n",
            "1/1 [==============================] - 0s 20ms/step - loss: 0.6847 - accuracy: 0.6250\n",
            "Epoch 9/20\n",
            "1/1 [==============================] - 0s 15ms/step - loss: 0.6828 - accuracy: 0.6250\n",
            "Epoch 10/20\n",
            "1/1 [==============================] - 0s 9ms/step - loss: 0.6809 - accuracy: 0.6250\n",
            "Epoch 11/20\n",
            "1/1 [==============================] - 0s 8ms/step - loss: 0.6790 - accuracy: 0.6250\n",
            "Epoch 12/20\n",
            "1/1 [==============================] - 0s 9ms/step - loss: 0.6770 - accuracy: 0.7500\n",
            "Epoch 13/20\n",
            "1/1 [==============================] - 0s 8ms/step - loss: 0.6751 - accuracy: 0.7500\n",
            "Epoch 14/20\n",
            "1/1 [==============================] - 0s 8ms/step - loss: 0.6732 - accuracy: 0.7500\n",
            "Epoch 15/20\n",
            "1/1 [==============================] - 0s 8ms/step - loss: 0.6712 - accuracy: 0.7500\n",
            "Epoch 16/20\n",
            "1/1 [==============================] - 0s 8ms/step - loss: 0.6693 - accuracy: 0.7500\n",
            "Epoch 17/20\n",
            "1/1 [==============================] - 0s 8ms/step - loss: 0.6674 - accuracy: 0.7500\n",
            "Epoch 18/20\n",
            "1/1 [==============================] - 0s 8ms/step - loss: 0.6654 - accuracy: 0.7500\n",
            "Epoch 19/20\n",
            "1/1 [==============================] - 0s 8ms/step - loss: 0.6635 - accuracy: 0.7500\n",
            "Epoch 20/20\n",
            "1/1 [==============================] - 0s 8ms/step - loss: 0.6615 - accuracy: 0.8750\n",
            "1/1 [==============================] - 0s 148ms/step - loss: 0.6595 - accuracy: 1.0000\n",
            "Accuracy: 1.0000\n"
          ]
        }
      ]
    },
    {
      "cell_type": "code",
      "source": [
        ""
      ],
      "metadata": {
        "id": "Iy9KoHkq7C3d"
      },
      "execution_count": null,
      "outputs": []
    }
  ]
}