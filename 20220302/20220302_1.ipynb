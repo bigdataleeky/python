{
 "cells": [
  {
   "cell_type": "code",
   "execution_count": 101,
   "id": "d4209377",
   "metadata": {},
   "outputs": [],
   "source": [
    "import random\n",
    "A_length = []\n",
    "A_weight = []\n",
    "for i in range(35):\n",
    "    A_length.append(random.uniform(20,45))\n",
    "    A_weight.append(random.uniform(200,950))\n",
    "A_length.sort()    \n",
    "A_weight.sort()\n",
    "\n",
    "B_length = []\n",
    "B_weight = []\n",
    "for i in range(14):\n",
    "    B_length.append(random.uniform(9,15))\n",
    "    B_weight.append(random.uniform(6,20))\n",
    "B_length.sort()    \n",
    "B_weight.sort()\n",
    "length = A_length+B_length\n",
    "weight = A_weight+B_weight"
   ]
  },
  {
   "cell_type": "code",
   "execution_count": 102,
   "id": "3cc4ff0b",
   "metadata": {},
   "outputs": [],
   "source": [
    "length = [25.4, 26.3, 26.5, 29.0, 29.0, 29.7, 29.7, 30.0, 30.0, 30.7, 31.0, 31.0, \n",
    "                31.5, 32.0, 32.0, 32.0, 33.0, 33.0, 33.5, 33.5, 34.0, 34.0, 34.5, 35.0, \n",
    "                35.0, 35.0, 35.0, 36.0, 36.0, 37.0, 38.5, 38.5, 39.5, 41.0, 41.0, 9.8, \n",
    "                10.5, 10.6, 11.0, 11.2, 11.3, 11.8, 11.8, 12.0, 12.2, 12.4, 13.0, 14.3, 15.0]\n",
    "weight = [242.0, 290.0, 340.0, 363.0, 430.0, 450.0, 500.0, 390.0, 450.0, 500.0, 475.0, 500.0, \n",
    "                500.0, 340.0, 600.0, 600.0, 700.0, 700.0, 610.0, 650.0, 575.0, 685.0, 620.0, 680.0, \n",
    "                700.0, 725.0, 720.0, 714.0, 850.0, 1000.0, 920.0, 955.0, 925.0, 975.0, 950.0, 6.7, \n",
    "                7.5, 7.0, 9.7, 9.8, 8.7, 10.0, 9.9, 9.8, 12.2, 13.4, 12.2, 19.7, 19.9]"
   ]
  },
  {
   "cell_type": "code",
   "execution_count": 103,
   "id": "65f2b4d9",
   "metadata": {},
   "outputs": [],
   "source": [
    "import numpy as np\n",
    "data = np.column_stack((length,weight))"
   ]
  },
  {
   "cell_type": "code",
   "execution_count": 104,
   "id": "a8f9b6bf",
   "metadata": {},
   "outputs": [
    {
     "data": {
      "text/plain": [
       "array([[ 25.4, 242. ],\n",
       "       [ 26.3, 290. ],\n",
       "       [ 26.5, 340. ],\n",
       "       [ 29. , 363. ],\n",
       "       [ 29. , 430. ],\n",
       "       [ 29.7, 450. ]])"
      ]
     },
     "execution_count": 104,
     "metadata": {},
     "output_type": "execute_result"
    }
   ],
   "source": [
    "data[:6]"
   ]
  },
  {
   "cell_type": "code",
   "execution_count": 105,
   "id": "25d3f4fe",
   "metadata": {},
   "outputs": [
    {
     "data": {
      "text/plain": [
       "array([1., 1., 1., 1., 1., 1.])"
      ]
     },
     "execution_count": 105,
     "metadata": {},
     "output_type": "execute_result"
    }
   ],
   "source": [
    "target = np.concatenate( (np.ones(35), np.zeros(14)) )\n",
    "target[:6]"
   ]
  },
  {
   "cell_type": "code",
   "execution_count": 106,
   "id": "eb51567d",
   "metadata": {},
   "outputs": [],
   "source": [
    "from sklearn.model_selection import train_test_split"
   ]
  },
  {
   "cell_type": "code",
   "execution_count": 107,
   "id": "506c6ee6",
   "metadata": {},
   "outputs": [],
   "source": [
    "train_input,test_input,train_target,test_target = train_test_split(data,target,random_state=42)"
   ]
  },
  {
   "cell_type": "code",
   "execution_count": 108,
   "id": "eda3fa03",
   "metadata": {},
   "outputs": [
    {
     "data": {
      "text/plain": [
       "((36, 2), (13, 2), (36,), (13,))"
      ]
     },
     "execution_count": 108,
     "metadata": {},
     "output_type": "execute_result"
    }
   ],
   "source": [
    "train_input.shape, test_input.shape, train_target.shape,  test_target.shape"
   ]
  },
  {
   "cell_type": "code",
   "execution_count": 109,
   "id": "b65acb5f",
   "metadata": {},
   "outputs": [
    {
     "data": {
      "text/plain": [
       "1.0"
      ]
     },
     "execution_count": 109,
     "metadata": {},
     "output_type": "execute_result"
    }
   ],
   "source": [
    "from sklearn.neighbors import KNeighborsClassifier\n",
    "kn = KNeighborsClassifier()\n",
    "kn.fit(train_input, train_target)\n",
    "kn.score(test_input,test_target)"
   ]
  },
  {
   "cell_type": "code",
   "execution_count": 110,
   "id": "ed26003a",
   "metadata": {},
   "outputs": [
    {
     "data": {
      "image/png": "[encoded data removed]",
      "text/plain": [
       "<Figure size 432x288 with 1 Axes>"
      ]
     },
     "metadata": {
      "needs_background": "light"
     },
     "output_type": "display_data"
    }
   ],
   "source": [
    "import matplotlib.pyplot as plt\n",
    "plt.scatter(train_input[:,0], train_input[:,1])\n",
    "plt.scatter(20,200, marker='^')\n",
    "plt.xlabel(\"length\")\n",
    "plt.ylabel(\"weight\")\n",
    "plt.show()"
   ]
  },
  {
   "cell_type": "code",
   "execution_count": 111,
   "id": "f3e20e40",
   "metadata": {},
   "outputs": [],
   "source": [
    "distance, indexes =  kn.kneighbors([[20,400]])"
   ]
  },
  {
   "cell_type": "code",
   "execution_count": 112,
   "id": "469b90f9",
   "metadata": {},
   "outputs": [
    {
     "data": {
      "text/plain": [
       "(array([[14.14213562, 38.07886553, 50.93220985, 50.99019514, 60.35105633]]),\n",
       " array([[31,  1, 15,  0, 21]], dtype=int64))"
      ]
     },
     "execution_count": 112,
     "metadata": {},
     "output_type": "execute_result"
    }
   ],
   "source": [
    "distance, indexes"
   ]
  },
  {
   "cell_type": "code",
   "execution_count": 113,
   "id": "3967f414",
   "metadata": {},
   "outputs": [
    {
     "data": {
      "image/png": "[encoded data removed]",
      "text/plain": [
       "<Figure size 432x288 with 1 Axes>"
      ]
     },
     "metadata": {
      "needs_background": "light"
     },
     "output_type": "display_data"
    }
   ],
   "source": [
    "import matplotlib.pyplot as plt\n",
    "plt.scatter(train_input[:,0], train_input[:,1])\n",
    "plt.scatter(25,150, marker='^')\n",
    "plt.scatter(train_input[indexes,0], train_input[indexes,1], marker='D')\n",
    "plt.xlabel(\"length\")\n",
    "plt.ylabel(\"weight\")\n",
    "plt.show()"
   ]
  },
  {
   "cell_type": "code",
   "execution_count": 114,
   "id": "1cf52d6d",
   "metadata": {},
   "outputs": [
    {
     "data": {
      "image/png": "[encoded data removed]",
      "text/plain": [
       "<Figure size 432x288 with 1 Axes>"
      ]
     },
     "metadata": {
      "needs_background": "light"
     },
     "output_type": "display_data"
    }
   ],
   "source": [
    "import matplotlib.pyplot as plt\n",
    "plt.scatter(train_input[:,0], train_input[:,1])\n",
    "plt.scatter(25,150, marker='^')\n",
    "plt.scatter(train_input[indexes,0], train_input[indexes,1], marker='D')\n",
    "plt.xlim((0,1000))\n",
    "plt.xlabel(\"length\")\n",
    "plt.ylabel(\"weight\")\n",
    "plt.show()"
   ]
  },
  {
   "cell_type": "code",
   "execution_count": 115,
   "id": "64ca7c7d",
   "metadata": {},
   "outputs": [],
   "source": [
    "# 스케일링\n",
    "mean = np.mean(train_input, axis=0)\n",
    "std = np.std(train_input, axis=0)"
   ]
  },
  {
   "cell_type": "code",
   "execution_count": 116,
   "id": "f488e9e8",
   "metadata": {},
   "outputs": [
    {
     "data": {
      "text/plain": [
       "(array([ 26.175     , 418.08888889]), array([ 10.21073441, 321.67847023]))"
      ]
     },
     "execution_count": 116,
     "metadata": {},
     "output_type": "execute_result"
    }
   ],
   "source": [
    "mean, std"
   ]
  },
  {
   "cell_type": "code",
   "execution_count": 117,
   "id": "53e7f7b3",
   "metadata": {},
   "outputs": [],
   "source": [
    "train_scaled = (train_input-mean) / std"
   ]
  },
  {
   "cell_type": "code",
   "execution_count": 118,
   "id": "29185da6",
   "metadata": {},
   "outputs": [
    {
     "data": {
      "text/plain": [
       "array([[ 0.37460577,  0.09920189],\n",
       "       [ 0.27666962, -0.17125451],\n",
       "       [ 0.34522492,  0.2546366 ],\n",
       "       [-1.45680021, -1.27266487],\n",
       "       [-1.40783213, -1.26862357],\n",
       "       [-1.29030875, -1.26178444],\n",
       "       [ 0.57047806,  0.56550602],\n",
       "       [ 0.44316107,  0.2546366 ],\n",
       "       [ 0.66841421,  0.87637544],\n",
       "       [ 0.86428651,  0.87637544],\n",
       "       [ 1.4519034 ,  1.73126635],\n",
       "       [ 1.20706303,  1.56028817],\n",
       "       [-0.07590051, -0.54740651],\n",
       "       [-1.3882449 , -1.26924531],\n",
       "       [ 1.30499918,  1.57583164],\n",
       "       [ 0.34522492,  0.09920189],\n",
       "       [ 1.06015881,  1.80898371],\n",
       "       [ 0.47254192,  0.2546366 ],\n",
       "       [-1.53514913, -1.2763953 ],\n",
       "       [ 0.01224202, -0.39818919],\n",
       "       [ 0.76635036,  0.82974503],\n",
       "       [ 0.03182925, -0.24275448],\n",
       "       [-1.52535551, -1.27794965],\n",
       "       [-1.60370443, -1.27888226],\n",
       "       [ 0.86428651,  0.81420156],\n",
       "       [-1.46659382, -1.26924531],\n",
       "       [ 0.47254192,  0.17691924],\n",
       "       [ 0.81531843,  0.6276799 ],\n",
       "       [ 0.71738229,  0.59659296],\n",
       "       [-1.09443646, -1.2378475 ],\n",
       "       [ 0.76635036,  0.48778866],\n",
       "       [ 0.37460577, -0.08731977],\n",
       "       [-1.40783213, -1.26893444],\n",
       "       [ 0.57047806,  0.56550602],\n",
       "       [ 0.96222266,  1.34267957],\n",
       "       [-1.48618105, -1.26955618]])"
      ]
     },
     "execution_count": 118,
     "metadata": {},
     "output_type": "execute_result"
    }
   ],
   "source": [
    "train_scaled"
   ]
  },
  {
   "cell_type": "markdown",
   "id": "cc25db00",
   "metadata": {},
   "source": [
    "### 전처리 데이터로 모델 훈련하기"
   ]
  },
  {
   "cell_type": "code",
   "execution_count": 119,
   "id": "c47ae799",
   "metadata": {},
   "outputs": [
    {
     "data": {
      "image/png": "[encoded data removed]",
      "text/plain": [
       "<Figure size 432x288 with 1 Axes>"
      ]
     },
     "metadata": {
      "needs_background": "light"
     },
     "output_type": "display_data"
    }
   ],
   "source": [
    "plt.scatter(train_scaled[:,0], train_scaled[:,1])\n",
    "plt.scatter(25,150, marker = '^')\n",
    "plt.xlabel('length')\n",
    "plt.ylabel('weight')\n",
    "plt.show()            "
   ]
  },
  {
   "cell_type": "code",
   "execution_count": 120,
   "id": "9675ce2c",
   "metadata": {},
   "outputs": [],
   "source": [
    "new_target = ([25,150]-mean)/std"
   ]
  },
  {
   "cell_type": "code",
   "execution_count": 121,
   "id": "27e8a9a8",
   "metadata": {},
   "outputs": [
    {
     "data": {
      "image/png": "[encoded data removed]",
      "text/plain": [
       "<Figure size 432x288 with 1 Axes>"
      ]
     },
     "metadata": {
      "needs_background": "light"
     },
     "output_type": "display_data"
    }
   ],
   "source": [
    "plt.scatter(train_scaled[:,0], train_scaled[:,1])\n",
    "plt.scatter(new_target[0],new_target[1], marker = '^')\n",
    "plt.xlabel('length')\n",
    "plt.ylabel('weight')\n",
    "plt.show()   "
   ]
  },
  {
   "cell_type": "markdown",
   "id": "c160a7be",
   "metadata": {},
   "source": [
    "### 훈련데이터를 표준화(정규화) - scaling 한 값을 학습에 적용"
   ]
  },
  {
   "cell_type": "code",
   "execution_count": 122,
   "id": "6368c9c1",
   "metadata": {},
   "outputs": [
    {
     "data": {
      "text/plain": [
       "KNeighborsClassifier()"
      ]
     },
     "execution_count": 122,
     "metadata": {},
     "output_type": "execute_result"
    }
   ],
   "source": [
    "kn.fit(train_scaled,train_target)"
   ]
  },
  {
   "cell_type": "markdown",
   "id": "97342a3e",
   "metadata": {},
   "source": [
    "### 검증데이터도 표준화"
   ]
  },
  {
   "cell_type": "code",
   "execution_count": 123,
   "id": "239d0e5e",
   "metadata": {},
   "outputs": [],
   "source": [
    "test_scaled= (test_input-mean)/std"
   ]
  },
  {
   "cell_type": "code",
   "execution_count": 124,
   "id": "a58bd5b3",
   "metadata": {},
   "outputs": [
    {
     "data": {
      "text/plain": [
       "1.0"
      ]
     },
     "execution_count": 124,
     "metadata": {},
     "output_type": "execute_result"
    }
   ],
   "source": [
    "kn.score(test_scaled, test_target)"
   ]
  },
  {
   "cell_type": "code",
   "execution_count": 125,
   "id": "8b0cd8fb",
   "metadata": {},
   "outputs": [
    {
     "data": {
      "text/plain": [
       "array([1.])"
      ]
     },
     "execution_count": 125,
     "metadata": {},
     "output_type": "execute_result"
    }
   ],
   "source": [
    "kn.predict([new_target])"
   ]
  },
  {
   "cell_type": "code",
   "execution_count": 126,
   "id": "8f44276d",
   "metadata": {},
   "outputs": [],
   "source": [
    "distance, indexes = kn.kneighbors([new_target])"
   ]
  },
  {
   "cell_type": "code",
   "execution_count": 127,
   "id": "cb848a90",
   "metadata": {},
   "outputs": [
    {
     "data": {
      "image/png": "[encoded data removed]",
      "text/plain": [
       "<Figure size 432x288 with 1 Axes>"
      ]
     },
     "metadata": {
      "needs_background": "light"
     },
     "output_type": "display_data"
    }
   ],
   "source": [
    "import matplotlib.pyplot as plt\n",
    "plt.scatter(train_scaled[:,0], train_scaled[:,1])\n",
    "plt.scatter(new_target[0],new_target[1], marker='^')\n",
    "plt.scatter(train_scaled[indexes,0], train_scaled[indexes,1], marker='D')  # 찾고자하는 좌표와 가장 가까이 있는 이웃(기본 5)\n",
    "plt.xlabel(\"length\")\n",
    "plt.ylabel(\"weight\")\n",
    "plt.show()"
   ]
  },
  {
   "cell_type": "markdown",
   "id": "ea93dc66",
   "metadata": {},
   "source": [
    "## 1. 훈련용 데이터와 평가용 데이터를 잘 섞어서 나눈다.\n",
    "##    사이킷런의 라이브러리를 이용해서 학습용과 테스트용으로 나눈다.\n",
    "## 2. 데이터의 스케일링을 맞춘다.\n",
    "##    사이킷런의 scaling 함수를 이용한다\n",
    "## 3. 적합한 머신러닝을 선택\n",
    "##    분류문제 , kneighbors를 이용"
   ]
  },
  {
   "cell_type": "code",
   "execution_count": null,
   "id": "b525872c",
   "metadata": {},
   "outputs": [],
   "source": []
  }
 ],
 "metadata": {
  "kernelspec": {
   "display_name": "Python 3 (ipykernel)",
   "language": "python",
   "name": "python3"
  },
  "language_info": {
   "codemirror_mode": {
    "name": "ipython",
    "version": 3
   },
   "file_extension": ".py",
   "mimetype": "text/x-python",
   "name": "python",
   "nbconvert_exporter": "python",
   "pygments_lexer": "ipython3",
   "version": "3.9.7"
  }
 },
 "nbformat": 4,
 "nbformat_minor": 5
}
