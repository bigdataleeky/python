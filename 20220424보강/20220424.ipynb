{
  "nbformat": 4,
  "nbformat_minor": 0,
  "metadata": {
    "colab": {
      "name": "20220424.ipynb",
      "provenance": [],
      "collapsed_sections": []
    },
    "kernelspec": {
      "name": "python3",
      "display_name": "Python 3"
    },
    "language_info": {
      "name": "python"
    },
    "accelerator": "GPU"
  },
  "cells": [
    {
      "cell_type": "code",
      "execution_count": 1,
      "metadata": {
        "id": "zYgvG-N7CMdI"
      },
      "outputs": [],
      "source": [
        "# 딥러닝 프로그램에서 주로 사용하는 자연 영상 데이터 베이스\n",
        "# imageNet\n",
        "# MSCoCo\n",
        "# CIFAR : 크기가 작아서 MNIST 다음으로 주로 사용\n",
        "# CIFAR - 10  10개부류  32*32   32*32*3 이미 텐서 구조로 되어있어서 reshape가 필요없음"
      ]
    },
    {
      "cell_type": "code",
      "source": [
        "import numpy as np\n",
        "import pandas as pd\n",
        "import tensorflow as tf\n",
        "from tensorflow.keras.datasets import cifar10\n",
        "from tensorflow.keras.models import Sequential\n",
        "from tensorflow.keras.layers import Conv2D,MaxPool2D,Flatten,Dense,Dropout\n",
        "from tensorflow.keras.optimizers import Adam"
      ],
      "metadata": {
        "id": "ag7lRwp2CpI1"
      },
      "execution_count": 2,
      "outputs": []
    },
    {
      "cell_type": "code",
      "source": [
        "(x_train,y_train),(x_target, y_target) =  cifar10.load_data()\n",
        "x_train = x_train/255.0 ; x_target = x_target / 255.0\n",
        "y_train = tf.keras.utils.to_categorical(y_train,10)\n",
        "y_target = tf.keras.utils.to_categorical(y_target,10)"
      ],
      "metadata": {
        "colab": {
          "base_uri": "https://localhost:8080/"
        },
        "id": "mSD_SvgJDDZF",
        "outputId": "5754f4e0-466c-4c3c-bf51-2316f2920b10"
      },
      "execution_count": 3,
      "outputs": [
        {
          "output_type": "stream",
          "name": "stdout",
          "text": [
            "Downloading data from https://www.cs.toronto.edu/~kriz/cifar-10-python.tar.gz\n",
            "170500096/170498071 [==============================] - 2s 0us/step\n",
            "170508288/170498071 [==============================] - 2s 0us/step\n"
          ]
        }
      ]
    },
    {
      "cell_type": "code",
      "source": [
        "x_train.shape  # 이미 3차원 텐서로 제공하고 있어서 reshape 안함"
      ],
      "metadata": {
        "colab": {
          "base_uri": "https://localhost:8080/"
        },
        "id": "gcMvnl3MESyn",
        "outputId": "9a4801ec-b27a-4224-e6c8-5cb651a2558b"
      },
      "execution_count": 4,
      "outputs": [
        {
          "output_type": "execute_result",
          "data": {
            "text/plain": [
              "(50000, 32, 32, 3)"
            ]
          },
          "metadata": {},
          "execution_count": 4
        }
      ]
    },
    {
      "cell_type": "code",
      "source": [
        "# 설계\n",
        "cnn = Sequential()\n",
        "cnn.add( Conv2D(32,(3,3),activation='relu',input_shape=(32,32,3) ) )\n",
        "cnn.add(Conv2D(32,(3,3),activation = 'relu'  ))\n",
        "cnn.add(MaxPool2D(pool_size = (2,2)))\n",
        "cnn.add(Dropout(0.25))\n",
        "\n",
        "cnn.add(Conv2D(64,(3,3),activation = 'relu'))\n",
        "cnn.add(Conv2D(64,(3,3),activation = 'relu'  ))\n",
        "cnn.add(MaxPool2D(pool_size = (2,2)))\n",
        "cnn.add(Dropout(0.25))\n",
        "\n",
        "cnn.add(Flatten())\n",
        "\n",
        "cnn.add(Dense(512, activation='relu'))\n",
        "cnn.add(Dropout(0.25))\n",
        "cnn.add(Dense(10, activation='softmax'))  # 출력층"
      ],
      "metadata": {
        "id": "otl3oFwIEXWU"
      },
      "execution_count": 5,
      "outputs": []
    },
    {
      "cell_type": "code",
      "source": [
        "# 신경망 모델 학습\n",
        "from tensorflow.keras.losses import categorical_crossentropy\n",
        "\n",
        "cnn.compile(loss = categorical_crossentropy, optimizer=Adam(), metrics=['accuracy'])\n",
        "hist = cnn.fit(x_train,y_train,batch_size=125, epochs=30,validation_data=(x_target,y_target),verbose=2)"
      ],
      "metadata": {
        "colab": {
          "base_uri": "https://localhost:8080/"
        },
        "id": "RQVXnQ9sGnEI",
        "outputId": "eeeb50d5-b6b7-45b1-aecd-033fa8afdc53"
      },
      "execution_count": 6,
      "outputs": [
        {
          "output_type": "stream",
          "name": "stdout",
          "text": [
            "Epoch 1/30\n",
            "400/400 - 20s - loss: 1.6021 - accuracy: 0.4090 - val_loss: 1.2594 - val_accuracy: 0.5424 - 20s/epoch - 50ms/step\n",
            "Epoch 2/30\n",
            "400/400 - 10s - loss: 1.1959 - accuracy: 0.5765 - val_loss: 1.0352 - val_accuracy: 0.6336 - 10s/epoch - 25ms/step\n",
            "Epoch 3/30\n",
            "400/400 - 11s - loss: 1.0286 - accuracy: 0.6362 - val_loss: 0.9244 - val_accuracy: 0.6758 - 11s/epoch - 27ms/step\n",
            "Epoch 4/30\n",
            "400/400 - 10s - loss: 0.9196 - accuracy: 0.6760 - val_loss: 0.9003 - val_accuracy: 0.6840 - 10s/epoch - 25ms/step\n",
            "Epoch 5/30\n",
            "400/400 - 11s - loss: 0.8358 - accuracy: 0.7079 - val_loss: 0.7894 - val_accuracy: 0.7237 - 11s/epoch - 27ms/step\n",
            "Epoch 6/30\n",
            "400/400 - 10s - loss: 0.7606 - accuracy: 0.7349 - val_loss: 0.7642 - val_accuracy: 0.7358 - 10s/epoch - 25ms/step\n",
            "Epoch 7/30\n",
            "400/400 - 11s - loss: 0.7071 - accuracy: 0.7515 - val_loss: 0.7498 - val_accuracy: 0.7383 - 11s/epoch - 27ms/step\n",
            "Epoch 8/30\n",
            "400/400 - 10s - loss: 0.6603 - accuracy: 0.7687 - val_loss: 0.6758 - val_accuracy: 0.7651 - 10s/epoch - 25ms/step\n",
            "Epoch 9/30\n",
            "400/400 - 11s - loss: 0.6099 - accuracy: 0.7848 - val_loss: 0.6762 - val_accuracy: 0.7671 - 11s/epoch - 27ms/step\n",
            "Epoch 10/30\n",
            "400/400 - 10s - loss: 0.5813 - accuracy: 0.7937 - val_loss: 0.6621 - val_accuracy: 0.7729 - 10s/epoch - 25ms/step\n",
            "Epoch 11/30\n",
            "400/400 - 10s - loss: 0.5452 - accuracy: 0.8064 - val_loss: 0.6496 - val_accuracy: 0.7781 - 10s/epoch - 25ms/step\n",
            "Epoch 12/30\n",
            "400/400 - 10s - loss: 0.5207 - accuracy: 0.8144 - val_loss: 0.6472 - val_accuracy: 0.7799 - 10s/epoch - 25ms/step\n",
            "Epoch 13/30\n",
            "400/400 - 11s - loss: 0.4875 - accuracy: 0.8260 - val_loss: 0.6431 - val_accuracy: 0.7819 - 11s/epoch - 27ms/step\n",
            "Epoch 14/30\n",
            "400/400 - 11s - loss: 0.4642 - accuracy: 0.8331 - val_loss: 0.6496 - val_accuracy: 0.7845 - 11s/epoch - 27ms/step\n",
            "Epoch 15/30\n",
            "400/400 - 11s - loss: 0.4359 - accuracy: 0.8455 - val_loss: 0.6499 - val_accuracy: 0.7836 - 11s/epoch - 27ms/step\n",
            "Epoch 16/30\n",
            "400/400 - 10s - loss: 0.4157 - accuracy: 0.8518 - val_loss: 0.6513 - val_accuracy: 0.7860 - 10s/epoch - 25ms/step\n",
            "Epoch 17/30\n",
            "400/400 - 11s - loss: 0.3989 - accuracy: 0.8574 - val_loss: 0.6372 - val_accuracy: 0.7931 - 11s/epoch - 27ms/step\n",
            "Epoch 18/30\n",
            "400/400 - 11s - loss: 0.3875 - accuracy: 0.8606 - val_loss: 0.6265 - val_accuracy: 0.7883 - 11s/epoch - 27ms/step\n",
            "Epoch 19/30\n",
            "400/400 - 10s - loss: 0.3691 - accuracy: 0.8693 - val_loss: 0.6463 - val_accuracy: 0.7894 - 10s/epoch - 25ms/step\n",
            "Epoch 20/30\n",
            "400/400 - 10s - loss: 0.3574 - accuracy: 0.8734 - val_loss: 0.6664 - val_accuracy: 0.7888 - 10s/epoch - 25ms/step\n",
            "Epoch 21/30\n",
            "400/400 - 10s - loss: 0.3475 - accuracy: 0.8770 - val_loss: 0.6645 - val_accuracy: 0.7912 - 10s/epoch - 25ms/step\n",
            "Epoch 22/30\n",
            "400/400 - 10s - loss: 0.3318 - accuracy: 0.8813 - val_loss: 0.6374 - val_accuracy: 0.7941 - 10s/epoch - 25ms/step\n",
            "Epoch 23/30\n",
            "400/400 - 10s - loss: 0.3259 - accuracy: 0.8827 - val_loss: 0.6520 - val_accuracy: 0.7945 - 10s/epoch - 25ms/step\n",
            "Epoch 24/30\n",
            "400/400 - 10s - loss: 0.3074 - accuracy: 0.8902 - val_loss: 0.6574 - val_accuracy: 0.7839 - 10s/epoch - 25ms/step\n",
            "Epoch 25/30\n",
            "400/400 - 11s - loss: 0.2962 - accuracy: 0.8948 - val_loss: 0.6717 - val_accuracy: 0.7920 - 11s/epoch - 27ms/step\n",
            "Epoch 26/30\n",
            "400/400 - 11s - loss: 0.2953 - accuracy: 0.8948 - val_loss: 0.7028 - val_accuracy: 0.7860 - 11s/epoch - 28ms/step\n",
            "Epoch 27/30\n",
            "400/400 - 11s - loss: 0.2848 - accuracy: 0.8992 - val_loss: 0.7105 - val_accuracy: 0.7848 - 11s/epoch - 28ms/step\n",
            "Epoch 28/30\n",
            "400/400 - 10s - loss: 0.2732 - accuracy: 0.9024 - val_loss: 0.6821 - val_accuracy: 0.7909 - 10s/epoch - 26ms/step\n",
            "Epoch 29/30\n",
            "400/400 - 10s - loss: 0.2654 - accuracy: 0.9058 - val_loss: 0.7047 - val_accuracy: 0.7942 - 10s/epoch - 25ms/step\n",
            "Epoch 30/30\n",
            "400/400 - 10s - loss: 0.2654 - accuracy: 0.9061 - val_loss: 0.7085 - val_accuracy: 0.7905 - 10s/epoch - 25ms/step\n"
          ]
        }
      ]
    },
    {
      "cell_type": "code",
      "source": [
        "res = cnn.evaluate(x_target,y_target)\n",
        "res[1]*100"
      ],
      "metadata": {
        "colab": {
          "base_uri": "https://localhost:8080/"
        },
        "id": "ZZWDS2MBIUVu",
        "outputId": "eafd31f5-682e-4dad-8f0b-4719be5facc4"
      },
      "execution_count": 7,
      "outputs": [
        {
          "output_type": "stream",
          "name": "stdout",
          "text": [
            "313/313 [==============================] - 2s 6ms/step - loss: 0.7085 - accuracy: 0.7905\n"
          ]
        },
        {
          "output_type": "execute_result",
          "data": {
            "text/plain": [
              "79.04999852180481"
            ]
          },
          "metadata": {},
          "execution_count": 7
        }
      ]
    },
    {
      "cell_type": "code",
      "source": [
        "import matplotlib.pyplot as plt\n",
        "# 정확률\n",
        "plt.plot(hist.history['accuracy'])\n",
        "plt.plot(hist.history['val_accuracy'])\n",
        "plt.legend(['Train','Validation'],loc='best')\n",
        "plt.grid()\n",
        "plt.show()"
      ],
      "metadata": {
        "colab": {
          "base_uri": "https://localhost:8080/",
          "height": 265
        },
        "id": "1AVINuMgKXOe",
        "outputId": "d4edcb3f-046a-4df7-b11b-d1089182a071"
      },
      "execution_count": 11,
      "outputs": [
        {
          "output_type": "display_data",
          "data": {
            "text/plain": [
              "<Figure size 432x288 with 1 Axes>"
            ],
            "image/png": "[encoded data removed]"
          },
          "metadata": {
            "needs_background": "light"
          }
        }
      ]
    },
    {
      "cell_type": "code",
      "source": [
        "# 로스\n",
        "plt.plot(hist.history['loss'])\n",
        "plt.plot(hist.history['val_loss'])\n",
        "plt.legend(['Train','Validation'],loc='best')\n",
        "plt.grid()\n",
        "plt.show()"
      ],
      "metadata": {
        "colab": {
          "base_uri": "https://localhost:8080/",
          "height": 265
        },
        "id": "wzXWWA2IK6Ge",
        "outputId": "63141844-372e-4de2-f90e-fcd8d7201ba2"
      },
      "execution_count": 12,
      "outputs": [
        {
          "output_type": "display_data",
          "data": {
            "text/plain": [
              "<Figure size 432x288 with 1 Axes>"
            ],
            "image/png": "[encoded data removed]"
          },
          "metadata": {
            "needs_background": "light"
          }
        }
      ]
    },
    {
      "cell_type": "code",
      "source": [
        "cnn.save(\"mycnn.h5\")"
      ],
      "metadata": {
        "id": "FGFNWtguLaH9"
      },
      "execution_count": 13,
      "outputs": []
    },
    {
      "cell_type": "code",
      "source": [
        ""
      ],
      "metadata": {
        "id": "4FrP2NK2MQFm"
      },
      "execution_count": null,
      "outputs": []
    }
  ]
}