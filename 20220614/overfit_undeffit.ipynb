{
  "nbformat": 4,
  "nbformat_minor": 0,
  "metadata": {
    "colab": {
      "name": "overfit_undeffit.ipynb",
      "provenance": [],
      "collapsed_sections": []
    },
    "kernelspec": {
      "name": "python3",
      "display_name": "Python 3"
    },
    "language_info": {
      "name": "python"
    }
  },
  "cells": [
    {
      "cell_type": "code",
      "execution_count": 1,
      "metadata": {
        "id": "30UH3I83qyhj"
      },
      "outputs": [],
      "source": [
        "from keras.datasets import imdb\n",
        "import numpy as np"
      ]
    },
    {
      "cell_type": "code",
      "source": [
        "(train_data,train_labels),(test_data, test_labels) =  imdb.load_data(num_words=10000)"
      ],
      "metadata": {
        "colab": {
          "base_uri": "https://localhost:8080/"
        },
        "id": "jNUy-VE9r4-x",
        "outputId": "e4bfb17a-b5ac-490d-ea37-11c6feeba41a"
      },
      "execution_count": 2,
      "outputs": [
        {
          "output_type": "stream",
          "name": "stdout",
          "text": [
            "Downloading data from https://storage.googleapis.com/tensorflow/tf-keras-datasets/imdb.npz\n",
            "17465344/17464789 [==============================] - 0s 0us/step\n",
            "17473536/17464789 [==============================] - 0s 0us/step\n"
          ]
        }
      ]
    },
    {
      "cell_type": "code",
      "source": [
        "train_data[:10]"
      ],
      "metadata": {
        "colab": {
          "base_uri": "https://localhost:8080/"
        },
        "id": "U4JUzphXsLHX",
        "outputId": "63b8e8bb-4a7d-4f5e-b6e0-b4dc87b31ae5"
      },
      "execution_count": 3,
      "outputs": [
        {
          "output_type": "execute_result",
          "data": {
            "text/plain": [
              "array([list([1, 14, 22, 16, 43, 530, 973, 1622, 1385, 65, 458, 4468, 66, 3941, 4, 173, 36, 256, 5, 25, 100, 43, 838, 112, 50, 670, 2, 9, 35, 480, 284, 5, 150, 4, 172, 112, 167, 2, 336, 385, 39, 4, 172, 4536, 1111, 17, 546, 38, 13, 447, 4, 192, 50, 16, 6, 147, 2025, 19, 14, 22, 4, 1920, 4613, 469, 4, 22, 71, 87, 12, 16, 43, 530, 38, 76, 15, 13, 1247, 4, 22, 17, 515, 17, 12, 16, 626, 18, 2, 5, 62, 386, 12, 8, 316, 8, 106, 5, 4, 2223, 5244, 16, 480, 66, 3785, 33, 4, 130, 12, 16, 38, 619, 5, 25, 124, 51, 36, 135, 48, 25, 1415, 33, 6, 22, 12, 215, 28, 77, 52, 5, 14, 407, 16, 82, 2, 8, 4, 107, 117, 5952, 15, 256, 4, 2, 7, 3766, 5, 723, 36, 71, 43, 530, 476, 26, 400, 317, 46, 7, 4, 2, 1029, 13, 104, 88, 4, 381, 15, 297, 98, 32, 2071, 56, 26, 141, 6, 194, 7486, 18, 4, 226, 22, 21, 134, 476, 26, 480, 5, 144, 30, 5535, 18, 51, 36, 28, 224, 92, 25, 104, 4, 226, 65, 16, 38, 1334, 88, 12, 16, 283, 5, 16, 4472, 113, 103, 32, 15, 16, 5345, 19, 178, 32]),\n",
              "       list([1, 194, 1153, 194, 8255, 78, 228, 5, 6, 1463, 4369, 5012, 134, 26, 4, 715, 8, 118, 1634, 14, 394, 20, 13, 119, 954, 189, 102, 5, 207, 110, 3103, 21, 14, 69, 188, 8, 30, 23, 7, 4, 249, 126, 93, 4, 114, 9, 2300, 1523, 5, 647, 4, 116, 9, 35, 8163, 4, 229, 9, 340, 1322, 4, 118, 9, 4, 130, 4901, 19, 4, 1002, 5, 89, 29, 952, 46, 37, 4, 455, 9, 45, 43, 38, 1543, 1905, 398, 4, 1649, 26, 6853, 5, 163, 11, 3215, 2, 4, 1153, 9, 194, 775, 7, 8255, 2, 349, 2637, 148, 605, 2, 8003, 15, 123, 125, 68, 2, 6853, 15, 349, 165, 4362, 98, 5, 4, 228, 9, 43, 2, 1157, 15, 299, 120, 5, 120, 174, 11, 220, 175, 136, 50, 9, 4373, 228, 8255, 5, 2, 656, 245, 2350, 5, 4, 9837, 131, 152, 491, 18, 2, 32, 7464, 1212, 14, 9, 6, 371, 78, 22, 625, 64, 1382, 9, 8, 168, 145, 23, 4, 1690, 15, 16, 4, 1355, 5, 28, 6, 52, 154, 462, 33, 89, 78, 285, 16, 145, 95]),\n",
              "       list([1, 14, 47, 8, 30, 31, 7, 4, 249, 108, 7, 4, 5974, 54, 61, 369, 13, 71, 149, 14, 22, 112, 4, 2401, 311, 12, 16, 3711, 33, 75, 43, 1829, 296, 4, 86, 320, 35, 534, 19, 263, 4821, 1301, 4, 1873, 33, 89, 78, 12, 66, 16, 4, 360, 7, 4, 58, 316, 334, 11, 4, 1716, 43, 645, 662, 8, 257, 85, 1200, 42, 1228, 2578, 83, 68, 3912, 15, 36, 165, 1539, 278, 36, 69, 2, 780, 8, 106, 14, 6905, 1338, 18, 6, 22, 12, 215, 28, 610, 40, 6, 87, 326, 23, 2300, 21, 23, 22, 12, 272, 40, 57, 31, 11, 4, 22, 47, 6, 2307, 51, 9, 170, 23, 595, 116, 595, 1352, 13, 191, 79, 638, 89, 2, 14, 9, 8, 106, 607, 624, 35, 534, 6, 227, 7, 129, 113]),\n",
              "       list([1, 4, 2, 2, 33, 2804, 4, 2040, 432, 111, 153, 103, 4, 1494, 13, 70, 131, 67, 11, 61, 2, 744, 35, 3715, 761, 61, 5766, 452, 9214, 4, 985, 7, 2, 59, 166, 4, 105, 216, 1239, 41, 1797, 9, 15, 7, 35, 744, 2413, 31, 8, 4, 687, 23, 4, 2, 7339, 6, 3693, 42, 38, 39, 121, 59, 456, 10, 10, 7, 265, 12, 575, 111, 153, 159, 59, 16, 1447, 21, 25, 586, 482, 39, 4, 96, 59, 716, 12, 4, 172, 65, 9, 579, 11, 6004, 4, 1615, 5, 2, 7, 5168, 17, 13, 7064, 12, 19, 6, 464, 31, 314, 11, 2, 6, 719, 605, 11, 8, 202, 27, 310, 4, 3772, 3501, 8, 2722, 58, 10, 10, 537, 2116, 180, 40, 14, 413, 173, 7, 263, 112, 37, 152, 377, 4, 537, 263, 846, 579, 178, 54, 75, 71, 476, 36, 413, 263, 2504, 182, 5, 17, 75, 2306, 922, 36, 279, 131, 2895, 17, 2867, 42, 17, 35, 921, 2, 192, 5, 1219, 3890, 19, 2, 217, 4122, 1710, 537, 2, 1236, 5, 736, 10, 10, 61, 403, 9, 2, 40, 61, 4494, 5, 27, 4494, 159, 90, 263, 2311, 4319, 309, 8, 178, 5, 82, 4319, 4, 65, 15, 9225, 145, 143, 5122, 12, 7039, 537, 746, 537, 537, 15, 7979, 4, 2, 594, 7, 5168, 94, 9096, 3987, 2, 11, 2, 4, 538, 7, 1795, 246, 2, 9, 2, 11, 635, 14, 9, 51, 408, 12, 94, 318, 1382, 12, 47, 6, 2683, 936, 5, 6307, 2, 19, 49, 7, 4, 1885, 2, 1118, 25, 80, 126, 842, 10, 10, 2, 2, 4726, 27, 4494, 11, 1550, 3633, 159, 27, 341, 29, 2733, 19, 4185, 173, 7, 90, 2, 8, 30, 11, 4, 1784, 86, 1117, 8, 3261, 46, 11, 2, 21, 29, 9, 2841, 23, 4, 1010, 2, 793, 6, 2, 1386, 1830, 10, 10, 246, 50, 9, 6, 2750, 1944, 746, 90, 29, 2, 8, 124, 4, 882, 4, 882, 496, 27, 2, 2213, 537, 121, 127, 1219, 130, 5, 29, 494, 8, 124, 4, 882, 496, 4, 341, 7, 27, 846, 10, 10, 29, 9, 1906, 8, 97, 6, 236, 2, 1311, 8, 4, 2, 7, 31, 7, 2, 91, 2, 3987, 70, 4, 882, 30, 579, 42, 9, 12, 32, 11, 537, 10, 10, 11, 14, 65, 44, 537, 75, 2, 1775, 3353, 2, 1846, 4, 2, 7, 154, 5, 4, 518, 53, 2, 2, 7, 3211, 882, 11, 399, 38, 75, 257, 3807, 19, 2, 17, 29, 456, 4, 65, 7, 27, 205, 113, 10, 10, 2, 4, 2, 2, 9, 242, 4, 91, 1202, 2, 5, 2070, 307, 22, 7, 5168, 126, 93, 40, 2, 13, 188, 1076, 3222, 19, 4, 2, 7, 2348, 537, 23, 53, 537, 21, 82, 40, 2, 13, 2, 14, 280, 13, 219, 4, 2, 431, 758, 859, 4, 953, 1052, 2, 7, 5991, 5, 94, 40, 25, 238, 60, 2, 4, 2, 804, 2, 7, 4, 9941, 132, 8, 67, 6, 22, 15, 9, 283, 8, 5168, 14, 31, 9, 242, 955, 48, 25, 279, 2, 23, 12, 1685, 195, 25, 238, 60, 796, 2, 4, 671, 7, 2804, 5, 4, 559, 154, 888, 7, 726, 50, 26, 49, 7008, 15, 566, 30, 579, 21, 64, 2574]),\n",
              "       list([1, 249, 1323, 7, 61, 113, 10, 10, 13, 1637, 14, 20, 56, 33, 2401, 18, 457, 88, 13, 2626, 1400, 45, 3171, 13, 70, 79, 49, 706, 919, 13, 16, 355, 340, 355, 1696, 96, 143, 4, 22, 32, 289, 7, 61, 369, 71, 2359, 5, 13, 16, 131, 2073, 249, 114, 249, 229, 249, 20, 13, 28, 126, 110, 13, 473, 8, 569, 61, 419, 56, 429, 6, 1513, 18, 35, 534, 95, 474, 570, 5, 25, 124, 138, 88, 12, 421, 1543, 52, 725, 6397, 61, 419, 11, 13, 1571, 15, 1543, 20, 11, 4, 2, 5, 296, 12, 3524, 5, 15, 421, 128, 74, 233, 334, 207, 126, 224, 12, 562, 298, 2167, 1272, 7, 2601, 5, 516, 988, 43, 8, 79, 120, 15, 595, 13, 784, 25, 3171, 18, 165, 170, 143, 19, 14, 5, 7224, 6, 226, 251, 7, 61, 113]),\n",
              "       list([1, 778, 128, 74, 12, 630, 163, 15, 4, 1766, 7982, 1051, 2, 32, 85, 156, 45, 40, 148, 139, 121, 664, 665, 10, 10, 1361, 173, 4, 749, 2, 16, 3804, 8, 4, 226, 65, 12, 43, 127, 24, 2, 10, 10]),\n",
              "       list([1, 6740, 365, 1234, 5, 1156, 354, 11, 14, 5327, 6638, 7, 1016, 2, 5940, 356, 44, 4, 1349, 500, 746, 5, 200, 4, 4132, 11, 2, 9363, 1117, 1831, 7485, 5, 4831, 26, 6, 2, 4183, 17, 369, 37, 215, 1345, 143, 2, 5, 1838, 8, 1974, 15, 36, 119, 257, 85, 52, 486, 9, 6, 2, 8564, 63, 271, 6, 196, 96, 949, 4121, 4, 2, 7, 4, 2212, 2436, 819, 63, 47, 77, 7175, 180, 6, 227, 11, 94, 2494, 2, 13, 423, 4, 168, 7, 4, 22, 5, 89, 665, 71, 270, 56, 5, 13, 197, 12, 161, 5390, 99, 76, 23, 2, 7, 419, 665, 40, 91, 85, 108, 7, 4, 2084, 5, 4773, 81, 55, 52, 1901]),\n",
              "       list([1, 4, 2, 716, 4, 65, 7, 4, 689, 4367, 6308, 2343, 4804, 2, 2, 5270, 2, 2315, 2, 2, 2, 2, 4, 2, 628, 7685, 37, 9, 150, 4, 9820, 4069, 11, 2909, 4, 2, 847, 313, 6, 176, 2, 9, 6202, 138, 9, 4434, 19, 4, 96, 183, 26, 4, 192, 15, 27, 5842, 799, 7101, 2, 588, 84, 11, 4, 3231, 152, 339, 5206, 42, 4869, 2, 6293, 345, 4804, 2, 142, 43, 218, 208, 54, 29, 853, 659, 46, 4, 882, 183, 80, 115, 30, 4, 172, 174, 10, 10, 1001, 398, 1001, 1055, 526, 34, 3717, 2, 5262, 2, 17, 4, 6706, 1094, 871, 64, 85, 22, 2030, 1109, 38, 230, 9, 4, 4324, 2, 251, 5056, 1034, 195, 301, 14, 16, 31, 7, 4, 2, 8, 783, 2, 33, 4, 2945, 103, 465, 2, 42, 845, 45, 446, 11, 1895, 19, 184, 76, 32, 4, 5310, 207, 110, 13, 197, 4, 2, 16, 601, 964, 2152, 595, 13, 258, 4, 1730, 66, 338, 55, 5312, 4, 550, 728, 65, 1196, 8, 1839, 61, 1546, 42, 8361, 61, 602, 120, 45, 7304, 6, 320, 786, 99, 196, 2, 786, 5936, 4, 225, 4, 373, 1009, 33, 4, 130, 63, 69, 72, 1104, 46, 1292, 225, 14, 66, 194, 2, 1703, 56, 8, 803, 1004, 6, 2, 155, 11, 4, 2, 3231, 45, 853, 2029, 8, 30, 6, 117, 430, 19, 6, 8941, 9, 15, 66, 424, 8, 2337, 178, 9, 15, 66, 424, 8, 1465, 178, 9, 15, 66, 142, 15, 9, 424, 8, 28, 178, 662, 44, 12, 17, 4, 130, 898, 1686, 9, 6, 5623, 267, 185, 430, 4, 118, 2, 277, 15, 4, 1188, 100, 216, 56, 19, 4, 357, 114, 2, 367, 45, 115, 93, 788, 121, 4, 2, 79, 32, 68, 278, 39, 8, 818, 162, 4165, 237, 600, 7, 98, 306, 8, 157, 549, 628, 11, 6, 2, 13, 824, 15, 4104, 76, 42, 138, 36, 774, 77, 1059, 159, 150, 4, 229, 497, 8, 1493, 11, 175, 251, 453, 19, 8651, 189, 12, 43, 127, 6, 394, 292, 7, 8253, 4, 107, 8, 4, 2826, 15, 1082, 1251, 9, 906, 42, 1134, 6, 66, 78, 22, 15, 13, 244, 2519, 8, 135, 233, 52, 44, 10, 10, 466, 112, 398, 526, 34, 4, 1572, 4413, 6706, 1094, 225, 57, 599, 133, 225, 6, 227, 7, 541, 4323, 6, 171, 139, 7, 539, 2, 56, 11, 6, 3231, 21, 164, 25, 426, 81, 33, 344, 624, 19, 6, 4617, 7, 2, 2, 6, 5802, 4, 22, 9, 1082, 629, 237, 45, 188, 6, 55, 655, 707, 6371, 956, 225, 1456, 841, 42, 1310, 225, 6, 2493, 1467, 7722, 2828, 21, 4, 2, 9, 364, 23, 4, 2228, 2407, 225, 24, 76, 133, 18, 4, 189, 2293, 10, 10, 814, 11, 2, 11, 2642, 14, 47, 15, 682, 364, 352, 168, 44, 12, 45, 24, 913, 93, 21, 247, 2441, 4, 116, 34, 35, 1859, 8, 72, 177, 9, 164, 8, 901, 344, 44, 13, 191, 135, 13, 126, 421, 233, 18, 259, 10, 10, 4, 2, 6847, 4, 2, 3074, 7, 112, 199, 753, 357, 39, 63, 12, 115, 2, 763, 8, 15, 35, 3282, 1523, 65, 57, 599, 6, 1916, 277, 1730, 37, 25, 92, 202, 6, 8848, 44, 25, 28, 6, 22, 15, 122, 24, 4171, 72, 33, 32]),\n",
              "       list([1, 43, 188, 46, 5, 566, 264, 51, 6, 530, 664, 14, 9, 1713, 81, 25, 1135, 46, 7, 6, 20, 750, 11, 141, 4299, 5, 2, 4441, 102, 28, 413, 38, 120, 5533, 15, 4, 3974, 7, 5369, 142, 371, 318, 5, 955, 1713, 571, 2, 2, 122, 14, 8, 72, 54, 12, 86, 385, 46, 5, 14, 20, 9, 399, 8, 72, 150, 13, 161, 124, 6, 155, 44, 14, 159, 170, 83, 12, 5, 51, 6, 866, 48, 25, 842, 4, 1120, 25, 238, 79, 4, 547, 15, 14, 9, 31, 7, 148, 2, 102, 44, 35, 480, 3823, 2380, 19, 120, 4, 350, 228, 5, 269, 8, 28, 178, 1314, 2347, 7, 51, 6, 87, 65, 12, 9, 979, 21, 95, 24, 3186, 178, 11, 2, 14, 9, 24, 15, 20, 4, 84, 376, 4, 65, 14, 127, 141, 6, 52, 292, 7, 4751, 175, 561, 7, 68, 3866, 137, 75, 2541, 68, 182, 5, 235, 175, 333, 19, 98, 50, 9, 38, 76, 724, 4, 6750, 15, 166, 285, 36, 140, 143, 38, 76, 53, 3094, 1301, 4, 6991, 16, 82, 6, 87, 3578, 44, 2527, 7612, 5, 800, 4, 3033, 11, 35, 1728, 96, 21, 14, 22, 9, 76, 53, 7, 6, 406, 65, 13, 43, 219, 12, 639, 21, 13, 80, 140, 5, 135, 15, 14, 9, 31, 7, 4, 118, 3672, 13, 28, 126, 110]),\n",
              "       list([1, 14, 20, 47, 111, 439, 3445, 19, 12, 15, 166, 12, 216, 125, 40, 6, 364, 352, 707, 1187, 39, 294, 11, 22, 396, 13, 28, 8, 202, 12, 1109, 23, 94, 2, 151, 111, 211, 469, 4, 20, 13, 258, 546, 1104, 7273, 12, 16, 38, 78, 33, 211, 15, 12, 16, 2849, 63, 93, 12, 6, 253, 106, 10, 10, 48, 335, 267, 18, 6, 364, 1242, 1179, 20, 19, 6, 1009, 7, 1987, 189, 5, 6, 8419, 7, 2723, 2, 95, 1719, 6, 6035, 7, 3912, 7144, 49, 369, 120, 5, 28, 49, 253, 10, 10, 13, 1041, 19, 85, 795, 15, 4, 481, 9, 55, 78, 807, 9, 375, 8, 1167, 8, 794, 76, 7, 4, 58, 5, 4, 816, 9, 243, 7, 43, 50])],\n",
              "      dtype=object)"
            ]
          },
          "metadata": {},
          "execution_count": 3
        }
      ]
    },
    {
      "cell_type": "code",
      "source": [
        "def make_vactor(data, dimension = 10000):\n",
        "  result = np.zeros( (len(data), dimension ))  \n",
        "  for i, d in enumerate(data):\n",
        "    result[i,d] = 1\n",
        "  return result"
      ],
      "metadata": {
        "id": "Y25DTqX5sSHv"
      },
      "execution_count": 3,
      "outputs": []
    },
    {
      "cell_type": "code",
      "source": [
        "np.zeros( (len(train_data), 10000 ))"
      ],
      "metadata": {
        "colab": {
          "base_uri": "https://localhost:8080/"
        },
        "id": "jw8pexMds0e4",
        "outputId": "0921858c-c0ce-44ae-fa4a-77834777c171"
      },
      "execution_count": 5,
      "outputs": [
        {
          "output_type": "execute_result",
          "data": {
            "text/plain": [
              "array([[0., 0., 0., ..., 0., 0., 0.],\n",
              "       [0., 0., 0., ..., 0., 0., 0.],\n",
              "       [0., 0., 0., ..., 0., 0., 0.],\n",
              "       ...,\n",
              "       [0., 0., 0., ..., 0., 0., 0.],\n",
              "       [0., 0., 0., ..., 0., 0., 0.],\n",
              "       [0., 0., 0., ..., 0., 0., 0.]])"
            ]
          },
          "metadata": {},
          "execution_count": 5
        }
      ]
    },
    {
      "cell_type": "code",
      "source": [
        "# 훈련데이터를 벡터로 변경\n",
        "x_train =  make_vactor(train_data)\n",
        "x_test =  make_vactor(test_data)"
      ],
      "metadata": {
        "id": "yyTXbzODs3yH"
      },
      "execution_count": 4,
      "outputs": []
    },
    {
      "cell_type": "code",
      "source": [
        "y_train = np.asarray(train_labels).astype('float32')\n",
        "y_test = np.asarray(test_labels).astype('float32')"
      ],
      "metadata": {
        "id": "QIAapcakti6B"
      },
      "execution_count": 5,
      "outputs": []
    },
    {
      "cell_type": "code",
      "source": [
        "type(train_labels)"
      ],
      "metadata": {
        "colab": {
          "base_uri": "https://localhost:8080/"
        },
        "id": "otWU8PFit6DY",
        "outputId": "8ba0d06c-1d7e-478c-9adf-a87a819a46e9"
      },
      "execution_count": 6,
      "outputs": [
        {
          "output_type": "execute_result",
          "data": {
            "text/plain": [
              "numpy.ndarray"
            ]
          },
          "metadata": {},
          "execution_count": 6
        }
      ]
    },
    {
      "cell_type": "code",
      "source": [
        "# original network\n",
        "from keras import models\n",
        "from keras import layers\n",
        "orginal_model = models.Sequential()\n",
        "orginal_model.add(layers.Dense(16,activation='relu',input_shape = (10000, )))\n",
        "orginal_model.add(layers.Dense(16,activation='relu'))\n",
        "orginal_model.add(layers.Dense(1,activation='sigmoid'))\n",
        "orginal_model.compile(optimizer='rmsprop', loss = 'binary_crossentropy', metrics=['acc'])"
      ],
      "metadata": {
        "id": "4DvMWmWIuVov"
      },
      "execution_count": 6,
      "outputs": []
    },
    {
      "cell_type": "code",
      "source": [
        "from keras import models\n",
        "from keras import layers\n",
        "small_model = models.Sequential()\n",
        "small_model.add(layers.Dense(6,activation='relu',input_shape = (10000, )))\n",
        "small_model.add(layers.Dense(6,activation='relu'))\n",
        "small_model.add(layers.Dense(1,activation='sigmoid'))\n",
        "small_model.compile(optimizer='rmsprop', loss = 'binary_crossentropy', metrics=['acc'])"
      ],
      "metadata": {
        "id": "WCG_l3FKvJ1Q"
      },
      "execution_count": 10,
      "outputs": []
    },
    {
      "cell_type": "code",
      "source": [
        "history = orginal_model.fit(x_train,y_train,epochs=20,batch_size=512,validation_data=(x_test,y_test))"
      ],
      "metadata": {
        "colab": {
          "base_uri": "https://localhost:8080/"
        },
        "id": "_PTWxi2zwPAH",
        "outputId": "49a5cf34-7918-4bbf-c6ac-9c2c90be15ac"
      },
      "execution_count": 7,
      "outputs": [
        {
          "output_type": "stream",
          "name": "stdout",
          "text": [
            "Epoch 1/20\n",
            "49/49 [==============================] - 4s 55ms/step - loss: 0.4461 - acc: 0.8256 - val_loss: 0.3337 - val_acc: 0.8815\n",
            "Epoch 2/20\n",
            "49/49 [==============================] - 2s 42ms/step - loss: 0.2566 - acc: 0.9090 - val_loss: 0.2840 - val_acc: 0.8892\n",
            "Epoch 3/20\n",
            "49/49 [==============================] - 2s 41ms/step - loss: 0.1990 - acc: 0.9287 - val_loss: 0.2838 - val_acc: 0.8863\n",
            "Epoch 4/20\n",
            "49/49 [==============================] - 2s 41ms/step - loss: 0.1651 - acc: 0.9408 - val_loss: 0.2986 - val_acc: 0.8822\n",
            "Epoch 5/20\n",
            "49/49 [==============================] - 2s 41ms/step - loss: 0.1406 - acc: 0.9504 - val_loss: 0.3369 - val_acc: 0.8720\n",
            "Epoch 6/20\n",
            "49/49 [==============================] - 2s 41ms/step - loss: 0.1220 - acc: 0.9587 - val_loss: 0.3453 - val_acc: 0.8729\n",
            "Epoch 7/20\n",
            "49/49 [==============================] - 2s 41ms/step - loss: 0.1059 - acc: 0.9639 - val_loss: 0.3826 - val_acc: 0.8655\n",
            "Epoch 8/20\n",
            "49/49 [==============================] - 2s 41ms/step - loss: 0.0899 - acc: 0.9698 - val_loss: 0.3903 - val_acc: 0.8689\n",
            "Epoch 9/20\n",
            "49/49 [==============================] - 2s 41ms/step - loss: 0.0795 - acc: 0.9741 - val_loss: 0.4320 - val_acc: 0.8637\n",
            "Epoch 10/20\n",
            "49/49 [==============================] - 2s 40ms/step - loss: 0.0677 - acc: 0.9792 - val_loss: 0.4649 - val_acc: 0.8603\n",
            "Epoch 11/20\n",
            "49/49 [==============================] - 2s 41ms/step - loss: 0.0576 - acc: 0.9829 - val_loss: 0.4832 - val_acc: 0.8600\n",
            "Epoch 12/20\n",
            "49/49 [==============================] - 2s 40ms/step - loss: 0.0495 - acc: 0.9857 - val_loss: 0.5125 - val_acc: 0.8598\n",
            "Epoch 13/20\n",
            "49/49 [==============================] - 2s 40ms/step - loss: 0.0403 - acc: 0.9896 - val_loss: 0.5513 - val_acc: 0.8586\n",
            "Epoch 14/20\n",
            "49/49 [==============================] - 2s 41ms/step - loss: 0.0344 - acc: 0.9907 - val_loss: 0.5826 - val_acc: 0.8559\n",
            "Epoch 15/20\n",
            "49/49 [==============================] - 2s 43ms/step - loss: 0.0288 - acc: 0.9919 - val_loss: 0.6202 - val_acc: 0.8546\n",
            "Epoch 16/20\n",
            "49/49 [==============================] - 2s 40ms/step - loss: 0.0227 - acc: 0.9946 - val_loss: 0.6594 - val_acc: 0.8542\n",
            "Epoch 17/20\n",
            "49/49 [==============================] - 2s 40ms/step - loss: 0.0185 - acc: 0.9955 - val_loss: 0.7021 - val_acc: 0.8529\n",
            "Epoch 18/20\n",
            "49/49 [==============================] - 2s 40ms/step - loss: 0.0158 - acc: 0.9966 - val_loss: 0.7422 - val_acc: 0.8513\n",
            "Epoch 19/20\n",
            "49/49 [==============================] - 2s 41ms/step - loss: 0.0121 - acc: 0.9974 - val_loss: 0.7821 - val_acc: 0.8495\n",
            "Epoch 20/20\n",
            "49/49 [==============================] - 2s 40ms/step - loss: 0.0101 - acc: 0.9976 - val_loss: 0.8177 - val_acc: 0.8492\n"
          ]
        }
      ]
    },
    {
      "cell_type": "code",
      "source": [
        "small_history = small_model.fit(x_train,y_train,epochs=20,batch_size=512,validation_data=(x_test,y_test))"
      ],
      "metadata": {
        "colab": {
          "base_uri": "https://localhost:8080/"
        },
        "id": "3llSBGPCxETI",
        "outputId": "0d1ae44c-c225-40e7-87b1-9df149a5fea0"
      },
      "execution_count": 12,
      "outputs": [
        {
          "output_type": "stream",
          "name": "stdout",
          "text": [
            "Epoch 1/20\n",
            "49/49 [==============================] - 3s 51ms/step - loss: 0.5771 - acc: 0.7977 - val_loss: 0.4920 - val_acc: 0.8476\n",
            "Epoch 2/20\n",
            "49/49 [==============================] - 2s 40ms/step - loss: 0.4090 - acc: 0.8798 - val_loss: 0.3785 - val_acc: 0.8738\n",
            "Epoch 3/20\n",
            "49/49 [==============================] - 2s 39ms/step - loss: 0.3073 - acc: 0.9020 - val_loss: 0.3170 - val_acc: 0.8841\n",
            "Epoch 4/20\n",
            "49/49 [==============================] - 2s 40ms/step - loss: 0.2476 - acc: 0.9165 - val_loss: 0.2889 - val_acc: 0.8889\n",
            "Epoch 5/20\n",
            "49/49 [==============================] - 2s 39ms/step - loss: 0.2104 - acc: 0.9272 - val_loss: 0.2814 - val_acc: 0.8885\n",
            "Epoch 6/20\n",
            "49/49 [==============================] - 2s 39ms/step - loss: 0.1854 - acc: 0.9354 - val_loss: 0.2773 - val_acc: 0.8899\n",
            "Epoch 7/20\n",
            "49/49 [==============================] - 2s 39ms/step - loss: 0.1669 - acc: 0.9424 - val_loss: 0.2811 - val_acc: 0.8886\n",
            "Epoch 8/20\n",
            "49/49 [==============================] - 2s 38ms/step - loss: 0.1516 - acc: 0.9484 - val_loss: 0.2889 - val_acc: 0.8874\n",
            "Epoch 9/20\n",
            "49/49 [==============================] - 2s 40ms/step - loss: 0.1388 - acc: 0.9535 - val_loss: 0.3053 - val_acc: 0.8815\n",
            "Epoch 10/20\n",
            "49/49 [==============================] - 2s 39ms/step - loss: 0.1278 - acc: 0.9575 - val_loss: 0.3106 - val_acc: 0.8822\n",
            "Epoch 11/20\n",
            "49/49 [==============================] - 2s 39ms/step - loss: 0.1176 - acc: 0.9608 - val_loss: 0.3388 - val_acc: 0.8750\n",
            "Epoch 12/20\n",
            "49/49 [==============================] - 2s 39ms/step - loss: 0.1093 - acc: 0.9645 - val_loss: 0.3428 - val_acc: 0.8764\n",
            "Epoch 13/20\n",
            "49/49 [==============================] - 2s 38ms/step - loss: 0.1010 - acc: 0.9676 - val_loss: 0.3595 - val_acc: 0.8739\n",
            "Epoch 14/20\n",
            "49/49 [==============================] - 2s 38ms/step - loss: 0.0940 - acc: 0.9707 - val_loss: 0.3779 - val_acc: 0.8708\n",
            "Epoch 15/20\n",
            "49/49 [==============================] - 2s 38ms/step - loss: 0.0875 - acc: 0.9725 - val_loss: 0.3967 - val_acc: 0.8682\n",
            "Epoch 16/20\n",
            "49/49 [==============================] - 2s 38ms/step - loss: 0.0810 - acc: 0.9753 - val_loss: 0.4300 - val_acc: 0.8628\n",
            "Epoch 17/20\n",
            "49/49 [==============================] - 2s 39ms/step - loss: 0.0760 - acc: 0.9770 - val_loss: 0.4328 - val_acc: 0.8656\n",
            "Epoch 18/20\n",
            "49/49 [==============================] - 2s 38ms/step - loss: 0.0703 - acc: 0.9789 - val_loss: 0.4476 - val_acc: 0.8642\n",
            "Epoch 19/20\n",
            "49/49 [==============================] - 2s 38ms/step - loss: 0.0652 - acc: 0.9808 - val_loss: 0.4702 - val_acc: 0.8622\n",
            "Epoch 20/20\n",
            "49/49 [==============================] - 2s 39ms/step - loss: 0.0608 - acc: 0.9825 - val_loss: 0.5022 - val_acc: 0.8593\n"
          ]
        }
      ]
    },
    {
      "cell_type": "code",
      "source": [
        "epochs = range(1,21)\n",
        "original_val_loss =  history.history['val_loss']\n",
        "smaller_model_val_loss = small_history.history['val_loss']"
      ],
      "metadata": {
        "id": "C2pK-9RlxXOo"
      },
      "execution_count": 13,
      "outputs": []
    },
    {
      "cell_type": "code",
      "source": [
        "import matplotlib.pyplot as plt"
      ],
      "metadata": {
        "id": "3o3-94bZxwn4"
      },
      "execution_count": 14,
      "outputs": []
    },
    {
      "cell_type": "code",
      "source": [
        "plt.plot(epochs,original_val_loss, 'b+', label = 'Original model')\n",
        "plt.plot(epochs,smaller_model_val_loss, 'bo', label = 'Smaller model')\n",
        "plt.xlabel(\"Epochs\")\n",
        "plt.ylabel(\"Validation loss\")\n",
        "plt.legend\n",
        "plt.show()"
      ],
      "metadata": {
        "colab": {
          "base_uri": "https://localhost:8080/",
          "height": 279
        },
        "id": "NAaFiDqsyJ04",
        "outputId": "558e6384-e5da-4686-b62c-300fe767504d"
      },
      "execution_count": 15,
      "outputs": [
        {
          "output_type": "display_data",
          "data": {
            "text/plain": [
              "<Figure size 432x288 with 1 Axes>"
            ],
            "image/png": "[encoded data removed]"
          },
          "metadata": {
            "needs_background": "light"
          }
        }
      ]
    },
    {
      "cell_type": "code",
      "source": [
        "bigger_model = models.Sequential()\n",
        "bigger_model.add(layers.Dense(1024,activation='relu',input_shape = (10000, )))\n",
        "bigger_model.add(layers.Dense(1024,activation='relu'))\n",
        "bigger_model.add(layers.Dense(1,activation='sigmoid'))\n",
        "bigger_model.compile(optimizer='rmsprop', loss = 'binary_crossentropy', metrics=['acc'])\n",
        "bigger_history = bigger_model.fit(x_train,y_train,epochs=20,batch_size=512,validation_data=(x_test,y_test))"
      ],
      "metadata": {
        "colab": {
          "base_uri": "https://localhost:8080/"
        },
        "id": "JlDc2lttylGY",
        "outputId": "e7a8012d-9583-457a-95a6-fecd75a3b04a"
      },
      "execution_count": 16,
      "outputs": [
        {
          "output_type": "stream",
          "name": "stdout",
          "text": [
            "Epoch 1/20\n",
            "49/49 [==============================] - 44s 895ms/step - loss: 0.5267 - acc: 0.7886 - val_loss: 0.3413 - val_acc: 0.8579\n",
            "Epoch 2/20\n",
            "49/49 [==============================] - 33s 685ms/step - loss: 0.2306 - acc: 0.9091 - val_loss: 0.2719 - val_acc: 0.8895\n",
            "Epoch 3/20\n",
            "49/49 [==============================] - 34s 704ms/step - loss: 0.1189 - acc: 0.9573 - val_loss: 0.4023 - val_acc: 0.8692\n",
            "Epoch 4/20\n",
            "49/49 [==============================] - 33s 685ms/step - loss: 0.0731 - acc: 0.9826 - val_loss: 0.4409 - val_acc: 0.8834\n",
            "Epoch 5/20\n",
            "49/49 [==============================] - 33s 684ms/step - loss: 0.1384 - acc: 0.9840 - val_loss: 0.4328 - val_acc: 0.8767\n",
            "Epoch 6/20\n",
            "49/49 [==============================] - 33s 685ms/step - loss: 0.0017 - acc: 0.9999 - val_loss: 0.6276 - val_acc: 0.8836\n",
            "Epoch 7/20\n",
            "49/49 [==============================] - 33s 685ms/step - loss: 1.1508e-04 - acc: 1.0000 - val_loss: 1.0116 - val_acc: 0.8629\n",
            "Epoch 8/20\n",
            "49/49 [==============================] - 33s 684ms/step - loss: 0.1980 - acc: 0.9870 - val_loss: 0.6822 - val_acc: 0.8814\n",
            "Epoch 9/20\n",
            "49/49 [==============================] - 33s 684ms/step - loss: 3.5066e-04 - acc: 1.0000 - val_loss: 0.7708 - val_acc: 0.8824\n",
            "Epoch 10/20\n",
            "49/49 [==============================] - 33s 686ms/step - loss: 7.6542e-06 - acc: 1.0000 - val_loss: 0.8664 - val_acc: 0.8810\n",
            "Epoch 11/20\n",
            "49/49 [==============================] - 35s 711ms/step - loss: 1.4154e-06 - acc: 1.0000 - val_loss: 0.9916 - val_acc: 0.8813\n",
            "Epoch 12/20\n",
            "49/49 [==============================] - 34s 701ms/step - loss: 2.5788e-07 - acc: 1.0000 - val_loss: 1.1212 - val_acc: 0.8824\n",
            "Epoch 13/20\n",
            "49/49 [==============================] - 33s 686ms/step - loss: 5.4976e-08 - acc: 1.0000 - val_loss: 1.2304 - val_acc: 0.8822\n",
            "Epoch 14/20\n",
            "49/49 [==============================] - 33s 687ms/step - loss: 1.9616e-08 - acc: 1.0000 - val_loss: 1.2864 - val_acc: 0.8822\n",
            "Epoch 15/20\n",
            "49/49 [==============================] - 33s 684ms/step - loss: 1.1025e-08 - acc: 1.0000 - val_loss: 1.3206 - val_acc: 0.8820\n",
            "Epoch 16/20\n",
            "49/49 [==============================] - 33s 684ms/step - loss: 7.6723e-09 - acc: 1.0000 - val_loss: 1.3440 - val_acc: 0.8822\n",
            "Epoch 17/20\n",
            "49/49 [==============================] - 33s 684ms/step - loss: 5.9379e-09 - acc: 1.0000 - val_loss: 1.3606 - val_acc: 0.8821\n",
            "Epoch 18/20\n",
            "49/49 [==============================] - 33s 684ms/step - loss: 4.8368e-09 - acc: 1.0000 - val_loss: 1.3756 - val_acc: 0.8822\n",
            "Epoch 19/20\n",
            "49/49 [==============================] - 33s 683ms/step - loss: 4.1111e-09 - acc: 1.0000 - val_loss: 1.3866 - val_acc: 0.8821\n",
            "Epoch 20/20\n",
            "49/49 [==============================] - 34s 697ms/step - loss: 3.5697e-09 - acc: 1.0000 - val_loss: 1.3967 - val_acc: 0.8820\n"
          ]
        }
      ]
    },
    {
      "cell_type": "code",
      "source": [
        "bigger_model_val_loss = bigger_history.history['val_loss']\n",
        "plt.plot(epochs,original_val_loss, 'b+', label = 'Original model')\n",
        "plt.plot(epochs,bigger_model_val_loss, 'bo', label = 'bigger model')\n",
        "plt.xlabel(\"Epochs\")\n",
        "plt.ylabel(\"Validation loss\")\n",
        "plt.legend\n",
        "plt.show()"
      ],
      "metadata": {
        "colab": {
          "base_uri": "https://localhost:8080/",
          "height": 279
        },
        "id": "ibz5NeCazgQw",
        "outputId": "d530fef8-9a69-474b-8596-04a7af6b21df"
      },
      "execution_count": 17,
      "outputs": [
        {
          "output_type": "display_data",
          "data": {
            "text/plain": [
              "<Figure size 432x288 with 1 Axes>"
            ],
            "image/png": "[encoded data removed]"
          },
          "metadata": {
            "needs_background": "light"
          }
        }
      ]
    },
    {
      "cell_type": "code",
      "source": [
        "#훈련손실\n",
        "original_train_loss = history.history['loss']\n",
        "bigger_train_loss = bigger_history.history['loss']\n",
        "plt.plot(epochs,original_train_loss, 'b+', label = 'Original model')\n",
        "plt.plot(epochs,bigger_train_loss, 'bo', label = 'bigger model')\n",
        "plt.xlabel(\"Epochs\")\n",
        "plt.ylabel(\"Training loss\")\n",
        "plt.legend\n",
        "plt.show()"
      ],
      "metadata": {
        "colab": {
          "base_uri": "https://localhost:8080/",
          "height": 279
        },
        "id": "S1Dy3iCW4Osg",
        "outputId": "dfb2d5b0-34e3-407a-9879-206a9cedd53e"
      },
      "execution_count": 18,
      "outputs": [
        {
          "output_type": "display_data",
          "data": {
            "text/plain": [
              "<Figure size 432x288 with 1 Axes>"
            ],
            "image/png": "[encoded data removed]"
          },
          "metadata": {
            "needs_background": "light"
          }
        }
      ]
    },
    {
      "cell_type": "code",
      "source": [
        "# 용량이 큰 네트워크는 훈련 손실이 빠르게 0에 까깝게 진행된다.... 즉 용량이 많을 수록 더 빠르게 훈련이 가능하나\n",
        "# 그만큼 과대적합에 민감하게 작용한다.\n",
        "\n",
        "# L1규제 : 가중치의 절대값에 비례하는 비용이 추가\n",
        "# L2규제 : 가중치의 제곱에 비럐하는 비용이 추가, 가중치 감쇠라고도 함"
      ],
      "metadata": {
        "id": "ukeg6ZDy42NI"
      },
      "execution_count": 19,
      "outputs": []
    },
    {
      "cell_type": "code",
      "source": [
        "from keras import models\n",
        "from keras import layers\n",
        "from keras import regularizers\n",
        "l2_model =  models.Sequential()\n",
        "l2_model.add(layers.Dense(16, kernel_regularizer=regularizers.l2(0.001), activation='relu', input_shape=(10000,) ))\n",
        "l2_model.add(layers.Dense(16, kernel_regularizer=regularizers.l2(0.001), activation='relu' ))\n",
        "l2_model.add(layers.Dense(1, kernel_regularizer=regularizers.l2(0.001), activation='sigmoid' ))\n",
        "l2_model.compile(optimizer = 'rmsprop', loss=\"binary_crossentropy\", metrics=['acc'])"
      ],
      "metadata": {
        "id": "Qgisksbr5zE4"
      },
      "execution_count": 7,
      "outputs": []
    },
    {
      "cell_type": "code",
      "source": [
        "# 메모리 해제\n",
        "from keras import backend as K\n",
        "K.clear_session()\n",
        "l2_model_history = l2_model.fit(x_train,y_train,epochs=20,batch_size=512,validation_data=(x_test,y_test))"
      ],
      "metadata": {
        "colab": {
          "base_uri": "https://localhost:8080/"
        },
        "id": "oQts9qcq6smy",
        "outputId": "880e8266-b4d5-4acc-f65b-778ca59ffa01"
      },
      "execution_count": 8,
      "outputs": [
        {
          "output_type": "stream",
          "name": "stdout",
          "text": [
            "Epoch 1/20\n",
            "49/49 [==============================] - 4s 56ms/step - loss: 0.5449 - acc: 0.8190 - val_loss: 0.4356 - val_acc: 0.8706\n",
            "Epoch 2/20\n",
            "49/49 [==============================] - 2s 41ms/step - loss: 0.3563 - acc: 0.8978 - val_loss: 0.3522 - val_acc: 0.8885\n",
            "Epoch 3/20\n",
            "49/49 [==============================] - 2s 42ms/step - loss: 0.2947 - acc: 0.9140 - val_loss: 0.3355 - val_acc: 0.8888\n",
            "Epoch 4/20\n",
            "49/49 [==============================] - 2s 42ms/step - loss: 0.2671 - acc: 0.9234 - val_loss: 0.3358 - val_acc: 0.8872\n",
            "Epoch 5/20\n",
            "49/49 [==============================] - 2s 42ms/step - loss: 0.2513 - acc: 0.9298 - val_loss: 0.3434 - val_acc: 0.8833\n",
            "Epoch 6/20\n",
            "49/49 [==============================] - 2s 42ms/step - loss: 0.2433 - acc: 0.9315 - val_loss: 0.3468 - val_acc: 0.8811\n",
            "Epoch 7/20\n",
            "49/49 [==============================] - 2s 42ms/step - loss: 0.2338 - acc: 0.9376 - val_loss: 0.3734 - val_acc: 0.8743\n",
            "Epoch 8/20\n",
            "49/49 [==============================] - 2s 42ms/step - loss: 0.2300 - acc: 0.9390 - val_loss: 0.3595 - val_acc: 0.8808\n",
            "Epoch 9/20\n",
            "49/49 [==============================] - 2s 41ms/step - loss: 0.2246 - acc: 0.9414 - val_loss: 0.3601 - val_acc: 0.8812\n",
            "Epoch 10/20\n",
            "49/49 [==============================] - 2s 42ms/step - loss: 0.2194 - acc: 0.9423 - val_loss: 0.3662 - val_acc: 0.8781\n",
            "Epoch 11/20\n",
            "49/49 [==============================] - 2s 41ms/step - loss: 0.2185 - acc: 0.9437 - val_loss: 0.3767 - val_acc: 0.8756\n",
            "Epoch 12/20\n",
            "49/49 [==============================] - 2s 41ms/step - loss: 0.2135 - acc: 0.9441 - val_loss: 0.3797 - val_acc: 0.8742\n",
            "Epoch 13/20\n",
            "49/49 [==============================] - 2s 42ms/step - loss: 0.2123 - acc: 0.9446 - val_loss: 0.3964 - val_acc: 0.8697\n",
            "Epoch 14/20\n",
            "49/49 [==============================] - 2s 42ms/step - loss: 0.2062 - acc: 0.9476 - val_loss: 0.3993 - val_acc: 0.8693\n",
            "Epoch 15/20\n",
            "49/49 [==============================] - 2s 42ms/step - loss: 0.2069 - acc: 0.9471 - val_loss: 0.3881 - val_acc: 0.8737\n",
            "Epoch 16/20\n",
            "49/49 [==============================] - 2s 41ms/step - loss: 0.2038 - acc: 0.9470 - val_loss: 0.3988 - val_acc: 0.8714\n",
            "Epoch 17/20\n",
            "49/49 [==============================] - 2s 42ms/step - loss: 0.1999 - acc: 0.9504 - val_loss: 0.4016 - val_acc: 0.8711\n",
            "Epoch 18/20\n",
            "49/49 [==============================] - 2s 42ms/step - loss: 0.2005 - acc: 0.9489 - val_loss: 0.4003 - val_acc: 0.8703\n",
            "Epoch 19/20\n",
            "49/49 [==============================] - 3s 60ms/step - loss: 0.1969 - acc: 0.9514 - val_loss: 0.4082 - val_acc: 0.8695\n",
            "Epoch 20/20\n",
            "49/49 [==============================] - 2s 46ms/step - loss: 0.1930 - acc: 0.9525 - val_loss: 0.4538 - val_acc: 0.8608\n"
          ]
        }
      ]
    },
    {
      "cell_type": "code",
      "source": [
        "orginal_model = models.Sequential()\n",
        "orginal_model.add(layers.Dense(16,activation='relu',input_shape = (10000, )))\n",
        "orginal_model.add(layers.Dense(16,activation='relu'))\n",
        "orginal_model.add(layers.Dense(1,activation='sigmoid'))\n",
        "orginal_model.compile(optimizer='rmsprop', loss = 'binary_crossentropy', metrics=['acc'])\n",
        "orginal_history = orginal_model.fit(x_train,y_train,epochs=20,batch_size=512,validation_data=(x_test,y_test))"
      ],
      "metadata": {
        "colab": {
          "base_uri": "https://localhost:8080/"
        },
        "id": "BZlkK0-7-tv4",
        "outputId": "4f521fa1-76f7-4f2c-ef13-c7eee0ab8993"
      },
      "execution_count": 16,
      "outputs": [
        {
          "output_type": "stream",
          "name": "stdout",
          "text": [
            "Epoch 1/20\n",
            "49/49 [==============================] - 3s 55ms/step - loss: 0.4825 - acc: 0.8003 - val_loss: 0.3546 - val_acc: 0.8776\n",
            "Epoch 2/20\n",
            "49/49 [==============================] - 2s 42ms/step - loss: 0.2740 - acc: 0.9083 - val_loss: 0.2904 - val_acc: 0.8883\n",
            "Epoch 3/20\n",
            "49/49 [==============================] - 2s 43ms/step - loss: 0.2085 - acc: 0.9271 - val_loss: 0.2823 - val_acc: 0.8880\n",
            "Epoch 4/20\n",
            "49/49 [==============================] - 2s 42ms/step - loss: 0.1733 - acc: 0.9386 - val_loss: 0.2895 - val_acc: 0.8856\n",
            "Epoch 5/20\n",
            "49/49 [==============================] - 2s 43ms/step - loss: 0.1483 - acc: 0.9492 - val_loss: 0.3045 - val_acc: 0.8816\n",
            "Epoch 6/20\n",
            "49/49 [==============================] - 2s 42ms/step - loss: 0.1264 - acc: 0.9574 - val_loss: 0.3503 - val_acc: 0.8696\n",
            "Epoch 7/20\n",
            "49/49 [==============================] - 2s 42ms/step - loss: 0.1110 - acc: 0.9623 - val_loss: 0.3803 - val_acc: 0.8645\n",
            "Epoch 8/20\n",
            "49/49 [==============================] - 2s 42ms/step - loss: 0.0951 - acc: 0.9690 - val_loss: 0.3712 - val_acc: 0.8712\n",
            "Epoch 9/20\n",
            "49/49 [==============================] - 2s 42ms/step - loss: 0.0799 - acc: 0.9755 - val_loss: 0.4066 - val_acc: 0.8666\n",
            "Epoch 10/20\n",
            "49/49 [==============================] - 2s 43ms/step - loss: 0.0693 - acc: 0.9789 - val_loss: 0.4337 - val_acc: 0.8652\n",
            "Epoch 11/20\n",
            "49/49 [==============================] - 2s 42ms/step - loss: 0.0570 - acc: 0.9840 - val_loss: 0.4746 - val_acc: 0.8609\n",
            "Epoch 12/20\n",
            "49/49 [==============================] - 2s 42ms/step - loss: 0.0491 - acc: 0.9861 - val_loss: 0.4940 - val_acc: 0.8619\n",
            "Epoch 13/20\n",
            "49/49 [==============================] - 2s 41ms/step - loss: 0.0391 - acc: 0.9894 - val_loss: 0.5230 - val_acc: 0.8607\n",
            "Epoch 14/20\n",
            "49/49 [==============================] - 2s 42ms/step - loss: 0.0320 - acc: 0.9915 - val_loss: 0.5864 - val_acc: 0.8537\n",
            "Epoch 15/20\n",
            "49/49 [==============================] - 2s 42ms/step - loss: 0.0275 - acc: 0.9934 - val_loss: 0.5990 - val_acc: 0.8574\n",
            "Epoch 16/20\n",
            "49/49 [==============================] - 2s 42ms/step - loss: 0.0212 - acc: 0.9951 - val_loss: 0.6345 - val_acc: 0.8558\n",
            "Epoch 17/20\n",
            "49/49 [==============================] - 2s 42ms/step - loss: 0.0160 - acc: 0.9965 - val_loss: 0.6642 - val_acc: 0.8566\n",
            "Epoch 18/20\n",
            "49/49 [==============================] - 2s 43ms/step - loss: 0.0130 - acc: 0.9978 - val_loss: 0.7485 - val_acc: 0.8520\n",
            "Epoch 19/20\n",
            "49/49 [==============================] - 2s 44ms/step - loss: 0.0114 - acc: 0.9976 - val_loss: 0.7550 - val_acc: 0.8539\n",
            "Epoch 20/20\n",
            "49/49 [==============================] - 2s 42ms/step - loss: 0.0094 - acc: 0.9980 - val_loss: 0.7953 - val_acc: 0.8535\n"
          ]
        }
      ]
    },
    {
      "cell_type": "code",
      "source": [
        "import matplotlib.pyplot as plt\n",
        "epochs = range(1,21)\n",
        "original_val_loss = orginal_history.history['val_loss']\n",
        "l2_model_val_loss = l2_model_history.history['val_loss']\n",
        "\n",
        "plt.plot(epochs,original_val_loss, 'b+', label = 'orginal_model')\n",
        "plt.plot(epochs,l2_model_val_loss, 'bo', label = 'l2_model')\n",
        "plt.xlabel(\"Epochs\")\n",
        "plt.ylabel(\"Validation loss\")\n",
        "plt.legend\n",
        "plt.show()"
      ],
      "metadata": {
        "colab": {
          "base_uri": "https://localhost:8080/",
          "height": 279
        },
        "id": "k1lzevoL7IlR",
        "outputId": "a2aa6fc2-5429-4487-8914-891a11bea03a"
      },
      "execution_count": 17,
      "outputs": [
        {
          "output_type": "display_data",
          "data": {
            "text/plain": [
              "<Figure size 432x288 with 1 Axes>"
            ],
            "image/png": "[encoded data removed]"
          },
          "metadata": {
            "needs_background": "light"
          }
        }
      ]
    },
    {
      "cell_type": "code",
      "source": [
        "from keras import regularizers\n",
        "#L1 규제\n",
        "regularizers.l1(0.001)\n",
        "\n",
        "# L1과 L2규제 동시 사용하기\n",
        "regularizers.l1_l2(l1=0.001, l2=0.001)"
      ],
      "metadata": {
        "id": "hvYaCgql8My7"
      },
      "execution_count": 14,
      "outputs": []
    },
    {
      "cell_type": "code",
      "source": [
        "l1_model =  models.Sequential()\n",
        "l1_model.add(layers.Dense(16, kernel_regularizer=regularizers.l1(0.001), activation='relu', input_shape=(10000,) ))\n",
        "l1_model.add(layers.Dense(16, kernel_regularizer=regularizers.l1(0.001), activation='relu' ))\n",
        "l1_model.add(layers.Dense(1, kernel_regularizer=regularizers.l1(0.001), activation='sigmoid' ))\n",
        "l1_model.compile(optimizer = 'rmsprop', loss=\"binary_crossentropy\", metrics=['acc'])\n",
        "l1_model_history = l1_model.fit(x_train,y_train,epochs=20,batch_size=512,validation_data=(x_test,y_test))"
      ],
      "metadata": {
        "colab": {
          "base_uri": "https://localhost:8080/"
        },
        "id": "xoXFHCLY8NTI",
        "outputId": "e6240960-31c8-42c8-a950-3dc6b7532a41"
      },
      "execution_count": 15,
      "outputs": [
        {
          "output_type": "stream",
          "name": "stdout",
          "text": [
            "Epoch 1/20\n",
            "49/49 [==============================] - 3s 55ms/step - loss: 0.9261 - acc: 0.7698 - val_loss: 0.6925 - val_acc: 0.7944\n",
            "Epoch 2/20\n",
            "49/49 [==============================] - 2s 42ms/step - loss: 0.6254 - acc: 0.8517 - val_loss: 0.6136 - val_acc: 0.8482\n",
            "Epoch 3/20\n",
            "49/49 [==============================] - 2s 42ms/step - loss: 0.5854 - acc: 0.8596 - val_loss: 0.5871 - val_acc: 0.8549\n",
            "Epoch 4/20\n",
            "49/49 [==============================] - 2s 43ms/step - loss: 0.5608 - acc: 0.8636 - val_loss: 0.5988 - val_acc: 0.8406\n",
            "Epoch 5/20\n",
            "49/49 [==============================] - 2s 44ms/step - loss: 0.5465 - acc: 0.8714 - val_loss: 0.5421 - val_acc: 0.8684\n",
            "Epoch 6/20\n",
            "49/49 [==============================] - 2s 42ms/step - loss: 0.5325 - acc: 0.8719 - val_loss: 0.5393 - val_acc: 0.8657\n",
            "Epoch 7/20\n",
            "49/49 [==============================] - 2s 42ms/step - loss: 0.5254 - acc: 0.8725 - val_loss: 0.5256 - val_acc: 0.8718\n",
            "Epoch 8/20\n",
            "49/49 [==============================] - 2s 50ms/step - loss: 0.5142 - acc: 0.8778 - val_loss: 0.5180 - val_acc: 0.8751\n",
            "Epoch 9/20\n",
            "49/49 [==============================] - 2s 42ms/step - loss: 0.5057 - acc: 0.8789 - val_loss: 0.5196 - val_acc: 0.8716\n",
            "Epoch 10/20\n",
            "49/49 [==============================] - 2s 42ms/step - loss: 0.5012 - acc: 0.8804 - val_loss: 0.5067 - val_acc: 0.8765\n",
            "Epoch 11/20\n",
            "49/49 [==============================] - 2s 42ms/step - loss: 0.4911 - acc: 0.8847 - val_loss: 0.5030 - val_acc: 0.8772\n",
            "Epoch 12/20\n",
            "49/49 [==============================] - 2s 44ms/step - loss: 0.4887 - acc: 0.8853 - val_loss: 0.5034 - val_acc: 0.8766\n",
            "Epoch 13/20\n",
            "49/49 [==============================] - 2s 42ms/step - loss: 0.4779 - acc: 0.8886 - val_loss: 0.5242 - val_acc: 0.8620\n",
            "Epoch 14/20\n",
            "49/49 [==============================] - 2s 43ms/step - loss: 0.4743 - acc: 0.8892 - val_loss: 0.4966 - val_acc: 0.8769\n",
            "Epoch 15/20\n",
            "49/49 [==============================] - 2s 43ms/step - loss: 0.4690 - acc: 0.8912 - val_loss: 0.4889 - val_acc: 0.8799\n",
            "Epoch 16/20\n",
            "49/49 [==============================] - 2s 42ms/step - loss: 0.4651 - acc: 0.8922 - val_loss: 0.4958 - val_acc: 0.8739\n",
            "Epoch 17/20\n",
            "49/49 [==============================] - 2s 43ms/step - loss: 0.4604 - acc: 0.8928 - val_loss: 0.4962 - val_acc: 0.8728\n",
            "Epoch 18/20\n",
            "49/49 [==============================] - 2s 42ms/step - loss: 0.4605 - acc: 0.8926 - val_loss: 0.4867 - val_acc: 0.8807\n",
            "Epoch 19/20\n",
            "49/49 [==============================] - 2s 43ms/step - loss: 0.4538 - acc: 0.8946 - val_loss: 0.4951 - val_acc: 0.8719\n",
            "Epoch 20/20\n",
            "49/49 [==============================] - 2s 41ms/step - loss: 0.4517 - acc: 0.8964 - val_loss: 0.4825 - val_acc: 0.8814\n"
          ]
        }
      ]
    },
    {
      "cell_type": "code",
      "source": [
        "epochs = range(1,21)\n",
        "original_val_loss = orginal_history.history['val_loss']\n",
        "l1_model_val_loss = l1_model_history.history['val_loss']\n",
        "\n",
        "plt.plot(epochs,original_val_loss, 'b+', label = 'orginal_model')\n",
        "plt.plot(epochs,l1_model_val_loss, 'bo', label = 'l1_model')\n",
        "plt.xlabel(\"Epochs\")\n",
        "plt.ylabel(\"Validation loss\")\n",
        "plt.legend\n",
        "plt.show()"
      ],
      "metadata": {
        "colab": {
          "base_uri": "https://localhost:8080/",
          "height": 279
        },
        "id": "vbANAO6a-Uhx",
        "outputId": "538227bd-bc63-4908-ec9b-f16905f4063e"
      },
      "execution_count": 18,
      "outputs": [
        {
          "output_type": "display_data",
          "data": {
            "text/plain": [
              "<Figure size 432x288 with 1 Axes>"
            ],
            "image/png": "[encoded data removed]"
          },
          "metadata": {
            "needs_background": "light"
          }
        }
      ]
    },
    {
      "cell_type": "code",
      "source": [
        ""
      ],
      "metadata": {
        "id": "zr2Jok3UAzYe"
      },
      "execution_count": null,
      "outputs": []
    },
    {
      "cell_type": "code",
      "source": [
        "l1l2_model =  models.Sequential()\n",
        "l1l2_model.add(layers.Dense(16, kernel_regularizer=regularizers.l1_l2(l1=0.01, l2=0.01), activation='relu', input_shape=(10000,) ))\n",
        "l1l2_model.add(layers.Dense(16, kernel_regularizer=regularizers.l1_l2(l1=0.01, l2=0.01), activation='relu' ))\n",
        "l1l2_model.add(layers.Dense(1, kernel_regularizer=regularizers.l1_l2(l1=0.01, l2=0.01), activation='sigmoid' ))\n",
        "l1l2_model.compile(optimizer = 'rmsprop', loss=\"binary_crossentropy\", metrics=['acc'])\n",
        "l1l2_model_history = l1l2_model.fit(x_train,y_train,epochs=20,batch_size=512,validation_data=(x_test,y_test))"
      ],
      "metadata": {
        "colab": {
          "base_uri": "https://localhost:8080/"
        },
        "id": "jy4c_Kxj_i25",
        "outputId": "0d291f69-216c-44ac-ff48-bba406481bff"
      },
      "execution_count": 21,
      "outputs": [
        {
          "output_type": "stream",
          "name": "stdout",
          "text": [
            "Epoch 1/20\n",
            "49/49 [==============================] - 4s 75ms/step - loss: 3.9620 - acc: 0.5924 - val_loss: 2.0965 - val_acc: 0.7256\n",
            "Epoch 2/20\n",
            "49/49 [==============================] - 2s 45ms/step - loss: 2.0085 - acc: 0.6776 - val_loss: 1.9240 - val_acc: 0.7002\n",
            "Epoch 3/20\n",
            "49/49 [==============================] - 2s 44ms/step - loss: 1.8717 - acc: 0.6773 - val_loss: 1.8204 - val_acc: 0.6438\n",
            "Epoch 4/20\n",
            "49/49 [==============================] - 2s 44ms/step - loss: 1.7606 - acc: 0.6452 - val_loss: 1.7030 - val_acc: 0.6188\n",
            "Epoch 5/20\n",
            "49/49 [==============================] - 2s 43ms/step - loss: 1.6718 - acc: 0.6107 - val_loss: 1.6408 - val_acc: 0.6181\n",
            "Epoch 6/20\n",
            "49/49 [==============================] - 2s 43ms/step - loss: 1.6027 - acc: 0.5708 - val_loss: 1.5668 - val_acc: 0.5000\n",
            "Epoch 7/20\n",
            "49/49 [==============================] - 2s 44ms/step - loss: 1.5507 - acc: 0.5130 - val_loss: 1.5354 - val_acc: 0.5004\n",
            "Epoch 8/20\n",
            "49/49 [==============================] - 2s 44ms/step - loss: 1.5171 - acc: 0.5038 - val_loss: 1.5017 - val_acc: 0.5000\n",
            "Epoch 9/20\n",
            "49/49 [==============================] - 2s 44ms/step - loss: 1.5007 - acc: 0.4993 - val_loss: 1.5020 - val_acc: 0.5000\n",
            "Epoch 10/20\n",
            "49/49 [==============================] - 2s 44ms/step - loss: 1.4971 - acc: 0.5000 - val_loss: 1.4925 - val_acc: 0.5000\n",
            "Epoch 11/20\n",
            "49/49 [==============================] - 2s 44ms/step - loss: 1.4955 - acc: 0.5000 - val_loss: 1.4984 - val_acc: 0.5000\n",
            "Epoch 12/20\n",
            "49/49 [==============================] - 2s 45ms/step - loss: 1.4950 - acc: 0.5000 - val_loss: 1.4919 - val_acc: 0.5000\n",
            "Epoch 13/20\n",
            "49/49 [==============================] - 2s 44ms/step - loss: 1.4949 - acc: 0.5000 - val_loss: 1.4977 - val_acc: 0.5000\n",
            "Epoch 14/20\n",
            "49/49 [==============================] - 2s 44ms/step - loss: 1.4950 - acc: 0.4995 - val_loss: 1.4924 - val_acc: 0.5000\n",
            "Epoch 15/20\n",
            "49/49 [==============================] - 2s 44ms/step - loss: 1.4949 - acc: 0.4974 - val_loss: 1.4972 - val_acc: 0.5000\n",
            "Epoch 16/20\n",
            "49/49 [==============================] - 2s 45ms/step - loss: 1.4950 - acc: 0.4936 - val_loss: 1.4928 - val_acc: 0.5000\n",
            "Epoch 17/20\n",
            "49/49 [==============================] - 2s 45ms/step - loss: 1.4949 - acc: 0.4957 - val_loss: 1.4968 - val_acc: 0.5000\n",
            "Epoch 18/20\n",
            "49/49 [==============================] - 2s 44ms/step - loss: 1.4950 - acc: 0.4991 - val_loss: 1.4932 - val_acc: 0.5000\n",
            "Epoch 19/20\n",
            "49/49 [==============================] - 2s 44ms/step - loss: 1.4949 - acc: 0.4984 - val_loss: 1.4965 - val_acc: 0.5000\n",
            "Epoch 20/20\n",
            "49/49 [==============================] - 2s 44ms/step - loss: 1.4949 - acc: 0.4981 - val_loss: 1.4935 - val_acc: 0.5000\n"
          ]
        }
      ]
    },
    {
      "cell_type": "code",
      "source": [
        "epochs = range(1,21)\n",
        "original_val_loss = orginal_history.history['val_loss']\n",
        "l1l2_model_val_loss = l1l2_model_history.history['val_loss']\n",
        "\n",
        "plt.plot(epochs,original_val_loss, 'b+', label = 'orginal_model')\n",
        "plt.plot(epochs,l1l2_model_val_loss, 'bo', label = 'l1_model')\n",
        "plt.xlabel(\"Epochs\")\n",
        "plt.ylabel(\"Validation loss\")\n",
        "plt.legend\n",
        "plt.show()"
      ],
      "metadata": {
        "colab": {
          "base_uri": "https://localhost:8080/",
          "height": 279
        },
        "id": "7SRPDAN4_9di",
        "outputId": "5aeae02b-fc46-432f-ef6e-b6b2bc6c8801"
      },
      "execution_count": 22,
      "outputs": [
        {
          "output_type": "display_data",
          "data": {
            "text/plain": [
              "<Figure size 432x288 with 1 Axes>"
            ],
            "image/png": "[encoded data removed]"
          },
          "metadata": {
            "needs_background": "light"
          }
        }
      ]
    },
    {
      "cell_type": "code",
      "source": [
        "#  드랍아웃의 비율은 0.2 ~ 0.5\n",
        "\n",
        "do_model =  models.Sequential()\n",
        "do_model.add(layers.Dense(16,  activation='relu', input_shape=(10000,) ))\n",
        "do_model.add(layers.Dropout(0.5))\n",
        "do_model.add(layers.Dense(16,  activation='relu' ))\n",
        "do_model.add(layers.Dropout(0.5))\n",
        "do_model.add(layers.Dense(1,  activation='sigmoid' ))\n",
        "do_model.compile(optimizer = 'rmsprop', loss=\"binary_crossentropy\", metrics=['acc'])\n",
        "do_model_history = do_model.fit(x_train,y_train,epochs=20,batch_size=512,validation_data=(x_test,y_test))"
      ],
      "metadata": {
        "colab": {
          "base_uri": "https://localhost:8080/"
        },
        "id": "n5rkMvByALLQ",
        "outputId": "a3e50b19-2554-4bd9-93fc-3d82a24bdb9d"
      },
      "execution_count": 8,
      "outputs": [
        {
          "output_type": "stream",
          "name": "stdout",
          "text": [
            "Epoch 1/20\n",
            "49/49 [==============================] - 4s 53ms/step - loss: 0.6053 - acc: 0.6726 - val_loss: 0.4721 - val_acc: 0.8630\n",
            "Epoch 2/20\n",
            "49/49 [==============================] - 3s 68ms/step - loss: 0.4664 - acc: 0.7997 - val_loss: 0.3608 - val_acc: 0.8816\n",
            "Epoch 3/20\n",
            "49/49 [==============================] - 3s 67ms/step - loss: 0.3790 - acc: 0.8536 - val_loss: 0.3050 - val_acc: 0.8882\n",
            "Epoch 4/20\n",
            "49/49 [==============================] - 3s 69ms/step - loss: 0.3202 - acc: 0.8862 - val_loss: 0.2977 - val_acc: 0.8813\n",
            "Epoch 5/20\n",
            "49/49 [==============================] - 2s 41ms/step - loss: 0.2748 - acc: 0.9037 - val_loss: 0.2771 - val_acc: 0.8907\n",
            "Epoch 6/20\n",
            "49/49 [==============================] - 2s 42ms/step - loss: 0.2464 - acc: 0.9144 - val_loss: 0.2822 - val_acc: 0.8894\n",
            "Epoch 7/20\n",
            "49/49 [==============================] - 3s 58ms/step - loss: 0.2185 - acc: 0.9271 - val_loss: 0.2992 - val_acc: 0.8882\n",
            "Epoch 8/20\n",
            "49/49 [==============================] - 2s 43ms/step - loss: 0.1998 - acc: 0.9342 - val_loss: 0.3175 - val_acc: 0.8862\n",
            "Epoch 9/20\n",
            "49/49 [==============================] - 2s 42ms/step - loss: 0.1816 - acc: 0.9379 - val_loss: 0.3424 - val_acc: 0.8844\n",
            "Epoch 10/20\n",
            "49/49 [==============================] - 2s 41ms/step - loss: 0.1667 - acc: 0.9444 - val_loss: 0.3691 - val_acc: 0.8810\n",
            "Epoch 11/20\n",
            "49/49 [==============================] - 2s 41ms/step - loss: 0.1570 - acc: 0.9482 - val_loss: 0.3986 - val_acc: 0.8784\n",
            "Epoch 12/20\n",
            "49/49 [==============================] - 2s 41ms/step - loss: 0.1442 - acc: 0.9521 - val_loss: 0.3882 - val_acc: 0.8806\n",
            "Epoch 13/20\n",
            "49/49 [==============================] - 2s 42ms/step - loss: 0.1397 - acc: 0.9530 - val_loss: 0.3991 - val_acc: 0.8782\n",
            "Epoch 14/20\n",
            "49/49 [==============================] - 2s 42ms/step - loss: 0.1294 - acc: 0.9556 - val_loss: 0.4320 - val_acc: 0.8795\n",
            "Epoch 15/20\n",
            "49/49 [==============================] - 2s 42ms/step - loss: 0.1241 - acc: 0.9578 - val_loss: 0.4494 - val_acc: 0.8773\n",
            "Epoch 16/20\n",
            "49/49 [==============================] - 2s 42ms/step - loss: 0.1231 - acc: 0.9562 - val_loss: 0.4875 - val_acc: 0.8764\n",
            "Epoch 17/20\n",
            "49/49 [==============================] - 2s 43ms/step - loss: 0.1209 - acc: 0.9574 - val_loss: 0.4990 - val_acc: 0.8783\n",
            "Epoch 18/20\n",
            "49/49 [==============================] - 2s 42ms/step - loss: 0.1068 - acc: 0.9608 - val_loss: 0.5470 - val_acc: 0.8772\n",
            "Epoch 19/20\n",
            "49/49 [==============================] - 2s 42ms/step - loss: 0.1110 - acc: 0.9610 - val_loss: 0.5658 - val_acc: 0.8751\n",
            "Epoch 20/20\n",
            "49/49 [==============================] - 2s 40ms/step - loss: 0.1025 - acc: 0.9624 - val_loss: 0.5912 - val_acc: 0.8756\n"
          ]
        }
      ]
    },
    {
      "cell_type": "code",
      "source": [
        "import matplotlib.pyplot as plt\n",
        "\n",
        "epochs = range(1,21)\n",
        "original_val_loss = history.history['val_loss']\n",
        "ldo_model_val_loss = do_model_history.history['val_loss']\n",
        "\n",
        "plt.plot(epochs,original_val_loss, 'b+', label = 'orginal_model')\n",
        "plt.plot(epochs,ldo_model_val_loss, 'bo', label = 'DropOut_model')\n",
        "plt.xlabel(\"Epochs\")\n",
        "plt.ylabel(\"Validation loss\")\n",
        "plt.legend\n",
        "plt.show()"
      ],
      "metadata": {
        "colab": {
          "base_uri": "https://localhost:8080/",
          "height": 279
        },
        "id": "-l6qlhRuDPWl",
        "outputId": "c260b233-5c4a-4b45-9776-f8878f5bcd3e"
      },
      "execution_count": 11,
      "outputs": [
        {
          "output_type": "display_data",
          "data": {
            "text/plain": [
              "<Figure size 432x288 with 1 Axes>"
            ],
            "image/png": "[encoded data removed]"
          },
          "metadata": {
            "needs_background": "light"
          }
        }
      ]
    },
    {
      "cell_type": "code",
      "source": [
        "# 신경망에서 괴대적합을 방지하기 위해서는\n",
        "# 훈련데이터를 더 추출 또는 확보\n",
        "# 네트웍의 용량을 감소시킨다.\n",
        "# 가중치 규제를 추가\n",
        "# 드랍아웃을 추가"
      ],
      "metadata": {
        "id": "UbVsTctfGZGx"
      },
      "execution_count": null,
      "outputs": []
    }
  ]
}