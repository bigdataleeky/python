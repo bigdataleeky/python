{
 "cells": [
  {
   "cell_type": "code",
   "execution_count": 2,
   "id": "32944f88",
   "metadata": {},
   "outputs": [],
   "source": [
    "from tensorflow import keras"
   ]
  },
  {
   "cell_type": "code",
   "execution_count": 29,
   "id": "8a852763",
   "metadata": {},
   "outputs": [],
   "source": [
    "model = keras.models.load_model(\"best-cnn-model.h5\")"
   ]
  },
  {
   "cell_type": "code",
   "execution_count": 30,
   "id": "d7501cc1",
   "metadata": {},
   "outputs": [
    {
     "data": {
      "text/plain": [
       "[<keras.layers.convolutional.Conv2D at 0x2155772a0d0>,\n",
       " <keras.layers.pooling.MaxPooling2D at 0x21557746880>,\n",
       " <keras.layers.convolutional.Conv2D at 0x215525197f0>,\n",
       " <keras.layers.pooling.MaxPooling2D at 0x2155772a460>,\n",
       " <keras.layers.core.flatten.Flatten at 0x2155239ca00>,\n",
       " <keras.layers.core.dense.Dense at 0x2155239c250>,\n",
       " <keras.layers.core.dropout.Dropout at 0x21557743f70>,\n",
       " <keras.layers.core.dense.Dense at 0x215577dc850>]"
      ]
     },
     "execution_count": 30,
     "metadata": {},
     "output_type": "execute_result"
    }
   ],
   "source": [
    "model.layers"
   ]
  },
  {
   "cell_type": "code",
   "execution_count": 31,
   "id": "18d47b3c",
   "metadata": {},
   "outputs": [
    {
     "data": {
      "text/plain": [
       "TensorShape([3, 3, 1, 32])"
      ]
     },
     "execution_count": 31,
     "metadata": {},
     "output_type": "execute_result"
    }
   ],
   "source": [
    "conv_layer = model.layers[0]\n",
    "conv_layer.weights[0].shape # 커널에 적용된 가중치"
   ]
  },
  {
   "cell_type": "code",
   "execution_count": 32,
   "id": "87a821dd",
   "metadata": {},
   "outputs": [
    {
     "data": {
      "text/plain": [
       "TensorShape([32])"
      ]
     },
     "execution_count": 32,
     "metadata": {},
     "output_type": "execute_result"
    }
   ],
   "source": [
    "conv_layer.weights[1].shape  # 절편"
   ]
  },
  {
   "cell_type": "code",
   "execution_count": 33,
   "id": "508ad6be",
   "metadata": {},
   "outputs": [],
   "source": [
    "# 특성맵 시각화\n",
    "(x_train,y_train),(x_target,y_target)= keras.datasets.fashion_mnist.load_data()"
   ]
  },
  {
   "cell_type": "code",
   "execution_count": 34,
   "id": "0fde2ada",
   "metadata": {},
   "outputs": [
    {
     "data": {
      "image/png": "[encoded data removed]",
      "text/plain": [
       "<Figure size 432x288 with 1 Axes>"
      ]
     },
     "metadata": {
      "needs_background": "light"
     },
     "output_type": "display_data"
    }
   ],
   "source": [
    "import matplotlib.pyplot as plt\n",
    "plt.imshow(x_train[0],cmap='gray_r')\n",
    "plt.show()"
   ]
  },
  {
   "cell_type": "code",
   "execution_count": 19,
   "id": "b1ebc6b7",
   "metadata": {},
   "outputs": [],
   "source": [
    "# 위의 셈플을 Conv2D 층이 만드는 특성 맵을 출력\n",
    "\n",
    "# 신경망 모델 사용할때 Sequential 클래스를 사용 -- >층을 차례대로 모델을 쌓는데 사용\n",
    "# 본격적인 딥러닝을 사용하면 모델이 복잡해 지고.. Sequential클래스를 사용하기가 힘듦\n",
    "# 대안으로 나온것이 함수형 API "
   ]
  },
  {
   "cell_type": "code",
   "execution_count": 35,
   "id": "71ec32b4",
   "metadata": {},
   "outputs": [],
   "source": [
    "# 사용방법  Dense층이 2개인 완전연결 신경망을 함수형 api로 구현\n",
    "\n",
    "inputs = keras.Input(shape=(28*28,))\n",
    "dense1 = keras.layers.Dense(100,activation='relu')\n",
    "dense2 = keras.layers.Dense(10,activation='softmax')\n",
    "\n",
    "hidden =  dense1(inputs)\n",
    "outputs =  dense2(hidden)\n",
    "\n",
    "non_train_model = keras.Model(inputs,outputs)"
   ]
  },
  {
   "cell_type": "code",
   "execution_count": 36,
   "id": "1008a7e5",
   "metadata": {},
   "outputs": [
    {
     "data": {
      "text/plain": [
       "<KerasTensor: shape=(None, 28, 28, 1) dtype=float32 (created by layer 'conv2d_3_input')>"
      ]
     },
     "execution_count": 36,
     "metadata": {},
     "output_type": "execute_result"
    }
   ],
   "source": [
    "model.input"
   ]
  },
  {
   "cell_type": "code",
   "execution_count": 37,
   "id": "72e16ada",
   "metadata": {},
   "outputs": [
    {
     "data": {
      "text/plain": [
       "[<keras.layers.convolutional.Conv2D at 0x2155772a0d0>,\n",
       " <keras.layers.pooling.MaxPooling2D at 0x21557746880>,\n",
       " <keras.layers.convolutional.Conv2D at 0x215525197f0>,\n",
       " <keras.layers.pooling.MaxPooling2D at 0x2155772a460>,\n",
       " <keras.layers.core.flatten.Flatten at 0x2155239ca00>,\n",
       " <keras.layers.core.dense.Dense at 0x2155239c250>,\n",
       " <keras.layers.core.dropout.Dropout at 0x21557743f70>,\n",
       " <keras.layers.core.dense.Dense at 0x215577dc850>]"
      ]
     },
     "execution_count": 37,
     "metadata": {},
     "output_type": "execute_result"
    }
   ],
   "source": [
    "model.layers"
   ]
  },
  {
   "cell_type": "code",
   "execution_count": 38,
   "id": "9df207db",
   "metadata": {},
   "outputs": [
    {
     "data": {
      "text/plain": [
       "<KerasTensor: shape=(None, 28, 28, 32) dtype=float32 (created by layer 'conv2d_3')>"
      ]
     },
     "execution_count": 38,
     "metadata": {},
     "output_type": "execute_result"
    }
   ],
   "source": [
    "model.layers[0].output # 합성곱의 출력정보"
   ]
  },
  {
   "cell_type": "code",
   "execution_count": 39,
   "id": "40eea243",
   "metadata": {},
   "outputs": [],
   "source": [
    "concat_model =  keras.Model(model.input,model.layers[0].output )"
   ]
  },
  {
   "cell_type": "code",
   "execution_count": 42,
   "id": "0fa5b34b",
   "metadata": {},
   "outputs": [
    {
     "data": {
      "text/plain": [
       "(1, 28, 28, 32)"
      ]
     },
     "execution_count": 42,
     "metadata": {},
     "output_type": "execute_result"
    }
   ],
   "source": [
    "temp_input = x_train[:1].reshape(-1,28,28,1) / 255.0\n",
    "feature_map =  concat_model.predict(temp_input)\n",
    "feature_map.shape"
   ]
  },
  {
   "cell_type": "code",
   "execution_count": null,
   "id": "bab43a1a",
   "metadata": {},
   "outputs": [],
   "source": []
  }
 ],
 "metadata": {
  "kernelspec": {
   "display_name": "Python 3 (ipykernel)",
   "language": "python",
   "name": "python3"
  },
  "language_info": {
   "codemirror_mode": {
    "name": "ipython",
    "version": 3
   },
   "file_extension": ".py",
   "mimetype": "text/x-python",
   "name": "python",
   "nbconvert_exporter": "python",
   "pygments_lexer": "ipython3",
   "version": "3.9.7"
  }
 },
 "nbformat": 4,
 "nbformat_minor": 5
}
