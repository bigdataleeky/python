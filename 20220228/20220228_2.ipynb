{
 "cells": [
  {
   "cell_type": "code",
   "execution_count": 1,
   "id": "5f034944",
   "metadata": {},
   "outputs": [],
   "source": [
    "# k 최근접 알고리즘\n",
    "# 지도 학습 - 정답\n",
    "# 비지도 학습 - 정답\n",
    "# 머신러닝 : 지도학습 + 비지도학습\n",
    "# 길이, 무게  : 입력\n",
    "# 정답 : 타깃\n",
    "# 훈련데이터 : 입력 + 타깃\n",
    "\n",
    "# 올바른 학습.... 훈련데이터, 테스트데이터 분리."
   ]
  },
  {
   "cell_type": "code",
   "execution_count": 2,
   "id": "f5a7f083",
   "metadata": {},
   "outputs": [],
   "source": [
    "import random\n",
    "A_length = []\n",
    "A_weight = []\n",
    "for i in range(35):\n",
    "    A_length.append(random.uniform(20,45))\n",
    "    A_weight.append(random.uniform(200,950))\n",
    "A_length.sort()    \n",
    "A_weight.sort()\n",
    "\n",
    "B_length = []\n",
    "B_weight = []\n",
    "for i in range(14):\n",
    "    B_length.append(random.uniform(9,15))\n",
    "    B_weight.append(random.uniform(6,20))\n",
    "B_length.sort()    \n",
    "B_weight.sort()\n",
    "length = A_length+B_length\n",
    "weight = A_weight+B_weight"
   ]
  },
  {
   "cell_type": "code",
   "execution_count": 3,
   "id": "6361927b",
   "metadata": {},
   "outputs": [
    {
     "data": {
      "text/plain": [
       "[[20.90248826311637, 212.6191963854087],\n",
       " [21.405852653527127, 229.90106252582893],\n",
       " [22.232212062482954, 273.17239939263015],\n",
       " [22.457688215044545, 274.8354165332185],\n",
       " [22.656288231037763, 292.6722477840989],\n",
       " [23.34967445788172, 314.9138377961947],\n",
       " [24.474674274996296, 336.74522003403206],\n",
       " [25.01881648665737, 375.3198594920252],\n",
       " [25.836003127973196, 443.65938011789723],\n",
       " [29.431191948261052, 444.8625909168319]]"
      ]
     },
     "execution_count": 3,
     "metadata": {},
     "output_type": "execute_result"
    }
   ],
   "source": [
    "data = [ [l,w]  for l, w in zip(length, weight) ]\n",
    "data[:10]"
   ]
  },
  {
   "cell_type": "code",
   "execution_count": 4,
   "id": "1a3382ce",
   "metadata": {},
   "outputs": [],
   "source": [
    "target = [1]*35+[0]*14"
   ]
  },
  {
   "cell_type": "code",
   "execution_count": 5,
   "id": "ac0ba09a",
   "metadata": {},
   "outputs": [
    {
     "name": "stdout",
     "output_type": "stream",
     "text": [
      "49\n",
      "49\n"
     ]
    }
   ],
   "source": [
    "print(len(data))\n",
    "print(len(target))"
   ]
  },
  {
   "cell_type": "code",
   "execution_count": 26,
   "id": "0a660f80",
   "metadata": {},
   "outputs": [
    {
     "name": "stdout",
     "output_type": "stream",
     "text": [
      "39\n"
     ]
    }
   ],
   "source": [
    "# 8: 2로 데이터를 학습용과 테스트용으로 분리\n",
    "# index = int(len(data)*0.8)\n",
    "# print(index)\n",
    "train_input = data[:35]\n",
    "train_target = target[:35]\n",
    "\n",
    "test_input = data[35:]\n",
    "test_target = target[35:]"
   ]
  },
  {
   "cell_type": "code",
   "execution_count": 27,
   "id": "6abd3a5d",
   "metadata": {},
   "outputs": [
    {
     "data": {
      "text/plain": [
       "(35, 35)"
      ]
     },
     "execution_count": 27,
     "metadata": {},
     "output_type": "execute_result"
    }
   ],
   "source": [
    "len(train_input), len(train_target)"
   ]
  },
  {
   "cell_type": "code",
   "execution_count": 28,
   "id": "f8690188",
   "metadata": {},
   "outputs": [
    {
     "data": {
      "text/plain": [
       "(14, 14)"
      ]
     },
     "execution_count": 28,
     "metadata": {},
     "output_type": "execute_result"
    }
   ],
   "source": [
    "len(test_input), len(test_target)"
   ]
  },
  {
   "cell_type": "code",
   "execution_count": 29,
   "id": "0dc6d960",
   "metadata": {},
   "outputs": [],
   "source": [
    "from sklearn.neighbors import KNeighborsClassifier"
   ]
  },
  {
   "cell_type": "code",
   "execution_count": 30,
   "id": "35fa2048",
   "metadata": {},
   "outputs": [
    {
     "data": {
      "text/plain": [
       "0.0"
      ]
     },
     "execution_count": 30,
     "metadata": {},
     "output_type": "execute_result"
    }
   ],
   "source": [
    "kn =  KNeighborsClassifier()\n",
    "kn.fit(train_input,train_target)\n",
    "kn.score(test_input,test_target)"
   ]
  },
  {
   "cell_type": "code",
   "execution_count": 43,
   "id": "d9dba208",
   "metadata": {},
   "outputs": [],
   "source": [
    "# 넘파이를 이용해서 데이터를 생성\n",
    "import numpy as np\n",
    "input_arr =  np.array(data)\n",
    "target_arr = np.array(target)"
   ]
  },
  {
   "cell_type": "code",
   "execution_count": 44,
   "id": "7db77a04",
   "metadata": {},
   "outputs": [
    {
     "data": {
      "text/plain": [
       "(49, 2)"
      ]
     },
     "execution_count": 44,
     "metadata": {},
     "output_type": "execute_result"
    }
   ],
   "source": [
    "input_arr.shape"
   ]
  },
  {
   "cell_type": "code",
   "execution_count": 45,
   "id": "8b6be523",
   "metadata": {},
   "outputs": [
    {
     "data": {
      "text/plain": [
       "(49,)"
      ]
     },
     "execution_count": 45,
     "metadata": {},
     "output_type": "execute_result"
    }
   ],
   "source": [
    "target_arr.shape"
   ]
  },
  {
   "cell_type": "code",
   "execution_count": 95,
   "id": "71a525b8",
   "metadata": {},
   "outputs": [
    {
     "data": {
      "text/plain": [
       "array([41, 17, 47, 30, 24,  2,  9, 29, 13, 20, 27, 22, 38, 19, 16, 34, 12,\n",
       "       10, 43, 46, 21, 28, 31,  1, 18, 35,  5, 37,  3, 33,  6, 15, 23, 39,\n",
       "       26, 11, 25, 36,  7, 44, 40,  4, 14, 42, 32,  8,  0, 48, 45])"
      ]
     },
     "execution_count": 95,
     "metadata": {},
     "output_type": "execute_result"
    }
   ],
   "source": [
    "np.random.seed(50)\n",
    "index = np.arange(49)\n",
    "np.random.shuffle(index)\n",
    "index"
   ]
  },
  {
   "cell_type": "code",
   "execution_count": 96,
   "id": "61673add",
   "metadata": {},
   "outputs": [
    {
     "data": {
      "text/plain": [
       "numpy.ndarray"
      ]
     },
     "execution_count": 96,
     "metadata": {},
     "output_type": "execute_result"
    }
   ],
   "source": [
    "type(input_arr)"
   ]
  },
  {
   "cell_type": "code",
   "execution_count": 106,
   "id": "6449b717",
   "metadata": {},
   "outputs": [
    {
     "data": {
      "text/plain": [
       "(array([41, 17, 47, 30, 24,  2,  9, 29, 13, 20, 27, 22, 38, 19, 16, 34, 12,\n",
       "        10, 43, 46, 21, 28, 31,  1, 18, 35,  5, 37,  3, 33,  6, 15, 23, 39,\n",
       "        26]),\n",
       " array([11, 25, 36,  7, 44, 40,  4, 14, 42, 32,  8,  0, 48, 45]))"
      ]
     },
     "execution_count": 106,
     "metadata": {},
     "output_type": "execute_result"
    }
   ],
   "source": [
    "index[:35], index[35:]"
   ]
  },
  {
   "cell_type": "code",
   "execution_count": 107,
   "id": "d911bf78",
   "metadata": {},
   "outputs": [],
   "source": [
    "train_input = input_arr[index[:35]]\n",
    "train_target = target_arr[index[:35]] "
   ]
  },
  {
   "cell_type": "code",
   "execution_count": 112,
   "id": "145f851f",
   "metadata": {},
   "outputs": [
    {
     "data": {
      "text/plain": [
       "((35, 2), (35,))"
      ]
     },
     "execution_count": 112,
     "metadata": {},
     "output_type": "execute_result"
    }
   ],
   "source": [
    "train_input.shape,  train_target.shape"
   ]
  },
  {
   "cell_type": "code",
   "execution_count": 113,
   "id": "ddf6d5e0",
   "metadata": {},
   "outputs": [
    {
     "data": {
      "text/plain": [
       "((14, 2), (14,))"
      ]
     },
     "execution_count": 113,
     "metadata": {},
     "output_type": "execute_result"
    }
   ],
   "source": [
    "test_input = input_arr[index[35:]]\n",
    "test_target = target_arr[index[35:]] \n",
    "test_input.shape,  test_target.shape"
   ]
  },
  {
   "cell_type": "code",
   "execution_count": 116,
   "id": "d3e8c012",
   "metadata": {},
   "outputs": [
    {
     "data": {
      "image/png": "[encoded data removed]",
      "text/plain": [
       "<Figure size 432x288 with 1 Axes>"
      ]
     },
     "metadata": {
      "needs_background": "light"
     },
     "output_type": "display_data"
    }
   ],
   "source": [
    "import matplotlib.pyplot as plt\n",
    "plt.scatter(train_input[:,0], train_input[:,1])\n",
    "plt.scatter(test_input[:,0], test_input[:,1])\n",
    "plt.xlabel('length')\n",
    "plt.ylabel('weight')\n",
    "plt.show()"
   ]
  },
  {
   "cell_type": "code",
   "execution_count": 117,
   "id": "04fe3115",
   "metadata": {},
   "outputs": [
    {
     "data": {
      "text/plain": [
       "1.0"
      ]
     },
     "execution_count": 117,
     "metadata": {},
     "output_type": "execute_result"
    }
   ],
   "source": [
    "kn = KNeighborsClassifier()\n",
    "kn.fit(train_input, train_target)\n",
    "kn.score(test_input, test_target)"
   ]
  },
  {
   "cell_type": "code",
   "execution_count": 118,
   "id": "9869f533",
   "metadata": {},
   "outputs": [
    {
     "data": {
      "text/plain": [
       "array([1., 1., 0., 1., 0., 0., 1., 1., 0., 1., 1., 1., 0., 0.])"
      ]
     },
     "execution_count": 118,
     "metadata": {},
     "output_type": "execute_result"
    }
   ],
   "source": [
    "kn.predict(test_input)"
   ]
  },
  {
   "cell_type": "code",
   "execution_count": 119,
   "id": "7d2f36d4",
   "metadata": {},
   "outputs": [
    {
     "data": {
      "text/plain": [
       "array([1., 1., 0., 1., 0., 0., 1., 1., 0., 1., 1., 1., 0., 0.])"
      ]
     },
     "execution_count": 119,
     "metadata": {},
     "output_type": "execute_result"
    }
   ],
   "source": [
    "test_target[:14]"
   ]
  },
  {
   "cell_type": "code",
   "execution_count": null,
   "id": "1282427f",
   "metadata": {},
   "outputs": [],
   "source": []
  }
 ],
 "metadata": {
  "kernelspec": {
   "display_name": "Python 3 (ipykernel)",
   "language": "python",
   "name": "python3"
  },
  "language_info": {
   "codemirror_mode": {
    "name": "ipython",
    "version": 3
   },
   "file_extension": ".py",
   "mimetype": "text/x-python",
   "name": "python",
   "nbconvert_exporter": "python",
   "pygments_lexer": "ipython3",
   "version": "3.9.7"
  }
 },
 "nbformat": 4,
 "nbformat_minor": 5
}
