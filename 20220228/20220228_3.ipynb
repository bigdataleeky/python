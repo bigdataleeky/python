{
 "cells": [
  {
   "cell_type": "code",
   "execution_count": 1,
   "id": "d4209377",
   "metadata": {},
   "outputs": [],
   "source": [
    "import random\n",
    "A_length = []\n",
    "A_weight = []\n",
    "for i in range(35):\n",
    "    A_length.append(random.uniform(20,45))\n",
    "    A_weight.append(random.uniform(200,950))\n",
    "A_length.sort()    \n",
    "A_weight.sort()\n",
    "\n",
    "B_length = []\n",
    "B_weight = []\n",
    "for i in range(14):\n",
    "    B_length.append(random.uniform(9,15))\n",
    "    B_weight.append(random.uniform(6,20))\n",
    "B_length.sort()    \n",
    "B_weight.sort()\n",
    "length = A_length+B_length\n",
    "weight = A_weight+B_weight"
   ]
  },
  {
   "cell_type": "code",
   "execution_count": 2,
   "id": "65f2b4d9",
   "metadata": {},
   "outputs": [],
   "source": [
    "import numpy as np\n",
    "data = np.column_stack((length,weight))"
   ]
  },
  {
   "cell_type": "code",
   "execution_count": 3,
   "id": "a8f9b6bf",
   "metadata": {},
   "outputs": [
    {
     "data": {
      "text/plain": [
       "array([[ 22.59272531, 232.51502799],\n",
       "       [ 22.5998265 , 281.53367083],\n",
       "       [ 23.81791434, 286.92032458],\n",
       "       [ 23.91499145, 292.56245317],\n",
       "       [ 25.045833  , 297.80137175],\n",
       "       [ 25.95737854, 304.92493079]])"
      ]
     },
     "execution_count": 3,
     "metadata": {},
     "output_type": "execute_result"
    }
   ],
   "source": [
    "data[:6]"
   ]
  },
  {
   "cell_type": "code",
   "execution_count": 4,
   "id": "25d3f4fe",
   "metadata": {},
   "outputs": [
    {
     "data": {
      "text/plain": [
       "array([1., 1., 1., 1., 1., 1.])"
      ]
     },
     "execution_count": 4,
     "metadata": {},
     "output_type": "execute_result"
    }
   ],
   "source": [
    "target = np.concatenate( (np.ones(35), np.zeros(14)) )\n",
    "target[:6]"
   ]
  },
  {
   "cell_type": "code",
   "execution_count": 5,
   "id": "eb51567d",
   "metadata": {},
   "outputs": [],
   "source": [
    "from sklearn.model_selection import train_test_split"
   ]
  },
  {
   "cell_type": "code",
   "execution_count": 6,
   "id": "506c6ee6",
   "metadata": {},
   "outputs": [],
   "source": [
    "train_input,test_input,train_target,test_target = train_test_split(data,target,random_state=42)"
   ]
  },
  {
   "cell_type": "code",
   "execution_count": 7,
   "id": "eda3fa03",
   "metadata": {},
   "outputs": [
    {
     "data": {
      "text/plain": [
       "((36, 2), (13, 2), (36,), (13,))"
      ]
     },
     "execution_count": 7,
     "metadata": {},
     "output_type": "execute_result"
    }
   ],
   "source": [
    "train_input.shape, test_input.shape, train_target.shape,  test_target.shape"
   ]
  },
  {
   "cell_type": "code",
   "execution_count": 8,
   "id": "b65acb5f",
   "metadata": {},
   "outputs": [
    {
     "data": {
      "text/plain": [
       "1.0"
      ]
     },
     "execution_count": 8,
     "metadata": {},
     "output_type": "execute_result"
    }
   ],
   "source": [
    "from sklearn.neighbors import KNeighborsClassifier\n",
    "kn = KNeighborsClassifier()\n",
    "kn.fit(train_input, train_target)\n",
    "kn.score(test_input,test_target)"
   ]
  },
  {
   "cell_type": "code",
   "execution_count": 9,
   "id": "ed26003a",
   "metadata": {},
   "outputs": [
    {
     "data": {
      "image/png": "[encoded data removed]",
      "text/plain": [
       "<Figure size 432x288 with 1 Axes>"
      ]
     },
     "metadata": {
      "needs_background": "light"
     },
     "output_type": "display_data"
    }
   ],
   "source": [
    "import matplotlib.pyplot as plt\n",
    "plt.scatter(train_input[:,0], train_input[:,1])\n",
    "plt.scatter(20,400, marker='^')\n",
    "plt.xlabel(\"length\")\n",
    "plt.ylabel(\"weight\")\n",
    "plt.show()"
   ]
  },
  {
   "cell_type": "code",
   "execution_count": 10,
   "id": "f3e20e40",
   "metadata": {},
   "outputs": [],
   "source": [
    "distance, indexes =  kn.kneighbors([[20,400]])"
   ]
  },
  {
   "cell_type": "code",
   "execution_count": 11,
   "id": "469b90f9",
   "metadata": {},
   "outputs": [
    {
     "data": {
      "text/plain": [
       "(array([[ 6.91398967,  9.40578955, 14.58200984, 27.19491993, 35.7748756 ]]),\n",
       " array([[ 0, 31,  7,  2, 26]], dtype=int64))"
      ]
     },
     "execution_count": 11,
     "metadata": {},
     "output_type": "execute_result"
    }
   ],
   "source": [
    "distance, indexes"
   ]
  },
  {
   "cell_type": "code",
   "execution_count": 12,
   "id": "3967f414",
   "metadata": {},
   "outputs": [
    {
     "data": {
      "image/png": "[encoded data removed]",
      "text/plain": [
       "<Figure size 432x288 with 1 Axes>"
      ]
     },
     "metadata": {
      "needs_background": "light"
     },
     "output_type": "display_data"
    }
   ],
   "source": [
    "import matplotlib.pyplot as plt\n",
    "plt.scatter(train_input[:,0], train_input[:,1])\n",
    "plt.scatter(20,400, marker='^')\n",
    "plt.scatter(train_input[indexes,0], train_input[indexes,1], marker='D')\n",
    "plt.xlabel(\"length\")\n",
    "plt.ylabel(\"weight\")\n",
    "plt.show()"
   ]
  },
  {
   "cell_type": "code",
   "execution_count": 13,
   "id": "1cf52d6d",
   "metadata": {},
   "outputs": [
    {
     "data": {
      "image/png": "[encoded data removed]",
      "text/plain": [
       "<Figure size 432x288 with 1 Axes>"
      ]
     },
     "metadata": {
      "needs_background": "light"
     },
     "output_type": "display_data"
    }
   ],
   "source": [
    "import matplotlib.pyplot as plt\n",
    "plt.scatter(train_input[:,0], train_input[:,1])\n",
    "plt.scatter(20,400, marker='^')\n",
    "plt.scatter(train_input[indexes,0], train_input[indexes,1], marker='D')\n",
    "plt.xlim((0,1000))\n",
    "plt.xlabel(\"length\")\n",
    "plt.ylabel(\"weight\")\n",
    "plt.show()"
   ]
  },
  {
   "cell_type": "code",
   "execution_count": 17,
   "id": "64ca7c7d",
   "metadata": {},
   "outputs": [],
   "source": [
    "# 스케일링\n",
    "mean = np.mean(train_input, axis=0)\n",
    "std = np.std(train_input, axis=0)"
   ]
  },
  {
   "cell_type": "code",
   "execution_count": 18,
   "id": "f488e9e8",
   "metadata": {},
   "outputs": [
    {
     "data": {
      "text/plain": [
       "(array([ 24.45246033, 380.50090289]), array([ 10.06195849, 289.66872225]))"
      ]
     },
     "execution_count": 18,
     "metadata": {},
     "output_type": "execute_result"
    }
   ],
   "source": [
    "mean, std"
   ]
  },
  {
   "cell_type": "code",
   "execution_count": 19,
   "id": "53e7f7b3",
   "metadata": {},
   "outputs": [],
   "source": [
    "train_scaled = (train_input-mean) / std"
   ]
  },
  {
   "cell_type": "code",
   "execution_count": 20,
   "id": "29185da6",
   "metadata": {},
   "outputs": [
    {
     "data": {
      "text/plain": [
       "array([[ 0.19237794,  0.05818492],\n",
       "       [-0.05341593, -0.30358283],\n",
       "       [ 0.15680689, -0.0242305 ],\n",
       "       [-1.39411513, -1.26293737],\n",
       "       [-1.28148921, -1.26153774],\n",
       "       [-1.03558568, -1.25389232],\n",
       "       [ 0.42554331,  0.73431684],\n",
       "       [ 0.19893263,  0.11245608],\n",
       "       [ 0.47280452,  0.77368291],\n",
       "       [ 0.94856966,  1.07502715],\n",
       "       [ 1.84320889,  1.69746109],\n",
       "       [ 1.44683293,  1.37017123],\n",
       "       [-0.18482833, -0.51087972],\n",
       "       [-1.16480431, -1.26081546],\n",
       "       [ 1.4920066 ,  1.55505636],\n",
       "       [ 0.14956514, -0.26090484],\n",
       "       [ 1.4215843 ,  1.35366106],\n",
       "       [ 0.2544417 ,  0.2107348 ],\n",
       "       [-1.51614629, -1.28352985],\n",
       "       [-0.18412259, -0.3416566 ],\n",
       "       [ 0.78722311,  0.8940095 ],\n",
       "       [-0.06306386, -0.32306069],\n",
       "       [-1.5027572 , -1.27276873],\n",
       "       [-1.53331854, -1.28510443],\n",
       "       [ 0.90967567,  1.00362465],\n",
       "       [-1.40295202, -1.26589162],\n",
       "       [ 0.22699539,  0.18860857],\n",
       "       [ 0.90574634,  0.98458462],\n",
       "       [ 0.56948377,  0.83001409],\n",
       "       [-0.97014447, -1.2530292 ],\n",
       "       [ 0.64712753,  0.88895681],\n",
       "       [ 0.18318569,  0.04319073],\n",
       "       [-1.2367485 , -1.26133157],\n",
       "       [ 0.40756727,  0.62156251],\n",
       "       [ 1.36739188,  1.29627238],\n",
       "       [-1.48357907, -1.26642281]])"
      ]
     },
     "execution_count": 20,
     "metadata": {},
     "output_type": "execute_result"
    }
   ],
   "source": [
    "train_scaled"
   ]
  },
  {
   "cell_type": "code",
   "execution_count": null,
   "id": "6eaa21d8",
   "metadata": {},
   "outputs": [],
   "source": []
  }
 ],
 "metadata": {
  "kernelspec": {
   "display_name": "Python 3 (ipykernel)",
   "language": "python",
   "name": "python3"
  },
  "language_info": {
   "codemirror_mode": {
    "name": "ipython",
    "version": 3
   },
   "file_extension": ".py",
   "mimetype": "text/x-python",
   "name": "python",
   "nbconvert_exporter": "python",
   "pygments_lexer": "ipython3",
   "version": "3.9.7"
  }
 },
 "nbformat": 4,
 "nbformat_minor": 5
}
