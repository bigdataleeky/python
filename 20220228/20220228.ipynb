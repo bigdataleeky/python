{
 "cells": [
  {
   "cell_type": "code",
   "execution_count": 1,
   "id": "cb0c97ce",
   "metadata": {},
   "outputs": [],
   "source": [
    "# 두개의 제품의 길이와 무개정보를 가지고 예측\n",
    "# A\n",
    "# B  30 ~40\n",
    "# if B.size() > 30\n",
    "\n",
    "# A B 클래스\n",
    "# 분류(classfication)\n",
    "# 이진분류(binary classification)"
   ]
  },
  {
   "cell_type": "code",
   "execution_count": 2,
   "id": "117f1a3e",
   "metadata": {},
   "outputs": [
    {
     "name": "stdout",
     "output_type": "stream",
     "text": [
      "[20.21737042565934, 22.227480967941773, 22.287000993546414, 23.12730643827435, 23.339642481872822, 23.36582959478618, 24.74339351863039, 25.200536892061397, 25.419882112295923]\n",
      "[312.2393332833211, 312.9545806479193, 367.7203281271479, 385.8836553039836, 438.3260954300899, 466.4360429339799, 490.9097960968965, 503.5232805910469, 512.4556769626508]\n"
     ]
    }
   ],
   "source": [
    "import random\n",
    "A_length = []\n",
    "A_weight = []\n",
    "for i in range(35):\n",
    "    A_length.append(random.uniform(20,45))\n",
    "    A_weight.append(random.uniform(200,950))\n",
    "A_length.sort()    \n",
    "A_weight.sort()\n",
    "print(A_length[1:10])\n",
    "print(A_weight[1:10])"
   ]
  },
  {
   "cell_type": "code",
   "execution_count": 3,
   "id": "0389f226",
   "metadata": {},
   "outputs": [
    {
     "data": {
      "image/png": "[encoded data removed]",
      "text/plain": [
       "<Figure size 432x288 with 1 Axes>"
      ]
     },
     "metadata": {
      "needs_background": "light"
     },
     "output_type": "display_data"
    }
   ],
   "source": [
    "import matplotlib.pyplot as plt\n",
    "plt.scatter(A_length,A_weight)\n",
    "plt.xlabel('length')\n",
    "plt.ylabel('weight')\n",
    "plt.show()"
   ]
  },
  {
   "cell_type": "code",
   "execution_count": 4,
   "id": "a2881868",
   "metadata": {},
   "outputs": [
    {
     "name": "stdout",
     "output_type": "stream",
     "text": [
      "[9.261862213796993, 9.60895585385943, 9.89626013282614, 10.75273829560728, 12.070137618174229, 12.135933499594682, 12.51645476528924, 13.098497823408534, 13.224084542044352]\n",
      "[7.182382662599055, 10.581030182304332, 11.122212836516615, 11.789252498364384, 12.269837331042492, 14.596554671232548, 15.680647343711794, 16.049765912636694, 16.142601362092712]\n"
     ]
    }
   ],
   "source": [
    "B_length = []\n",
    "B_weight = []\n",
    "for i in range(14):\n",
    "    B_length.append(random.uniform(9,15))\n",
    "    B_weight.append(random.uniform(6,20))\n",
    "B_length.sort()    \n",
    "B_weight.sort()\n",
    "print(B_length[1:10])\n",
    "print(B_weight[1:10])"
   ]
  },
  {
   "cell_type": "code",
   "execution_count": 5,
   "id": "838f94d8",
   "metadata": {},
   "outputs": [
    {
     "data": {
      "image/png": "[encoded data removed]",
      "text/plain": [
       "<Figure size 432x288 with 1 Axes>"
      ]
     },
     "metadata": {
      "needs_background": "light"
     },
     "output_type": "display_data"
    }
   ],
   "source": [
    "import matplotlib.pyplot as plt\n",
    "plt.scatter(B_length,B_weight)\n",
    "plt.xlabel('length')\n",
    "plt.ylabel('weight')\n",
    "plt.show()"
   ]
  },
  {
   "cell_type": "code",
   "execution_count": 6,
   "id": "49b0d780",
   "metadata": {},
   "outputs": [
    {
     "data": {
      "image/png": "[encoded data removed]",
      "text/plain": [
       "<Figure size 432x288 with 1 Axes>"
      ]
     },
     "metadata": {
      "needs_background": "light"
     },
     "output_type": "display_data"
    }
   ],
   "source": [
    "import matplotlib.pyplot as plt\n",
    "plt.scatter(A_length,A_weight)\n",
    "plt.scatter(B_length,B_weight)\n",
    "plt.xlabel('length')\n",
    "plt.ylabel('weight')\n",
    "plt.show()"
   ]
  },
  {
   "cell_type": "code",
   "execution_count": 7,
   "id": "d9e46a0f",
   "metadata": {},
   "outputs": [
    {
     "data": {
      "text/plain": [
       "[20.21737042565934,\n",
       " 22.227480967941773,\n",
       " 22.287000993546414,\n",
       " 23.12730643827435,\n",
       " 23.339642481872822,\n",
       " 23.36582959478618,\n",
       " 24.74339351863039,\n",
       " 25.200536892061397,\n",
       " 25.419882112295923]"
      ]
     },
     "execution_count": 7,
     "metadata": {},
     "output_type": "execute_result"
    }
   ],
   "source": [
    "length = A_length+B_length\n",
    "weigh = A_weight+B_weight\n",
    "length[1:10]"
   ]
  },
  {
   "cell_type": "code",
   "execution_count": 8,
   "id": "b5d140a4",
   "metadata": {},
   "outputs": [
    {
     "name": "stdout",
     "output_type": "stream",
     "text": [
      "[20.21737042565934, 22.227480967941773]\n",
      "[312.2393332833211, 312.9545806479193]\n"
     ]
    }
   ],
   "source": [
    "# 머신러닝  사이킷런...\n",
    "# [\n",
    "#     [20.5, 250.2],\n",
    "#     [10.5, 150.2]\n",
    "# ]\n",
    "print(length[1:3])\n",
    "print(weigh[1:3])"
   ]
  },
  {
   "cell_type": "code",
   "execution_count": 9,
   "id": "423b51a1",
   "metadata": {},
   "outputs": [
    {
     "data": {
      "text/plain": [
       "[(20.21737042565934, 312.2393332833211),\n",
       " (22.227480967941773, 312.9545806479193)]"
      ]
     },
     "execution_count": 9,
     "metadata": {},
     "output_type": "execute_result"
    }
   ],
   "source": [
    "list(zip(length[1:3], weigh[1:3]))"
   ]
  },
  {
   "cell_type": "code",
   "execution_count": 10,
   "id": "56d5020b",
   "metadata": {},
   "outputs": [
    {
     "data": {
      "text/plain": [
       "[[20.21737042565934, 312.2393332833211],\n",
       " [22.227480967941773, 312.9545806479193],\n",
       " [22.287000993546414, 367.7203281271479],\n",
       " [23.12730643827435, 385.8836553039836],\n",
       " [23.339642481872822, 438.3260954300899],\n",
       " [23.36582959478618, 466.4360429339799],\n",
       " [24.74339351863039, 490.9097960968965],\n",
       " [25.200536892061397, 503.5232805910469],\n",
       " [25.419882112295923, 512.4556769626508]]"
      ]
     },
     "execution_count": 10,
     "metadata": {},
     "output_type": "execute_result"
    }
   ],
   "source": [
    "data = [ [l,w] for l, w in  zip(length, weigh) ]\n",
    "data[1:10]"
   ]
  },
  {
   "cell_type": "code",
   "execution_count": 11,
   "id": "d60e5d9b",
   "metadata": {},
   "outputs": [
    {
     "data": {
      "text/plain": [
       "[1, 1, 1, 1, 1, 1, 1, 1, 1]"
      ]
     },
     "execution_count": 11,
     "metadata": {},
     "output_type": "execute_result"
    }
   ],
   "source": [
    "# 머신러닝...... 학습데이터 + 정답\n",
    "# 1-->A    0-->B\n",
    "target = [1]*35 + [0]*14\n",
    "target[1:10]"
   ]
  },
  {
   "cell_type": "code",
   "execution_count": 12,
   "id": "87c781f5",
   "metadata": {},
   "outputs": [
    {
     "data": {
      "text/plain": [
       "49"
      ]
     },
     "execution_count": 12,
     "metadata": {},
     "output_type": "execute_result"
    }
   ],
   "source": [
    "len(data)"
   ]
  },
  {
   "cell_type": "code",
   "execution_count": 13,
   "id": "d7500048",
   "metadata": {},
   "outputs": [
    {
     "data": {
      "text/plain": [
       "49"
      ]
     },
     "execution_count": 13,
     "metadata": {},
     "output_type": "execute_result"
    }
   ],
   "source": [
    "len(target)"
   ]
  },
  {
   "cell_type": "code",
   "execution_count": 14,
   "id": "7939999f",
   "metadata": {},
   "outputs": [
    {
     "name": "stdout",
     "output_type": "stream",
     "text": [
      "Requirement already satisfied: sklearn in c:\\users\\user\\anaconda3\\envs\\ml\\lib\\site-packages (0.0)\n",
      "Requirement already satisfied: scikit-learn in c:\\users\\user\\anaconda3\\envs\\ml\\lib\\site-packages (from sklearn) (1.0.2)\n",
      "Requirement already satisfied: numpy>=1.14.6 in c:\\users\\user\\anaconda3\\envs\\ml\\lib\\site-packages (from scikit-learn->sklearn) (1.21.5)\n",
      "Requirement already satisfied: threadpoolctl>=2.0.0 in c:\\users\\user\\anaconda3\\envs\\ml\\lib\\site-packages (from scikit-learn->sklearn) (2.2.0)\n",
      "Requirement already satisfied: joblib>=0.11 in c:\\users\\user\\anaconda3\\envs\\ml\\lib\\site-packages (from scikit-learn->sklearn) (1.1.0)\n",
      "Requirement already satisfied: scipy>=1.1.0 in c:\\users\\user\\anaconda3\\envs\\ml\\lib\\site-packages (from scikit-learn->sklearn) (1.7.3)\n"
     ]
    }
   ],
   "source": [
    "!pip install sklearn"
   ]
  },
  {
   "cell_type": "code",
   "execution_count": 15,
   "id": "4864ffb2",
   "metadata": {},
   "outputs": [],
   "source": [
    "from sklearn.neighbors import KNeighborsClassifier"
   ]
  },
  {
   "cell_type": "code",
   "execution_count": 16,
   "id": "70f946cb",
   "metadata": {},
   "outputs": [],
   "source": [
    "# 머신러닝  pattern\n",
    "# 1. 머신러닝 객체 생성\n",
    "# 2. 학습\n",
    "# 3. 적용 - 스코어\n",
    "# 4. 예측"
   ]
  },
  {
   "cell_type": "code",
   "execution_count": 17,
   "id": "3ff561bf",
   "metadata": {},
   "outputs": [],
   "source": [
    "kn =  KNeighborsClassifier()  # 1"
   ]
  },
  {
   "cell_type": "code",
   "execution_count": 18,
   "id": "af150444",
   "metadata": {},
   "outputs": [
    {
     "data": {
      "text/plain": [
       "KNeighborsClassifier()"
      ]
     },
     "execution_count": 18,
     "metadata": {},
     "output_type": "execute_result"
    }
   ],
   "source": [
    "kn.fit(data,target) # 2"
   ]
  },
  {
   "cell_type": "code",
   "execution_count": 19,
   "id": "343a3191",
   "metadata": {},
   "outputs": [
    {
     "data": {
      "text/plain": [
       "1.0"
      ]
     },
     "execution_count": 19,
     "metadata": {},
     "output_type": "execute_result"
    }
   ],
   "source": [
    "kn.score(data,target)"
   ]
  },
  {
   "cell_type": "code",
   "execution_count": 20,
   "id": "d7a84aed",
   "metadata": {},
   "outputs": [
    {
     "data": {
      "image/png": "[encoded data removed]",
      "text/plain": [
       "<Figure size 432x288 with 1 Axes>"
      ]
     },
     "metadata": {
      "needs_background": "light"
     },
     "output_type": "display_data"
    }
   ],
   "source": [
    "# 1.0 은 100% \n",
    "import matplotlib.pyplot as plt\n",
    "plt.scatter(A_length,A_weight)\n",
    "plt.scatter(B_length,B_weight)\n",
    "plt.scatter(30,600,marker='^')\n",
    "plt.xlabel('length')\n",
    "plt.ylabel('weight')\n",
    "plt.show()"
   ]
  },
  {
   "cell_type": "code",
   "execution_count": 21,
   "id": "66751498",
   "metadata": {},
   "outputs": [
    {
     "data": {
      "text/plain": [
       "array([1])"
      ]
     },
     "execution_count": 21,
     "metadata": {},
     "output_type": "execute_result"
    }
   ],
   "source": [
    "# 예측... predict\n",
    "kn.predict([[30,600]])"
   ]
  },
  {
   "cell_type": "code",
   "execution_count": 41,
   "id": "2ed96144",
   "metadata": {},
   "outputs": [
    {
     "data": {
      "text/plain": [
       "array([0])"
      ]
     },
     "execution_count": 41,
     "metadata": {},
     "output_type": "execute_result"
    }
   ],
   "source": [
    "kn.predict([[25,150]])"
   ]
  },
  {
   "cell_type": "code",
   "execution_count": 23,
   "id": "43487de2",
   "metadata": {},
   "outputs": [
    {
     "data": {
      "text/plain": [
       "array([[ 20.04067914, 291.36500472],\n",
       "       [ 20.21737043, 312.23933328],\n",
       "       [ 22.22748097, 312.95458065],\n",
       "       [ 22.28700099, 367.72032813],\n",
       "       [ 23.12730644, 385.8836553 ],\n",
       "       [ 23.33964248, 438.32609543],\n",
       "       [ 23.36582959, 466.43604293],\n",
       "       [ 24.74339352, 490.9097961 ],\n",
       "       [ 25.20053689, 503.52328059],\n",
       "       [ 25.41988211, 512.45567696],\n",
       "       [ 25.66232841, 528.91316557],\n",
       "       [ 28.53544681, 538.86400113],\n",
       "       [ 29.35414188, 559.45727878],\n",
       "       [ 30.58072869, 602.22952715],\n",
       "       [ 31.24232348, 607.82460438],\n",
       "       [ 31.78293627, 665.34783563],\n",
       "       [ 33.40451399, 666.10439459],\n",
       "       [ 34.00007695, 676.73847318],\n",
       "       [ 36.24199145, 680.12648431],\n",
       "       [ 36.50040128, 682.01534475],\n",
       "       [ 36.62465128, 722.38475442],\n",
       "       [ 36.82297357, 762.49418109],\n",
       "       [ 37.37302373, 784.49087975],\n",
       "       [ 37.9217133 , 785.69408603],\n",
       "       [ 38.64827664, 799.67502804],\n",
       "       [ 40.00210236, 852.58872057],\n",
       "       [ 40.0388958 , 855.78529072],\n",
       "       [ 40.27120123, 858.24493318],\n",
       "       [ 42.08182764, 859.65687245],\n",
       "       [ 42.68926634, 868.93844994],\n",
       "       [ 42.80962518, 871.21748963],\n",
       "       [ 43.11235768, 872.72598589],\n",
       "       [ 43.58588304, 885.53257825],\n",
       "       [ 44.21879009, 905.23669114],\n",
       "       [ 44.83918485, 940.15619503],\n",
       "       [  9.14377169,   6.82564714],\n",
       "       [  9.26186221,   7.18238266],\n",
       "       [  9.60895585,  10.58103018],\n",
       "       [  9.89626013,  11.12221284],\n",
       "       [ 10.7527383 ,  11.7892525 ],\n",
       "       [ 12.07013762,  12.26983733],\n",
       "       [ 12.1359335 ,  14.59655467],\n",
       "       [ 12.51645477,  15.68064734],\n",
       "       [ 13.09849782,  16.04976591],\n",
       "       [ 13.22408454,  16.14260136],\n",
       "       [ 13.6009038 ,  16.80598282],\n",
       "       [ 13.81717072,  17.01541971],\n",
       "       [ 14.27593276,  18.33731237],\n",
       "       [ 14.92106386,  18.63209012]])"
      ]
     },
     "execution_count": 23,
     "metadata": {},
     "output_type": "execute_result"
    }
   ],
   "source": [
    "kn._fit_X"
   ]
  },
  {
   "cell_type": "code",
   "execution_count": 24,
   "id": "db905c4f",
   "metadata": {},
   "outputs": [
    {
     "data": {
      "text/plain": [
       "array([1, 1, 1, 1, 1, 1, 1, 1, 1, 1, 1, 1, 1, 1, 1, 1, 1, 1, 1, 1, 1, 1,\n",
       "       1, 1, 1, 1, 1, 1, 1, 1, 1, 1, 1, 1, 1, 0, 0, 0, 0, 0, 0, 0, 0, 0,\n",
       "       0, 0, 0, 0, 0])"
      ]
     },
     "execution_count": 24,
     "metadata": {},
     "output_type": "execute_result"
    }
   ],
   "source": [
    "kn._y"
   ]
  },
  {
   "cell_type": "code",
   "execution_count": 35,
   "id": "799403ce",
   "metadata": {},
   "outputs": [
    {
     "data": {
      "text/plain": [
       "1.0"
      ]
     },
     "execution_count": 35,
     "metadata": {},
     "output_type": "execute_result"
    }
   ],
   "source": [
    "kn49 = KNeighborsClassifier(n_neighbors=20)\n",
    "kn49.fit(data,target)\n",
    "kn49.score(data,target)"
   ]
  },
  {
   "cell_type": "code",
   "execution_count": 34,
   "id": "32283a42",
   "metadata": {},
   "outputs": [
    {
     "data": {
      "text/plain": [
       "0.8"
      ]
     },
     "execution_count": 34,
     "metadata": {},
     "output_type": "execute_result"
    }
   ],
   "source": []
  },
  {
   "cell_type": "code",
   "execution_count": null,
   "id": "a19b6614",
   "metadata": {},
   "outputs": [],
   "source": []
  }
 ],
 "metadata": {
  "kernelspec": {
   "display_name": "Python 3 (ipykernel)",
   "language": "python",
   "name": "python3"
  },
  "language_info": {
   "codemirror_mode": {
    "name": "ipython",
    "version": 3
   },
   "file_extension": ".py",
   "mimetype": "text/x-python",
   "name": "python",
   "nbconvert_exporter": "python",
   "pygments_lexer": "ipython3",
   "version": "3.9.7"
  }
 },
 "nbformat": 4,
 "nbformat_minor": 5
}
