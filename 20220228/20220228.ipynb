{
 "cells": [
  {
   "cell_type": "code",
   "execution_count": 1,
   "id": "1f2ad7f7",
   "metadata": {},
   "outputs": [],
   "source": [
    "# 두개의 제품의 길이와 무개정보를 가지고 예측\n",
    "# A\n",
    "# B  30 ~40\n",
    "# if B.size() > 30\n",
    "\n",
    "# A B 클래스\n",
    "# 분류(classfication)\n",
    "# 이진분류(binary classification)"
   ]
  },
  {
   "cell_type": "code",
   "execution_count": 13,
   "id": "2670933f",
   "metadata": {},
   "outputs": [
    {
     "name": "stdout",
     "output_type": "stream",
     "text": [
      "[21.021016430686547, 21.381680261134424, 21.722848228270742, 24.169369516513306, 24.268347467666715, 24.431025010161456, 24.475352181626405, 24.61477647449616, 25.695721292223872]\n",
      "[246.33655824117247, 251.23998801412984, 258.8558581771, 286.9591093353316, 292.5624603590006, 303.0415279613434, 313.4610249646891, 335.68690136715645, 338.885980038645]\n"
     ]
    }
   ],
   "source": [
    "import random\n",
    "A_length = []\n",
    "A_weight = []\n",
    "for i in range(40):\n",
    "    A_length.append(random.uniform(20,45))\n",
    "    A_weight.append(random.uniform(200,950))\n",
    "A_length.sort()    \n",
    "A_weight.sort()\n",
    "print(A_length[1:10])\n",
    "print(A_weight[1:10])"
   ]
  },
  {
   "cell_type": "code",
   "execution_count": 15,
   "id": "177b9c75",
   "metadata": {},
   "outputs": [
    {
     "data": {
      "image/png": "[encoded data removed]",
      "text/plain": [
       "<Figure size 432x288 with 1 Axes>"
      ]
     },
     "metadata": {
      "needs_background": "light"
     },
     "output_type": "display_data"
    }
   ],
   "source": [
    "import matplotlib.pyplot as plt\n",
    "plt.scatter(A_length,A_weight)\n",
    "plt.xlabel('length')\n",
    "plt.ylabel('weight')\n",
    "plt.show()"
   ]
  },
  {
   "cell_type": "code",
   "execution_count": 33,
   "id": "21906488",
   "metadata": {},
   "outputs": [
    {
     "name": "stdout",
     "output_type": "stream",
     "text": [
      "[9.820009652310844, 10.180926608477924, 10.453426996425922, 10.745575905359983, 10.89597752565403, 10.9820664655083, 11.096571661334142, 11.40189944526226, 11.715910472904742]\n",
      "[6.2653000545663, 6.753496381391182, 7.467194645177953, 8.921578584383154, 9.101151700345348, 9.852657648039248, 11.75216534857636, 11.949806931737923, 11.98040892109889]\n"
     ]
    }
   ],
   "source": [
    "B_length = []\n",
    "B_weight = []\n",
    "for i in range(20):\n",
    "    B_length.append(random.uniform(9,15))\n",
    "    B_weight.append(random.uniform(6,20))\n",
    "B_length.sort()    \n",
    "B_weight.sort()\n",
    "print(B_length[1:10])\n",
    "print(B_weight[1:10])"
   ]
  },
  {
   "cell_type": "code",
   "execution_count": 34,
   "id": "1fcc7dee",
   "metadata": {},
   "outputs": [
    {
     "data": {
      "image/png": "[encoded data removed]",
      "text/plain": [
       "<Figure size 432x288 with 1 Axes>"
      ]
     },
     "metadata": {
      "needs_background": "light"
     },
     "output_type": "display_data"
    }
   ],
   "source": [
    "import matplotlib.pyplot as plt\n",
    "plt.scatter(B_length,B_weight)\n",
    "plt.xlabel('length')\n",
    "plt.ylabel('weight')\n",
    "plt.show()"
   ]
  },
  {
   "cell_type": "code",
   "execution_count": 35,
   "id": "6dd9ecf2",
   "metadata": {},
   "outputs": [
    {
     "data": {
      "image/png": "[encoded data removed]",
      "text/plain": [
       "<Figure size 432x288 with 1 Axes>"
      ]
     },
     "metadata": {
      "needs_background": "light"
     },
     "output_type": "display_data"
    }
   ],
   "source": [
    "import matplotlib.pyplot as plt\n",
    "plt.scatter(A_length,A_weight)\n",
    "plt.scatter(B_length,B_weight)\n",
    "plt.xlabel('length')\n",
    "plt.ylabel('weight')\n",
    "plt.show()"
   ]
  },
  {
   "cell_type": "code",
   "execution_count": 36,
   "id": "fe6c619e",
   "metadata": {},
   "outputs": [
    {
     "data": {
      "text/plain": [
       "[21.021016430686547,\n",
       " 21.381680261134424,\n",
       " 21.722848228270742,\n",
       " 24.169369516513306,\n",
       " 24.268347467666715,\n",
       " 24.431025010161456,\n",
       " 24.475352181626405,\n",
       " 24.61477647449616,\n",
       " 25.695721292223872]"
      ]
     },
     "execution_count": 36,
     "metadata": {},
     "output_type": "execute_result"
    }
   ],
   "source": [
    "length = A_length+B_length\n",
    "weigh = A_weight+B_weight\n",
    "length[1:10]"
   ]
  },
  {
   "cell_type": "code",
   "execution_count": 37,
   "id": "f801a24a",
   "metadata": {},
   "outputs": [
    {
     "name": "stdout",
     "output_type": "stream",
     "text": [
      "[21.021016430686547, 21.381680261134424]\n",
      "[246.33655824117247, 251.23998801412984]\n"
     ]
    }
   ],
   "source": [
    "# 머신러닝  사이킷런...\n",
    "# [\n",
    "#     [20.5, 250.2],\n",
    "#     [10.5, 150.2]\n",
    "# ]\n",
    "print(length[1:3])\n",
    "print(weigh[1:3])"
   ]
  },
  {
   "cell_type": "code",
   "execution_count": 38,
   "id": "e5bfe518",
   "metadata": {},
   "outputs": [
    {
     "data": {
      "text/plain": [
       "[(21.021016430686547, 246.33655824117247),\n",
       " (21.381680261134424, 251.23998801412984)]"
      ]
     },
     "execution_count": 38,
     "metadata": {},
     "output_type": "execute_result"
    }
   ],
   "source": [
    "list(zip(length[1:3], weigh[1:3]))"
   ]
  },
  {
   "cell_type": "code",
   "execution_count": 39,
   "id": "4c9fd132",
   "metadata": {},
   "outputs": [
    {
     "data": {
      "text/plain": [
       "[[21.021016430686547, 246.33655824117247],\n",
       " [21.381680261134424, 251.23998801412984],\n",
       " [21.722848228270742, 258.8558581771],\n",
       " [24.169369516513306, 286.9591093353316],\n",
       " [24.268347467666715, 292.5624603590006],\n",
       " [24.431025010161456, 303.0415279613434],\n",
       " [24.475352181626405, 313.4610249646891],\n",
       " [24.61477647449616, 335.68690136715645],\n",
       " [25.695721292223872, 338.885980038645]]"
      ]
     },
     "execution_count": 39,
     "metadata": {},
     "output_type": "execute_result"
    }
   ],
   "source": [
    "data = [ [l,w] for l, w in  zip(length, weigh) ]\n",
    "data[1:10]"
   ]
  },
  {
   "cell_type": "code",
   "execution_count": 40,
   "id": "548831e6",
   "metadata": {},
   "outputs": [
    {
     "data": {
      "text/plain": [
       "[1, 1, 1, 1, 1, 1, 1, 1, 1]"
      ]
     },
     "execution_count": 40,
     "metadata": {},
     "output_type": "execute_result"
    }
   ],
   "source": [
    "# 머신러닝...... 학습데이터 + 정답\n",
    "# 1-->A    0-->B\n",
    "target = [1]*40 + [0]*20\n",
    "target[1:10]"
   ]
  },
  {
   "cell_type": "code",
   "execution_count": 42,
   "id": "637bda03",
   "metadata": {},
   "outputs": [
    {
     "data": {
      "text/plain": [
       "60"
      ]
     },
     "execution_count": 42,
     "metadata": {},
     "output_type": "execute_result"
    }
   ],
   "source": [
    "len(data)"
   ]
  },
  {
   "cell_type": "code",
   "execution_count": 43,
   "id": "0c4d7605",
   "metadata": {},
   "outputs": [
    {
     "data": {
      "text/plain": [
       "60"
      ]
     },
     "execution_count": 43,
     "metadata": {},
     "output_type": "execute_result"
    }
   ],
   "source": [
    "len(target)"
   ]
  },
  {
   "cell_type": "code",
   "execution_count": 44,
   "id": "4af02ce8",
   "metadata": {},
   "outputs": [
    {
     "name": "stdout",
     "output_type": "stream",
     "text": [
      "Collecting sklearn\n",
      "  Downloading sklearn-0.0.tar.gz (1.1 kB)\n",
      "Requirement already satisfied: scikit-learn in c:\\users\\user\\anaconda3\\envs\\ml\\lib\\site-packages (from sklearn) (1.0.2)\n",
      "Requirement already satisfied: threadpoolctl>=2.0.0 in c:\\users\\user\\anaconda3\\envs\\ml\\lib\\site-packages (from scikit-learn->sklearn) (2.2.0)\n",
      "Requirement already satisfied: scipy>=1.1.0 in c:\\users\\user\\anaconda3\\envs\\ml\\lib\\site-packages (from scikit-learn->sklearn) (1.7.3)\n",
      "Requirement already satisfied: numpy>=1.14.6 in c:\\users\\user\\anaconda3\\envs\\ml\\lib\\site-packages (from scikit-learn->sklearn) (1.21.5)\n",
      "Requirement already satisfied: joblib>=0.11 in c:\\users\\user\\anaconda3\\envs\\ml\\lib\\site-packages (from scikit-learn->sklearn) (1.1.0)\n",
      "Building wheels for collected packages: sklearn\n",
      "  Building wheel for sklearn (setup.py): started\n",
      "  Building wheel for sklearn (setup.py): finished with status 'done'\n",
      "  Created wheel for sklearn: filename=sklearn-0.0-py2.py3-none-any.whl size=1310 sha256=bedf196643b14f01633734d0ee00bf1a1c47cb7c3bba46fdfa12aa78cec47fca\n",
      "  Stored in directory: c:\\users\\user\\appdata\\local\\pip\\cache\\wheels\\e4\\7b\\98\\b6466d71b8d738a0c547008b9eb39bf8676d1ff6ca4b22af1c\n",
      "Successfully built sklearn\n",
      "Installing collected packages: sklearn\n",
      "Successfully installed sklearn-0.0\n"
     ]
    }
   ],
   "source": [
    "!pip install sklearn"
   ]
  },
  {
   "cell_type": "code",
   "execution_count": 45,
   "id": "efdec240",
   "metadata": {},
   "outputs": [],
   "source": [
    "from sklearn.neighbors import KNeighborsClassifier"
   ]
  },
  {
   "cell_type": "code",
   "execution_count": 46,
   "id": "c264d680",
   "metadata": {},
   "outputs": [],
   "source": [
    "# 머신러닝  pattern\n",
    "# 1. 머신러닝 객체 생성\n",
    "# 2. 학습\n",
    "# 3. 적용 - 스코어\n",
    "# 4. 예측"
   ]
  },
  {
   "cell_type": "code",
   "execution_count": 47,
   "id": "9a73e5db",
   "metadata": {},
   "outputs": [],
   "source": [
    "kn =  KNeighborsClassifier()  # 1"
   ]
  },
  {
   "cell_type": "code",
   "execution_count": 48,
   "id": "6725ed51",
   "metadata": {},
   "outputs": [
    {
     "data": {
      "text/plain": [
       "KNeighborsClassifier()"
      ]
     },
     "execution_count": 48,
     "metadata": {},
     "output_type": "execute_result"
    }
   ],
   "source": [
    "kn.fit(data,target) # 2"
   ]
  },
  {
   "cell_type": "code",
   "execution_count": 49,
   "id": "26837e19",
   "metadata": {},
   "outputs": [
    {
     "data": {
      "text/plain": [
       "1.0"
      ]
     },
     "execution_count": 49,
     "metadata": {},
     "output_type": "execute_result"
    }
   ],
   "source": [
    "kn.score(data,target)"
   ]
  },
  {
   "cell_type": "code",
   "execution_count": 51,
   "id": "eabc1028",
   "metadata": {},
   "outputs": [
    {
     "data": {
      "image/png": "[encoded data removed]",
      "text/plain": [
       "<Figure size 432x288 with 1 Axes>"
      ]
     },
     "metadata": {
      "needs_background": "light"
     },
     "output_type": "display_data"
    }
   ],
   "source": [
    "# 1.0 은 100% \n",
    "import matplotlib.pyplot as plt\n",
    "plt.scatter(A_length,A_weight)\n",
    "plt.scatter(B_length,B_weight)\n",
    "plt.scatter(30,600,marker='^')\n",
    "plt.xlabel('length')\n",
    "plt.ylabel('weight')\n",
    "plt.show()"
   ]
  },
  {
   "cell_type": "code",
   "execution_count": 53,
   "id": "d99a621b",
   "metadata": {},
   "outputs": [
    {
     "data": {
      "text/plain": [
       "array([1])"
      ]
     },
     "execution_count": 53,
     "metadata": {},
     "output_type": "execute_result"
    }
   ],
   "source": [
    "# 예측... predict\n",
    "kn.predict([[30,600]])"
   ]
  },
  {
   "cell_type": "code",
   "execution_count": 54,
   "id": "4e7d302f",
   "metadata": {},
   "outputs": [
    {
     "data": {
      "text/plain": [
       "array([0])"
      ]
     },
     "execution_count": 54,
     "metadata": {},
     "output_type": "execute_result"
    }
   ],
   "source": [
    "kn.predict([[13,10]])"
   ]
  },
  {
   "cell_type": "code",
   "execution_count": 55,
   "id": "aab3f947",
   "metadata": {},
   "outputs": [
    {
     "data": {
      "text/plain": [
       "array([[ 20.19729373, 234.31453125],\n",
       "       [ 21.02101643, 246.33655824],\n",
       "       [ 21.38168026, 251.23998801],\n",
       "       [ 21.72284823, 258.85585818],\n",
       "       [ 24.16936952, 286.95910934],\n",
       "       [ 24.26834747, 292.56246036],\n",
       "       [ 24.43102501, 303.04152796],\n",
       "       [ 24.47535218, 313.46102496],\n",
       "       [ 24.61477647, 335.68690137],\n",
       "       [ 25.69572129, 338.88598004],\n",
       "       [ 26.02126597, 386.51072901],\n",
       "       [ 27.8031729 , 387.58926596],\n",
       "       [ 28.01856817, 405.77799276],\n",
       "       [ 28.05342571, 407.40339714],\n",
       "       [ 29.19018332, 451.3187482 ],\n",
       "       [ 29.19789066, 486.17200668],\n",
       "       [ 29.22908402, 497.67197354],\n",
       "       [ 31.37626776, 504.55918685],\n",
       "       [ 31.57819908, 511.37181491],\n",
       "       [ 32.20419302, 518.99338733],\n",
       "       [ 32.3801921 , 570.4335792 ],\n",
       "       [ 32.88517396, 572.43494705],\n",
       "       [ 33.24789469, 627.07289831],\n",
       "       [ 33.68912402, 629.70141872],\n",
       "       [ 33.74305691, 641.44364084],\n",
       "       [ 33.81625773, 661.94539576],\n",
       "       [ 34.10948943, 710.28973956],\n",
       "       [ 34.50458617, 744.8236222 ],\n",
       "       [ 34.70699255, 760.58547577],\n",
       "       [ 35.77861051, 774.96375058],\n",
       "       [ 36.09737974, 795.11005531],\n",
       "       [ 37.85219752, 804.37327279],\n",
       "       [ 39.21489452, 829.45968182],\n",
       "       [ 40.20407574, 849.06789092],\n",
       "       [ 41.6331082 , 853.91958406],\n",
       "       [ 42.57444266, 862.95698646],\n",
       "       [ 43.79177226, 874.04953901],\n",
       "       [ 44.60628753, 887.70590888],\n",
       "       [ 44.72907641, 897.91719421],\n",
       "       [ 44.88483738, 944.55169156],\n",
       "       [  9.38200382,   6.26094248],\n",
       "       [  9.82000965,   6.26530005],\n",
       "       [ 10.18092661,   6.75349638],\n",
       "       [ 10.453427  ,   7.46719465],\n",
       "       [ 10.74557591,   8.92157858],\n",
       "       [ 10.89597753,   9.1011517 ],\n",
       "       [ 10.98206647,   9.85265765],\n",
       "       [ 11.09657166,  11.75216535],\n",
       "       [ 11.40189945,  11.94980693],\n",
       "       [ 11.71591047,  11.98040892],\n",
       "       [ 12.08266114,  12.6723658 ],\n",
       "       [ 12.14255356,  13.75901232],\n",
       "       [ 12.47571953,  14.45341306],\n",
       "       [ 12.48099936,  15.722557  ],\n",
       "       [ 12.82255981,  15.89970607],\n",
       "       [ 12.94535987,  17.66816128],\n",
       "       [ 13.878487  ,  18.01645179],\n",
       "       [ 14.36440166,  18.45422514],\n",
       "       [ 14.57004696,  19.02984453],\n",
       "       [ 14.64518177,  19.23290943]])"
      ]
     },
     "execution_count": 55,
     "metadata": {},
     "output_type": "execute_result"
    }
   ],
   "source": [
    "kn._fit_X"
   ]
  },
  {
   "cell_type": "code",
   "execution_count": 56,
   "id": "870d6c76",
   "metadata": {},
   "outputs": [
    {
     "data": {
      "text/plain": [
       "array([1, 1, 1, 1, 1, 1, 1, 1, 1, 1, 1, 1, 1, 1, 1, 1, 1, 1, 1, 1, 1, 1,\n",
       "       1, 1, 1, 1, 1, 1, 1, 1, 1, 1, 1, 1, 1, 1, 1, 1, 1, 1, 0, 0, 0, 0,\n",
       "       0, 0, 0, 0, 0, 0, 0, 0, 0, 0, 0, 0, 0, 0, 0, 0])"
      ]
     },
     "execution_count": 56,
     "metadata": {},
     "output_type": "execute_result"
    }
   ],
   "source": [
    "kn._y"
   ]
  },
  {
   "cell_type": "code",
   "execution_count": null,
   "id": "aaf57f0d",
   "metadata": {},
   "outputs": [],
   "source": []
  }
 ],
 "metadata": {
  "kernelspec": {
   "display_name": "Python 3 (ipykernel)",
   "language": "python",
   "name": "python3"
  },
  "language_info": {
   "codemirror_mode": {
    "name": "ipython",
    "version": 3
   },
   "file_extension": ".py",
   "mimetype": "text/x-python",
   "name": "python",
   "nbconvert_exporter": "python",
   "pygments_lexer": "ipython3",
   "version": "3.9.7"
  }
 },
 "nbformat": 4,
 "nbformat_minor": 5
}
