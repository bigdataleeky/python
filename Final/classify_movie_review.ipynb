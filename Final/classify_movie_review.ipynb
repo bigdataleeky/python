{
  "nbformat": 4,
  "nbformat_minor": 0,
  "metadata": {
    "colab": {
      "name": "classify_movie_review.ipynb",
      "provenance": [],
      "collapsed_sections": []
    },
    "kernelspec": {
      "name": "python3",
      "display_name": "Python 3"
    },
    "language_info": {
      "name": "python"
    }
  },
  "cells": [
    {
      "cell_type": "code",
      "execution_count": 2,
      "metadata": {
        "colab": {
          "base_uri": "https://localhost:8080/"
        },
        "id": "ZXKo5LxMRroU",
        "outputId": "9bbb902e-e5d0-43d1-d7cd-b23ff3e0f0d6"
      },
      "outputs": [
        {
          "output_type": "stream",
          "name": "stdout",
          "text": [
            "Downloading data from https://storage.googleapis.com/tensorflow/tf-keras-datasets/imdb.npz\n",
            "17465344/17464789 [==============================] - 0s 0us/step\n",
            "17473536/17464789 [==============================] - 0s 0us/step\n"
          ]
        }
      ],
      "source": [
        "# 이진 분류  IMDB  영화 리뷰데이터  긍정 부정\n",
        "from keras.datasets import imdb\n",
        "(train_data, train_label),(test_data, test_label) =  imdb.load_data(num_words=10000)"
      ]
    },
    {
      "cell_type": "code",
      "source": [
        "# num_words = 10000 은 자주 사용하는 단어 10000개만 사용\n",
        "# train_data 리뷰데이터의 단어 인덱스(단어 시퀀스가 인코딩)\n",
        "train_data[0][:10]"
      ],
      "metadata": {
        "colab": {
          "base_uri": "https://localhost:8080/"
        },
        "id": "joaffoRKSfiV",
        "outputId": "fee80a9a-a341-41a7-dac8-4930e8aaa17f"
      },
      "execution_count": 6,
      "outputs": [
        {
          "output_type": "execute_result",
          "data": {
            "text/plain": [
              "[1, 14, 22, 16, 43, 530, 973, 1622, 1385, 65]"
            ]
          },
          "metadata": {},
          "execution_count": 6
        }
      ]
    },
    {
      "cell_type": "code",
      "source": [
        "train_label[0]"
      ],
      "metadata": {
        "colab": {
          "base_uri": "https://localhost:8080/"
        },
        "id": "EeuCaVyFTJv3",
        "outputId": "c0b51c76-705b-45ec-e90c-393916c7adb0"
      },
      "execution_count": 7,
      "outputs": [
        {
          "output_type": "execute_result",
          "data": {
            "text/plain": [
              "1"
            ]
          },
          "metadata": {},
          "execution_count": 7
        }
      ]
    },
    {
      "cell_type": "code",
      "source": [
        "word_index =  imdb.get_word_index()\n",
        "word_index['fawn']"
      ],
      "metadata": {
        "colab": {
          "base_uri": "https://localhost:8080/"
        },
        "id": "JnuMPiRVTL1F",
        "outputId": "4a027736-8878-4cc2-a583-50b167c4d91f"
      },
      "execution_count": 11,
      "outputs": [
        {
          "output_type": "execute_result",
          "data": {
            "text/plain": [
              "34701"
            ]
          },
          "metadata": {},
          "execution_count": 11
        }
      ]
    },
    {
      "cell_type": "code",
      "source": [
        "# 인덱스와 단어를 매핑하도록 뒤집는다\n",
        "reverse_word_index =  dict([(value, key) for (key, value) in word_index.items()])\n",
        "# 리뷰를 디코딩\n",
        "','.join([reverse_word_index.get(i) for i in train_data[0]])"
      ],
      "metadata": {
        "colab": {
          "base_uri": "https://localhost:8080/",
          "height": 161
        },
        "id": "vguN_ZyNToil",
        "outputId": "c2588136-acdb-4339-d6b2-25a35b32bba2"
      },
      "execution_count": 31,
      "outputs": [
        {
          "output_type": "execute_result",
          "data": {
            "text/plain": [
              "\"the,as,you,with,out,themselves,powerful,lets,loves,their,becomes,reaching,had,journalist,of,lot,from,anyone,to,have,after,out,atmosphere,never,more,room,and,it,so,heart,shows,to,years,of,every,never,going,and,help,moments,or,of,every,chest,visual,movie,except,her,was,several,of,enough,more,with,is,now,current,film,as,you,of,mine,potentially,unfortunately,of,you,than,him,that,with,out,themselves,her,get,for,was,camp,of,you,movie,sometimes,movie,that,with,scary,but,and,to,story,wonderful,that,in,seeing,in,character,to,of,70s,musicians,with,heart,had,shadows,they,of,here,that,with,her,serious,to,have,does,when,from,why,what,have,critics,they,is,you,that,isn't,one,will,very,to,as,itself,with,other,and,in,of,seen,over,landed,for,anyone,of,and,br,show's,to,whether,from,than,out,themselves,history,he,name,half,some,br,of,and,odd,was,two,most,of,mean,for,1,any,an,boat,she,he,should,is,thought,frog,but,of,script,you,not,while,history,he,heart,to,real,at,barrel,but,when,from,one,bit,then,have,two,of,script,their,with,her,nobody,most,that,with,wasn't,to,with,armed,acting,watch,an,for,with,heartfelt,film,want,an\""
            ],
            "application/vnd.google.colaboratory.intrinsic+json": {
              "type": "string"
            }
          },
          "metadata": {},
          "execution_count": 31
        }
      ]
    },
    {
      "cell_type": "code",
      "source": [
        "# 데이터 준비 - 리스트를 신경망에 주입 X  리스트를 텐서로 변경\n",
        "# 1 .같은 길이가 되도록 리스트에 패딩을 추가한후 텐서로 변환\n",
        "# 2. 리스트를 원핫 인코딩 0과 1의 백터로 변환\n",
        "# 1번이나 또는 2번과 같은방법으로 생성된 데이터를 네트웍의 첫번째 층으로 설정"
      ],
      "metadata": {
        "id": "RpY6RrNWT6yl"
      },
      "execution_count": 33,
      "outputs": []
    },
    {
      "cell_type": "code",
      "source": [
        "# 2번째 방법인 원핫 벡터로 변경\n",
        "import numpy as np\n",
        "# 크기를(len(sequences) , dimension) 이고 모든 원소가 0\n",
        "def vec_sequence(sequences, dimension = 10000):\n",
        "  results = np.zeros((len(sequences), dimension) )\n",
        "  for i , sequence in enumerate(sequences):\n",
        "    results[i,sequence] = 1  # 특정 인덱스의 위치를 1로 만든다\n",
        "  return results\n",
        "\n",
        "x_train =  vec_sequence(train_data)\n",
        "x_test = vec_sequence(test_data)"
      ],
      "metadata": {
        "id": "JNMNHPBSWoj-"
      },
      "execution_count": 36,
      "outputs": []
    },
    {
      "cell_type": "code",
      "source": [
        "x_train,len(x_train)"
      ],
      "metadata": {
        "colab": {
          "base_uri": "https://localhost:8080/"
        },
        "id": "RvUja13RXsjY",
        "outputId": "429f0c0b-9a5c-43cb-d9cf-ecd05dfe8504"
      },
      "execution_count": 44,
      "outputs": [
        {
          "output_type": "execute_result",
          "data": {
            "text/plain": [
              "(array([[0., 1., 1., ..., 0., 0., 0.],\n",
              "        [0., 1., 1., ..., 0., 0., 0.],\n",
              "        [0., 1., 1., ..., 0., 0., 0.],\n",
              "        ...,\n",
              "        [0., 1., 1., ..., 0., 0., 0.],\n",
              "        [0., 1., 1., ..., 0., 0., 0.],\n",
              "        [0., 1., 1., ..., 0., 0., 0.]]), 25000)"
            ]
          },
          "metadata": {},
          "execution_count": 44
        }
      ]
    },
    {
      "cell_type": "code",
      "source": [
        "#레이블을 벡터형태로 변경\n",
        "y_train =  np.asarray(train_label).astype('float32')\n",
        "y_test = np.asarray(test_label).astype('float32')"
      ],
      "metadata": {
        "id": "kpS3tpt8YCZ2"
      },
      "execution_count": 39,
      "outputs": []
    },
    {
      "cell_type": "code",
      "source": [
        "y_train,train_label"
      ],
      "metadata": {
        "colab": {
          "base_uri": "https://localhost:8080/"
        },
        "id": "ku88Ei35YKTu",
        "outputId": "7f0ebce7-113c-4df5-d6d6-2cee8454ffcf"
      },
      "execution_count": 41,
      "outputs": [
        {
          "output_type": "execute_result",
          "data": {
            "text/plain": [
              "(array([1., 0., 0., ..., 0., 1., 0.], dtype=float32),\n",
              " array([1, 0, 0, ..., 0, 1, 0]))"
            ]
          },
          "metadata": {},
          "execution_count": 41
        }
      ]
    },
    {
      "cell_type": "code",
      "source": [
        "# 신경망 모델 만들기\n",
        "# 입력데이터 : 벡터 / 출력은 스칼라(0, 1) --> 네트웍은 relu활성화 함수를 사용한 완전연결층 Dense를 이용해서 층을 쌓는모델"
      ],
      "metadata": {
        "id": "Acd7OzpKYhwP"
      },
      "execution_count": 42,
      "outputs": []
    },
    {
      "cell_type": "code",
      "source": [
        "from keras import models, layers,optimizers,losses,metrics\n",
        "model =  models.Sequential()\n",
        "model.add(layers.Dense(16,activation='relu', input_shape=(10000,)))\n",
        "model.add(layers.Dense(16,activation='relu'))\n",
        "model.add(layers.Dense(1,activation='sigmoid'))"
      ],
      "metadata": {
        "id": "rGgyyEYJY9nQ"
      },
      "execution_count": 54,
      "outputs": []
    },
    {
      "cell_type": "code",
      "source": [
        "model.compile(optimizer='rmsprop',\n",
        "              loss = 'binary_crossentropy',\n",
        "              metrics=['accuracy']\n",
        "              )"
      ],
      "metadata": {
        "id": "jgucE0wwaiRf"
      },
      "execution_count": 55,
      "outputs": []
    },
    {
      "cell_type": "code",
      "source": [
        "# model.compile(optimizer='rmsprop',\n",
        "#               loss = losses.binary_crossentropy,\n",
        "#               metrics=[metrics.accuracy]\n",
        "#               )"
      ],
      "metadata": {
        "id": "6mcB4KH2bEon"
      },
      "execution_count": 52,
      "outputs": []
    },
    {
      "cell_type": "code",
      "source": [
        "x_val =  x_train[:10000]\n",
        "partial_x_train =  x_train[10000:]\n",
        "\n",
        "y_val = y_train[:10000]\n",
        "partial_y_train =  y_train[10000:]"
      ],
      "metadata": {
        "id": "IzeD8X-Hb16P"
      },
      "execution_count": 56,
      "outputs": []
    },
    {
      "cell_type": "code",
      "source": [
        "# 512개씩 샘플링하는 미니배치를 만든다. 20번 에포크\n",
        "history = model.fit(partial_x_train, partial_y_train,epochs=20,batch_size=512,validation_data=(x_val,y_val))"
      ],
      "metadata": {
        "colab": {
          "base_uri": "https://localhost:8080/"
        },
        "id": "8ei0TJt6cgVA",
        "outputId": "9ad7bd1c-6c51-45f9-8c46-227c4592bb19"
      },
      "execution_count": 58,
      "outputs": [
        {
          "output_type": "stream",
          "name": "stdout",
          "text": [
            "Epoch 1/20\n",
            "30/30 [==============================] - 4s 93ms/step - loss: 0.5128 - accuracy: 0.7869 - val_loss: 0.3945 - val_accuracy: 0.8572\n",
            "Epoch 2/20\n",
            "30/30 [==============================] - 2s 67ms/step - loss: 0.3047 - accuracy: 0.9033 - val_loss: 0.3093 - val_accuracy: 0.8836\n",
            "Epoch 3/20\n",
            "30/30 [==============================] - 1s 45ms/step - loss: 0.2214 - accuracy: 0.9263 - val_loss: 0.2915 - val_accuracy: 0.8830\n",
            "Epoch 4/20\n",
            "30/30 [==============================] - 1s 39ms/step - loss: 0.1737 - accuracy: 0.9437 - val_loss: 0.2934 - val_accuracy: 0.8815\n",
            "Epoch 5/20\n",
            "30/30 [==============================] - 1s 38ms/step - loss: 0.1423 - accuracy: 0.9547 - val_loss: 0.2854 - val_accuracy: 0.8869\n",
            "Epoch 6/20\n",
            "30/30 [==============================] - 1s 38ms/step - loss: 0.1142 - accuracy: 0.9659 - val_loss: 0.3087 - val_accuracy: 0.8832\n",
            "Epoch 7/20\n",
            "30/30 [==============================] - 1s 41ms/step - loss: 0.0947 - accuracy: 0.9721 - val_loss: 0.3675 - val_accuracy: 0.8733\n",
            "Epoch 8/20\n",
            "30/30 [==============================] - 1s 42ms/step - loss: 0.0789 - accuracy: 0.9772 - val_loss: 0.3319 - val_accuracy: 0.8823\n",
            "Epoch 9/20\n",
            "30/30 [==============================] - 1s 38ms/step - loss: 0.0648 - accuracy: 0.9834 - val_loss: 0.3567 - val_accuracy: 0.8811\n",
            "Epoch 10/20\n",
            "30/30 [==============================] - 1s 38ms/step - loss: 0.0536 - accuracy: 0.9870 - val_loss: 0.3826 - val_accuracy: 0.8788\n",
            "Epoch 11/20\n",
            "30/30 [==============================] - 1s 39ms/step - loss: 0.0405 - accuracy: 0.9909 - val_loss: 0.4133 - val_accuracy: 0.8778\n",
            "Epoch 12/20\n",
            "30/30 [==============================] - 1s 39ms/step - loss: 0.0321 - accuracy: 0.9944 - val_loss: 0.4403 - val_accuracy: 0.8752\n",
            "Epoch 13/20\n",
            "30/30 [==============================] - 1s 38ms/step - loss: 0.0257 - accuracy: 0.9947 - val_loss: 0.4766 - val_accuracy: 0.8727\n",
            "Epoch 14/20\n",
            "30/30 [==============================] - 1s 38ms/step - loss: 0.0203 - accuracy: 0.9960 - val_loss: 0.5115 - val_accuracy: 0.8714\n",
            "Epoch 15/20\n",
            "30/30 [==============================] - 1s 38ms/step - loss: 0.0165 - accuracy: 0.9969 - val_loss: 0.5397 - val_accuracy: 0.8702\n",
            "Epoch 16/20\n",
            "30/30 [==============================] - 1s 40ms/step - loss: 0.0117 - accuracy: 0.9984 - val_loss: 0.6359 - val_accuracy: 0.8631\n",
            "Epoch 17/20\n",
            "30/30 [==============================] - 1s 38ms/step - loss: 0.0074 - accuracy: 0.9997 - val_loss: 0.6024 - val_accuracy: 0.8678\n",
            "Epoch 18/20\n",
            "30/30 [==============================] - 1s 39ms/step - loss: 0.0106 - accuracy: 0.9980 - val_loss: 0.6370 - val_accuracy: 0.8676\n",
            "Epoch 19/20\n",
            "30/30 [==============================] - 1s 39ms/step - loss: 0.0040 - accuracy: 0.9999 - val_loss: 0.6656 - val_accuracy: 0.8665\n",
            "Epoch 20/20\n",
            "30/30 [==============================] - 1s 41ms/step - loss: 0.0069 - accuracy: 0.9987 - val_loss: 0.6987 - val_accuracy: 0.8665\n"
          ]
        }
      ]
    },
    {
      "cell_type": "code",
      "source": [
        "# 에포크가 끝날때마다 10000개의 검증증 샘플 데이터에서 손실과 정확도를 계산\n",
        "history_dic =  history.history\n",
        "history_dic.keys()"
      ],
      "metadata": {
        "colab": {
          "base_uri": "https://localhost:8080/"
        },
        "id": "yKNaxzETdLKp",
        "outputId": "df2e3fc6-7e14-478f-c3f2-cf2b93f3d4ff"
      },
      "execution_count": 62,
      "outputs": [
        {
          "output_type": "execute_result",
          "data": {
            "text/plain": [
              "dict_keys(['loss', 'accuracy', 'val_loss', 'val_accuracy'])"
            ]
          },
          "metadata": {},
          "execution_count": 62
        }
      ]
    },
    {
      "cell_type": "code",
      "source": [
        "import matplotlib.pyplot as plt"
      ],
      "metadata": {
        "id": "skmcjRDlghco"
      },
      "execution_count": 63,
      "outputs": []
    },
    {
      "cell_type": "code",
      "source": [
        "acc = history_dic['accuracy']\n",
        "val_acc = history_dic['val_loss']\n",
        "loss = history_dic['loss']\n",
        "val_loss = history_dic['val_loss']\n",
        "\n",
        "epochs =  range(1, len(acc)+1)\n",
        "\n",
        "plt.plot(epochs,loss,'bo',label='Training loss')  # bo는 파란색 점\n",
        "plt.plot(epochs,val_loss,'b',label='Validation loss')  # b는 파란색 실선\n",
        "plt.title('Training and validation loss')\n",
        "plt.xlabel('Epochs')\n",
        "plt.ylabel('Loss')\n",
        "plt.legend()\n",
        "plt.show()"
      ],
      "metadata": {
        "colab": {
          "base_uri": "https://localhost:8080/",
          "height": 295
        },
        "id": "RoZgaTkHg2tA",
        "outputId": "3ca0bbf9-9fab-4d99-ac9a-24acdc255beb"
      },
      "execution_count": 66,
      "outputs": [
        {
          "output_type": "display_data",
          "data": {
            "text/plain": [
              "<Figure size 432x288 with 1 Axes>"
            ],
            "image/png": "[encoded data removed]"
          },
          "metadata": {
            "needs_background": "light"
          }
        }
      ]
    },
    {
      "cell_type": "code",
      "source": [
        "acc = history_dic['accuracy']\n",
        "val_acc = history_dic['val_loss']\n",
        "loss = history_dic['loss']\n",
        "val_loss = history_dic['val_loss']\n",
        "\n",
        "epochs =  range(1, len(acc)+1)\n",
        "\n",
        "plt.plot(epochs,acc,'bo',label='Training acc')  # bo는 파란색 점\n",
        "plt.plot(epochs,val_acc,'b',label='Validation acc')  # b는 파란색 실선\n",
        "plt.title('Training and validation acc')\n",
        "plt.xlabel('Epochs')\n",
        "plt.ylabel('Accuracy')\n",
        "plt.legend()\n",
        "plt.show()"
      ],
      "metadata": {
        "colab": {
          "base_uri": "https://localhost:8080/",
          "height": 295
        },
        "id": "u0_PLQi2hGVh",
        "outputId": "bc039a60-0fc5-42d2-ae06-f8630c740405"
      },
      "execution_count": 67,
      "outputs": [
        {
          "output_type": "display_data",
          "data": {
            "text/plain": [
              "<Figure size 432x288 with 1 Axes>"
            ],
            "image/png": "[encoded data removed]"
          },
          "metadata": {
            "needs_background": "light"
          }
        }
      ]
    },
    {
      "cell_type": "code",
      "source": [
        "#위의 그래프를 보면... 훈련데이터에 대해서는 에포크가 증가할수록 손실율 낮고 정확도는 높아진다.--> 경사 하강법을 사용했기 때문에\n",
        "# 검증데이터는 훈련데이터하고 차이가 많이난다....  과대적합(훈련데이터만 성능이 월등히 뛰어나고 검증은 형편없을때)"
      ],
      "metadata": {
        "id": "Mt_Ne3ocimCg"
      },
      "execution_count": 68,
      "outputs": []
    },
    {
      "cell_type": "code",
      "source": [
        "model =  models.Sequential()\n",
        "model.add(layers.Dense(16,activation='relu', input_shape=(10000,)))\n",
        "model.add(layers.Dense(16,activation='relu'))\n",
        "model.add(layers.Dense(1,activation='sigmoid'))\n",
        "model.compile(optimizer='rmsprop',\n",
        "              loss = 'binary_crossentropy',\n",
        "              metrics=['accuracy']\n",
        "              )\n",
        "history = model.fit(x_train, y_train,epochs=4,batch_size=512,validation_data=(x_val,y_val))\n",
        "result = model.evaluate(x_test,y_test)\n",
        "result"
      ],
      "metadata": {
        "colab": {
          "base_uri": "https://localhost:8080/"
        },
        "id": "VySEFlChj20B",
        "outputId": "a77009c8-7a14-409d-d60c-4bc85d69b202"
      },
      "execution_count": 69,
      "outputs": [
        {
          "output_type": "stream",
          "name": "stdout",
          "text": [
            "Epoch 1/4\n",
            "49/49 [==============================] - 3s 42ms/step - loss: 0.4475 - accuracy: 0.8240 - val_loss: 0.2984 - val_accuracy: 0.8973\n",
            "Epoch 2/4\n",
            "49/49 [==============================] - 2s 35ms/step - loss: 0.2586 - accuracy: 0.9095 - val_loss: 0.2034 - val_accuracy: 0.9344\n",
            "Epoch 3/4\n",
            "49/49 [==============================] - 2s 34ms/step - loss: 0.2006 - accuracy: 0.9282 - val_loss: 0.1639 - val_accuracy: 0.9470\n",
            "Epoch 4/4\n",
            "49/49 [==============================] - 2s 36ms/step - loss: 0.1679 - accuracy: 0.9407 - val_loss: 0.1342 - val_accuracy: 0.9587\n",
            "782/782 [==============================] - 2s 2ms/step - loss: 0.2987 - accuracy: 0.8807\n"
          ]
        },
        {
          "output_type": "execute_result",
          "data": {
            "text/plain": [
              "[0.2987116277217865, 0.8806800246238708]"
            ]
          },
          "metadata": {},
          "execution_count": 69
        }
      ]
    },
    {
      "cell_type": "code",
      "source": [
        "# 예측\n",
        "model.predict(x_test)"
      ],
      "metadata": {
        "colab": {
          "base_uri": "https://localhost:8080/"
        },
        "id": "W3sZvABUkJIi",
        "outputId": "5532a724-0907-4a0c-9c53-15b18f16f2e9"
      },
      "execution_count": 70,
      "outputs": [
        {
          "output_type": "execute_result",
          "data": {
            "text/plain": [
              "array([[0.1707074 ],\n",
              "       [0.9994957 ],\n",
              "       [0.64956737],\n",
              "       ...,\n",
              "       [0.11662355],\n",
              "       [0.07369015],\n",
              "       [0.5069169 ]], dtype=float32)"
            ]
          },
          "metadata": {},
          "execution_count": 70
        }
      ]
    },
    {
      "cell_type": "code",
      "source": [
        "# 어떤 셈플에 대해서는 0과 가깝거나 1과 가깝다고 할수 있지만 0.5 0.6처럼 확신이 부족...."
      ],
      "metadata": {
        "id": "UHkXVehtkcwi"
      },
      "execution_count": 71,
      "outputs": []
    },
    {
      "cell_type": "code",
      "source": [
        "#추가사항\n",
        "# 은닉층이 2개인데... 한개 또는 3개를 사용해서 검증과 테스트 정확도 확인... 은닉층이 어떤영향을 미치는지\n",
        "# 은닉층의 유닛또는 뉴런의 개수를 추가하거나 감소  32 64 128\n",
        "# relu .. tanh : 활성화 함수 조정"
      ],
      "metadata": {
        "id": "gwFaluUNkyMh"
      },
      "execution_count": 72,
      "outputs": []
    },
    {
      "cell_type": "code",
      "source": [
        "#정리\n",
        "# 인코딩 방식\n",
        "# relu방식 dense층을쌓는 방식... 감성분류 자주사용\n",
        "# 이진분류  sigmoid\n",
        "# 손실함수 binary_crossentropy\n",
        "# 옵티마이져 rmsprop(대표적)\n",
        "# 과대적합 발생 확율이 높다. 항상 훈련세트외에 모니터링 할수 있는 검증데이터를 준비"
      ],
      "metadata": {
        "id": "PlpzJsF2lT5r"
      },
      "execution_count": null,
      "outputs": []
    }
  ]
}