{
  "nbformat": 4,
  "nbformat_minor": 0,
  "metadata": {
    "colab": {
      "name": "classify_news.ipynb",
      "provenance": []
    },
    "kernelspec": {
      "name": "python3",
      "display_name": "Python 3"
    },
    "language_info": {
      "name": "python"
    }
  },
  "cells": [
    {
      "cell_type": "code",
      "execution_count": 1,
      "metadata": {
        "id": "8-LbiYKumdcd"
      },
      "outputs": [],
      "source": [
        "# 자연어 처리... 다중 분류  뉴스..."
      ]
    },
    {
      "cell_type": "code",
      "source": [
        "from keras.datasets import reuters\n",
        "(train_data, train_label),(test_data, test_label) =  reuters.load_data(num_words=10000)"
      ],
      "metadata": {
        "id": "JLH3NDpRmn5h"
      },
      "execution_count": 13,
      "outputs": []
    },
    {
      "cell_type": "code",
      "source": [
        "train_data.shape, test_data.shape"
      ],
      "metadata": {
        "colab": {
          "base_uri": "https://localhost:8080/"
        },
        "id": "IWurtG4cm3h6",
        "outputId": "c59505e0-bc53-452d-d034-0591bca80795"
      },
      "execution_count": 14,
      "outputs": [
        {
          "output_type": "execute_result",
          "data": {
            "text/plain": [
              "((8982,), (2246,))"
            ]
          },
          "metadata": {},
          "execution_count": 14
        }
      ]
    },
    {
      "cell_type": "code",
      "source": [
        "train_label"
      ],
      "metadata": {
        "colab": {
          "base_uri": "https://localhost:8080/"
        },
        "id": "f_L1EP-SnCnj",
        "outputId": "6036c6dc-cb74-4af7-f3d9-d06bbd89708b"
      },
      "execution_count": 15,
      "outputs": [
        {
          "output_type": "execute_result",
          "data": {
            "text/plain": [
              "array([ 3,  4,  3, ..., 25,  3, 25])"
            ]
          },
          "metadata": {},
          "execution_count": 15
        }
      ]
    },
    {
      "cell_type": "code",
      "source": [
        "# classify_movie_review 를 참고할것\n",
        "# 데이터 준비\n",
        "# 데이터를 벡터로 변환  2차원 행열\n",
        "import numpy as np\n",
        "\n",
        "def vec_sequence(sequences, dimension = 10000):\n",
        "  results = np.zeros((len(sequences), dimension) )\n",
        "  for i , sequence in enumerate(sequences):\n",
        "    results[i,sequence] = 1  # 특정 인덱스의 위치를 1로 만든다\n",
        "  return results\n",
        "  \n",
        "x_train = vec_sequence(train_data)\n",
        "x_test = vec_sequence(test_data)"
      ],
      "metadata": {
        "id": "sZXDtdH3nIX6"
      },
      "execution_count": 17,
      "outputs": []
    },
    {
      "cell_type": "code",
      "source": [
        "# 원 핫 인코딩 함수  각 레이블의 인덱스 자리는 1이고 나머지는 0으로 채움\n",
        "len(np.unique( train_label))  # 46\n",
        "def one_hot(labels, dimension = len(np.unique( train_label))):\n",
        "  results = np.zeros((len(labels), dimension))\n",
        "  for i ,label in enumerate(labels):\n",
        "    results[i,label] = 1\n",
        "  return results\n",
        "\n",
        "ont_hot_train_label = one_hot(train_label)\n",
        "ont_hot_test_label = one_hot(test_label)\n",
        "\n"
      ],
      "metadata": {
        "id": "fBIjsjL0npNi"
      },
      "execution_count": 23,
      "outputs": []
    },
    {
      "cell_type": "code",
      "source": [
        ""
      ],
      "metadata": {
        "id": "REkVOJHjolMS"
      },
      "execution_count": null,
      "outputs": []
    }
  ]
}