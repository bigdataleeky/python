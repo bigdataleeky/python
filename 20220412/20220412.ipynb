{
 "cells": [
  {
   "cell_type": "code",
   "execution_count": 30,
   "id": "cf9103d8",
   "metadata": {},
   "outputs": [
    {
     "name": "stdout",
     "output_type": "stream",
     "text": [
      ".. _iris_dataset:\n",
      "\n",
      "Iris plants dataset\n",
      "--------------------\n",
      "\n",
      "**Data Set Characteristics:**\n",
      "\n",
      "    :Number of Instances: 150 (50 in each of three classes)\n",
      "    :Number of Attributes: 4 numeric, predictive attributes and the class\n",
      "    :Attribute Information:\n",
      "        - sepal length in cm\n",
      "        - sepal width in cm\n",
      "        - petal length in cm\n",
      "        - petal width in cm\n",
      "        - class:\n",
      "                - Iris-Setosa\n",
      "                - Iris-Versicolour\n",
      "                - Iris-Virginica\n",
      "                \n",
      "    :Summary Statistics:\n",
      "\n",
      "    ============== ==== ==== ======= ===== ====================\n",
      "                    Min  Max   Mean    SD   Class Correlation\n",
      "    ============== ==== ==== ======= ===== ====================\n",
      "    sepal length:   4.3  7.9   5.84   0.83    0.7826\n",
      "    sepal width:    2.0  4.4   3.05   0.43   -0.4194\n",
      "    petal length:   1.0  6.9   3.76   1.76    0.9490  (high!)\n",
      "    petal width:    0.1  2.5   1.20   0.76    0.9565  (high!)\n",
      "    ============== ==== ==== ======= ===== ====================\n",
      "\n",
      "    :Missing Attribute Values: None\n",
      "    :Class Distribution: 33.3% for each of 3 classes.\n",
      "    :Creator: R.A. Fisher\n",
      "    :Donor: Michael Marshall (MARSHALL%PLU@io.arc.nasa.gov)\n",
      "    :Date: July, 1988\n",
      "\n",
      "The famous Iris database, first used by Sir R.A. Fisher. The dataset is taken\n",
      "from Fisher's paper. Note that it's the same as in R, but not as in the UCI\n",
      "Machine Learning Repository, which has two wrong data points.\n",
      "\n",
      "This is perhaps the best known database to be found in the\n",
      "pattern recognition literature.  Fisher's paper is a classic in the field and\n",
      "is referenced frequently to this day.  (See Duda & Hart, for example.)  The\n",
      "data set contains 3 classes of 50 instances each, where each class refers to a\n",
      "type of iris plant.  One class is linearly separable from the other 2; the\n",
      "latter are NOT linearly separable from each other.\n",
      "\n",
      ".. topic:: References\n",
      "\n",
      "   - Fisher, R.A. \"The use of multiple measurements in taxonomic problems\"\n",
      "     Annual Eugenics, 7, Part II, 179-188 (1936); also in \"Contributions to\n",
      "     Mathematical Statistics\" (John Wiley, NY, 1950).\n",
      "   - Duda, R.O., & Hart, P.E. (1973) Pattern Classification and Scene Analysis.\n",
      "     (Q327.D83) John Wiley & Sons.  ISBN 0-471-22361-1.  See page 218.\n",
      "   - Dasarathy, B.V. (1980) \"Nosing Around the Neighborhood: A New System\n",
      "     Structure and Classification Rule for Recognition in Partially Exposed\n",
      "     Environments\".  IEEE Transactions on Pattern Analysis and Machine\n",
      "     Intelligence, Vol. PAMI-2, No. 1, 67-71.\n",
      "   - Gates, G.W. (1972) \"The Reduced Nearest Neighbor Rule\".  IEEE Transactions\n",
      "     on Information Theory, May 1972, 431-433.\n",
      "   - See also: 1988 MLC Proceedings, 54-64.  Cheeseman et al\"s AUTOCLASS II\n",
      "     conceptual clustering system finds 3 classes in the data.\n",
      "   - Many, many more ...\n"
     ]
    }
   ],
   "source": [
    "import pandas as pd\n",
    "import numpy as np\n",
    "# 기계학습\n",
    "from sklearn import datasets\n",
    "d = datasets.load_iris()\n",
    "print(d.DESCR)"
   ]
  },
  {
   "cell_type": "code",
   "execution_count": 4,
   "id": "5c4746c5",
   "metadata": {},
   "outputs": [
    {
     "data": {
      "text/plain": [
       "SVC(C=10, gamma=0.1)"
      ]
     },
     "execution_count": 4,
     "metadata": {},
     "output_type": "execute_result"
    }
   ],
   "source": [
    "from sklearn import svm\n",
    "s = svm.SVC(gamma=0.1,C=10)\n",
    "s.fit(d.data,d.target)"
   ]
  },
  {
   "cell_type": "code",
   "execution_count": 9,
   "id": "98512588",
   "metadata": {},
   "outputs": [
    {
     "data": {
      "text/plain": [
       "(150, 4)"
      ]
     },
     "execution_count": 9,
     "metadata": {},
     "output_type": "execute_result"
    }
   ],
   "source": [
    "d.data.shape"
   ]
  },
  {
   "cell_type": "code",
   "execution_count": 12,
   "id": "69673c89",
   "metadata": {},
   "outputs": [
    {
     "data": {
      "text/plain": [
       "array([2])"
      ]
     },
     "execution_count": 12,
     "metadata": {},
     "output_type": "execute_result"
    }
   ],
   "source": [
    "# 예측을 하려면 학습한 형태로 데이터를 전달해야 함\n",
    "new_d = [[10.5, 8.3, 20.5, 16.8]]\n",
    "predict = s.predict(new_d)\n",
    "predict"
   ]
  },
  {
   "cell_type": "code",
   "execution_count": 19,
   "id": "640d1ce0",
   "metadata": {},
   "outputs": [
    {
     "data": {
      "text/plain": [
       "array([1])"
      ]
     },
     "execution_count": 19,
     "metadata": {},
     "output_type": "execute_result"
    }
   ],
   "source": [
    "new_d = [[7.5, 3.3, 4.2, 1.8]]\n",
    "predict = s.predict(new_d)\n",
    "predict"
   ]
  },
  {
   "cell_type": "code",
   "execution_count": 20,
   "id": "597e5fd1",
   "metadata": {},
   "outputs": [],
   "source": [
    "# 원샷 학습\n",
    "# 레이블이 있는 셈플을 하나만 사용하는 것을 1-shot learning\n",
    "# 퓨샷 학습\n",
    "# 몇개의 셈플을 사용하는 것을 few-shot learning\n",
    "# 준지도 학습\n",
    "#소량의  셈플과 레이블이 없는 대량의 샘플을 같이 사용 semi-supervised learning"
   ]
  },
  {
   "cell_type": "code",
   "execution_count": 50,
   "id": "e7243fc1",
   "metadata": {},
   "outputs": [],
   "source": [
    "newData = np.concatenate( (d.data, d.target.reshape(-1,1)),axis = 1)\n",
    "df = pd.DataFrame(newData,columns=d.feature_names + [\"class\"])\n",
    "df.head()\n",
    "fig = px.scatter_3d(df, x= 'sepal length (cm)',y='sepal width (cm)',z='petal length (cm)',color = 'class')\n",
    "fig.show(renderer = \"browser\")\n"
   ]
  },
  {
   "cell_type": "code",
   "execution_count": 51,
   "id": "b4c7389e",
   "metadata": {},
   "outputs": [
    {
     "data": {
      "text/html": [
       "<div>\n",
       "<style scoped>\n",
       "    .dataframe tbody tr th:only-of-type {\n",
       "        vertical-align: middle;\n",
       "    }\n",
       "\n",
       "    .dataframe tbody tr th {\n",
       "        vertical-align: top;\n",
       "    }\n",
       "\n",
       "    .dataframe thead th {\n",
       "        text-align: right;\n",
       "    }\n",
       "</style>\n",
       "<table border=\"1\" class=\"dataframe\">\n",
       "  <thead>\n",
       "    <tr style=\"text-align: right;\">\n",
       "      <th></th>\n",
       "      <th>sepal length (cm)</th>\n",
       "      <th>sepal width (cm)</th>\n",
       "      <th>petal length (cm)</th>\n",
       "      <th>petal width (cm)</th>\n",
       "      <th>class</th>\n",
       "    </tr>\n",
       "  </thead>\n",
       "  <tbody>\n",
       "    <tr>\n",
       "      <th>0</th>\n",
       "      <td>5.1</td>\n",
       "      <td>3.5</td>\n",
       "      <td>1.4</td>\n",
       "      <td>0.2</td>\n",
       "      <td>0</td>\n",
       "    </tr>\n",
       "    <tr>\n",
       "      <th>1</th>\n",
       "      <td>4.9</td>\n",
       "      <td>3.0</td>\n",
       "      <td>1.4</td>\n",
       "      <td>0.2</td>\n",
       "      <td>0</td>\n",
       "    </tr>\n",
       "    <tr>\n",
       "      <th>2</th>\n",
       "      <td>4.7</td>\n",
       "      <td>3.2</td>\n",
       "      <td>1.3</td>\n",
       "      <td>0.2</td>\n",
       "      <td>0</td>\n",
       "    </tr>\n",
       "    <tr>\n",
       "      <th>3</th>\n",
       "      <td>4.6</td>\n",
       "      <td>3.1</td>\n",
       "      <td>1.5</td>\n",
       "      <td>0.2</td>\n",
       "      <td>0</td>\n",
       "    </tr>\n",
       "    <tr>\n",
       "      <th>4</th>\n",
       "      <td>5.0</td>\n",
       "      <td>3.6</td>\n",
       "      <td>1.4</td>\n",
       "      <td>0.2</td>\n",
       "      <td>0</td>\n",
       "    </tr>\n",
       "  </tbody>\n",
       "</table>\n",
       "</div>"
      ],
      "text/plain": [
       "   sepal length (cm)  sepal width (cm)  petal length (cm)  petal width (cm)  \\\n",
       "0                5.1               3.5                1.4               0.2   \n",
       "1                4.9               3.0                1.4               0.2   \n",
       "2                4.7               3.2                1.3               0.2   \n",
       "3                4.6               3.1                1.5               0.2   \n",
       "4                5.0               3.6                1.4               0.2   \n",
       "\n",
       "   class  \n",
       "0      0  \n",
       "1      0  \n",
       "2      0  \n",
       "3      0  \n",
       "4      0  "
      ]
     },
     "execution_count": 51,
     "metadata": {},
     "output_type": "execute_result"
    }
   ],
   "source": [
    "temp = pd.DataFrame(d.data,columns=d.feature_names)\n",
    "temp['class'] = d.target\n",
    "temp.head()"
   ]
  },
  {
   "cell_type": "code",
   "execution_count": 23,
   "id": "478c3708",
   "metadata": {},
   "outputs": [
    {
     "data": {
      "text/html": [
       "<div>\n",
       "<style scoped>\n",
       "    .dataframe tbody tr th:only-of-type {\n",
       "        vertical-align: middle;\n",
       "    }\n",
       "\n",
       "    .dataframe tbody tr th {\n",
       "        vertical-align: top;\n",
       "    }\n",
       "\n",
       "    .dataframe thead th {\n",
       "        text-align: right;\n",
       "    }\n",
       "</style>\n",
       "<table border=\"1\" class=\"dataframe\">\n",
       "  <thead>\n",
       "    <tr style=\"text-align: right;\">\n",
       "      <th></th>\n",
       "      <th>sepal_length</th>\n",
       "      <th>sepal_width</th>\n",
       "      <th>petal_length</th>\n",
       "      <th>petal_width</th>\n",
       "      <th>species</th>\n",
       "      <th>species_id</th>\n",
       "    </tr>\n",
       "  </thead>\n",
       "  <tbody>\n",
       "    <tr>\n",
       "      <th>0</th>\n",
       "      <td>5.1</td>\n",
       "      <td>3.5</td>\n",
       "      <td>1.4</td>\n",
       "      <td>0.2</td>\n",
       "      <td>setosa</td>\n",
       "      <td>1</td>\n",
       "    </tr>\n",
       "    <tr>\n",
       "      <th>1</th>\n",
       "      <td>4.9</td>\n",
       "      <td>3.0</td>\n",
       "      <td>1.4</td>\n",
       "      <td>0.2</td>\n",
       "      <td>setosa</td>\n",
       "      <td>1</td>\n",
       "    </tr>\n",
       "    <tr>\n",
       "      <th>2</th>\n",
       "      <td>4.7</td>\n",
       "      <td>3.2</td>\n",
       "      <td>1.3</td>\n",
       "      <td>0.2</td>\n",
       "      <td>setosa</td>\n",
       "      <td>1</td>\n",
       "    </tr>\n",
       "    <tr>\n",
       "      <th>3</th>\n",
       "      <td>4.6</td>\n",
       "      <td>3.1</td>\n",
       "      <td>1.5</td>\n",
       "      <td>0.2</td>\n",
       "      <td>setosa</td>\n",
       "      <td>1</td>\n",
       "    </tr>\n",
       "    <tr>\n",
       "      <th>4</th>\n",
       "      <td>5.0</td>\n",
       "      <td>3.6</td>\n",
       "      <td>1.4</td>\n",
       "      <td>0.2</td>\n",
       "      <td>setosa</td>\n",
       "      <td>1</td>\n",
       "    </tr>\n",
       "  </tbody>\n",
       "</table>\n",
       "</div>"
      ],
      "text/plain": [
       "   sepal_length  sepal_width  petal_length  petal_width species  species_id\n",
       "0           5.1          3.5           1.4          0.2  setosa           1\n",
       "1           4.9          3.0           1.4          0.2  setosa           1\n",
       "2           4.7          3.2           1.3          0.2  setosa           1\n",
       "3           4.6          3.1           1.5          0.2  setosa           1\n",
       "4           5.0          3.6           1.4          0.2  setosa           1"
      ]
     },
     "execution_count": 23,
     "metadata": {},
     "output_type": "execute_result"
    }
   ],
   "source": [
    "import plotly.express as px\n",
    "df = px.data.iris()\n",
    "df.head()"
   ]
  },
  {
   "cell_type": "code",
   "execution_count": 25,
   "id": "4247959c",
   "metadata": {},
   "outputs": [],
   "source": [
    "fig = px.scatter_3d(df, x= 'sepal_length',y='sepal_width',z='petal_length',color = 'species')\n",
    "fig.show(renderer = \"browser\")"
   ]
  },
  {
   "cell_type": "code",
   "execution_count": 52,
   "id": "ee89df37",
   "metadata": {},
   "outputs": [],
   "source": [
    "# 영상 데이터\n",
    "# 필기 숫자 데이터\n",
    "# sklearn  8*8      1797 sample\n",
    "# MNIST     28*28   7만개 sample "
   ]
  },
  {
   "cell_type": "code",
   "execution_count": 54,
   "id": "bce217b2",
   "metadata": {},
   "outputs": [
    {
     "name": "stdout",
     "output_type": "stream",
     "text": [
      ".. _digits_dataset:\n",
      "\n",
      "Optical recognition of handwritten digits dataset\n",
      "--------------------------------------------------\n",
      "\n",
      "**Data Set Characteristics:**\n",
      "\n",
      "    :Number of Instances: 1797\n",
      "    :Number of Attributes: 64\n",
      "    :Attribute Information: 8x8 image of integer pixels in the range 0..16.\n",
      "    :Missing Attribute Values: None\n",
      "    :Creator: E. Alpaydin (alpaydin '@' boun.edu.tr)\n",
      "    :Date: July; 1998\n",
      "\n",
      "This is a copy of the test set of the UCI ML hand-written digits datasets\n",
      "https://archive.ics.uci.edu/ml/datasets/Optical+Recognition+of+Handwritten+Digits\n",
      "\n",
      "The data set contains images of hand-written digits: 10 classes where\n",
      "each class refers to a digit.\n",
      "\n",
      "Preprocessing programs made available by NIST were used to extract\n",
      "normalized bitmaps of handwritten digits from a preprinted form. From a\n",
      "total of 43 people, 30 contributed to the training set and different 13\n",
      "to the test set. 32x32 bitmaps are divided into nonoverlapping blocks of\n",
      "4x4 and the number of on pixels are counted in each block. This generates\n",
      "an input matrix of 8x8 where each element is an integer in the range\n",
      "0..16. This reduces dimensionality and gives invariance to small\n",
      "distortions.\n",
      "\n",
      "For info on NIST preprocessing routines, see M. D. Garris, J. L. Blue, G.\n",
      "T. Candela, D. L. Dimmick, J. Geist, P. J. Grother, S. A. Janet, and C.\n",
      "L. Wilson, NIST Form-Based Handprint Recognition System, NISTIR 5469,\n",
      "1994.\n",
      "\n",
      ".. topic:: References\n",
      "\n",
      "  - C. Kaynak (1995) Methods of Combining Multiple Classifiers and Their\n",
      "    Applications to Handwritten Digit Recognition, MSc Thesis, Institute of\n",
      "    Graduate Studies in Science and Engineering, Bogazici University.\n",
      "  - E. Alpaydin, C. Kaynak (1998) Cascading Classifiers, Kybernetika.\n",
      "  - Ken Tang and Ponnuthurai N. Suganthan and Xi Yao and A. Kai Qin.\n",
      "    Linear dimensionalityreduction using relevance weighted LDA. School of\n",
      "    Electrical and Electronic Engineering Nanyang Technological University.\n",
      "    2005.\n",
      "  - Claudio Gentile. A New Approximate Maximal Margin Classification\n",
      "    Algorithm. NIPS. 2000.\n",
      "\n"
     ]
    }
   ],
   "source": [
    "import matplotlib.pylab as plt\n",
    "digit = datasets.load_digits()\n",
    "print(digit.DESCR)"
   ]
  },
  {
   "cell_type": "code",
   "execution_count": 59,
   "id": "5790516d",
   "metadata": {},
   "outputs": [
    {
     "data": {
      "image/png": "[encoded data removed]",
      "text/plain": [
       "<Figure size 144x144 with 1 Axes>"
      ]
     },
     "metadata": {
      "needs_background": "light"
     },
     "output_type": "display_data"
    },
    {
     "name": "stdout",
     "output_type": "stream",
     "text": [
      "[ 0.  0.  5. 13.  9.  1.  0.  0.  0.  0. 13. 15. 10. 15.  5.  0.  0.  3.\n",
      " 15.  2.  0. 11.  8.  0.  0.  4. 12.  0.  0.  8.  8.  0.  0.  5.  8.  0.\n",
      "  0.  9.  8.  0.  0.  4. 11.  0.  1. 12.  7.  0.  0.  2. 14.  5. 10. 12.\n",
      "  0.  0.  0.  0.  6. 13. 10.  0.  0.  0.]\n"
     ]
    }
   ],
   "source": [
    "plt.figure(figsize=(2,2))\n",
    "#plt.show(digit.images[0],cmap=\"gray_r\")\n",
    "plt.imshow(digit.images[0],cmap=plt.cm.gray_r,interpolation='nearest')\n",
    "plt.show()\n",
    "print(digit.data[0]) # 화소값"
   ]
  },
  {
   "cell_type": "code",
   "execution_count": 92,
   "id": "b41f8b48",
   "metadata": {},
   "outputs": [
    {
     "data": {
      "image/png": "[encoded data removed]",
      "text/plain": [
       "<Figure size 1440x360 with 5 Axes>"
      ]
     },
     "metadata": {
      "needs_background": "light"
     },
     "output_type": "display_data"
    }
   ],
   "source": [
    "# 유명인의 얼굴데이터\n",
    "lfw = datasets.fetch_lfw_people(min_faces_per_person=20,resize=0.4)\n",
    "plt.figure(figsize=(20,5))\n",
    "\n",
    "for i in range(10,15):\n",
    "    plt.subplot(1,5,i%10+1)\n",
    "    plt.imshow(lfw.images[i], cmap=plt.cm.bone)\n",
    "    plt.title(lfw.target_names[lfw.target[i]])\n",
    "\n",
    "plt.show()\n"
   ]
  },
  {
   "cell_type": "code",
   "execution_count": 98,
   "id": "8999df37",
   "metadata": {},
   "outputs": [
    {
     "name": "stdout",
     "output_type": "stream",
     "text": [
      "From: lerxst@wam.umd.edu (where's my thing)\n",
      "Subject: WHAT car is this!?\n",
      "Nntp-Posting-Host: rac3.wam.umd.edu\n",
      "Organization: University of Maryland, College Park\n",
      "Lines: 15\n",
      "\n",
      " I was wondering if anyone out there could enlighten me on this car I saw\n",
      "the other day. It was a 2-door sports car, looked to be from the late 60s/\n",
      "early 70s. It was called a Bricklin. The doors were really small. In addition,\n",
      "the front bumper was separate from the rest of the body. This is \n",
      "all I know. If anyone can tellme a model name, engine specs, years\n",
      "of production, where this car is made, history, or whatever info you\n",
      "have on this funky looking car, please e-mail.\n",
      "\n",
      "Thanks,\n",
      "- IL\n",
      "   ---- brought to you by your neighborhood Lerxst ----\n",
      "\n",
      "\n",
      "\n",
      "\n",
      "\n"
     ]
    }
   ],
   "source": [
    "# news 데이터 - 순환신경망을 이용\n",
    "# 웹에서 수집한 문서를 20개 부류로 구분, 텍스트로 구성되어서 각 샘플의 길이가 다름\n",
    "# 시계열데이터(단어가 나타나는 순서가 중요)\n",
    "\n",
    "news = datasets.fetch_20newsgroups(subset='train')\n",
    "# print(news[0])\n",
    "# print(\"문서의 부류는 \"+news.target_names[news.target[0]])\n",
    "print(news.data[0])"
   ]
  },
  {
   "cell_type": "code",
   "execution_count": 99,
   "id": "63ce26c5",
   "metadata": {},
   "outputs": [],
   "source": [
    "# 테이터수집 --> EDA(특징 추출) ->모델링->예측"
   ]
  },
  {
   "cell_type": "code",
   "execution_count": 100,
   "id": "30919770",
   "metadata": {},
   "outputs": [],
   "source": [
    "# 분별력\n",
    "# 머신러닝(기계 학습) - 높은 분별력을 가지는 특징을 사용해야"
   ]
  },
  {
   "cell_type": "code",
   "execution_count": 103,
   "id": "4ef18fd0",
   "metadata": {},
   "outputs": [
    {
     "data": {
      "text/plain": [
       "SVC(C=10, gamma=0.1)"
      ]
     },
     "execution_count": 103,
     "metadata": {},
     "output_type": "execute_result"
    }
   ],
   "source": [
    "# SVC\n",
    "from sklearn import svm\n",
    "digit = datasets.load_digits()\n",
    "# SVC 모델을 학습\n",
    "s = svm.SVC(gamma=0.1, C=10)\n",
    "s.fit(digit.data, digit.target)"
   ]
  },
  {
   "cell_type": "code",
   "execution_count": 107,
   "id": "82dd13fd",
   "metadata": {},
   "outputs": [
    {
     "name": "stdout",
     "output_type": "stream",
     "text": [
      "예측값 [0 1 2]\n",
      "실제 값  0 1 2\n"
     ]
    }
   ],
   "source": [
    "new_d = [digit.data[0],digit.data[1],digit.data[2]]\n",
    "predict = s.predict(new_d)\n",
    "print(\"예측값\" , predict)\n",
    "print(\"실제 값 \" , digit.target[0], digit.target[1],digit.target[2])"
   ]
  },
  {
   "cell_type": "code",
   "execution_count": 109,
   "id": "7c4fafc2",
   "metadata": {},
   "outputs": [
    {
     "name": "stdout",
     "output_type": "stream",
     "text": [
      "화소 특징을 사용했을때의 정확율 = 100.0%\n"
     ]
    }
   ],
   "source": [
    "# 예측값\n",
    "predict =  s.predict(digit.data)\n",
    "# 정확히 예측한 값\n",
    "corrent = [i for i in range(len(predict)) if predict[i] == digit.target[i]]\n",
    "acuuracy = len(corrent) / len(predict)\n",
    "print(f\"화소 특징을 사용했을때의 정확율 = {acuuracy*100}%\")"
   ]
  },
  {
   "cell_type": "code",
   "execution_count": 110,
   "id": "6cc933ed",
   "metadata": {},
   "outputs": [
    {
     "data": {
      "text/plain": [
       "'\\naccuracy 정확율:   부류가 불균형일때 성능을 제대로 반영 못함\\n = 맞힌셈플수 / 전체샘플수      대각선 샘플수 / 전체샘플수\\n \\n특이도(specificity)와 민감도(sensitivity) --> 의료에서 사용함\\n특이도 TN / TN + FP  민감도 TP / TP + FN\\n\\n정밀도(precision) 와 재현률(recal) -> 정보검색\\n정밀도 TP / TP + FP   재현률 TP / TP + FN\\n'"
      ]
     },
     "execution_count": 110,
     "metadata": {},
     "output_type": "execute_result"
    }
   ],
   "source": [
    "# 객관적인 성능 측정의 필요성\n",
    "# 모델선택의 기준\n",
    "# 실제 개발완료의 기준\n",
    "\n",
    "# confusion matrix  혼동 행렬\n",
    "'''\n",
    "부류가 2개인 경우\n",
    "p:positive\n",
    "n:nagative\n",
    "\n",
    "      그라운드 트루스(참값)\n",
    "           긍정    부정\n",
    "예측 긍정  TP      FP\n",
    "예측 부정  FN      TN      \n",
    "'''\n",
    "# 이진분류의 사용 예....... 환자 정상 / 불량품 양품 \n",
    "# TP FP  FN  TN\n",
    "'''\n",
    "accuracy 정확율:   부류가 불균형일때 성능을 제대로 반영 못함\n",
    " = 맞힌셈플수 / 전체샘플수      대각선 샘플수 / 전체샘플수\n",
    " \n",
    "특이도(specificity)와 민감도(sensitivity) --> 의료에서 사용함\n",
    "특이도 TN / TN + FP  민감도 TP / TP + FN\n",
    "\n",
    "정밀도(precision) 와 재현률(recal) -> 정보검색\n",
    "정밀도 TP / TP + FP   재현률 TP / TP + FN\n",
    "'''"
   ]
  },
  {
   "cell_type": "code",
   "execution_count": 111,
   "id": "7173ff51",
   "metadata": {},
   "outputs": [],
   "source": [
    "# 모델 선택 포함 : 훈련/검증/테스트 집합으로 나눔\n",
    "# 모델 선택 미포함 : 훈련 / 테스트"
   ]
  },
  {
   "cell_type": "code",
   "execution_count": 186,
   "id": "271cb0f6",
   "metadata": {},
   "outputs": [],
   "source": [
    "# 모델 미 선택\n",
    "# 필기체 데이터를 분할\n",
    "from sklearn import svm\n",
    "from sklearn.model_selection import train_test_split\n",
    "x_train,x_target,y_train,y_target = train_test_split(digit.data, digit.target, test_size=0.2,random_state=42)"
   ]
  },
  {
   "cell_type": "code",
   "execution_count": 187,
   "id": "45dd3408",
   "metadata": {},
   "outputs": [],
   "source": [
    "s =  svm.SVC(gamma=0.001)\n",
    "s.fit(x_train,y_train)\n",
    "predict = s.predict(x_target)"
   ]
  },
  {
   "cell_type": "code",
   "execution_count": 188,
   "id": "32bd1ec3",
   "metadata": {},
   "outputs": [
    {
     "data": {
      "text/plain": [
       "(array([0, 1, 2, 3, 4, 5, 6, 7, 8, 9]), array([0, 1, 2, 3, 4, 5, 6, 7, 8, 9]))"
      ]
     },
     "execution_count": 188,
     "metadata": {},
     "output_type": "execute_result"
    }
   ],
   "source": [
    "np.unique( predict), np.unique(y_target)"
   ]
  },
  {
   "cell_type": "code",
   "execution_count": 189,
   "id": "357cfe1c",
   "metadata": {},
   "outputs": [],
   "source": [
    "# 혼돈 행렬\n",
    "conf = np.zeros((10,10))"
   ]
  },
  {
   "cell_type": "code",
   "execution_count": 190,
   "id": "6c514508",
   "metadata": {},
   "outputs": [
    {
     "data": {
      "text/plain": [
       "360"
      ]
     },
     "execution_count": 190,
     "metadata": {},
     "output_type": "execute_result"
    }
   ],
   "source": [
    "len(predict)"
   ]
  },
  {
   "cell_type": "code",
   "execution_count": 191,
   "id": "8b32f635",
   "metadata": {},
   "outputs": [
    {
     "name": "stdout",
     "output_type": "stream",
     "text": [
      "[[33.  0.  0.  0.  0.  0.  0.  0.  0.  0.]\n",
      " [ 0. 28.  0.  0.  0.  0.  0.  0.  0.  0.]\n",
      " [ 0.  0. 33.  0.  0.  0.  0.  0.  0.  0.]\n",
      " [ 0.  0.  0. 33.  0.  0.  0.  0.  0.  0.]\n",
      " [ 0.  0.  0.  0. 46.  0.  0.  0.  0.  0.]\n",
      " [ 0.  0.  0.  1.  0. 46.  0.  0.  0.  0.]\n",
      " [ 0.  0.  0.  0.  0.  1. 35.  0.  0.  0.]\n",
      " [ 0.  0.  0.  0.  0.  0.  0. 33.  0.  1.]\n",
      " [ 0.  0.  0.  0.  0.  0.  0.  0. 30.  0.]\n",
      " [ 0.  0.  0.  0.  0.  0.  0.  1.  0. 39.]]\n"
     ]
    }
   ],
   "source": [
    "for i in range(len(predict)):\n",
    "    conf[predict[i]][y_target[i]]+= 1\n",
    "print(conf)    "
   ]
  },
  {
   "cell_type": "code",
   "execution_count": 192,
   "id": "c8a8bd88",
   "metadata": {},
   "outputs": [
    {
     "name": "stdout",
     "output_type": "stream",
     "text": [
      "태스트 집합에 대한 정확율 : 98.88888888888889% 입니다\n"
     ]
    }
   ],
   "source": [
    "# 정확율\n",
    "no_correct = 0\n",
    "# confusion matrix에 대각선의 합\n",
    "for i in range(10):\n",
    "    no_correct += conf[i][i]\n",
    "accuracy = no_correct / len(predict)    \n",
    "print(f\"태스트 집합에 대한 정확율 : {accuracy*100}% 입니다\")"
   ]
  },
  {
   "cell_type": "code",
   "execution_count": 193,
   "id": "be644e24",
   "metadata": {},
   "outputs": [
    {
     "name": "stdout",
     "output_type": "stream",
     "text": [
      "태스트 집합에 대한 정확율 : 98.88888888888889% 입니다\n"
     ]
    }
   ],
   "source": [
    "from sklearn.metrics import accuracy_score\n",
    "accuracy_score(predict,y_target)\n",
    "print(f\"태스트 집합에 대한 정확율 : {accuracy_score(predict,y_target)*100}% 입니다\")"
   ]
  },
  {
   "cell_type": "code",
   "execution_count": 194,
   "id": "59fe8160",
   "metadata": {},
   "outputs": [],
   "source": [
    "# 지금까지의 문제점\n",
    "# 난수를 사용하기 때문에 실행할때마다 다른 결과가 발생\n",
    "# 난수를 고정시킨다"
   ]
  },
  {
   "cell_type": "code",
   "execution_count": 195,
   "id": "1ee52969",
   "metadata": {},
   "outputs": [],
   "source": [
    "# 교차검증\n",
    "from sklearn.model_selection import cross_val_score"
   ]
  },
  {
   "cell_type": "code",
   "execution_count": 196,
   "id": "dc89f759",
   "metadata": {},
   "outputs": [
    {
     "name": "stdout",
     "output_type": "stream",
     "text": [
      "정확율(평균) : 97.21866295264624  표준편차 : 0.015013488295959767\n"
     ]
    }
   ],
   "source": [
    "accuracies =  cross_val_score(s,digit.data,digit.target,cv=5)\n",
    "print(f\"정확율(평균) : {accuracies.mean()*100}  표준편차 : {accuracies.std()}\")"
   ]
  },
  {
   "cell_type": "code",
   "execution_count": null,
   "id": "4f5461e6",
   "metadata": {},
   "outputs": [],
   "source": []
  }
 ],
 "metadata": {
  "kernelspec": {
   "display_name": "Python 3 (ipykernel)",
   "language": "python",
   "name": "python3"
  },
  "language_info": {
   "codemirror_mode": {
    "name": "ipython",
    "version": 3
   },
   "file_extension": ".py",
   "mimetype": "text/x-python",
   "name": "python",
   "nbconvert_exporter": "python",
   "pygments_lexer": "ipython3",
   "version": "3.9.7"
  }
 },
 "nbformat": 4,
 "nbformat_minor": 5
}
