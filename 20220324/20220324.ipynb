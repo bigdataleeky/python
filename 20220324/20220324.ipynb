{
 "cells": [
  {
   "cell_type": "code",
   "execution_count": 1,
   "id": "ec1651a0",
   "metadata": {},
   "outputs": [],
   "source": [
    "# 커널 = 필터 = 가중치\n",
    "# 합성곱 : 입력데이터에 도작을 찍어서 유용한 특성만 드러내게 하는 것으로 비유\n",
    "# Dense를 기준으로 하면(밀집층) -> 완전연결 신경망\n",
    "# 뉴런마다 입력개수의 가중치가 있음\n",
    "# w1 ~ w10 와 절편 b를 랜덤하게 초기화한다음에 에포크를 반복하면서 경사하강법 알고리즘을 사용하여\n",
    "#  손실이 낮아지도록 최적의 가중치와 절편을 찾는게 바로 모델 훈련\n",
    "\n",
    "# 밀집층에 뉴런이 3개 있으면 출력은 3개가 됨 \n",
    "# 784픽셀 -> 100뉴런 ->출력100\n",
    "\n",
    "# 합성곱은.. 계산방식이 밀집층과 다르다.. 입력데이터의 전체에 가중치가 적용되는게 아니라. 일부에 가중치를 곱한다.\n",
    "\n",
    "# w1 ~ w3 입력이 처음 3개의 특징(커널,필터,가중치)과 곱해져서 1개의 출력\n",
    "# 한칸씩 이동하면서 두번째. 세번째 입력과 곱해져서 출력을 생성\n",
    "# 첫번째 사용된 가중치 w1 ~ w3와 절편 b가 두번째 세번째 합성곱에도 동일하게 적용\n",
    "# 10개의 데이터에 가중치(3개짜리를 한칸씩)  -> 8개\n",
    "\n",
    "# 밀집층은 10개의 가중치를 가지고 한개의 출력 합성곱은 3개의 가중치를 가지고 8개의 출력\n",
    "\n",
    "# 합성곱을 통해서 얻은 출력 : 특성 맵"
   ]
  },
  {
   "cell_type": "code",
   "execution_count": 2,
   "id": "d16534cd",
   "metadata": {},
   "outputs": [],
   "source": [
    "from tensorflow import keras"
   ]
  },
  {
   "cell_type": "code",
   "execution_count": 3,
   "id": "65ae8b5e",
   "metadata": {},
   "outputs": [
    {
     "data": {
      "text/plain": [
       "<keras.layers.convolutional.Conv2D at 0x1b2db76fd30>"
      ]
     },
     "execution_count": 3,
     "metadata": {},
     "output_type": "execute_result"
    }
   ],
   "source": [
    "keras.layers.Conv2D(10, kernel_size=(3,3), activation='relu')"
   ]
  },
  {
   "cell_type": "code",
   "execution_count": 4,
   "id": "0321405c",
   "metadata": {},
   "outputs": [],
   "source": [
    "# 기존에 Dense 층에다가 Conv2D 층을 넣으면 된다... kernel_size만 고려하면 됨"
   ]
  },
  {
   "cell_type": "code",
   "execution_count": 5,
   "id": "56faf312",
   "metadata": {},
   "outputs": [],
   "source": [
    "# 패딩 출력의 크기를 동일하게 맞춰준다\n",
    "# (4,4) -> 커널(3,3) --> 출력의 크기도 (4,4)\n",
    "# 주변에 가상의 값을 채운다... 값은 0   커널이 도장을 찍을 횟수를 늘려주는 \n",
    "# 입력특성과 출력특성의 크기를 동일하게 -> 주위에 0 -> 세임 패딩(가장 많이사용)\n",
    "# 패딩없이 사용-> 밸리드 패딩( 특성맵의 크기가 줄어들수  밖에 없다)"
   ]
  },
  {
   "cell_type": "code",
   "execution_count": 6,
   "id": "fb286655",
   "metadata": {},
   "outputs": [
    {
     "data": {
      "text/plain": [
       "<keras.layers.convolutional.Conv2D at 0x1b2daf62dc0>"
      ]
     },
     "execution_count": 6,
     "metadata": {},
     "output_type": "execute_result"
    }
   ],
   "source": [
    "keras.layers.Conv2D(10, kernel_size=(3,3), activation='relu',padding='same')"
   ]
  },
  {
   "cell_type": "code",
   "execution_count": 7,
   "id": "1b8ab33b",
   "metadata": {},
   "outputs": [],
   "source": [
    "# 두칸씩 건너뛸수도 있음\n",
    "# 특성맵이 더 작아진다.\n",
    "# 이동크기 스트라이드\n",
    "# 스트라이드 : 1   기본이 1"
   ]
  },
  {
   "cell_type": "code",
   "execution_count": 8,
   "id": "793c2174",
   "metadata": {},
   "outputs": [
    {
     "data": {
      "text/plain": [
       "<keras.layers.convolutional.Conv2D at 0x1b2db0adf40>"
      ]
     },
     "execution_count": 8,
     "metadata": {},
     "output_type": "execute_result"
    }
   ],
   "source": [
    "keras.layers.Conv2D(10, kernel_size=(3,3), activation='relu',padding='same',strides=1)"
   ]
  },
  {
   "cell_type": "code",
   "execution_count": 9,
   "id": "a451e547",
   "metadata": {},
   "outputs": [],
   "source": [
    "# 폴링\n",
    "# 합성곱을 통해 나온 특성맵의 가로 세로 길이를 줄이는 역활 -> 갯수를 줄이지는 않는다\n",
    "# 4x4 입력 -> (3 x 3) 3번  커널을 적용  -> (2,2,3) (특성맵)  ->폴링(2,2) ->(1,1,3)특성맵\n",
    "# 폴링: 가중치가 없고   쵀대값을선택하는걸 최대폴링, 평균값을 선택하는 것을 평균폴링"
   ]
  },
  {
   "cell_type": "code",
   "execution_count": 10,
   "id": "9f2df5f6",
   "metadata": {},
   "outputs": [
    {
     "data": {
      "text/plain": [
       "<keras.layers.pooling.MaxPooling2D at 0x1b2db0af970>"
      ]
     },
     "execution_count": 10,
     "metadata": {},
     "output_type": "execute_result"
    }
   ],
   "source": [
    "keras.layers.MaxPool2D(2,padding='valid',strides=2)"
   ]
  },
  {
   "cell_type": "code",
   "execution_count": 11,
   "id": "b4ca7a88",
   "metadata": {},
   "outputs": [],
   "source": [
    "(x_train,y_train),(x_target,y_target) = keras.datasets.fashion_mnist.load_data()"
   ]
  },
  {
   "cell_type": "code",
   "execution_count": 12,
   "id": "3b7f402e",
   "metadata": {},
   "outputs": [],
   "source": [
    "# Conver2D  흑백채널에 채널차원을 추가"
   ]
  },
  {
   "cell_type": "code",
   "execution_count": 13,
   "id": "80d30c66",
   "metadata": {},
   "outputs": [
    {
     "data": {
      "text/plain": [
       "(60000, 28, 28)"
      ]
     },
     "execution_count": 13,
     "metadata": {},
     "output_type": "execute_result"
    }
   ],
   "source": [
    "x_train.shape"
   ]
  },
  {
   "cell_type": "code",
   "execution_count": 18,
   "id": "0c96506b",
   "metadata": {},
   "outputs": [
    {
     "data": {
      "text/plain": [
       "(60000, 28, 28, 1)"
      ]
     },
     "execution_count": 18,
     "metadata": {},
     "output_type": "execute_result"
    }
   ],
   "source": [
    "x_reshape_scaled =  x_train.reshape(-1,28,28,1) / 255.0\n",
    "x_reshape_scaled.shape"
   ]
  },
  {
   "cell_type": "code",
   "execution_count": 20,
   "id": "6a5b5349",
   "metadata": {},
   "outputs": [],
   "source": [
    "from sklearn.model_selection import train_test_split\n",
    "x_train_scaled,x_target_scaled,y_train_scaled,y_target_scaled  = train_test_split(x_reshape_scaled,y_train, test_size=0.2, random_state=42)"
   ]
  },
  {
   "cell_type": "code",
   "execution_count": 21,
   "id": "4b208f9a",
   "metadata": {},
   "outputs": [],
   "source": [
    "model = keras.Sequential()"
   ]
  },
  {
   "cell_type": "code",
   "execution_count": 22,
   "id": "f35564ac",
   "metadata": {},
   "outputs": [],
   "source": [
    "model.add(keras.layers.Conv2D(32, kernel_size=3,activation='relu', padding='same', input_shape=(28,28,1) ) )"
   ]
  },
  {
   "cell_type": "code",
   "execution_count": 23,
   "id": "777af218",
   "metadata": {},
   "outputs": [],
   "source": [
    "model.add(keras.layers.MaxPool2D(2))"
   ]
  },
  {
   "cell_type": "code",
   "execution_count": 24,
   "id": "e3bd989c",
   "metadata": {},
   "outputs": [],
   "source": [
    "model.add(keras.layers.Conv2D(64,  kernel_size=3,activation='relu', padding='same') )\n",
    "model.add(keras.layers.MaxPool2D(2))"
   ]
  },
  {
   "cell_type": "code",
   "execution_count": 25,
   "id": "39f4f9e8",
   "metadata": {},
   "outputs": [],
   "source": [
    "# 최종 특성맵의 크기는 ?  (7, 7, 64)\n",
    "model.add(keras.layers.Flatten())\n",
    "model.add(keras.layers.Dense(100,activation='relu'))\n",
    "model.add(keras.layers.Dropout(0.3))\n",
    "model.add(keras.layers.Dense(10,activation='softmax'))"
   ]
  },
  {
   "cell_type": "code",
   "execution_count": 26,
   "id": "66eb6db8",
   "metadata": {},
   "outputs": [
    {
     "name": "stdout",
     "output_type": "stream",
     "text": [
      "Model: \"sequential_1\"\n",
      "_________________________________________________________________\n",
      " Layer (type)                Output Shape              Param #   \n",
      "=================================================================\n",
      " conv2d_3 (Conv2D)           (None, 28, 28, 32)        320       \n",
      "                                                                 \n",
      " max_pooling2d_1 (MaxPooling  (None, 14, 14, 32)       0         \n",
      " 2D)                                                             \n",
      "                                                                 \n",
      " conv2d_4 (Conv2D)           (None, 14, 14, 64)        18496     \n",
      "                                                                 \n",
      " max_pooling2d_2 (MaxPooling  (None, 7, 7, 64)         0         \n",
      " 2D)                                                             \n",
      "                                                                 \n",
      " flatten (Flatten)           (None, 3136)              0         \n",
      "                                                                 \n",
      " dense (Dense)               (None, 100)               313700    \n",
      "                                                                 \n",
      " dropout (Dropout)           (None, 100)               0         \n",
      "                                                                 \n",
      " dense_1 (Dense)             (None, 10)                1010      \n",
      "                                                                 \n",
      "=================================================================\n",
      "Total params: 333,526\n",
      "Trainable params: 333,526\n",
      "Non-trainable params: 0\n",
      "_________________________________________________________________\n"
     ]
    }
   ],
   "source": [
    "model.summary()"
   ]
  },
  {
   "cell_type": "code",
   "execution_count": 30,
   "id": "a5b7c72d",
   "metadata": {},
   "outputs": [
    {
     "name": "stdout",
     "output_type": "stream",
     "text": [
      "Requirement already satisfied: pydot in c:\\miniconda3\\envs\\ml\\lib\\site-packages (1.4.2)\n",
      "Requirement already satisfied: pyparsing>=2.1.4 in c:\\miniconda3\\envs\\ml\\lib\\site-packages (from pydot) (3.0.4)\n",
      "Collecting graphviz\n",
      "  Downloading graphviz-0.19.1-py3-none-any.whl (46 kB)\n",
      "Installing collected packages: graphviz\n",
      "Successfully installed graphviz-0.19.1\n"
     ]
    }
   ],
   "source": [
    "!pip install pydot\n",
    "!pip install graphviz"
   ]
  },
  {
   "cell_type": "code",
   "execution_count": 32,
   "id": "d6f00e66",
   "metadata": {},
   "outputs": [
    {
     "name": "stdout",
     "output_type": "stream",
     "text": [
      "You must install pydot (`pip install pydot`) and install graphviz (see instructions at https://graphviz.gitlab.io/download/) for plot_model/model_to_dot to work.\n"
     ]
    }
   ],
   "source": [
    "keras.utils.plot_model(model)"
   ]
  },
  {
   "cell_type": "code",
   "execution_count": null,
   "id": "01d54348",
   "metadata": {},
   "outputs": [],
   "source": []
  }
 ],
 "metadata": {
  "kernelspec": {
   "display_name": "Python 3 (ipykernel)",
   "language": "python",
   "name": "python3"
  },
  "language_info": {
   "codemirror_mode": {
    "name": "ipython",
    "version": 3
   },
   "file_extension": ".py",
   "mimetype": "text/x-python",
   "name": "python",
   "nbconvert_exporter": "python",
   "pygments_lexer": "ipython3",
   "version": "3.9.7"
  }
 },
 "nbformat": 4,
 "nbformat_minor": 5
}
