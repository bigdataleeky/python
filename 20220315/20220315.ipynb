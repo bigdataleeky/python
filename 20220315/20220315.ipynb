{
 "cells": [
  {
   "cell_type": "markdown",
   "id": "80d47f0b",
   "metadata": {},
   "source": [
    "# 교차검증"
   ]
  },
  {
   "cell_type": "code",
   "execution_count": 2,
   "id": "18ebf34c",
   "metadata": {},
   "outputs": [],
   "source": [
    "# 테스트 세트를 사용하지 않고 모델이 과적합인지 과소적합인지 즉 과적합을 판단방법\n",
    "# 보고서용....... 데이터가 작거나... 또는 머신러닝을 수행을때 과적합이 발생하면...\n",
    "# 먼저 교차검증으로 평균치를 보여주고 평균 이정도 성능을 보인다.... 명시한다음에..\n",
    "# 파라메터 튜닝을 통해.. 좀더 수치를 끌어올려본다..\n",
    "# 그래도 너무  성능이 안좋다....... 데이터를 의심해보자... 잘못수집되었거나. \n",
    "# 전처리도 ...... \n",
    "# 컬럼이 많다면.... 결정트리의 피처중요도를 이용해서 상위 몇개의 피처만 가지고 다시 수행."
   ]
  },
  {
   "cell_type": "code",
   "execution_count": 3,
   "id": "b80d9663",
   "metadata": {},
   "outputs": [
    {
     "data": {
      "text/html": [
       "<div>\n",
       "<style scoped>\n",
       "    .dataframe tbody tr th:only-of-type {\n",
       "        vertical-align: middle;\n",
       "    }\n",
       "\n",
       "    .dataframe tbody tr th {\n",
       "        vertical-align: top;\n",
       "    }\n",
       "\n",
       "    .dataframe thead th {\n",
       "        text-align: right;\n",
       "    }\n",
       "</style>\n",
       "<table border=\"1\" class=\"dataframe\">\n",
       "  <thead>\n",
       "    <tr style=\"text-align: right;\">\n",
       "      <th></th>\n",
       "      <th>alcohol</th>\n",
       "      <th>sugar</th>\n",
       "      <th>pH</th>\n",
       "      <th>class</th>\n",
       "    </tr>\n",
       "  </thead>\n",
       "  <tbody>\n",
       "    <tr>\n",
       "      <th>0</th>\n",
       "      <td>9.4</td>\n",
       "      <td>1.9</td>\n",
       "      <td>3.51</td>\n",
       "      <td>0.0</td>\n",
       "    </tr>\n",
       "    <tr>\n",
       "      <th>1</th>\n",
       "      <td>9.8</td>\n",
       "      <td>2.6</td>\n",
       "      <td>3.20</td>\n",
       "      <td>0.0</td>\n",
       "    </tr>\n",
       "    <tr>\n",
       "      <th>2</th>\n",
       "      <td>9.8</td>\n",
       "      <td>2.3</td>\n",
       "      <td>3.26</td>\n",
       "      <td>0.0</td>\n",
       "    </tr>\n",
       "    <tr>\n",
       "      <th>3</th>\n",
       "      <td>9.8</td>\n",
       "      <td>1.9</td>\n",
       "      <td>3.16</td>\n",
       "      <td>0.0</td>\n",
       "    </tr>\n",
       "    <tr>\n",
       "      <th>4</th>\n",
       "      <td>9.4</td>\n",
       "      <td>1.9</td>\n",
       "      <td>3.51</td>\n",
       "      <td>0.0</td>\n",
       "    </tr>\n",
       "  </tbody>\n",
       "</table>\n",
       "</div>"
      ],
      "text/plain": [
       "   alcohol  sugar    pH  class\n",
       "0      9.4    1.9  3.51    0.0\n",
       "1      9.8    2.6  3.20    0.0\n",
       "2      9.8    2.3  3.26    0.0\n",
       "3      9.8    1.9  3.16    0.0\n",
       "4      9.4    1.9  3.51    0.0"
      ]
     },
     "execution_count": 3,
     "metadata": {},
     "output_type": "execute_result"
    }
   ],
   "source": [
    "import pandas as pd\n",
    "df = pd.read_csv(\"https://raw.githubusercontent.com/bigdataleeky/python/main/wine.csv\")\n",
    "df.head()"
   ]
  },
  {
   "cell_type": "code",
   "execution_count": 4,
   "id": "355b129c",
   "metadata": {},
   "outputs": [
    {
     "data": {
      "text/html": [
       "<div>\n",
       "<style scoped>\n",
       "    .dataframe tbody tr th:only-of-type {\n",
       "        vertical-align: middle;\n",
       "    }\n",
       "\n",
       "    .dataframe tbody tr th {\n",
       "        vertical-align: top;\n",
       "    }\n",
       "\n",
       "    .dataframe thead th {\n",
       "        text-align: right;\n",
       "    }\n",
       "</style>\n",
       "<table border=\"1\" class=\"dataframe\">\n",
       "  <thead>\n",
       "    <tr style=\"text-align: right;\">\n",
       "      <th></th>\n",
       "      <th>alcohol</th>\n",
       "      <th>sugar</th>\n",
       "      <th>pH</th>\n",
       "    </tr>\n",
       "  </thead>\n",
       "  <tbody>\n",
       "    <tr>\n",
       "      <th>0</th>\n",
       "      <td>9.4</td>\n",
       "      <td>1.9</td>\n",
       "      <td>3.51</td>\n",
       "    </tr>\n",
       "    <tr>\n",
       "      <th>1</th>\n",
       "      <td>9.8</td>\n",
       "      <td>2.6</td>\n",
       "      <td>3.20</td>\n",
       "    </tr>\n",
       "    <tr>\n",
       "      <th>2</th>\n",
       "      <td>9.8</td>\n",
       "      <td>2.3</td>\n",
       "      <td>3.26</td>\n",
       "    </tr>\n",
       "    <tr>\n",
       "      <th>3</th>\n",
       "      <td>9.8</td>\n",
       "      <td>1.9</td>\n",
       "      <td>3.16</td>\n",
       "    </tr>\n",
       "    <tr>\n",
       "      <th>4</th>\n",
       "      <td>9.4</td>\n",
       "      <td>1.9</td>\n",
       "      <td>3.51</td>\n",
       "    </tr>\n",
       "  </tbody>\n",
       "</table>\n",
       "</div>"
      ],
      "text/plain": [
       "   alcohol  sugar    pH\n",
       "0      9.4    1.9  3.51\n",
       "1      9.8    2.6  3.20\n",
       "2      9.8    2.3  3.26\n",
       "3      9.8    1.9  3.16\n",
       "4      9.4    1.9  3.51"
      ]
     },
     "execution_count": 4,
     "metadata": {},
     "output_type": "execute_result"
    }
   ],
   "source": [
    "x = df.iloc[:,:-1]\n",
    "x.head()"
   ]
  },
  {
   "cell_type": "code",
   "execution_count": 5,
   "id": "80ade7f0",
   "metadata": {},
   "outputs": [
    {
     "data": {
      "text/plain": [
       "1    4898\n",
       "0    1599\n",
       "Name: class, dtype: int64"
      ]
     },
     "execution_count": 5,
     "metadata": {},
     "output_type": "execute_result"
    }
   ],
   "source": [
    "y = df.iloc[:,-1]\n",
    "y = y.astype(int)\n",
    "y.value_counts()"
   ]
  },
  {
   "cell_type": "code",
   "execution_count": 6,
   "id": "b0db0a4e",
   "metadata": {},
   "outputs": [
    {
     "data": {
      "text/plain": [
       "((5197, 3), (5197,))"
      ]
     },
     "execution_count": 6,
     "metadata": {},
     "output_type": "execute_result"
    }
   ],
   "source": [
    "# 최종테스트 데이터\n",
    "from sklearn.model_selection import train_test_split\n",
    "x_train,x_target,y_train,y_target = train_test_split(x,y,test_size=0.2,random_state=42)\n",
    "x_train.shape, y_train.shape"
   ]
  },
  {
   "cell_type": "code",
   "execution_count": 7,
   "id": "2b8949cd",
   "metadata": {},
   "outputs": [],
   "source": [
    "# 훈련용데이터를 - 훈련용 + 검증용  8:2\n",
    "x_train2,x_target2,y_train2,y_target2 =  train_test_split(x_train,y_train,test_size=0.2,random_state=42)"
   ]
  },
  {
   "cell_type": "code",
   "execution_count": 8,
   "id": "708e8515",
   "metadata": {},
   "outputs": [
    {
     "data": {
      "text/plain": [
       "((4157, 3), (4157,))"
      ]
     },
     "execution_count": 8,
     "metadata": {},
     "output_type": "execute_result"
    }
   ],
   "source": [
    "x_train2.shape, y_train2.shape"
   ]
  },
  {
   "cell_type": "code",
   "execution_count": 9,
   "id": "56e00ea0",
   "metadata": {},
   "outputs": [
    {
     "data": {
      "text/plain": [
       "(0.9971133028626413, 0.864423076923077)"
      ]
     },
     "execution_count": 9,
     "metadata": {},
     "output_type": "execute_result"
    }
   ],
   "source": [
    "from sklearn.tree import DecisionTreeClassifier\n",
    "dc =  DecisionTreeClassifier(random_state=42)\n",
    "dc.fit(x_train2, y_train2)\n",
    "dc.score(x_train2, y_train2), dc.score(x_target2, y_target2)"
   ]
  },
  {
   "cell_type": "code",
   "execution_count": 10,
   "id": "3a70f471",
   "metadata": {},
   "outputs": [],
   "source": [
    "# GridSearchCV --- > 하이퍼 파라메터 튜닝....  model_selection\n",
    "from sklearn.model_selection import cross_validate\n",
    "score =  cross_validate(dc,x_train, y_train)\n"
   ]
  },
  {
   "cell_type": "code",
   "execution_count": 11,
   "id": "5a339f18",
   "metadata": {},
   "outputs": [
    {
     "data": {
      "text/plain": [
       "array([0.86923077, 0.84615385, 0.87680462, 0.84889317, 0.83541867])"
      ]
     },
     "execution_count": 11,
     "metadata": {},
     "output_type": "execute_result"
    }
   ],
   "source": [
    "score['test_score']"
   ]
  },
  {
   "cell_type": "code",
   "execution_count": 12,
   "id": "412e2c8e",
   "metadata": {},
   "outputs": [
    {
     "data": {
      "text/plain": [
       "0.855300214703487"
      ]
     },
     "execution_count": 12,
     "metadata": {},
     "output_type": "execute_result"
    }
   ],
   "source": [
    "score['test_score'].mean()"
   ]
  },
  {
   "cell_type": "code",
   "execution_count": 13,
   "id": "e056d069",
   "metadata": {},
   "outputs": [
    {
     "data": {
      "text/plain": [
       "0.855300214703487"
      ]
     },
     "execution_count": 13,
     "metadata": {},
     "output_type": "execute_result"
    }
   ],
   "source": [
    "import numpy as np\n",
    "np.mean(score['test_score'])"
   ]
  },
  {
   "cell_type": "markdown",
   "id": "8c179ac9",
   "metadata": {},
   "source": [
    "# 교차검증의 장점\n",
    "## 모든데이터 셋을 훈련과 평가에 활용\n",
    "## 정확도를 향상\n",
    "## 데이터가 부족할때 이로인한 과적합\n",
    "## 데이터 편중을 막을수 있다\n",
    "## 좀더 일반화된 모델을\n",
    "\n",
    "# 단점\n",
    "## 시간이 과다하게 소요된다."
   ]
  },
  {
   "cell_type": "code",
   "execution_count": 14,
   "id": "242c7a77",
   "metadata": {},
   "outputs": [
    {
     "data": {
      "text/plain": [
       "0.855300214703487"
      ]
     },
     "execution_count": 14,
     "metadata": {},
     "output_type": "execute_result"
    }
   ],
   "source": [
    "# Kfold 방식되 거의 유사 \n",
    "# 분류기를 통한 교차검증\n",
    "# 분류모델이면 StratifiedKFold 사용하고 그 외에는 \n",
    "# 예측..군집일경우에는 KFold\n",
    "from sklearn.model_selection import StratifiedKFold\n",
    "score =  cross_validate(dc,x_train, y_train, cv=StratifiedKFold() )\n",
    "score['test_score'].mean()"
   ]
  },
  {
   "cell_type": "code",
   "execution_count": 15,
   "id": "db2115ef",
   "metadata": {},
   "outputs": [
    {
     "data": {
      "text/plain": [
       "(array(['alcohol', 'sugar', 'pH'], dtype=object),\n",
       " array([0.23614177, 0.50084785, 0.26301038]))"
      ]
     },
     "execution_count": 15,
     "metadata": {},
     "output_type": "execute_result"
    }
   ],
   "source": [
    "dc.feature_names_in_, dc.feature_importances_"
   ]
  },
  {
   "cell_type": "code",
   "execution_count": 16,
   "id": "880b05f9",
   "metadata": {},
   "outputs": [
    {
     "data": {
      "text/plain": [
       "array([0.23614177, 0.50084785, 0.26301038])"
      ]
     },
     "execution_count": 16,
     "metadata": {},
     "output_type": "execute_result"
    }
   ],
   "source": [
    "dc.feature_importances_"
   ]
  },
  {
   "cell_type": "code",
   "execution_count": 17,
   "id": "0874feec",
   "metadata": {},
   "outputs": [
    {
     "data": {
      "text/plain": [
       "array([0.50084785, 0.26301038, 0.23614177])"
      ]
     },
     "execution_count": 17,
     "metadata": {},
     "output_type": "execute_result"
    }
   ],
   "source": [
    "np.sort(dc.feature_importances_)[::-1]"
   ]
  },
  {
   "cell_type": "code",
   "execution_count": 18,
   "id": "ebdc79c1",
   "metadata": {},
   "outputs": [],
   "source": [
    "# 결정트리의 사용 이유 : 정확한 분류..\n",
    "# 부가적인 기능 : 피어의 중요도를 알수 있다..\n",
    "# 만약에 피처가 너무 많다면.... feature_importances_의 값을 내람차순으로 정렬한후 상위 몇개의 feature만 추출해서\n",
    "# 원하는 머신러닝에 적용"
   ]
  },
  {
   "cell_type": "code",
   "execution_count": 19,
   "id": "4c1c3874",
   "metadata": {},
   "outputs": [
    {
     "data": {
      "text/plain": [
       "{'ccp_alpha': 0.0,\n",
       " 'class_weight': None,\n",
       " 'criterion': 'gini',\n",
       " 'max_depth': None,\n",
       " 'max_features': None,\n",
       " 'max_leaf_nodes': None,\n",
       " 'min_impurity_decrease': 0.0,\n",
       " 'min_samples_leaf': 1,\n",
       " 'min_samples_split': 2,\n",
       " 'min_weight_fraction_leaf': 0.0,\n",
       " 'random_state': 42,\n",
       " 'splitter': 'best'}"
      ]
     },
     "execution_count": 19,
     "metadata": {},
     "output_type": "execute_result"
    }
   ],
   "source": [
    "# 교차검증으로 과적합을 피할수 있다면..... 성능을 높이기 위해서 하이퍼 파라메터 튜닝을통해 성능 확인\n",
    "dc.get_params()"
   ]
  },
  {
   "cell_type": "code",
   "execution_count": 20,
   "id": "fd30b837",
   "metadata": {},
   "outputs": [],
   "source": [
    "p ={\n",
    "    'min_impurity_decrease':[0.0001,0.001,0.01,0.1,1,10,100]\n",
    "}"
   ]
  },
  {
   "cell_type": "code",
   "execution_count": 21,
   "id": "676631d6",
   "metadata": {},
   "outputs": [],
   "source": [
    "from sklearn.model_selection import GridSearchCV"
   ]
  },
  {
   "cell_type": "code",
   "execution_count": 22,
   "id": "53c05e57",
   "metadata": {},
   "outputs": [],
   "source": [
    "gs = GridSearchCV(dc, param_grid=p)"
   ]
  },
  {
   "cell_type": "code",
   "execution_count": 23,
   "id": "7f23287a",
   "metadata": {},
   "outputs": [
    {
     "data": {
      "text/plain": [
       "GridSearchCV(estimator=DecisionTreeClassifier(random_state=42),\n",
       "             param_grid={'min_impurity_decrease': [0.0001, 0.001, 0.01, 0.1, 1,\n",
       "                                                   10, 100]})"
      ]
     },
     "execution_count": 23,
     "metadata": {},
     "output_type": "execute_result"
    }
   ],
   "source": [
    "gs.fit(x_train,y_train)"
   ]
  },
  {
   "cell_type": "code",
   "execution_count": 24,
   "id": "9396c7d1",
   "metadata": {},
   "outputs": [
    {
     "data": {
      "text/plain": [
       "{'min_impurity_decrease': 0.0001}"
      ]
     },
     "execution_count": 24,
     "metadata": {},
     "output_type": "execute_result"
    }
   ],
   "source": [
    "gs.best_params_"
   ]
  },
  {
   "cell_type": "code",
   "execution_count": 25,
   "id": "ae610e9c",
   "metadata": {},
   "outputs": [],
   "source": [
    "model = gs.best_estimator_"
   ]
  },
  {
   "cell_type": "code",
   "execution_count": 26,
   "id": "af3b2340",
   "metadata": {},
   "outputs": [
    {
     "data": {
      "text/plain": [
       "0.8653846153846154"
      ]
     },
     "execution_count": 26,
     "metadata": {},
     "output_type": "execute_result"
    }
   ],
   "source": [
    "model.score(x_target,y_target)"
   ]
  },
  {
   "cell_type": "code",
   "execution_count": 27,
   "id": "bd0d1de7",
   "metadata": {},
   "outputs": [
    {
     "data": {
      "text/plain": [
       "(0.9615162593804117, 0.8653846153846154)"
      ]
     },
     "execution_count": 27,
     "metadata": {},
     "output_type": "execute_result"
    }
   ],
   "source": [
    "model.score(x_train, y_train), model.score(x_target, y_target)"
   ]
  },
  {
   "cell_type": "code",
   "execution_count": 28,
   "id": "7b737e50",
   "metadata": {},
   "outputs": [],
   "source": [
    "params = {\n",
    "    'min_impurity_decrease':[0.0001,0.001,0.01,0.1,1,10,100],\n",
    "    'max_depth' : [3,5]\n",
    "}"
   ]
  },
  {
   "cell_type": "code",
   "execution_count": 29,
   "id": "4a03576d",
   "metadata": {},
   "outputs": [
    {
     "data": {
      "text/plain": [
       "{'max_depth': 5, 'min_impurity_decrease': 0.001}"
      ]
     },
     "execution_count": 29,
     "metadata": {},
     "output_type": "execute_result"
    }
   ],
   "source": [
    "gs = GridSearchCV(dc, param_grid=params)\n",
    "gs.fit(x_train,y_train)\n",
    "gs.best_params_"
   ]
  },
  {
   "cell_type": "code",
   "execution_count": 30,
   "id": "7c2459f4",
   "metadata": {},
   "outputs": [
    {
     "data": {
      "text/plain": [
       "(0.8664614200500289, 0.8615384615384616)"
      ]
     },
     "execution_count": 30,
     "metadata": {},
     "output_type": "execute_result"
    }
   ],
   "source": [
    "model = gs.best_estimator_\n",
    "model.score(x_train, y_train), model.score(x_target, y_target)"
   ]
  },
  {
   "cell_type": "code",
   "execution_count": 31,
   "id": "ee7ff0b4",
   "metadata": {},
   "outputs": [],
   "source": [
    "# 앙상블 학습알고리즘 : 정형데이터를 다루는데 성능이 가장 뛰어난(머신러닝..), 성능을 높이기 위해 여러개의 \n",
    "# 모델을 사용\n",
    "# 랜덤포레스트 알고리즘, 엑스트라 트리알고리즘ㅡ 그레이디언트 부스팅 알고리즘\n",
    "\n",
    "# 랜덤포레스트 알고리즘  : 결정트리를 랜덤하게 만들어서 숲을 구성\n",
    "# 랜덤하게 데이터를 추출하는 방법 : 부트스트랩 샘플"
   ]
  },
  {
   "cell_type": "code",
   "execution_count": 32,
   "id": "7d9100be",
   "metadata": {},
   "outputs": [
    {
     "data": {
      "text/html": [
       "<div>\n",
       "<style scoped>\n",
       "    .dataframe tbody tr th:only-of-type {\n",
       "        vertical-align: middle;\n",
       "    }\n",
       "\n",
       "    .dataframe tbody tr th {\n",
       "        vertical-align: top;\n",
       "    }\n",
       "\n",
       "    .dataframe thead th {\n",
       "        text-align: right;\n",
       "    }\n",
       "</style>\n",
       "<table border=\"1\" class=\"dataframe\">\n",
       "  <thead>\n",
       "    <tr style=\"text-align: right;\">\n",
       "      <th></th>\n",
       "      <th>alcohol</th>\n",
       "      <th>sugar</th>\n",
       "      <th>pH</th>\n",
       "      <th>class</th>\n",
       "    </tr>\n",
       "  </thead>\n",
       "  <tbody>\n",
       "    <tr>\n",
       "      <th>0</th>\n",
       "      <td>9.4</td>\n",
       "      <td>1.9</td>\n",
       "      <td>3.51</td>\n",
       "      <td>0</td>\n",
       "    </tr>\n",
       "    <tr>\n",
       "      <th>1</th>\n",
       "      <td>9.8</td>\n",
       "      <td>2.6</td>\n",
       "      <td>3.20</td>\n",
       "      <td>0</td>\n",
       "    </tr>\n",
       "    <tr>\n",
       "      <th>2</th>\n",
       "      <td>9.8</td>\n",
       "      <td>2.3</td>\n",
       "      <td>3.26</td>\n",
       "      <td>0</td>\n",
       "    </tr>\n",
       "    <tr>\n",
       "      <th>3</th>\n",
       "      <td>9.8</td>\n",
       "      <td>1.9</td>\n",
       "      <td>3.16</td>\n",
       "      <td>0</td>\n",
       "    </tr>\n",
       "    <tr>\n",
       "      <th>4</th>\n",
       "      <td>9.4</td>\n",
       "      <td>1.9</td>\n",
       "      <td>3.51</td>\n",
       "      <td>0</td>\n",
       "    </tr>\n",
       "  </tbody>\n",
       "</table>\n",
       "</div>"
      ],
      "text/plain": [
       "   alcohol  sugar    pH  class\n",
       "0      9.4    1.9  3.51      0\n",
       "1      9.8    2.6  3.20      0\n",
       "2      9.8    2.3  3.26      0\n",
       "3      9.8    1.9  3.16      0\n",
       "4      9.4    1.9  3.51      0"
      ]
     },
     "execution_count": 32,
     "metadata": {},
     "output_type": "execute_result"
    }
   ],
   "source": [
    "# 트리알고리즘은 정규화 안한다...... (StandardScaling) ...\n",
    "df = pd.read_csv(\"https://raw.githubusercontent.com/bigdataleeky/python/main/wine.csv\")\n",
    "df['class'] = df['class'].astype(int)\n",
    "df.head()"
   ]
  },
  {
   "cell_type": "code",
   "execution_count": 33,
   "id": "cfb374ed",
   "metadata": {},
   "outputs": [
    {
     "data": {
      "text/plain": [
       "((6497, 3), (6497,))"
      ]
     },
     "execution_count": 33,
     "metadata": {},
     "output_type": "execute_result"
    }
   ],
   "source": [
    "x =df.iloc[:,:-1]\n",
    "y =df.iloc[:,-1]\n",
    "x.shape, y.shape"
   ]
  },
  {
   "cell_type": "code",
   "execution_count": 34,
   "id": "4529efc1",
   "metadata": {},
   "outputs": [],
   "source": [
    "from sklearn.ensemble import RandomForestClassifier"
   ]
  },
  {
   "cell_type": "code",
   "execution_count": 35,
   "id": "ac7ba324",
   "metadata": {},
   "outputs": [
    {
     "data": {
      "text/plain": [
       "((4872, 3), (4872,))"
      ]
     },
     "execution_count": 35,
     "metadata": {},
     "output_type": "execute_result"
    }
   ],
   "source": [
    "x_train,x_target,y_train,y_target =  train_test_split(x,y,random_state=42)\n",
    "x_train.shape,y_train.shape"
   ]
  },
  {
   "cell_type": "code",
   "execution_count": 36,
   "id": "b4f5c44a",
   "metadata": {},
   "outputs": [
    {
     "data": {
      "text/plain": [
       "(0.9973316912972086, 0.8812307692307693)"
      ]
     },
     "execution_count": 36,
     "metadata": {},
     "output_type": "execute_result"
    }
   ],
   "source": [
    "rfc = RandomForestClassifier(random_state=42)\n",
    "rfc.fit(x_train, y_train)\n",
    "rfc.score(x_train, y_train), rfc.score(x_target, y_target) "
   ]
  },
  {
   "cell_type": "code",
   "execution_count": 37,
   "id": "e7c086e8",
   "metadata": {},
   "outputs": [
    {
     "data": {
      "text/plain": [
       "{'fit_time': array([0.22919273, 0.2202909 , 0.22327232, 0.22149801, 0.2274332 ]),\n",
       " 'score_time': array([0.01998234, 0.02000475, 0.02000332, 0.01994729, 0.02194381]),\n",
       " 'test_score': array([0.88      , 0.90051282, 0.90349076, 0.89014374, 0.88295688])}"
      ]
     },
     "execution_count": 37,
     "metadata": {},
     "output_type": "execute_result"
    }
   ],
   "source": [
    "score =  cross_validate(rfc,x_train,y_train,cv=StratifiedKFold() )\n",
    "score"
   ]
  },
  {
   "cell_type": "code",
   "execution_count": 38,
   "id": "0be1817f",
   "metadata": {},
   "outputs": [
    {
     "data": {
      "text/plain": [
       "0.8914208392565683"
      ]
     },
     "execution_count": 38,
     "metadata": {},
     "output_type": "execute_result"
    }
   ],
   "source": [
    "score['test_score'].mean()"
   ]
  },
  {
   "cell_type": "code",
   "execution_count": 39,
   "id": "25e66bf0",
   "metadata": {},
   "outputs": [
    {
     "data": {
      "text/plain": [
       "array([0.23155241, 0.49706658, 0.27138101])"
      ]
     },
     "execution_count": 39,
     "metadata": {},
     "output_type": "execute_result"
    }
   ],
   "source": [
    "# 리포트\n",
    "# 피처의 중요도를 알수....\n",
    "# 랜덤포레스트를 사용하는데. 크로스벨리데이터를 이용해서 전체학습데이터를 사용했다.\n",
    "# 피처의 중요도를 알아보기위해\n",
    "rfc.fit(x_train,y_train)\n",
    "rfc.feature_importances_"
   ]
  },
  {
   "cell_type": "code",
   "execution_count": 40,
   "id": "c2f94909",
   "metadata": {},
   "outputs": [],
   "source": [
    "# Tree 그 자체로 뭔가 구분도 할수도 있지만... Feature 엔지니어링에 활용"
   ]
  },
  {
   "cell_type": "code",
   "execution_count": 41,
   "id": "61ccffb5",
   "metadata": {},
   "outputs": [
    {
     "data": {
      "text/plain": [
       "array([0.23155241, 0.49706658, 0.27138101])"
      ]
     },
     "execution_count": 41,
     "metadata": {},
     "output_type": "execute_result"
    }
   ],
   "source": [
    "rfc2 = RandomForestClassifier(oob_score=True,random_state=42)\n",
    "rfc2.fit(x_train,y_train)\n",
    "rfc2.feature_importances_"
   ]
  },
  {
   "cell_type": "markdown",
   "id": "012dfadc",
   "metadata": {},
   "source": [
    "\n",
    "## 엑스트라 트리\n",
    "## 랜덤포레스트 보다 무작위 성이 크다....\n",
    "## 노드를 랜덤하게 분할하기때문에 계산속도가 빠르가"
   ]
  },
  {
   "cell_type": "code",
   "execution_count": 42,
   "id": "2b9fba48",
   "metadata": {},
   "outputs": [],
   "source": [
    "from sklearn.ensemble import ExtraTreesClassifier\n",
    "et = ExtraTreesClassifier()\n",
    "score = cross_validate(et,x_train, y_train)"
   ]
  },
  {
   "cell_type": "code",
   "execution_count": 43,
   "id": "3bd72c98",
   "metadata": {},
   "outputs": [
    {
     "data": {
      "text/plain": [
       "{'fit_time': array([0.21147227, 0.19659948, 0.20106602, 0.19647431, 0.20001984]),\n",
       " 'score_time': array([0.02493358, 0.02448702, 0.02593017, 0.02496171, 0.02792501]),\n",
       " 'test_score': array([0.88717949, 0.89230769, 0.90041068, 0.88398357, 0.8788501 ])}"
      ]
     },
     "execution_count": 43,
     "metadata": {},
     "output_type": "execute_result"
    }
   ],
   "source": [
    "score"
   ]
  },
  {
   "cell_type": "code",
   "execution_count": 44,
   "id": "cfa0c379",
   "metadata": {},
   "outputs": [
    {
     "data": {
      "text/plain": [
       "0.8885463065339863"
      ]
     },
     "execution_count": 44,
     "metadata": {},
     "output_type": "execute_result"
    }
   ],
   "source": [
    "score['test_score'].mean()"
   ]
  },
  {
   "cell_type": "markdown",
   "id": "f083ead8",
   "metadata": {},
   "source": [
    "## 그레디언트 부스팅\n",
    "## 깊이가 얖은 트리를 만들고 다음 트리는 이전트리의 결점을 보안하는 방식의 앙상블\n",
    "## 깊이가3 결정트리를 100개 --> 과적합에 강하고 높은 일반화 성능 기대\n",
    "## 경사하강법을  트리앙상블 적용.. 손실함수를 사용 분류: 로지스틱 함수\n",
    "##                                                회귀 : 평균제곱오차 MSE"
   ]
  },
  {
   "cell_type": "code",
   "execution_count": 55,
   "id": "66745ed6",
   "metadata": {},
   "outputs": [
    {
     "data": {
      "text/plain": [
       "(0.876641288895909, 0.9146652520989097)"
      ]
     },
     "execution_count": 55,
     "metadata": {},
     "output_type": "execute_result"
    }
   ],
   "source": [
    "from sklearn.ensemble import GradientBoostingClassifier\n",
    "gd =  GradientBoostingClassifier(random_state=42,learning_rate= 0.3)\n",
    "score = cross_validate(gd,x_train, y_train, return_train_score=True)\n",
    "score['test_score'].mean(), score['train_score'].mean()"
   ]
  },
  {
   "cell_type": "code",
   "execution_count": 59,
   "id": "ec37e9cf",
   "metadata": {},
   "outputs": [
    {
     "data": {
      "text/plain": [
       "GridSearchCV(estimator=GradientBoostingClassifier(learning_rate=0.3,\n",
       "                                                  random_state=42),\n",
       "             param_grid={'learning_rate': array([0.1, 0.2, 0.3, 0.4, 0.5, 0.6, 0.7, 0.8, 0.9, 1. , 1.1, 1.2, 1.3,\n",
       "       1.4])})"
      ]
     },
     "execution_count": 59,
     "metadata": {},
     "output_type": "execute_result"
    }
   ],
   "source": [
    "from sklearn.model_selection import GridSearchCV  # 튜닝\n",
    "param = {\n",
    "    'learning_rate':np.arange(0.1,1.5,0.1)\n",
    "}\n",
    "gs = GridSearchCV(gd,param_grid=param)\n",
    "gs.fit(x_train,y_train)"
   ]
  },
  {
   "cell_type": "code",
   "execution_count": 66,
   "id": "7ee3f238",
   "metadata": {},
   "outputs": [
    {
     "data": {
      "text/plain": [
       "{'learning_rate': 0.4}"
      ]
     },
     "execution_count": 66,
     "metadata": {},
     "output_type": "execute_result"
    }
   ],
   "source": [
    "gs.best_params_"
   ]
  },
  {
   "cell_type": "code",
   "execution_count": 67,
   "id": "da65bef3",
   "metadata": {},
   "outputs": [
    {
     "data": {
      "text/plain": [
       "(0.8770504922866319, 0.9233888719704268)"
      ]
     },
     "execution_count": 67,
     "metadata": {},
     "output_type": "execute_result"
    }
   ],
   "source": [
    "model = gs.best_estimator_\n",
    "score = cross_validate(model,x_train, y_train, return_train_score=True)\n",
    "score['test_score'].mean(), score['train_score'].mean()"
   ]
  },
  {
   "cell_type": "markdown",
   "id": "bd524760",
   "metadata": {},
   "source": [
    "## 히스토그램 기반 그레디언트 부스팅\n",
    "## 정형데이터를 다루는 머신러닝 알고리즘중에 가장 인기가 많은\n",
    "## X의 특성을 256개의 구간으로 나눔.... 트리를 구성할때 최적의 노드가 되도록 분할..  효율과 속도 up\n",
    "## 256개중에서 한개를 y로 나머지는 x로 사용\n"
   ]
  },
  {
   "cell_type": "code",
   "execution_count": 64,
   "id": "3ef5c550",
   "metadata": {},
   "outputs": [],
   "source": [
    "#from sklearn.experimental import enable_hist_gradient_boosting\n",
    "from sklearn.ensemble import HistGradientBoostingClassifier"
   ]
  },
  {
   "cell_type": "code",
   "execution_count": 65,
   "id": "14a167a4",
   "metadata": {},
   "outputs": [
    {
     "data": {
      "text/plain": [
       "(0.9380129799494501, 0.8805410414363187)"
      ]
     },
     "execution_count": 65,
     "metadata": {},
     "output_type": "execute_result"
    }
   ],
   "source": [
    "hgbc =  HistGradientBoostingClassifier(random_state=42)\n",
    "score =  cross_validate(hgbc, x_train, y_train,return_train_score=True)\n",
    "score['train_score'].mean(),  score['test_score'].mean()"
   ]
  },
  {
   "cell_type": "code",
   "execution_count": 71,
   "id": "825cc30d",
   "metadata": {},
   "outputs": [
    {
     "data": {
      "text/plain": [
       "{'categorical_features': None,\n",
       " 'early_stopping': 'auto',\n",
       " 'l2_regularization': 0.0,\n",
       " 'learning_rate': 0.1,\n",
       " 'loss': 'auto',\n",
       " 'max_bins': 255,\n",
       " 'max_depth': None,\n",
       " 'max_iter': 100,\n",
       " 'max_leaf_nodes': 31,\n",
       " 'min_samples_leaf': 20,\n",
       " 'monotonic_cst': None,\n",
       " 'n_iter_no_change': 10,\n",
       " 'random_state': 42,\n",
       " 'scoring': 'loss',\n",
       " 'tol': 1e-07,\n",
       " 'validation_fraction': 0.1,\n",
       " 'verbose': 0,\n",
       " 'warm_start': False}"
      ]
     },
     "execution_count": 71,
     "metadata": {},
     "output_type": "execute_result"
    }
   ],
   "source": [
    "hgbc.get_params()"
   ]
  },
  {
   "cell_type": "code",
   "execution_count": 72,
   "id": "fa2272a6",
   "metadata": {},
   "outputs": [
    {
     "data": {
      "text/plain": [
       "GridSearchCV(estimator=HistGradientBoostingClassifier(random_state=42),\n",
       "             param_grid={'learning_rate': array([0.1, 0.2, 0.3, 0.4, 0.5, 0.6, 0.7, 0.8, 0.9, 1. , 1.1, 1.2, 1.3,\n",
       "       1.4])})"
      ]
     },
     "execution_count": 72,
     "metadata": {},
     "output_type": "execute_result"
    }
   ],
   "source": [
    "param = {\n",
    "    'learning_rate':np.arange(0.1,1.5,0.1)\n",
    "}\n",
    "gs = GridSearchCV(hgbc,param_grid=param)\n",
    "gs.fit(x_train,y_train)"
   ]
  },
  {
   "cell_type": "code",
   "execution_count": 73,
   "id": "58159e2f",
   "metadata": {},
   "outputs": [
    {
     "data": {
      "text/plain": [
       "(0.8871097772863686, 0.9809627539727774)"
      ]
     },
     "execution_count": 73,
     "metadata": {},
     "output_type": "execute_result"
    }
   ],
   "source": [
    "model = gs.best_estimator_\n",
    "score = cross_validate(model,x_train, y_train, return_train_score=True)\n",
    "score['test_score'].mean(), score['train_score'].mean()"
   ]
  },
  {
   "cell_type": "code",
   "execution_count": 74,
   "id": "e5cff04d",
   "metadata": {},
   "outputs": [
    {
     "data": {
      "text/plain": [
       "{'learning_rate': 0.30000000000000004}"
      ]
     },
     "execution_count": 74,
     "metadata": {},
     "output_type": "execute_result"
    }
   ],
   "source": [
    "gs.best_params_"
   ]
  },
  {
   "cell_type": "code",
   "execution_count": 75,
   "id": "15413910",
   "metadata": {},
   "outputs": [
    {
     "data": {
      "text/plain": [
       "array(['alcohol', 'sugar', 'pH'], dtype=object)"
      ]
     },
     "execution_count": 75,
     "metadata": {},
     "output_type": "execute_result"
    }
   ],
   "source": [
    "from sklearn.inspection import permutation_importance\n"
   ]
  },
  {
   "cell_type": "code",
   "execution_count": 78,
   "id": "f2135723",
   "metadata": {},
   "outputs": [
    {
     "data": {
      "text/plain": [
       "array([0.1365353 , 0.27557471, 0.14076355])"
      ]
     },
     "execution_count": 78,
     "metadata": {},
     "output_type": "execute_result"
    }
   ],
   "source": [
    "result =  permutation_importance(model, x_train, y_train,random_state=42)\n",
    "result.importances_mean"
   ]
  },
  {
   "cell_type": "code",
   "execution_count": 79,
   "id": "dd4767bc",
   "metadata": {},
   "outputs": [
    {
     "data": {
      "text/plain": [
       "array([0.05735385, 0.20455385, 0.05870769])"
      ]
     },
     "execution_count": 79,
     "metadata": {},
     "output_type": "execute_result"
    }
   ],
   "source": [
    "result =  permutation_importance(model, x_target, y_target,random_state=42)\n",
    "result.importances_mean"
   ]
  },
  {
   "cell_type": "markdown",
   "id": "95707a6a",
   "metadata": {},
   "source": [
    "#### XGBboost --> 그레디언트 부스팅.. 알고리짐을 분산환경에 실행 할수 있도록\n",
    "#### 앙상블 알고리즘.....  Bagging / Boostring\n",
    "#### Bagging 각 모델에서 나온 값을 계산한다음. 최종 결과를 내는 방식\n",
    "#### 부스팅 : 이전모델의 결과를 반영해서 다음 모델에 적용한후 최종 결과를 내는 방식"
   ]
  },
  {
   "cell_type": "code",
   "execution_count": null,
   "id": "bea6c9e3",
   "metadata": {},
   "outputs": [],
   "source": []
  }
 ],
 "metadata": {
  "kernelspec": {
   "display_name": "Python 3 (ipykernel)",
   "language": "python",
   "name": "python3"
  },
  "language_info": {
   "codemirror_mode": {
    "name": "ipython",
    "version": 3
   },
   "file_extension": ".py",
   "mimetype": "text/x-python",
   "name": "python",
   "nbconvert_exporter": "python",
   "pygments_lexer": "ipython3",
   "version": "3.9.7"
  }
 },
 "nbformat": 4,
 "nbformat_minor": 5
}
