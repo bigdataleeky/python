{
 "cells": [
  {
   "cell_type": "code",
   "execution_count": 1,
   "id": "4eab6246",
   "metadata": {},
   "outputs": [],
   "source": [
    "import pandas as pd\n",
    "import numpy as np\n",
    "import matplotlib.pyplot as plt"
   ]
  },
  {
   "cell_type": "code",
   "execution_count": 2,
   "id": "5abdccc3",
   "metadata": {},
   "outputs": [],
   "source": [
    "import warnings\n",
    "warnings.filterwarnings('ignore')"
   ]
  },
  {
   "cell_type": "code",
   "execution_count": 6,
   "id": "794fab43",
   "metadata": {},
   "outputs": [],
   "source": [
    "picher_df = pd.read_csv(\"https://raw.githubusercontent.com/bigdataleeky/python/main/data/%ED%88%AC%EC%88%98_2017.csv\")\n",
    "batter_df = pd.read_csv(\"https://raw.githubusercontent.com/bigdataleeky/python/main/data/%ED%83%80%EC%9E%90_2017.csv\")"
   ]
  },
  {
   "cell_type": "code",
   "execution_count": 7,
   "id": "6ffdd2fd",
   "metadata": {},
   "outputs": [
    {
     "data": {
      "text/html": [
       "<div>\n",
       "<style scoped>\n",
       "    .dataframe tbody tr th:only-of-type {\n",
       "        vertical-align: middle;\n",
       "    }\n",
       "\n",
       "    .dataframe tbody tr th {\n",
       "        vertical-align: top;\n",
       "    }\n",
       "\n",
       "    .dataframe thead th {\n",
       "        text-align: right;\n",
       "    }\n",
       "</style>\n",
       "<table border=\"1\" class=\"dataframe\">\n",
       "  <thead>\n",
       "    <tr style=\"text-align: right;\">\n",
       "      <th></th>\n",
       "      <th>선수명</th>\n",
       "      <th>팀명</th>\n",
       "      <th>승</th>\n",
       "      <th>패</th>\n",
       "      <th>세</th>\n",
       "      <th>홀드</th>\n",
       "      <th>블론</th>\n",
       "      <th>경기</th>\n",
       "      <th>선발</th>\n",
       "      <th>이닝</th>\n",
       "      <th>...</th>\n",
       "      <th>홈런/9</th>\n",
       "      <th>BABIP</th>\n",
       "      <th>LOB%</th>\n",
       "      <th>ERA</th>\n",
       "      <th>RA9-WAR</th>\n",
       "      <th>FIP</th>\n",
       "      <th>kFIP</th>\n",
       "      <th>WAR</th>\n",
       "      <th>연봉(2018)</th>\n",
       "      <th>연봉(2017)</th>\n",
       "    </tr>\n",
       "  </thead>\n",
       "  <tbody>\n",
       "    <tr>\n",
       "      <th>0</th>\n",
       "      <td>켈리</td>\n",
       "      <td>SK</td>\n",
       "      <td>16</td>\n",
       "      <td>7</td>\n",
       "      <td>0</td>\n",
       "      <td>0</td>\n",
       "      <td>0</td>\n",
       "      <td>30</td>\n",
       "      <td>30</td>\n",
       "      <td>190.0</td>\n",
       "      <td>...</td>\n",
       "      <td>0.76</td>\n",
       "      <td>0.342</td>\n",
       "      <td>73.7</td>\n",
       "      <td>3.60</td>\n",
       "      <td>6.91</td>\n",
       "      <td>3.69</td>\n",
       "      <td>3.44</td>\n",
       "      <td>6.62</td>\n",
       "      <td>140000</td>\n",
       "      <td>85000</td>\n",
       "    </tr>\n",
       "    <tr>\n",
       "      <th>1</th>\n",
       "      <td>소사</td>\n",
       "      <td>LG</td>\n",
       "      <td>11</td>\n",
       "      <td>11</td>\n",
       "      <td>1</td>\n",
       "      <td>0</td>\n",
       "      <td>0</td>\n",
       "      <td>30</td>\n",
       "      <td>29</td>\n",
       "      <td>185.1</td>\n",
       "      <td>...</td>\n",
       "      <td>0.53</td>\n",
       "      <td>0.319</td>\n",
       "      <td>67.1</td>\n",
       "      <td>3.88</td>\n",
       "      <td>6.80</td>\n",
       "      <td>3.52</td>\n",
       "      <td>3.41</td>\n",
       "      <td>6.08</td>\n",
       "      <td>120000</td>\n",
       "      <td>50000</td>\n",
       "    </tr>\n",
       "    <tr>\n",
       "      <th>2</th>\n",
       "      <td>양현종</td>\n",
       "      <td>KIA</td>\n",
       "      <td>20</td>\n",
       "      <td>6</td>\n",
       "      <td>0</td>\n",
       "      <td>0</td>\n",
       "      <td>0</td>\n",
       "      <td>31</td>\n",
       "      <td>31</td>\n",
       "      <td>193.1</td>\n",
       "      <td>...</td>\n",
       "      <td>0.79</td>\n",
       "      <td>0.332</td>\n",
       "      <td>72.1</td>\n",
       "      <td>3.44</td>\n",
       "      <td>6.54</td>\n",
       "      <td>3.94</td>\n",
       "      <td>3.82</td>\n",
       "      <td>5.64</td>\n",
       "      <td>230000</td>\n",
       "      <td>150000</td>\n",
       "    </tr>\n",
       "    <tr>\n",
       "      <th>3</th>\n",
       "      <td>차우찬</td>\n",
       "      <td>LG</td>\n",
       "      <td>10</td>\n",
       "      <td>7</td>\n",
       "      <td>0</td>\n",
       "      <td>0</td>\n",
       "      <td>0</td>\n",
       "      <td>28</td>\n",
       "      <td>28</td>\n",
       "      <td>175.2</td>\n",
       "      <td>...</td>\n",
       "      <td>1.02</td>\n",
       "      <td>0.298</td>\n",
       "      <td>75.0</td>\n",
       "      <td>3.43</td>\n",
       "      <td>6.11</td>\n",
       "      <td>4.20</td>\n",
       "      <td>4.03</td>\n",
       "      <td>4.63</td>\n",
       "      <td>100000</td>\n",
       "      <td>100000</td>\n",
       "    </tr>\n",
       "    <tr>\n",
       "      <th>4</th>\n",
       "      <td>레일리</td>\n",
       "      <td>롯데</td>\n",
       "      <td>13</td>\n",
       "      <td>7</td>\n",
       "      <td>0</td>\n",
       "      <td>0</td>\n",
       "      <td>0</td>\n",
       "      <td>30</td>\n",
       "      <td>30</td>\n",
       "      <td>187.1</td>\n",
       "      <td>...</td>\n",
       "      <td>0.91</td>\n",
       "      <td>0.323</td>\n",
       "      <td>74.1</td>\n",
       "      <td>3.80</td>\n",
       "      <td>6.13</td>\n",
       "      <td>4.36</td>\n",
       "      <td>4.31</td>\n",
       "      <td>4.38</td>\n",
       "      <td>111000</td>\n",
       "      <td>85000</td>\n",
       "    </tr>\n",
       "  </tbody>\n",
       "</table>\n",
       "<p>5 rows × 22 columns</p>\n",
       "</div>"
      ],
      "text/plain": [
       "   선수명   팀명   승   패  세  홀드  블론  경기  선발     이닝  ...  홈런/9  BABIP  LOB%   ERA  \\\n",
       "0   켈리   SK  16   7  0   0   0  30  30  190.0  ...  0.76  0.342  73.7  3.60   \n",
       "1   소사   LG  11  11  1   0   0  30  29  185.1  ...  0.53  0.319  67.1  3.88   \n",
       "2  양현종  KIA  20   6  0   0   0  31  31  193.1  ...  0.79  0.332  72.1  3.44   \n",
       "3  차우찬   LG  10   7  0   0   0  28  28  175.2  ...  1.02  0.298  75.0  3.43   \n",
       "4  레일리   롯데  13   7  0   0   0  30  30  187.1  ...  0.91  0.323  74.1  3.80   \n",
       "\n",
       "   RA9-WAR   FIP  kFIP   WAR  연봉(2018)  연봉(2017)  \n",
       "0     6.91  3.69  3.44  6.62    140000     85000  \n",
       "1     6.80  3.52  3.41  6.08    120000     50000  \n",
       "2     6.54  3.94  3.82  5.64    230000    150000  \n",
       "3     6.11  4.20  4.03  4.63    100000    100000  \n",
       "4     6.13  4.36  4.31  4.38    111000     85000  \n",
       "\n",
       "[5 rows x 22 columns]"
      ]
     },
     "execution_count": 7,
     "metadata": {},
     "output_type": "execute_result"
    }
   ],
   "source": [
    "picher_df.head()"
   ]
  },
  {
   "cell_type": "code",
   "execution_count": 8,
   "id": "67a761e0",
   "metadata": {},
   "outputs": [
    {
     "data": {
      "text/html": [
       "<div>\n",
       "<style scoped>\n",
       "    .dataframe tbody tr th:only-of-type {\n",
       "        vertical-align: middle;\n",
       "    }\n",
       "\n",
       "    .dataframe tbody tr th {\n",
       "        vertical-align: top;\n",
       "    }\n",
       "\n",
       "    .dataframe thead th {\n",
       "        text-align: right;\n",
       "    }\n",
       "</style>\n",
       "<table border=\"1\" class=\"dataframe\">\n",
       "  <thead>\n",
       "    <tr style=\"text-align: right;\">\n",
       "      <th></th>\n",
       "      <th>선수명</th>\n",
       "      <th>팀명</th>\n",
       "      <th>경기</th>\n",
       "      <th>타석</th>\n",
       "      <th>타수</th>\n",
       "      <th>안타</th>\n",
       "      <th>홈런</th>\n",
       "      <th>득점</th>\n",
       "      <th>타점</th>\n",
       "      <th>볼넷</th>\n",
       "      <th>...</th>\n",
       "      <th>도루</th>\n",
       "      <th>BABIP</th>\n",
       "      <th>타율</th>\n",
       "      <th>출루율</th>\n",
       "      <th>장타율</th>\n",
       "      <th>OPS</th>\n",
       "      <th>wOBA</th>\n",
       "      <th>WAR</th>\n",
       "      <th>연봉(2018)</th>\n",
       "      <th>연봉(2017)</th>\n",
       "    </tr>\n",
       "  </thead>\n",
       "  <tbody>\n",
       "    <tr>\n",
       "      <th>0</th>\n",
       "      <td>최정</td>\n",
       "      <td>SK</td>\n",
       "      <td>130</td>\n",
       "      <td>527</td>\n",
       "      <td>430</td>\n",
       "      <td>136</td>\n",
       "      <td>46</td>\n",
       "      <td>89</td>\n",
       "      <td>113</td>\n",
       "      <td>70</td>\n",
       "      <td>...</td>\n",
       "      <td>1</td>\n",
       "      <td>0.316</td>\n",
       "      <td>0.316</td>\n",
       "      <td>0.427</td>\n",
       "      <td>0.684</td>\n",
       "      <td>1.111</td>\n",
       "      <td>0.442</td>\n",
       "      <td>7.30</td>\n",
       "      <td>120000</td>\n",
       "      <td>120000</td>\n",
       "    </tr>\n",
       "    <tr>\n",
       "      <th>1</th>\n",
       "      <td>최형우</td>\n",
       "      <td>KIA</td>\n",
       "      <td>142</td>\n",
       "      <td>629</td>\n",
       "      <td>514</td>\n",
       "      <td>176</td>\n",
       "      <td>26</td>\n",
       "      <td>98</td>\n",
       "      <td>120</td>\n",
       "      <td>96</td>\n",
       "      <td>...</td>\n",
       "      <td>0</td>\n",
       "      <td>0.362</td>\n",
       "      <td>0.342</td>\n",
       "      <td>0.450</td>\n",
       "      <td>0.576</td>\n",
       "      <td>1.026</td>\n",
       "      <td>0.430</td>\n",
       "      <td>7.20</td>\n",
       "      <td>150000</td>\n",
       "      <td>150000</td>\n",
       "    </tr>\n",
       "    <tr>\n",
       "      <th>2</th>\n",
       "      <td>박건우</td>\n",
       "      <td>두산</td>\n",
       "      <td>131</td>\n",
       "      <td>543</td>\n",
       "      <td>483</td>\n",
       "      <td>177</td>\n",
       "      <td>20</td>\n",
       "      <td>91</td>\n",
       "      <td>78</td>\n",
       "      <td>41</td>\n",
       "      <td>...</td>\n",
       "      <td>20</td>\n",
       "      <td>0.39</td>\n",
       "      <td>0.366</td>\n",
       "      <td>0.424</td>\n",
       "      <td>0.582</td>\n",
       "      <td>1.006</td>\n",
       "      <td>0.424</td>\n",
       "      <td>7.04</td>\n",
       "      <td>37000</td>\n",
       "      <td>19500</td>\n",
       "    </tr>\n",
       "    <tr>\n",
       "      <th>3</th>\n",
       "      <td>나성범</td>\n",
       "      <td>NC</td>\n",
       "      <td>125</td>\n",
       "      <td>561</td>\n",
       "      <td>498</td>\n",
       "      <td>173</td>\n",
       "      <td>24</td>\n",
       "      <td>103</td>\n",
       "      <td>99</td>\n",
       "      <td>48</td>\n",
       "      <td>...</td>\n",
       "      <td>17</td>\n",
       "      <td>0.413</td>\n",
       "      <td>0.347</td>\n",
       "      <td>0.415</td>\n",
       "      <td>0.584</td>\n",
       "      <td>0.999</td>\n",
       "      <td>0.416</td>\n",
       "      <td>5.64</td>\n",
       "      <td>43000</td>\n",
       "      <td>35000</td>\n",
       "    </tr>\n",
       "    <tr>\n",
       "      <th>4</th>\n",
       "      <td>손아섭</td>\n",
       "      <td>롯데</td>\n",
       "      <td>144</td>\n",
       "      <td>667</td>\n",
       "      <td>576</td>\n",
       "      <td>193</td>\n",
       "      <td>20</td>\n",
       "      <td>113</td>\n",
       "      <td>80</td>\n",
       "      <td>83</td>\n",
       "      <td>...</td>\n",
       "      <td>25</td>\n",
       "      <td>0.374</td>\n",
       "      <td>0.335</td>\n",
       "      <td>0.420</td>\n",
       "      <td>0.514</td>\n",
       "      <td>0.934</td>\n",
       "      <td>0.398</td>\n",
       "      <td>5.60</td>\n",
       "      <td>150000</td>\n",
       "      <td>65000</td>\n",
       "    </tr>\n",
       "  </tbody>\n",
       "</table>\n",
       "<p>5 rows × 21 columns</p>\n",
       "</div>"
      ],
      "text/plain": [
       "   선수명   팀명   경기   타석   타수   안타  홈런   득점   타점  볼넷  ...  도루  BABIP     타율  \\\n",
       "0   최정   SK  130  527  430  136  46   89  113  70  ...   1  0.316  0.316   \n",
       "1  최형우  KIA  142  629  514  176  26   98  120  96  ...   0  0.362  0.342   \n",
       "2  박건우   두산  131  543  483  177  20   91   78  41  ...  20   0.39  0.366   \n",
       "3  나성범   NC  125  561  498  173  24  103   99  48  ...  17  0.413  0.347   \n",
       "4  손아섭   롯데  144  667  576  193  20  113   80  83  ...  25  0.374  0.335   \n",
       "\n",
       "     출루율    장타율    OPS   wOBA   WAR  연봉(2018)  연봉(2017)  \n",
       "0  0.427  0.684  1.111  0.442  7.30    120000    120000  \n",
       "1  0.450  0.576  1.026  0.430  7.20    150000    150000  \n",
       "2  0.424  0.582  1.006  0.424  7.04     37000     19500  \n",
       "3  0.415  0.584  0.999  0.416  5.64     43000     35000  \n",
       "4  0.420  0.514  0.934  0.398  5.60    150000     65000  \n",
       "\n",
       "[5 rows x 21 columns]"
      ]
     },
     "execution_count": 8,
     "metadata": {},
     "output_type": "execute_result"
    }
   ],
   "source": [
    "batter_df.head()"
   ]
  },
  {
   "cell_type": "code",
   "execution_count": 9,
   "id": "1da75b59",
   "metadata": {},
   "outputs": [
    {
     "data": {
      "text/plain": [
       "((152, 22), (191, 21))"
      ]
     },
     "execution_count": 9,
     "metadata": {},
     "output_type": "execute_result"
    }
   ],
   "source": [
    "picher_df.shape, batter_df.shape"
   ]
  },
  {
   "cell_type": "code",
   "execution_count": 17,
   "id": "6b9afda9",
   "metadata": {},
   "outputs": [],
   "source": [
    "#현재 OS에 설치되어 있는 폰트\n",
    "import matplotlib as mpl\n",
    "sorted(set([i.name for i in mpl.font_manager.fontManager.ttflist]))\n",
    "mpl.rc('font',family='HYGothic-Extra')"
   ]
  },
  {
   "cell_type": "code",
   "execution_count": 19,
   "id": "a50fbe5d",
   "metadata": {},
   "outputs": [
    {
     "data": {
      "text/plain": [
       "count       152.000000\n",
       "mean      18932.236842\n",
       "std       30940.732924\n",
       "min        2700.000000\n",
       "25%        4000.000000\n",
       "50%        7550.000000\n",
       "75%       18500.000000\n",
       "max      230000.000000\n",
       "Name: 연봉(2018), dtype: float64"
      ]
     },
     "execution_count": 19,
     "metadata": {},
     "output_type": "execute_result"
    }
   ],
   "source": [
    "picher_df['연봉(2018)'].describe()"
   ]
  },
  {
   "cell_type": "code",
   "execution_count": 22,
   "id": "ebea9c13",
   "metadata": {},
   "outputs": [
    {
     "data": {
      "image/png": "[encoded data removed]",
      "text/plain": [
       "<Figure size 432x288 with 1 Axes>"
      ]
     },
     "metadata": {
      "needs_background": "light"
     },
     "output_type": "display_data"
    }
   ],
   "source": [
    "picher_df['연봉(2018)'].hist(bins='auto')\n",
    "plt.show()"
   ]
  },
  {
   "cell_type": "code",
   "execution_count": 24,
   "id": "6b5d509f",
   "metadata": {},
   "outputs": [
    {
     "data": {
      "image/png": "[encoded data removed]",
      "text/plain": [
       "<Figure size 432x288 with 1 Axes>"
      ]
     },
     "metadata": {
      "needs_background": "light"
     },
     "output_type": "display_data"
    }
   ],
   "source": [
    "picher_df.boxplot(column=['연봉(2018)'])\n",
    "plt.show()"
   ]
  },
  {
   "cell_type": "code",
   "execution_count": 25,
   "id": "363bd26a",
   "metadata": {},
   "outputs": [
    {
     "name": "stdout",
     "output_type": "stream",
     "text": [
      "<class 'pandas.core.frame.DataFrame'>\n",
      "RangeIndex: 152 entries, 0 to 151\n",
      "Data columns (total 22 columns):\n",
      " #   Column    Non-Null Count  Dtype  \n",
      "---  ------    --------------  -----  \n",
      " 0   선수명       152 non-null    object \n",
      " 1   팀명        152 non-null    object \n",
      " 2   승         152 non-null    int64  \n",
      " 3   패         152 non-null    int64  \n",
      " 4   세         152 non-null    int64  \n",
      " 5   홀드        152 non-null    int64  \n",
      " 6   블론        152 non-null    int64  \n",
      " 7   경기        152 non-null    int64  \n",
      " 8   선발        152 non-null    int64  \n",
      " 9   이닝        152 non-null    float64\n",
      " 10  삼진/9      152 non-null    float64\n",
      " 11  볼넷/9      152 non-null    float64\n",
      " 12  홈런/9      152 non-null    float64\n",
      " 13  BABIP     152 non-null    float64\n",
      " 14  LOB%      152 non-null    float64\n",
      " 15  ERA       152 non-null    float64\n",
      " 16  RA9-WAR   152 non-null    float64\n",
      " 17  FIP       152 non-null    float64\n",
      " 18  kFIP      152 non-null    float64\n",
      " 19  WAR       152 non-null    float64\n",
      " 20  연봉(2018)  152 non-null    int64  \n",
      " 21  연봉(2017)  152 non-null    int64  \n",
      "dtypes: float64(11), int64(9), object(2)\n",
      "memory usage: 26.2+ KB\n"
     ]
    }
   ],
   "source": [
    "picher_df.info()"
   ]
  },
  {
   "cell_type": "code",
   "execution_count": 59,
   "id": "a0008614",
   "metadata": {},
   "outputs": [
    {
     "data": {
      "text/html": [
       "<div>\n",
       "<style scoped>\n",
       "    .dataframe tbody tr th:only-of-type {\n",
       "        vertical-align: middle;\n",
       "    }\n",
       "\n",
       "    .dataframe tbody tr th {\n",
       "        vertical-align: top;\n",
       "    }\n",
       "\n",
       "    .dataframe thead th {\n",
       "        text-align: right;\n",
       "    }\n",
       "</style>\n",
       "<table border=\"1\" class=\"dataframe\">\n",
       "  <thead>\n",
       "    <tr style=\"text-align: right;\">\n",
       "      <th></th>\n",
       "      <th>승</th>\n",
       "      <th>패</th>\n",
       "      <th>세</th>\n",
       "      <th>홀드</th>\n",
       "      <th>블론</th>\n",
       "      <th>경기</th>\n",
       "      <th>선발</th>\n",
       "      <th>이닝</th>\n",
       "      <th>삼진/9</th>\n",
       "      <th>볼넷/9</th>\n",
       "      <th>홈런/9</th>\n",
       "      <th>BABIP</th>\n",
       "      <th>LOB%</th>\n",
       "      <th>ERA</th>\n",
       "      <th>RA9-WAR</th>\n",
       "      <th>FIP</th>\n",
       "      <th>kFIP</th>\n",
       "      <th>WAR</th>\n",
       "    </tr>\n",
       "  </thead>\n",
       "  <tbody>\n",
       "    <tr>\n",
       "      <th>0</th>\n",
       "      <td>16</td>\n",
       "      <td>7</td>\n",
       "      <td>0</td>\n",
       "      <td>0</td>\n",
       "      <td>0</td>\n",
       "      <td>30</td>\n",
       "      <td>30</td>\n",
       "      <td>190.0</td>\n",
       "      <td>8.95</td>\n",
       "      <td>2.13</td>\n",
       "      <td>0.76</td>\n",
       "      <td>0.342</td>\n",
       "      <td>73.7</td>\n",
       "      <td>3.60</td>\n",
       "      <td>6.91</td>\n",
       "      <td>3.69</td>\n",
       "      <td>3.44</td>\n",
       "      <td>6.62</td>\n",
       "    </tr>\n",
       "    <tr>\n",
       "      <th>1</th>\n",
       "      <td>11</td>\n",
       "      <td>11</td>\n",
       "      <td>1</td>\n",
       "      <td>0</td>\n",
       "      <td>0</td>\n",
       "      <td>30</td>\n",
       "      <td>29</td>\n",
       "      <td>185.1</td>\n",
       "      <td>7.43</td>\n",
       "      <td>1.85</td>\n",
       "      <td>0.53</td>\n",
       "      <td>0.319</td>\n",
       "      <td>67.1</td>\n",
       "      <td>3.88</td>\n",
       "      <td>6.80</td>\n",
       "      <td>3.52</td>\n",
       "      <td>3.41</td>\n",
       "      <td>6.08</td>\n",
       "    </tr>\n",
       "    <tr>\n",
       "      <th>2</th>\n",
       "      <td>20</td>\n",
       "      <td>6</td>\n",
       "      <td>0</td>\n",
       "      <td>0</td>\n",
       "      <td>0</td>\n",
       "      <td>31</td>\n",
       "      <td>31</td>\n",
       "      <td>193.1</td>\n",
       "      <td>7.36</td>\n",
       "      <td>2.09</td>\n",
       "      <td>0.79</td>\n",
       "      <td>0.332</td>\n",
       "      <td>72.1</td>\n",
       "      <td>3.44</td>\n",
       "      <td>6.54</td>\n",
       "      <td>3.94</td>\n",
       "      <td>3.82</td>\n",
       "      <td>5.64</td>\n",
       "    </tr>\n",
       "    <tr>\n",
       "      <th>3</th>\n",
       "      <td>10</td>\n",
       "      <td>7</td>\n",
       "      <td>0</td>\n",
       "      <td>0</td>\n",
       "      <td>0</td>\n",
       "      <td>28</td>\n",
       "      <td>28</td>\n",
       "      <td>175.2</td>\n",
       "      <td>8.04</td>\n",
       "      <td>1.95</td>\n",
       "      <td>1.02</td>\n",
       "      <td>0.298</td>\n",
       "      <td>75.0</td>\n",
       "      <td>3.43</td>\n",
       "      <td>6.11</td>\n",
       "      <td>4.20</td>\n",
       "      <td>4.03</td>\n",
       "      <td>4.63</td>\n",
       "    </tr>\n",
       "    <tr>\n",
       "      <th>4</th>\n",
       "      <td>13</td>\n",
       "      <td>7</td>\n",
       "      <td>0</td>\n",
       "      <td>0</td>\n",
       "      <td>0</td>\n",
       "      <td>30</td>\n",
       "      <td>30</td>\n",
       "      <td>187.1</td>\n",
       "      <td>7.49</td>\n",
       "      <td>2.11</td>\n",
       "      <td>0.91</td>\n",
       "      <td>0.323</td>\n",
       "      <td>74.1</td>\n",
       "      <td>3.80</td>\n",
       "      <td>6.13</td>\n",
       "      <td>4.36</td>\n",
       "      <td>4.31</td>\n",
       "      <td>4.38</td>\n",
       "    </tr>\n",
       "  </tbody>\n",
       "</table>\n",
       "</div>"
      ],
      "text/plain": [
       "    승   패  세  홀드  블론  경기  선발     이닝  삼진/9  볼넷/9  홈런/9  BABIP  LOB%   ERA  \\\n",
       "0  16   7  0   0   0  30  30  190.0  8.95  2.13  0.76  0.342  73.7  3.60   \n",
       "1  11  11  1   0   0  30  29  185.1  7.43  1.85  0.53  0.319  67.1  3.88   \n",
       "2  20   6  0   0   0  31  31  193.1  7.36  2.09  0.79  0.332  72.1  3.44   \n",
       "3  10   7  0   0   0  28  28  175.2  8.04  1.95  1.02  0.298  75.0  3.43   \n",
       "4  13   7  0   0   0  30  30  187.1  7.49  2.11  0.91  0.323  74.1  3.80   \n",
       "\n",
       "   RA9-WAR   FIP  kFIP   WAR  \n",
       "0     6.91  3.69  3.44  6.62  \n",
       "1     6.80  3.52  3.41  6.08  \n",
       "2     6.54  3.94  3.82  5.64  \n",
       "3     6.11  4.20  4.03  4.63  \n",
       "4     6.13  4.36  4.31  4.38  "
      ]
     },
     "execution_count": 59,
     "metadata": {},
     "output_type": "execute_result"
    }
   ],
   "source": [
    "picher_df2 =  picher_df.iloc[:,2:-2]\n",
    "picher_df2.head()"
   ]
  },
  {
   "cell_type": "code",
   "execution_count": 159,
   "id": "210b16fa",
   "metadata": {},
   "outputs": [
    {
     "data": {
      "text/html": [
       "<div>\n",
       "<style scoped>\n",
       "    .dataframe tbody tr th:only-of-type {\n",
       "        vertical-align: middle;\n",
       "    }\n",
       "\n",
       "    .dataframe tbody tr th {\n",
       "        vertical-align: top;\n",
       "    }\n",
       "\n",
       "    .dataframe thead th {\n",
       "        text-align: right;\n",
       "    }\n",
       "</style>\n",
       "<table border=\"1\" class=\"dataframe\">\n",
       "  <thead>\n",
       "    <tr style=\"text-align: right;\">\n",
       "      <th></th>\n",
       "      <th>승</th>\n",
       "      <th>세</th>\n",
       "      <th>홀드</th>\n",
       "      <th>블론</th>\n",
       "      <th>삼진/9</th>\n",
       "      <th>볼넷/9</th>\n",
       "      <th>BABIP</th>\n",
       "      <th>LOB%</th>\n",
       "      <th>kFIP</th>\n",
       "    </tr>\n",
       "  </thead>\n",
       "  <tbody>\n",
       "    <tr>\n",
       "      <th>승</th>\n",
       "      <td>1.000000</td>\n",
       "      <td>0.053747</td>\n",
       "      <td>0.092872</td>\n",
       "      <td>0.105281</td>\n",
       "      <td>0.078377</td>\n",
       "      <td>-0.404710</td>\n",
       "      <td>-0.171111</td>\n",
       "      <td>0.131178</td>\n",
       "      <td>-0.314159</td>\n",
       "    </tr>\n",
       "    <tr>\n",
       "      <th>세</th>\n",
       "      <td>0.053747</td>\n",
       "      <td>1.000000</td>\n",
       "      <td>0.112716</td>\n",
       "      <td>0.605229</td>\n",
       "      <td>0.170436</td>\n",
       "      <td>-0.131394</td>\n",
       "      <td>-0.089212</td>\n",
       "      <td>0.167557</td>\n",
       "      <td>-0.225259</td>\n",
       "    </tr>\n",
       "    <tr>\n",
       "      <th>홀드</th>\n",
       "      <td>0.092872</td>\n",
       "      <td>0.112716</td>\n",
       "      <td>1.000000</td>\n",
       "      <td>0.490076</td>\n",
       "      <td>0.186790</td>\n",
       "      <td>-0.146806</td>\n",
       "      <td>-0.104307</td>\n",
       "      <td>0.048123</td>\n",
       "      <td>-0.237353</td>\n",
       "    </tr>\n",
       "    <tr>\n",
       "      <th>블론</th>\n",
       "      <td>0.105281</td>\n",
       "      <td>0.605229</td>\n",
       "      <td>0.490076</td>\n",
       "      <td>1.000000</td>\n",
       "      <td>0.188423</td>\n",
       "      <td>-0.137019</td>\n",
       "      <td>-0.112480</td>\n",
       "      <td>0.100633</td>\n",
       "      <td>-0.237815</td>\n",
       "    </tr>\n",
       "    <tr>\n",
       "      <th>삼진/9</th>\n",
       "      <td>0.078377</td>\n",
       "      <td>0.170436</td>\n",
       "      <td>0.186790</td>\n",
       "      <td>0.188423</td>\n",
       "      <td>1.000000</td>\n",
       "      <td>0.109345</td>\n",
       "      <td>0.457523</td>\n",
       "      <td>-0.071284</td>\n",
       "      <td>-0.317594</td>\n",
       "    </tr>\n",
       "    <tr>\n",
       "      <th>볼넷/9</th>\n",
       "      <td>-0.404710</td>\n",
       "      <td>-0.131394</td>\n",
       "      <td>-0.146806</td>\n",
       "      <td>-0.137019</td>\n",
       "      <td>0.109345</td>\n",
       "      <td>1.000000</td>\n",
       "      <td>0.276009</td>\n",
       "      <td>-0.150837</td>\n",
       "      <td>0.605008</td>\n",
       "    </tr>\n",
       "    <tr>\n",
       "      <th>BABIP</th>\n",
       "      <td>-0.171111</td>\n",
       "      <td>-0.089212</td>\n",
       "      <td>-0.104307</td>\n",
       "      <td>-0.112480</td>\n",
       "      <td>0.457523</td>\n",
       "      <td>0.276009</td>\n",
       "      <td>1.000000</td>\n",
       "      <td>-0.505478</td>\n",
       "      <td>0.166910</td>\n",
       "    </tr>\n",
       "    <tr>\n",
       "      <th>LOB%</th>\n",
       "      <td>0.131178</td>\n",
       "      <td>0.167557</td>\n",
       "      <td>0.048123</td>\n",
       "      <td>0.100633</td>\n",
       "      <td>-0.071284</td>\n",
       "      <td>-0.150837</td>\n",
       "      <td>-0.505478</td>\n",
       "      <td>1.000000</td>\n",
       "      <td>-0.269536</td>\n",
       "    </tr>\n",
       "    <tr>\n",
       "      <th>kFIP</th>\n",
       "      <td>-0.314159</td>\n",
       "      <td>-0.225259</td>\n",
       "      <td>-0.237353</td>\n",
       "      <td>-0.237815</td>\n",
       "      <td>-0.317594</td>\n",
       "      <td>0.605008</td>\n",
       "      <td>0.166910</td>\n",
       "      <td>-0.269536</td>\n",
       "      <td>1.000000</td>\n",
       "    </tr>\n",
       "  </tbody>\n",
       "</table>\n",
       "</div>"
      ],
      "text/plain": [
       "              승         세        홀드        블론      삼진/9      볼넷/9     BABIP  \\\n",
       "승      1.000000  0.053747  0.092872  0.105281  0.078377 -0.404710 -0.171111   \n",
       "세      0.053747  1.000000  0.112716  0.605229  0.170436 -0.131394 -0.089212   \n",
       "홀드     0.092872  0.112716  1.000000  0.490076  0.186790 -0.146806 -0.104307   \n",
       "블론     0.105281  0.605229  0.490076  1.000000  0.188423 -0.137019 -0.112480   \n",
       "삼진/9   0.078377  0.170436  0.186790  0.188423  1.000000  0.109345  0.457523   \n",
       "볼넷/9  -0.404710 -0.131394 -0.146806 -0.137019  0.109345  1.000000  0.276009   \n",
       "BABIP -0.171111 -0.089212 -0.104307 -0.112480  0.457523  0.276009  1.000000   \n",
       "LOB%   0.131178  0.167557  0.048123  0.100633 -0.071284 -0.150837 -0.505478   \n",
       "kFIP  -0.314159 -0.225259 -0.237353 -0.237815 -0.317594  0.605008  0.166910   \n",
       "\n",
       "           LOB%      kFIP  \n",
       "승      0.131178 -0.314159  \n",
       "세      0.167557 -0.225259  \n",
       "홀드     0.048123 -0.237353  \n",
       "블론     0.100633 -0.237815  \n",
       "삼진/9  -0.071284 -0.317594  \n",
       "볼넷/9  -0.150837  0.605008  \n",
       "BABIP -0.505478  0.166910  \n",
       "LOB%   1.000000 -0.269536  \n",
       "kFIP  -0.269536  1.000000  "
      ]
     },
     "execution_count": 159,
     "metadata": {},
     "output_type": "execute_result"
    }
   ],
   "source": [
    "# 상관관계 값을 보고 값이 커서 상관지수 높은 피처들은 하나만 선택한다.\n",
    "picher_df3 = picher_df2.drop(columns=[\"이닝\",'선발','패','WAR','RA9-WAR','FIP','홈런/9','경기','ERA'])\n",
    "# picher_df3 = picher_df2\n",
    "picher_df3.corr()\n"
   ]
  },
  {
   "cell_type": "code",
   "execution_count": 131,
   "id": "1a276171",
   "metadata": {},
   "outputs": [
    {
     "data": {
      "image/png": "[encoded data removed]",
      "text/plain": [
       "<Figure size 720x576 with 2 Axes>"
      ]
     },
     "metadata": {},
     "output_type": "display_data"
    }
   ],
   "source": [
    "import seaborn as sns\n",
    "sns.set(rc = {'figure.figsize':(10,8)})\n",
    "plt.rc('font',family='HYGothic-Extra')\n",
    "sns.heatmap(\n",
    "    picher_df3.corr(),\n",
    "    annot_kws={'size':15},\n",
    "    fmt='.2f',\n",
    "    cbar=True,\n",
    "    annot=True,\n",
    "    square=True   \n",
    ")\n",
    "plt.tight_layout()\n",
    "plt.show()"
   ]
  },
  {
   "cell_type": "code",
   "execution_count": 132,
   "id": "7179e097",
   "metadata": {},
   "outputs": [
    {
     "data": {
      "image/png": "[encoded data removed]",
      "text/plain": [
       "<Figure size 576x576 with 10 Axes>"
      ]
     },
     "metadata": {},
     "output_type": "display_data"
    }
   ],
   "source": [
    "# 각 컬럼들에 대한 히스토그램을 그려서 데이터의 분포를 살펴본다.\n",
    "row = 0\n",
    "if len(picher_df3.columns)%5 == 0:\n",
    "    row = len(picher_df3.columns)//5\n",
    "else:\n",
    "    row = len(picher_df3.columns)//5 + 1\n",
    "    \n",
    "fix, axs = plt.subplots(row,  5, figsize=(8,8))\n",
    "for i in range(len(picher_df3.columns)):\n",
    "    axs[i//5,i%5].hist( picher_df3.iloc[:,i])\n",
    "    axs[i//5,i%5].set_title(picher_df3.columns[i])\n",
    "    axs[i//5,i%5].axis('off')\n",
    "axs[1,4].axis('off')\n",
    "\n",
    "plt.show()    \n",
    "  "
   ]
  },
  {
   "cell_type": "code",
   "execution_count": 133,
   "id": "fd928078",
   "metadata": {},
   "outputs": [
    {
     "data": {
      "image/png": "[encoded data removed]",
      "text/plain": [
       "<Figure size 720x576 with 9 Axes>"
      ]
     },
     "metadata": {},
     "output_type": "display_data"
    }
   ],
   "source": [
    "picher_df3.hist()\n",
    "plt.show()"
   ]
  },
  {
   "cell_type": "code",
   "execution_count": 134,
   "id": "c9a389f6",
   "metadata": {},
   "outputs": [
    {
     "data": {
      "text/html": [
       "<div>\n",
       "<style scoped>\n",
       "    .dataframe tbody tr th:only-of-type {\n",
       "        vertical-align: middle;\n",
       "    }\n",
       "\n",
       "    .dataframe tbody tr th {\n",
       "        vertical-align: top;\n",
       "    }\n",
       "\n",
       "    .dataframe thead th {\n",
       "        text-align: right;\n",
       "    }\n",
       "</style>\n",
       "<table border=\"1\" class=\"dataframe\">\n",
       "  <thead>\n",
       "    <tr style=\"text-align: right;\">\n",
       "      <th></th>\n",
       "      <th>승</th>\n",
       "      <th>세</th>\n",
       "      <th>홀드</th>\n",
       "      <th>블론</th>\n",
       "      <th>삼진/9</th>\n",
       "      <th>볼넷/9</th>\n",
       "      <th>BABIP</th>\n",
       "      <th>LOB%</th>\n",
       "      <th>kFIP</th>\n",
       "    </tr>\n",
       "  </thead>\n",
       "  <tbody>\n",
       "    <tr>\n",
       "      <th>0</th>\n",
       "      <td>16</td>\n",
       "      <td>0</td>\n",
       "      <td>0</td>\n",
       "      <td>0</td>\n",
       "      <td>8.95</td>\n",
       "      <td>2.13</td>\n",
       "      <td>0.342</td>\n",
       "      <td>73.7</td>\n",
       "      <td>3.44</td>\n",
       "    </tr>\n",
       "    <tr>\n",
       "      <th>1</th>\n",
       "      <td>11</td>\n",
       "      <td>1</td>\n",
       "      <td>0</td>\n",
       "      <td>0</td>\n",
       "      <td>7.43</td>\n",
       "      <td>1.85</td>\n",
       "      <td>0.319</td>\n",
       "      <td>67.1</td>\n",
       "      <td>3.41</td>\n",
       "    </tr>\n",
       "    <tr>\n",
       "      <th>2</th>\n",
       "      <td>20</td>\n",
       "      <td>0</td>\n",
       "      <td>0</td>\n",
       "      <td>0</td>\n",
       "      <td>7.36</td>\n",
       "      <td>2.09</td>\n",
       "      <td>0.332</td>\n",
       "      <td>72.1</td>\n",
       "      <td>3.82</td>\n",
       "    </tr>\n",
       "    <tr>\n",
       "      <th>3</th>\n",
       "      <td>10</td>\n",
       "      <td>0</td>\n",
       "      <td>0</td>\n",
       "      <td>0</td>\n",
       "      <td>8.04</td>\n",
       "      <td>1.95</td>\n",
       "      <td>0.298</td>\n",
       "      <td>75.0</td>\n",
       "      <td>4.03</td>\n",
       "    </tr>\n",
       "    <tr>\n",
       "      <th>4</th>\n",
       "      <td>13</td>\n",
       "      <td>0</td>\n",
       "      <td>0</td>\n",
       "      <td>0</td>\n",
       "      <td>7.49</td>\n",
       "      <td>2.11</td>\n",
       "      <td>0.323</td>\n",
       "      <td>74.1</td>\n",
       "      <td>4.31</td>\n",
       "    </tr>\n",
       "  </tbody>\n",
       "</table>\n",
       "</div>"
      ],
      "text/plain": [
       "    승  세  홀드  블론  삼진/9  볼넷/9  BABIP  LOB%  kFIP\n",
       "0  16  0   0   0  8.95  2.13  0.342  73.7  3.44\n",
       "1  11  1   0   0  7.43  1.85  0.319  67.1  3.41\n",
       "2  20  0   0   0  7.36  2.09  0.332  72.1  3.82\n",
       "3  10  0   0   0  8.04  1.95  0.298  75.0  4.03\n",
       "4  13  0   0   0  7.49  2.11  0.323  74.1  4.31"
      ]
     },
     "execution_count": 134,
     "metadata": {},
     "output_type": "execute_result"
    }
   ],
   "source": [
    "# 피처들을 정리..\n",
    "picher_df3.head()"
   ]
  },
  {
   "cell_type": "code",
   "execution_count": 135,
   "id": "d1fb54a2",
   "metadata": {},
   "outputs": [
    {
     "data": {
      "text/plain": [
       "((152, 9), (152,))"
      ]
     },
     "execution_count": 135,
     "metadata": {},
     "output_type": "execute_result"
    }
   ],
   "source": [
    "# 데이터 표준화\n",
    "from sklearn.preprocessing import StandardScaler\n",
    "X = picher_df3\n",
    "Y = picher_df['연봉(2017)']\n",
    "ss = StandardScaler()\n",
    "X = ss.fit_transform(X)\n",
    "X.shape, Y.shape"
   ]
  },
  {
   "cell_type": "code",
   "execution_count": 136,
   "id": "77cad2f9",
   "metadata": {},
   "outputs": [
    {
     "data": {
      "text/plain": [
       "array([[ 3.32457765e+00, -3.07464977e-01, -5.87641430e-01,\n",
       "        -5.45388887e-01,  6.74320667e-01, -8.71872532e-01,\n",
       "         1.68382356e-02,  4.48091039e-01, -1.06162315e+00],\n",
       "       [ 2.02618144e+00, -9.88280283e-02, -5.87641430e-01,\n",
       "        -5.45388887e-01,  1.34976186e-01, -9.90766781e-01,\n",
       "        -2.42485428e-01, -1.23169516e-01, -1.07681252e+00],\n",
       "       [ 4.36329461e+00, -3.07464977e-01, -5.87641430e-01,\n",
       "        -5.45388887e-01,  1.10137953e-01, -8.88857425e-01,\n",
       "        -9.59111834e-02,  3.09603632e-01, -8.69224568e-01],\n",
       "       [ 1.76650220e+00, -3.07464977e-01, -5.87641430e-01,\n",
       "        -5.45388887e-01,  3.51423642e-01, -9.48304549e-01,\n",
       "        -4.79259208e-01,  5.60612058e-01, -7.62899034e-01],\n",
       "       [ 2.54553993e+00, -3.07464977e-01, -5.87641430e-01,\n",
       "        -5.45388887e-01,  1.56266099e-01, -8.80364978e-01,\n",
       "        -1.97385661e-01,  4.82712891e-01, -6.21131655e-01],\n",
       "       [ 1.24714372e+00, -3.07464977e-01, -5.87641430e-01,\n",
       "        -5.45388887e-01,  1.31427867e-01, -1.03747524e+00,\n",
       "        -5.80733685e-01,  6.55822150e-01, -6.16068534e-01],\n",
       "       [ 1.24714372e+00, -3.07464977e-01, -3.65448650e-01,\n",
       "        -5.45388887e-01,  3.15940452e-01, -1.34320330e+00,\n",
       "         2.42337074e-01, -3.39556089e-01, -8.89477051e-01],\n",
       "       [ 2.80521917e+00, -3.07464977e-01, -5.87641430e-01,\n",
       "        -5.45388887e-01, -2.87273770e-01, -6.93531159e-01,\n",
       "        -5.35633918e-01,  6.29855761e-01, -6.00879172e-01],\n",
       "       [ 1.50682296e+00, -3.07464977e-01, -1.43255871e-01,\n",
       "        -5.45388887e-01,  7.31093771e-01,  2.84943923e-03,\n",
       "        -2.19935544e-01,  3.96158262e-01, -9.45171379e-01],\n",
       "       [ 1.50682296e+00, -3.07464977e-01, -5.87641430e-01,\n",
       "        -5.45388887e-01,  9.23963581e-02, -9.31319656e-01,\n",
       "         1.40862597e-01,  6.90444002e-01, -4.69238034e-01]])"
      ]
     },
     "execution_count": 136,
     "metadata": {},
     "output_type": "execute_result"
    }
   ],
   "source": [
    "X[:10]"
   ]
  },
  {
   "cell_type": "code",
   "execution_count": 137,
   "id": "878913b9",
   "metadata": {},
   "outputs": [],
   "source": [
    "# 머신러닝 모델을 선택하고 적용\n",
    "from sklearn.linear_model import LinearRegression\n",
    "from sklearn.model_selection import train_test_split"
   ]
  },
  {
   "cell_type": "code",
   "execution_count": 138,
   "id": "82c50e59",
   "metadata": {},
   "outputs": [
    {
     "data": {
      "text/plain": [
       "((121, 9), (31, 9), (121,), (31,))"
      ]
     },
     "execution_count": 138,
     "metadata": {},
     "output_type": "execute_result"
    }
   ],
   "source": [
    "x_train,x_target,y_train,y_target = train_test_split(X,Y,test_size=0.2, random_state=42)\n",
    "x_train.shape,x_target.shape,y_train.shape,y_target.shape"
   ]
  },
  {
   "cell_type": "code",
   "execution_count": 139,
   "id": "3b7db379",
   "metadata": {},
   "outputs": [],
   "source": [
    "lr =  LinearRegression()\n",
    "model = lr.fit(x_train,y_train)"
   ]
  },
  {
   "cell_type": "code",
   "execution_count": 140,
   "id": "afc47bc8",
   "metadata": {},
   "outputs": [
    {
     "data": {
      "text/plain": [
       "(0.4685047282390621, 0.34628316747729493)"
      ]
     },
     "execution_count": 140,
     "metadata": {},
     "output_type": "execute_result"
    }
   ],
   "source": [
    "model.score(x_train,y_train), model.score(x_target,y_target)"
   ]
  },
  {
   "cell_type": "code",
   "execution_count": 141,
   "id": "b68abb99",
   "metadata": {},
   "outputs": [
    {
     "data": {
      "text/plain": [
       "(0.34628316747729493, 221326316.24826124)"
      ]
     },
     "execution_count": 141,
     "metadata": {},
     "output_type": "execute_result"
    }
   ],
   "source": [
    "from sklearn.metrics import r2_score\n",
    "from sklearn.metrics import mean_squared_error\n",
    "y_train_predict =  model.predict(x_train)\n",
    "y_target_predict =  model.predict(x_target)\n",
    "r2_score(y_target,y_target_predict), mean_squared_error(y_target,y_target_predict)"
   ]
  },
  {
   "cell_type": "code",
   "execution_count": 142,
   "id": "83184c87",
   "metadata": {},
   "outputs": [
    {
     "data": {
      "image/png": "[encoded data removed]",
      "text/plain": [
       "<Figure size 720x576 with 1 Axes>"
      ]
     },
     "metadata": {},
     "output_type": "display_data"
    }
   ],
   "source": [
    "# 실제 2017년도의 연봉 y_train, y_target\n",
    "plt.scatter(y_train, y_train_predict)\n",
    "plt.show()"
   ]
  },
  {
   "cell_type": "code",
   "execution_count": 143,
   "id": "94b95bb8",
   "metadata": {},
   "outputs": [],
   "source": [
    "# 수치가 너무 안나와서... 기존의 피처들의 재 구성을 고려해 보아야 한다.\n",
    "#1. 정규분포형태를 띠는 컬럼들만 모아서.\n",
    "#2. 팀 정보.....  숫자만으로 이루어진 데이터를 스케일링하고. + 팀 정보를 one hot 으로 변경하고 합친 데이터를 사용한다.\n",
    "#3. 팀 정보 + 2017년도 연봉...."
   ]
  },
  {
   "cell_type": "code",
   "execution_count": 150,
   "id": "749a6eb1",
   "metadata": {},
   "outputs": [
    {
     "data": {
      "text/plain": [
       "Index(['승', '세', '홀드', '블론', '삼진/9', '볼넷/9', 'BABIP', 'LOB%', 'kFIP'], dtype='object')"
      ]
     },
     "execution_count": 150,
     "metadata": {},
     "output_type": "execute_result"
    }
   ],
   "source": [
    "#1 \n",
    "picher_df3.columns\n",
    "#picher_df3.loc[['삼진/9', '볼넷/9','LOB%', 'kFIP']]"
   ]
  },
  {
   "cell_type": "code",
   "execution_count": 152,
   "id": "f4f1ddbf",
   "metadata": {},
   "outputs": [
    {
     "data": {
      "text/plain": [
       "(0.15560795833527574, -0.22711727342518606)"
      ]
     },
     "execution_count": 152,
     "metadata": {},
     "output_type": "execute_result"
    }
   ],
   "source": [
    "picher_df3.loc[:,['삼진/9', '볼넷/9','LOB%', 'kFIP']]\n",
    "# 데이터 표준화\n",
    "from sklearn.preprocessing import StandardScaler\n",
    "X = picher_df3.loc[:,['삼진/9', '볼넷/9','LOB%', 'kFIP']]\n",
    "Y = picher_df['연봉(2017)']\n",
    "ss = StandardScaler()\n",
    "X = ss.fit_transform(X)\n",
    "x_train,x_target,y_train,y_target = train_test_split(X,Y,test_size=0.2, random_state=42)\n",
    "x_train.shape,x_target.shape,y_train.shape,y_target.shape\n",
    "lr =  LinearRegression()\n",
    "model = lr.fit(x_train,y_train)\n",
    "model.score(x_train,y_train), model.score(x_target,y_target)"
   ]
  },
  {
   "cell_type": "code",
   "execution_count": 153,
   "id": "8e95a8fe",
   "metadata": {},
   "outputs": [],
   "source": [
    "# 편차가 심한 데이터..... 는 데이터를 어떻게 보정을 하는지? 어떤 알고리즘을 사용하는지 --> 연구..."
   ]
  },
  {
   "cell_type": "code",
   "execution_count": 157,
   "id": "50741a38",
   "metadata": {},
   "outputs": [
    {
     "data": {
      "text/plain": [
       "0       SK\n",
       "1       LG\n",
       "2      KIA\n",
       "3       LG\n",
       "4       롯데\n",
       "      ... \n",
       "147     한화\n",
       "148    KIA\n",
       "149     롯데\n",
       "150     삼성\n",
       "151     KT\n",
       "Name: 팀명, Length: 152, dtype: object"
      ]
     },
     "execution_count": 157,
     "metadata": {},
     "output_type": "execute_result"
    }
   ],
   "source": [
    "# 2번 방법 적용  팀정보를 포함\n",
    "picher_df['팀명']"
   ]
  },
  {
   "cell_type": "code",
   "execution_count": 165,
   "id": "2b78614f",
   "metadata": {},
   "outputs": [
    {
     "data": {
      "text/plain": [
       "pandas.core.frame.DataFrame"
      ]
     },
     "execution_count": 165,
     "metadata": {},
     "output_type": "execute_result"
    }
   ],
   "source": [
    "# ont hot enncording\n",
    "dumy = pd.get_dummies(picher_df['팀명'])\n",
    "type(dumy)"
   ]
  },
  {
   "cell_type": "code",
   "execution_count": 166,
   "id": "040b1e36",
   "metadata": {},
   "outputs": [
    {
     "data": {
      "text/plain": [
       "(0.6034929822515471, 0.45780629282803376)"
      ]
     },
     "execution_count": 166,
     "metadata": {},
     "output_type": "execute_result"
    }
   ],
   "source": [
    "ss = StandardScaler()\n",
    "\n",
    "picher_df2 = ss.fit_transform(picher_df2)\n",
    "picher_df4 = pd.DataFrame( picher_df2).join(dumy)\n",
    "\n",
    "X = picher_df4\n",
    "Y = picher_df['연봉(2017)']\n",
    "\n",
    "x_train,x_target,y_train,y_target = train_test_split(X,Y,test_size=0.2, random_state=42)\n",
    "lr =  LinearRegression()\n",
    "model = lr.fit(x_train,y_train)\n",
    "model.score(x_train,y_train), model.score(x_target,y_target)"
   ]
  },
  {
   "cell_type": "code",
   "execution_count": null,
   "id": "89c04d15",
   "metadata": {},
   "outputs": [],
   "source": []
  }
 ],
 "metadata": {
  "kernelspec": {
   "display_name": "Python 3 (ipykernel)",
   "language": "python",
   "name": "python3"
  },
  "language_info": {
   "codemirror_mode": {
    "name": "ipython",
    "version": 3
   },
   "file_extension": ".py",
   "mimetype": "text/x-python",
   "name": "python",
   "nbconvert_exporter": "python",
   "pygments_lexer": "ipython3",
   "version": "3.9.7"
  }
 },
 "nbformat": 4,
 "nbformat_minor": 5
}
