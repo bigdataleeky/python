{
  "nbformat": 4,
  "nbformat_minor": 0,
  "metadata": {
    "colab": {
      "name": "20220427_지능에이전트_영상분류.ipynb",
      "provenance": [],
      "collapsed_sections": []
    },
    "kernelspec": {
      "name": "python3",
      "display_name": "Python 3"
    },
    "language_info": {
      "name": "python"
    }
  },
  "cells": [
    {
      "cell_type": "code",
      "execution_count": 71,
      "metadata": {
        "id": "ai437XfF_nwh"
      },
      "outputs": [],
      "source": [
        "import tensorflow as tf\n",
        "cnn =  tf.keras.models.load_model(\"/content/drive/MyDrive/my_cnn_for_deploy.h5\")"
      ]
    },
    {
      "cell_type": "code",
      "source": [
        "class_names=['airplane','automobile','bird','cat','deer','dog','flog','horse','ship','truck'] # CIFAR-10의 부류 이름"
      ],
      "metadata": {
        "id": "0JcIwRJM_8qX"
      },
      "execution_count": 72,
      "outputs": []
    },
    {
      "cell_type": "code",
      "source": [
        "import numpy as np\n",
        "from tensorflow.keras.preprocessing import image\n",
        "import os\n",
        "\n",
        "x_test = []   # 이미지->데이터로 변환\n",
        "fnames = []   # 실제파일명\n",
        "# img_origin = []  # 실제 이미지영상\n",
        "os.chdir('/content/drive/MyDrive/test_image')\n",
        "for filename in os.listdir():    \n",
        "  if 'jpg' not in filename:    \n",
        "    continue  \n",
        "  if not os.path.isfile(filename):    \n",
        "    continue;\n",
        "  img = image.load_img(filename, target_size=(32,32))  # 이미 학습한 컨볼류션신경망의 텐서 크기로 변환하였기 때문에 실제 이미지보다\n",
        "                                                       # 해상도가떨어짐 \n",
        "  # img_origin.append(img)   # 학습용이기때문에 품질이 낮다. 그래서 shutil을이용해서 실제 이미지를 복사할것\n",
        "  fnames.append(filename)\n",
        "  x = np.asarray(img)/255.0   # 데이터 표준화\n",
        "  x_test.append(x)  # 표준화된 데이터로 테스트 테이터 만들고\n",
        "\n",
        "x_test = np.asarray(x_test)     # 예측을 위해서 넘파이배열로 반들고..-->넘파이는 행열연산을 지원하기때문에 딥러닝에서 빠르다\n",
        "pred = cnn.predict(x_test)\n",
        "x_test.shape"
      ],
      "metadata": {
        "colab": {
          "base_uri": "https://localhost:8080/"
        },
        "id": "euWqH4slAHgG",
        "outputId": "66ef6124-5a83-4bf1-b8e8-5ff9a35adb7f"
      },
      "execution_count": 82,
      "outputs": [
        {
          "output_type": "execute_result",
          "data": {
            "text/plain": [
              "(12, 32, 32, 3)"
            ]
          },
          "metadata": {},
          "execution_count": 82
        }
      ]
    },
    {
      "cell_type": "code",
      "source": [
        "# 주어진데이터의 label 정보를 읽어오자  - 오류발생으로 ....\n",
        "# with open('label.txt','r') as f:\n",
        "#   a = [line.strip() for line in f.readlines() ]\n",
        "# a = np.asarray(a).reshape(-1,1)\n",
        "# print(np.unique(a))\n",
        "# y_test = tf.keras.utils.to_categorical(a,10)\n",
        "# print(x_test.shape,y_test.shape)\n",
        "# # res = cnn.evaluate(x_test,y_test)"
      ],
      "metadata": {
        "id": "erwQeszDxT4z"
      },
      "execution_count": null,
      "outputs": []
    },
    {
      "cell_type": "code",
      "source": [
        ""
      ],
      "metadata": {
        "id": "u5S6qvKN8ndb"
      },
      "execution_count": null,
      "outputs": []
    },
    {
      "cell_type": "code",
      "source": [
        ""
      ],
      "metadata": {
        "id": "pd3BBNzv8pTD"
      },
      "execution_count": null,
      "outputs": []
    },
    {
      "cell_type": "code",
      "source": [
        "os.chdir('/content/drive/MyDrive/test_image')  # 테스트 이미지로 경로 설정\n",
        "#  분류를 위한 경로 생성\n",
        "if not os.path.isdir('class_buckets'):\n",
        "  os.mkdir('class_buckets')\n",
        "os.chdir('class_buckets')\n",
        "# class 별로 폴더 만들기\n",
        "for i in range(len(class_names)):\n",
        "  if not os.path.isdir(class_names[i]):\n",
        "    os.mkdir(class_names[i])"
      ],
      "metadata": {
        "id": "J0OB32xeAt2d"
      },
      "execution_count": 83,
      "outputs": []
    },
    {
      "cell_type": "code",
      "source": [
        "# pred의 결과에 따라 폴더에 해당 이미지를 저장 - 이미지 분류 서비스를 제공\n",
        "import shutil\n",
        "save_path = '/content/drive/MyDrive/test_image/'\n",
        "for i in range(len(pred)):\n",
        "  forder_name = class_names[np.argmax(pred[i])]  \n",
        "  os.chdir(forder_name)\n",
        "  # img_origin[i].save(fnames[i])\n",
        "  shutil.copy(save_path+fnames[i],'./'+fnames[i])\n",
        "  os.chdir('..')  "
      ],
      "metadata": {
        "id": "qYAulNIHCkEL"
      },
      "execution_count": 84,
      "outputs": []
    },
    {
      "cell_type": "code",
      "source": [
        ""
      ],
      "metadata": {
        "id": "m2MLW1Gp4QcK"
      },
      "execution_count": null,
      "outputs": []
    }
  ]
}