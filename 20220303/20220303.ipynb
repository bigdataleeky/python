{
 "cells": [
  {
   "cell_type": "code",
   "execution_count": 2,
   "id": "0b93eccb",
   "metadata": {},
   "outputs": [],
   "source": [
    "import numpy as np"
   ]
  },
  {
   "cell_type": "code",
   "execution_count": 3,
   "id": "89e33bc0",
   "metadata": {},
   "outputs": [],
   "source": [
    "length = np.array(\n",
    "    [8.4, 13.7, 15.0, 16.2, 17.4, 18.0, 18.7, 19.0, 19.6, 20.0, \n",
    "     21.0, 21.0, 21.0, 21.3, 22.0, 22.0, 22.0, 22.0, 22.0, 22.5, \n",
    "     22.5, 22.7, 23.0, 23.5, 24.0, 24.0, 24.6, 25.0, 25.6, 26.5, \n",
    "     27.3, 27.5, 27.5, 27.5, 28.0, 28.7, 30.0, 32.8, 34.5, 35.0, \n",
    "     36.5, 36.0, 37.0, 37.0, 39.0, 39.0, 39.0, 40.0, 40.0, 40.0, \n",
    "     40.0, 42.0, 43.0, 43.0, 43.5, 44.0]\n",
    "     )\n",
    "weight = np.array(\n",
    "    [5.9, 32.0, 40.0, 51.5, 70.0, 100.0, 78.0, 80.0, 85.0, 85.0, \n",
    "     110.0, 115.0, 125.0, 130.0, 120.0, 120.0, 130.0, 135.0, 110.0, \n",
    "     130.0, 150.0, 145.0, 150.0, 170.0, 225.0, 145.0, 188.0, 180.0, \n",
    "     197.0, 218.0, 300.0, 260.0, 265.0, 250.0, 250.0, 300.0, 320.0, \n",
    "     514.0, 556.0, 840.0, 685.0, 700.0, 700.0, 690.0, 900.0, 650.0, \n",
    "     820.0, 850.0, 900.0, 1015.0, 820.0, 1100.0, 1000.0, 1100.0, \n",
    "     1000.0, 1000.0]\n",
    "     )"
   ]
  },
  {
   "cell_type": "markdown",
   "id": "3b26e716",
   "metadata": {},
   "source": [
    "# 길이가 50 무게가 얼마일까?"
   ]
  },
  {
   "cell_type": "markdown",
   "id": "24ef4388",
   "metadata": {},
   "source": [
    "### 예측 : 회귀(regressor)\n",
    "### 분류 : 분류(class)\n",
    "### EDA(탐색적 데이터 분석) (80~90%)  --> 데이터(학습용 / 검증용) -> 적절한 머신러닝 선택 -> 평가(평균제곱오차) and score"
   ]
  },
  {
   "cell_type": "code",
   "execution_count": 7,
   "id": "9da8c75b",
   "metadata": {},
   "outputs": [],
   "source": [
    "from sklearn.model_selection import train_test_split\n",
    "train_input,test_input,train_target,test_target =  train_test_split(length,weight,random_state=42)\n",
    "train_input = train_input.reshape(-1,1)\n",
    "test_input = test_input.reshape(-1,1)"
   ]
  },
  {
   "cell_type": "code",
   "execution_count": 18,
   "id": "07a70e41",
   "metadata": {},
   "outputs": [
    {
     "data": {
      "text/plain": [
       "KNeighborsRegressor(n_neighbors=3)"
      ]
     },
     "execution_count": 18,
     "metadata": {},
     "output_type": "execute_result"
    }
   ],
   "source": [
    "from sklearn.neighbors import KNeighborsRegressor\n",
    "knr =  KNeighborsRegressor(n_neighbors=3)\n",
    "knr.fit(train_input,train_target)"
   ]
  },
  {
   "cell_type": "code",
   "execution_count": 19,
   "id": "f5626c46",
   "metadata": {},
   "outputs": [
    {
     "data": {
      "text/plain": [
       "((42, 1), (42,))"
      ]
     },
     "execution_count": 19,
     "metadata": {},
     "output_type": "execute_result"
    }
   ],
   "source": [
    "train_input.shape,  train_target.shape"
   ]
  },
  {
   "cell_type": "code",
   "execution_count": 20,
   "id": "56976fc4",
   "metadata": {},
   "outputs": [
    {
     "data": {
      "text/plain": [
       "[[50]]"
      ]
     },
     "execution_count": 20,
     "metadata": {},
     "output_type": "execute_result"
    }
   ],
   "source": [
    "[[50]]"
   ]
  },
  {
   "cell_type": "code",
   "execution_count": 33,
   "id": "d1c39d17",
   "metadata": {},
   "outputs": [
    {
     "data": {
      "text/plain": [
       "array([1033.33333333])"
      ]
     },
     "execution_count": 33,
     "metadata": {},
     "output_type": "execute_result"
    }
   ],
   "source": [
    "knr.predict([[50]])"
   ]
  },
  {
   "cell_type": "code",
   "execution_count": 22,
   "id": "7fca718d",
   "metadata": {},
   "outputs": [],
   "source": [
    "# 시각화를 통해 k 최근접 이웃 알고리즘을 적용한 값을 시각화한다."
   ]
  },
  {
   "cell_type": "code",
   "execution_count": 23,
   "id": "c2f4eccb",
   "metadata": {},
   "outputs": [
    {
     "data": {
      "text/plain": [
       "(array([[6., 7., 7.]]), array([[34,  8, 14]], dtype=int64))"
      ]
     },
     "execution_count": 23,
     "metadata": {},
     "output_type": "execute_result"
    }
   ],
   "source": [
    "distnace, indexes =  knr.kneighbors([[50]])\n",
    "distnace, indexes"
   ]
  },
  {
   "cell_type": "code",
   "execution_count": 31,
   "id": "98642aef",
   "metadata": {},
   "outputs": [
    {
     "data": {
      "image/png": "[encoded data removed]",
      "text/plain": [
       "<Figure size 432x288 with 1 Axes>"
      ]
     },
     "metadata": {
      "needs_background": "light"
     },
     "output_type": "display_data"
    }
   ],
   "source": [
    "import matplotlib.pyplot as plt\n",
    "plt.scatter(train_input, train_target)\n",
    "plt.scatter(50,1033, marker='^')\n",
    "plt.scatter(train_input[indexes], train_target[indexes], marker='D')\n",
    "plt.xlabel(\"length\")\n",
    "plt.ylabel(\"weight\")\n",
    "plt.show()"
   ]
  },
  {
   "cell_type": "code",
   "execution_count": 36,
   "id": "016350e8",
   "metadata": {},
   "outputs": [
    {
     "data": {
      "text/plain": [
       "array([1033.33333333])"
      ]
     },
     "execution_count": 36,
     "metadata": {},
     "output_type": "execute_result"
    }
   ],
   "source": [
    "knr.predict([[100]])"
   ]
  },
  {
   "cell_type": "code",
   "execution_count": 37,
   "id": "8053d1bf",
   "metadata": {},
   "outputs": [
    {
     "data": {
      "text/plain": [
       "(array([[56., 57., 57.]]), array([[34,  8, 14]], dtype=int64))"
      ]
     },
     "execution_count": 37,
     "metadata": {},
     "output_type": "execute_result"
    }
   ],
   "source": [
    "knr.kneighbors([[100]])"
   ]
  },
  {
   "cell_type": "code",
   "execution_count": 38,
   "id": "cea5ce93",
   "metadata": {},
   "outputs": [
    {
     "data": {
      "image/png": "[encoded data removed]",
      "text/plain": [
       "<Figure size 432x288 with 1 Axes>"
      ]
     },
     "metadata": {
      "needs_background": "light"
     },
     "output_type": "display_data"
    }
   ],
   "source": [
    "import matplotlib.pyplot as plt\n",
    "plt.scatter(train_input, train_target)\n",
    "plt.scatter(100,1033, marker='^')\n",
    "plt.scatter(train_input[indexes], train_target[indexes], marker='D')\n",
    "plt.xlabel(\"length\")\n",
    "plt.ylabel(\"weight\")\n",
    "plt.show()"
   ]
  },
  {
   "cell_type": "code",
   "execution_count": 40,
   "id": "93b9f05a",
   "metadata": {},
   "outputs": [
    {
     "data": {
      "text/plain": [
       "array([47.33333333])"
      ]
     },
     "execution_count": 40,
     "metadata": {},
     "output_type": "execute_result"
    }
   ],
   "source": [
    "knr.predict([[2]])"
   ]
  },
  {
   "cell_type": "markdown",
   "id": "f1156491",
   "metadata": {},
   "source": [
    "# 선형 회귀"
   ]
  },
  {
   "cell_type": "code",
   "execution_count": 43,
   "id": "4f4c57ee",
   "metadata": {},
   "outputs": [],
   "source": [
    "from sklearn.linear_model import LinearRegression"
   ]
  },
  {
   "cell_type": "code",
   "execution_count": 45,
   "id": "19c35e08",
   "metadata": {},
   "outputs": [
    {
     "data": {
      "text/plain": [
       "LinearRegression()"
      ]
     },
     "execution_count": 45,
     "metadata": {},
     "output_type": "execute_result"
    }
   ],
   "source": [
    "lr =  LinearRegression()\n",
    "lr.fit(train_input,train_target)"
   ]
  },
  {
   "cell_type": "code",
   "execution_count": 46,
   "id": "4ba68265",
   "metadata": {},
   "outputs": [
    {
     "data": {
      "text/plain": [
       "array([1241.83860323])"
      ]
     },
     "execution_count": 46,
     "metadata": {},
     "output_type": "execute_result"
    }
   ],
   "source": [
    "lr.predict([[50]])"
   ]
  },
  {
   "cell_type": "code",
   "execution_count": 47,
   "id": "97c7b668",
   "metadata": {},
   "outputs": [
    {
     "data": {
      "text/plain": [
       "array([3192.69585141])"
      ]
     },
     "execution_count": 47,
     "metadata": {},
     "output_type": "execute_result"
    }
   ],
   "source": [
    "lr.predict([[100]])"
   ]
  },
  {
   "cell_type": "code",
   "execution_count": 55,
   "id": "6fbb244c",
   "metadata": {},
   "outputs": [
    {
     "data": {
      "text/plain": [
       "array([-396.88148524])"
      ]
     },
     "execution_count": 55,
     "metadata": {},
     "output_type": "execute_result"
    }
   ],
   "source": [
    "lr.predict([[8]])"
   ]
  },
  {
   "cell_type": "code",
   "execution_count": 49,
   "id": "583dd1f0",
   "metadata": {},
   "outputs": [
    {
     "data": {
      "text/plain": [
       "(array([39.01714496]), -709.0186449535477)"
      ]
     },
     "execution_count": 49,
     "metadata": {},
     "output_type": "execute_result"
    }
   ],
   "source": [
    "lr.coef_, lr.intercept_"
   ]
  },
  {
   "cell_type": "markdown",
   "id": "5a28434b",
   "metadata": {},
   "source": [
    "### 선형회귀 시각화"
   ]
  },
  {
   "cell_type": "code",
   "execution_count": 56,
   "id": "601aa76a",
   "metadata": {},
   "outputs": [
    {
     "data": {
      "text/plain": [
       "[<matplotlib.lines.Line2D at 0x2caa9039190>]"
      ]
     },
     "execution_count": 56,
     "metadata": {},
     "output_type": "execute_result"
    },
    {
     "data": {
      "image/png": "[encoded data removed]",
      "text/plain": [
       "<Figure size 432x288 with 1 Axes>"
      ]
     },
     "metadata": {
      "needs_background": "light"
     },
     "output_type": "display_data"
    }
   ],
   "source": [
    "plt.scatter(train_input,train_target)\n",
    "plt.scatter(50,1241.83860323, marker='^')\n",
    "plt.scatter(100,3192.69585141, marker='^')\n",
    "plt.plot([8,100], [-396.88148524,3192.69585141])"
   ]
  },
  {
   "cell_type": "code",
   "execution_count": 57,
   "id": "c98cf5ec",
   "metadata": {},
   "outputs": [
    {
     "data": {
      "text/plain": [
       "(0.939846333997604, 0.8247503123313558)"
      ]
     },
     "execution_count": 57,
     "metadata": {},
     "output_type": "execute_result"
    }
   ],
   "source": [
    "lr.score(train_input,train_target),  lr.score(test_input, test_target)"
   ]
  },
  {
   "cell_type": "code",
   "execution_count": 59,
   "id": "880468eb",
   "metadata": {},
   "outputs": [
    {
     "data": {
      "text/plain": [
       "64.89383276543607"
      ]
     },
     "execution_count": 59,
     "metadata": {},
     "output_type": "execute_result"
    }
   ],
   "source": [
    "from sklearn.metrics import mean_absolute_error\n",
    "lr_predict =  lr.predict(train_input)\n",
    "mean_absolute_error(train_target,lr_predict)"
   ]
  },
  {
   "cell_type": "code",
   "execution_count": 60,
   "id": "b31d401d",
   "metadata": {},
   "outputs": [],
   "source": [
    "### 선형 방적식의 문제점은 직선이기때문에.. 음수가 나올수 있다...  그리고 값이 클거나 작을수록 반영이 잘 안될수 있음"
   ]
  },
  {
   "cell_type": "markdown",
   "id": "4c1009e8",
   "metadata": {},
   "source": [
    "### 다항 회귀"
   ]
  },
  {
   "cell_type": "code",
   "execution_count": 63,
   "id": "91e2c786",
   "metadata": {},
   "outputs": [
    {
     "data": {
      "text/plain": [
       "array([[ 384.16,   19.6 ],\n",
       "       [ 484.  ,   22.  ],\n",
       "       [ 349.69,   18.7 ],\n",
       "       [ 302.76,   17.4 ],\n",
       "       [1296.  ,   36.  ],\n",
       "       [ 625.  ,   25.  ],\n",
       "       [1600.  ,   40.  ],\n",
       "       [1521.  ,   39.  ],\n",
       "       [1849.  ,   43.  ],\n",
       "       [ 484.  ,   22.  ],\n",
       "       [ 400.  ,   20.  ],\n",
       "       [ 484.  ,   22.  ],\n",
       "       [ 576.  ,   24.  ],\n",
       "       [ 756.25,   27.5 ],\n",
       "       [1849.  ,   43.  ],\n",
       "       [1600.  ,   40.  ],\n",
       "       [ 576.  ,   24.  ],\n",
       "       [ 441.  ,   21.  ],\n",
       "       [ 756.25,   27.5 ],\n",
       "       [1600.  ,   40.  ],\n",
       "       [1075.84,   32.8 ],\n",
       "       [ 702.25,   26.5 ],\n",
       "       [1332.25,   36.5 ],\n",
       "       [ 187.69,   13.7 ],\n",
       "       [ 515.29,   22.7 ],\n",
       "       [ 225.  ,   15.  ],\n",
       "       [1369.  ,   37.  ],\n",
       "       [1225.  ,   35.  ],\n",
       "       [ 823.69,   28.7 ],\n",
       "       [ 552.25,   23.5 ],\n",
       "       [1521.  ,   39.  ],\n",
       "       [ 441.  ,   21.  ],\n",
       "       [ 529.  ,   23.  ],\n",
       "       [ 484.  ,   22.  ],\n",
       "       [1936.  ,   44.  ],\n",
       "       [ 506.25,   22.5 ],\n",
       "       [ 361.  ,   19.  ],\n",
       "       [1369.  ,   37.  ],\n",
       "       [ 484.  ,   22.  ],\n",
       "       [ 655.36,   25.6 ],\n",
       "       [1764.  ,   42.  ],\n",
       "       [1190.25,   34.5 ]])"
      ]
     },
     "execution_count": 63,
     "metadata": {},
     "output_type": "execute_result"
    }
   ],
   "source": [
    "np.column_stack((train_input**2, train_input ))"
   ]
  },
  {
   "cell_type": "code",
   "execution_count": null,
   "id": "302d2b14",
   "metadata": {},
   "outputs": [],
   "source": []
  }
 ],
 "metadata": {
  "kernelspec": {
   "display_name": "Python 3 (ipykernel)",
   "language": "python",
   "name": "python3"
  },
  "language_info": {
   "codemirror_mode": {
    "name": "ipython",
    "version": 3
   },
   "file_extension": ".py",
   "mimetype": "text/x-python",
   "name": "python",
   "nbconvert_exporter": "python",
   "pygments_lexer": "ipython3",
   "version": "3.9.7"
  }
 },
 "nbformat": 4,
 "nbformat_minor": 5
}
