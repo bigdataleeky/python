{
 "cells": [
  {
   "cell_type": "code",
   "execution_count": 2,
   "id": "9ae65f50",
   "metadata": {},
   "outputs": [],
   "source": [
    "import numpy as np"
   ]
  },
  {
   "cell_type": "code",
   "execution_count": 3,
   "id": "b8a5757a",
   "metadata": {},
   "outputs": [],
   "source": [
    "length = np.array(\n",
    "    [8.4, 13.7, 15.0, 16.2, 17.4, 18.0, 18.7, 19.0, 19.6, 20.0, \n",
    "     21.0, 21.0, 21.0, 21.3, 22.0, 22.0, 22.0, 22.0, 22.0, 22.5, \n",
    "     22.5, 22.7, 23.0, 23.5, 24.0, 24.0, 24.6, 25.0, 25.6, 26.5, \n",
    "     27.3, 27.5, 27.5, 27.5, 28.0, 28.7, 30.0, 32.8, 34.5, 35.0, \n",
    "     36.5, 36.0, 37.0, 37.0, 39.0, 39.0, 39.0, 40.0, 40.0, 40.0, \n",
    "     40.0, 42.0, 43.0, 43.0, 43.5, 44.0]\n",
    "     )\n",
    "weight = np.array(\n",
    "    [5.9, 32.0, 40.0, 51.5, 70.0, 100.0, 78.0, 80.0, 85.0, 85.0, \n",
    "     110.0, 115.0, 125.0, 130.0, 120.0, 120.0, 130.0, 135.0, 110.0, \n",
    "     130.0, 150.0, 145.0, 150.0, 170.0, 225.0, 145.0, 188.0, 180.0, \n",
    "     197.0, 218.0, 300.0, 260.0, 265.0, 250.0, 250.0, 300.0, 320.0, \n",
    "     514.0, 556.0, 840.0, 685.0, 700.0, 700.0, 690.0, 900.0, 650.0, \n",
    "     820.0, 850.0, 900.0, 1015.0, 820.0, 1100.0, 1000.0, 1100.0, \n",
    "     1000.0, 1000.0]\n",
    "     )"
   ]
  },
  {
   "cell_type": "markdown",
   "id": "724e2504",
   "metadata": {},
   "source": [
    "# 길이가 50 무게가 얼마일까?"
   ]
  },
  {
   "cell_type": "markdown",
   "id": "bc04cd37",
   "metadata": {},
   "source": [
    "### 예측 : 회귀(regressor)\n",
    "### 분류 : 분류(class)\n",
    "### EDA(탐색적 데이터 분석) (80~90%)  --> 데이터(학습용 / 검증용) -> 적절한 머신러닝 선택 -> 평가(평균제곱오차) and score"
   ]
  },
  {
   "cell_type": "code",
   "execution_count": 7,
   "id": "43ee1f5c",
   "metadata": {},
   "outputs": [],
   "source": [
    "from sklearn.model_selection import train_test_split\n",
    "train_input,test_input,train_target,test_target =  train_test_split(length,weight,random_state=42)\n",
    "train_input = train_input.reshape(-1,1)\n",
    "test_input = test_input.reshape(-1,1)"
   ]
  },
  {
   "cell_type": "code",
   "execution_count": 18,
   "id": "c4649454",
   "metadata": {},
   "outputs": [
    {
     "data": {
      "text/plain": [
       "KNeighborsRegressor(n_neighbors=3)"
      ]
     },
     "execution_count": 18,
     "metadata": {},
     "output_type": "execute_result"
    }
   ],
   "source": [
    "from sklearn.neighbors import KNeighborsRegressor\n",
    "knr =  KNeighborsRegressor(n_neighbors=3)\n",
    "knr.fit(train_input,train_target)"
   ]
  },
  {
   "cell_type": "code",
   "execution_count": 19,
   "id": "fbb8dbb8",
   "metadata": {},
   "outputs": [
    {
     "data": {
      "text/plain": [
       "((42, 1), (42,))"
      ]
     },
     "execution_count": 19,
     "metadata": {},
     "output_type": "execute_result"
    }
   ],
   "source": [
    "train_input.shape,  train_target.shape"
   ]
  },
  {
   "cell_type": "code",
   "execution_count": 20,
   "id": "d08bf825",
   "metadata": {},
   "outputs": [
    {
     "data": {
      "text/plain": [
       "[[50]]"
      ]
     },
     "execution_count": 20,
     "metadata": {},
     "output_type": "execute_result"
    }
   ],
   "source": [
    "[[50]]"
   ]
  },
  {
   "cell_type": "code",
   "execution_count": 33,
   "id": "48ef2d56",
   "metadata": {},
   "outputs": [
    {
     "data": {
      "text/plain": [
       "array([1033.33333333])"
      ]
     },
     "execution_count": 33,
     "metadata": {},
     "output_type": "execute_result"
    }
   ],
   "source": [
    "knr.predict([[50]])"
   ]
  },
  {
   "cell_type": "code",
   "execution_count": 22,
   "id": "cd3270ee",
   "metadata": {},
   "outputs": [],
   "source": [
    "# 시각화를 통해 k 최근접 이웃 알고리즘을 적용한 값을 시각화한다."
   ]
  },
  {
   "cell_type": "code",
   "execution_count": 23,
   "id": "009adf39",
   "metadata": {},
   "outputs": [
    {
     "data": {
      "text/plain": [
       "(array([[6., 7., 7.]]), array([[34,  8, 14]], dtype=int64))"
      ]
     },
     "execution_count": 23,
     "metadata": {},
     "output_type": "execute_result"
    }
   ],
   "source": [
    "distnace, indexes =  knr.kneighbors([[50]])\n",
    "distnace, indexes"
   ]
  },
  {
   "cell_type": "code",
   "execution_count": 31,
   "id": "6d909216",
   "metadata": {},
   "outputs": [
    {
     "data": {
      "image/png": "[encoded data removed]",
      "text/plain": [
       "<Figure size 432x288 with 1 Axes>"
      ]
     },
     "metadata": {
      "needs_background": "light"
     },
     "output_type": "display_data"
    }
   ],
   "source": [
    "import matplotlib.pyplot as plt\n",
    "plt.scatter(train_input, train_target)\n",
    "plt.scatter(50,1033, marker='^')\n",
    "plt.scatter(train_input[indexes], train_target[indexes], marker='D')\n",
    "plt.xlabel(\"length\")\n",
    "plt.ylabel(\"weight\")\n",
    "plt.show()"
   ]
  },
  {
   "cell_type": "code",
   "execution_count": 36,
   "id": "a27d7be5",
   "metadata": {},
   "outputs": [
    {
     "data": {
      "text/plain": [
       "array([1033.33333333])"
      ]
     },
     "execution_count": 36,
     "metadata": {},
     "output_type": "execute_result"
    }
   ],
   "source": [
    "knr.predict([[100]])"
   ]
  },
  {
   "cell_type": "code",
   "execution_count": 37,
   "id": "dd4b51b9",
   "metadata": {},
   "outputs": [
    {
     "data": {
      "text/plain": [
       "(array([[56., 57., 57.]]), array([[34,  8, 14]], dtype=int64))"
      ]
     },
     "execution_count": 37,
     "metadata": {},
     "output_type": "execute_result"
    }
   ],
   "source": [
    "knr.kneighbors([[100]])"
   ]
  },
  {
   "cell_type": "code",
   "execution_count": 38,
   "id": "1a5ee84d",
   "metadata": {},
   "outputs": [
    {
     "data": {
      "image/png": "[encoded data removed]",
      "text/plain": [
       "<Figure size 432x288 with 1 Axes>"
      ]
     },
     "metadata": {
      "needs_background": "light"
     },
     "output_type": "display_data"
    }
   ],
   "source": [
    "import matplotlib.pyplot as plt\n",
    "plt.scatter(train_input, train_target)\n",
    "plt.scatter(100,1033, marker='^')\n",
    "plt.scatter(train_input[indexes], train_target[indexes], marker='D')\n",
    "plt.xlabel(\"length\")\n",
    "plt.ylabel(\"weight\")\n",
    "plt.show()"
   ]
  },
  {
   "cell_type": "code",
   "execution_count": 40,
   "id": "59efc5d3",
   "metadata": {},
   "outputs": [
    {
     "data": {
      "text/plain": [
       "array([47.33333333])"
      ]
     },
     "execution_count": 40,
     "metadata": {},
     "output_type": "execute_result"
    }
   ],
   "source": [
    "knr.predict([[2]])"
   ]
  },
  {
   "cell_type": "markdown",
   "id": "ab915458",
   "metadata": {},
   "source": [
    "# 선형 회귀"
   ]
  },
  {
   "cell_type": "code",
   "execution_count": 43,
   "id": "be2fa850",
   "metadata": {},
   "outputs": [],
   "source": [
    "from sklearn.linear_model import LinearRegression"
   ]
  },
  {
   "cell_type": "code",
   "execution_count": 45,
   "id": "4d28957e",
   "metadata": {},
   "outputs": [
    {
     "data": {
      "text/plain": [
       "LinearRegression()"
      ]
     },
     "execution_count": 45,
     "metadata": {},
     "output_type": "execute_result"
    }
   ],
   "source": [
    "lr =  LinearRegression()\n",
    "lr.fit(train_input,train_target)"
   ]
  },
  {
   "cell_type": "code",
   "execution_count": 46,
   "id": "df147cf3",
   "metadata": {},
   "outputs": [
    {
     "data": {
      "text/plain": [
       "array([1241.83860323])"
      ]
     },
     "execution_count": 46,
     "metadata": {},
     "output_type": "execute_result"
    }
   ],
   "source": [
    "lr.predict([[50]])"
   ]
  },
  {
   "cell_type": "code",
   "execution_count": 47,
   "id": "1ea9108d",
   "metadata": {},
   "outputs": [
    {
     "data": {
      "text/plain": [
       "array([3192.69585141])"
      ]
     },
     "execution_count": 47,
     "metadata": {},
     "output_type": "execute_result"
    }
   ],
   "source": [
    "lr.predict([[100]])"
   ]
  },
  {
   "cell_type": "code",
   "execution_count": 55,
   "id": "282d6568",
   "metadata": {},
   "outputs": [
    {
     "data": {
      "text/plain": [
       "array([-396.88148524])"
      ]
     },
     "execution_count": 55,
     "metadata": {},
     "output_type": "execute_result"
    }
   ],
   "source": [
    "lr.predict([[8]])"
   ]
  },
  {
   "cell_type": "code",
   "execution_count": 49,
   "id": "deda8da0",
   "metadata": {},
   "outputs": [
    {
     "data": {
      "text/plain": [
       "(array([39.01714496]), -709.0186449535477)"
      ]
     },
     "execution_count": 49,
     "metadata": {},
     "output_type": "execute_result"
    }
   ],
   "source": [
    "lr.coef_, lr.intercept_"
   ]
  },
  {
   "cell_type": "markdown",
   "id": "4dc6d330",
   "metadata": {},
   "source": [
    "### 선형회귀 시각화"
   ]
  },
  {
   "cell_type": "code",
   "execution_count": 82,
   "id": "dac5b710",
   "metadata": {},
   "outputs": [
    {
     "data": {
      "image/png": "[encoded data removed]",
      "text/plain": [
       "<Figure size 432x288 with 1 Axes>"
      ]
     },
     "metadata": {
      "needs_background": "light"
     },
     "output_type": "display_data"
    }
   ],
   "source": [
    "plt.scatter(train_input,train_target)\n",
    "plt.scatter(50,1241.83860323, marker='^')\n",
    "plt.scatter(100,3192.69585141, marker='^')\n",
    "plt.plot([8,100], [-396.88148524,3192.69585141])\n",
    "plt.show()"
   ]
  },
  {
   "cell_type": "code",
   "execution_count": 57,
   "id": "52854e9b",
   "metadata": {},
   "outputs": [
    {
     "data": {
      "text/plain": [
       "(0.939846333997604, 0.8247503123313558)"
      ]
     },
     "execution_count": 57,
     "metadata": {},
     "output_type": "execute_result"
    }
   ],
   "source": [
    "lr.score(train_input,train_target),  lr.score(test_input, test_target)"
   ]
  },
  {
   "cell_type": "code",
   "execution_count": 59,
   "id": "30747fae",
   "metadata": {},
   "outputs": [
    {
     "data": {
      "text/plain": [
       "64.89383276543607"
      ]
     },
     "execution_count": 59,
     "metadata": {},
     "output_type": "execute_result"
    }
   ],
   "source": [
    "from sklearn.metrics import mean_absolute_error\n",
    "lr_predict =  lr.predict(train_input)\n",
    "mean_absolute_error(train_target,lr_predict)"
   ]
  },
  {
   "cell_type": "code",
   "execution_count": 60,
   "id": "58895fdc",
   "metadata": {},
   "outputs": [],
   "source": [
    "### 선형 방적식의 문제점은 직선이기때문에.. 음수가 나올수 있다...  그리고 값이 클거나 작을수록 반영이 잘 안될수 있음"
   ]
  },
  {
   "cell_type": "markdown",
   "id": "a8340548",
   "metadata": {},
   "source": [
    "### 다항 회귀"
   ]
  },
  {
   "cell_type": "code",
   "execution_count": 69,
   "id": "4ce83cf7",
   "metadata": {},
   "outputs": [
    {
     "data": {
      "text/plain": [
       "array([[1, 2],\n",
       "       [2, 3],\n",
       "       [3, 4]])"
      ]
     },
     "execution_count": 69,
     "metadata": {},
     "output_type": "execute_result"
    }
   ],
   "source": [
    "a = np.array((1,2,3))\n",
    "b = np.array((2,3,4))\n",
    "\n",
    "# 1\n",
    "np.column_stack((a,b))\n",
    "\n",
    "# 2\n",
    "temp = [ [i,j]  for i,j in  zip(a,b) ]\n",
    "np.array(temp)"
   ]
  },
  {
   "cell_type": "code",
   "execution_count": 70,
   "id": "1edf2310",
   "metadata": {},
   "outputs": [],
   "source": [
    "train_poly =  np.column_stack((train_input**2, train_input ))\n",
    "test_poly = np.column_stack((test_input**2, test_input ))"
   ]
  },
  {
   "cell_type": "code",
   "execution_count": 71,
   "id": "18833c1c",
   "metadata": {},
   "outputs": [
    {
     "data": {
      "text/plain": [
       "((42, 2), (14, 2))"
      ]
     },
     "execution_count": 71,
     "metadata": {},
     "output_type": "execute_result"
    }
   ],
   "source": [
    "train_poly.shape, test_poly.shape"
   ]
  },
  {
   "cell_type": "code",
   "execution_count": 73,
   "id": "801dc86a",
   "metadata": {},
   "outputs": [
    {
     "data": {
      "text/plain": [
       "LinearRegression()"
      ]
     },
     "execution_count": 73,
     "metadata": {},
     "output_type": "execute_result"
    }
   ],
   "source": [
    "# 훈련\n",
    "lr.fit(train_poly,train_target)"
   ]
  },
  {
   "cell_type": "code",
   "execution_count": 74,
   "id": "65507591",
   "metadata": {},
   "outputs": [
    {
     "data": {
      "text/plain": [
       "array([1573.98423528])"
      ]
     },
     "execution_count": 74,
     "metadata": {},
     "output_type": "execute_result"
    }
   ],
   "source": [
    "# 예측\n",
    "lr.predict([[50**2,50]])"
   ]
  },
  {
   "cell_type": "code",
   "execution_count": 76,
   "id": "1de990aa",
   "metadata": {},
   "outputs": [
    {
     "data": {
      "text/plain": [
       "(array([  1.01433211, -21.55792498]), 116.05021078278259)"
      ]
     },
     "execution_count": 76,
     "metadata": {},
     "output_type": "execute_result"
    }
   ],
   "source": [
    "lr.coef_, lr.intercept_"
   ]
  },
  {
   "cell_type": "code",
   "execution_count": 77,
   "id": "a2a2b854",
   "metadata": {},
   "outputs": [
    {
     "data": {
      "text/plain": [
       "1573.9842352827407"
      ]
     },
     "execution_count": 77,
     "metadata": {},
     "output_type": "execute_result"
    }
   ],
   "source": [
    "lr.coef_[0]*(50**2)+lr.coef_[1]*50+lr.intercept_"
   ]
  },
  {
   "cell_type": "markdown",
   "id": "b68adb83",
   "metadata": {},
   "source": [
    "### 다형 회귀 에대한 시각화"
   ]
  },
  {
   "cell_type": "code",
   "execution_count": 97,
   "id": "7e500e91",
   "metadata": {},
   "outputs": [
    {
     "data": {
      "text/plain": [
       "array([  20.90606071,   30.79243112,   42.70746575,   56.6511646 ,\n",
       "         72.62352767,   90.62455496,  110.65424646,  132.71260219,\n",
       "        156.79962213,  182.91530629,  211.05965467,  241.23266727,\n",
       "        273.43434409,  307.66468513,  343.92369038,  382.21135986,\n",
       "        422.52769355,  464.87269146,  509.24635359,  555.64867994,\n",
       "        604.07967051,  654.5393253 ,  707.0276443 ,  761.54462753,\n",
       "        818.09027497,  876.66458663,  937.26756251,  999.89920261,\n",
       "       1064.55950693, 1131.24847547, 1199.96610822, 1270.7124052 ,\n",
       "       1343.48736639, 1418.2909918 , 1495.12328143])"
      ]
     },
     "execution_count": 97,
     "metadata": {},
     "output_type": "execute_result"
    }
   ],
   "source": [
    "point =  np.arange(15,50)\n",
    "lr.coef_[0]*(point**2) + lr.coef_[1]*point + lr.intercept_"
   ]
  },
  {
   "cell_type": "code",
   "execution_count": 98,
   "id": "bd635656",
   "metadata": {},
   "outputs": [
    {
     "data": {
      "text/plain": [
       "array([  20.90606071,   30.79243112,   42.70746575,   56.6511646 ,\n",
       "         72.62352767,   90.62455496,  110.65424646,  132.71260219,\n",
       "        156.79962213,  182.91530629,  211.05965467,  241.23266727,\n",
       "        273.43434409,  307.66468513,  343.92369038,  382.21135986,\n",
       "        422.52769355,  464.87269146,  509.24635359,  555.64867994,\n",
       "        604.07967051,  654.5393253 ,  707.0276443 ,  761.54462753,\n",
       "        818.09027497,  876.66458663,  937.26756251,  999.89920261,\n",
       "       1064.55950693, 1131.24847547, 1199.96610822, 1270.7124052 ,\n",
       "       1343.48736639, 1418.2909918 , 1495.12328143])"
      ]
     },
     "execution_count": 98,
     "metadata": {},
     "output_type": "execute_result"
    }
   ],
   "source": [
    "lr.predict([[i**2,i] for i in point])"
   ]
  },
  {
   "cell_type": "code",
   "execution_count": 104,
   "id": "85d7e6df",
   "metadata": {},
   "outputs": [
    {
     "data": {
      "image/png": "[encoded data removed]",
      "text/plain": [
       "<Figure size 432x288 with 1 Axes>"
      ]
     },
     "metadata": {
      "needs_background": "light"
     },
     "output_type": "display_data"
    }
   ],
   "source": [
    "point =  np.arange(15,50)\n",
    "plt.scatter(train_input, train_target)\n",
    "plt.scatter(50,1573.98423528, marker='^')\n",
    "plt.plot(point, lr.predict([[i**2,i] for i in point]))\n",
    "plt.show()"
   ]
  },
  {
   "cell_type": "markdown",
   "id": "3cf0df41",
   "metadata": {},
   "source": [
    "### 문제점이 일단 해결..... 길이에 따른 무게가 마이너스가 나오는오류를 해결  직선의 방정식을 - > 곡선의 방정식으로 변환\n",
    "### 그러면 길이가 1 2 3 이렇게 작을때는 ?? "
   ]
  },
  {
   "cell_type": "code",
   "execution_count": 105,
   "id": "48ca4c93",
   "metadata": {},
   "outputs": [
    {
     "data": {
      "image/png": "[encoded data removed]",
      "text/plain": [
       "<Figure size 432x288 with 1 Axes>"
      ]
     },
     "metadata": {
      "needs_background": "light"
     },
     "output_type": "display_data"
    }
   ],
   "source": [
    "point =  np.arange(5,50)\n",
    "plt.scatter(train_input, train_target)\n",
    "plt.scatter(50,1573.98423528, marker='^')\n",
    "plt.plot(point, lr.predict([[i**2,i] for i in point]))\n",
    "plt.show()"
   ]
  },
  {
   "cell_type": "code",
   "execution_count": null,
   "id": "a96241ee",
   "metadata": {},
   "outputs": [],
   "source": []
  }
 ],
 "metadata": {
  "kernelspec": {
   "display_name": "Python 3 (ipykernel)",
   "language": "python",
   "name": "python3"
  },
  "language_info": {
   "codemirror_mode": {
    "name": "ipython",
    "version": 3
   },
   "file_extension": ".py",
   "mimetype": "text/x-python",
   "name": "python",
   "nbconvert_exporter": "python",
   "pygments_lexer": "ipython3",
   "version": "3.9.7"
  }
 },
 "nbformat": 4,
 "nbformat_minor": 5
}
