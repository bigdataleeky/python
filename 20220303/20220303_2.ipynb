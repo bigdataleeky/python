{
 "cells": [
  {
   "cell_type": "code",
   "execution_count": 1,
   "id": "8176c851",
   "metadata": {},
   "outputs": [],
   "source": [
    "import pandas as pd"
   ]
  },
  {
   "cell_type": "code",
   "execution_count": 2,
   "id": "6b9fee80",
   "metadata": {},
   "outputs": [],
   "source": [
    "df = pd.read_csv('https://raw.githubusercontent.com/bigdataleeky/python/main/20220303/full.csv')"
   ]
  },
  {
   "cell_type": "code",
   "execution_count": 3,
   "id": "5813d12a",
   "metadata": {
    "scrolled": true
   },
   "outputs": [
    {
     "data": {
      "text/html": [
       "<div>\n",
       "<style scoped>\n",
       "    .dataframe tbody tr th:only-of-type {\n",
       "        vertical-align: middle;\n",
       "    }\n",
       "\n",
       "    .dataframe tbody tr th {\n",
       "        vertical-align: top;\n",
       "    }\n",
       "\n",
       "    .dataframe thead th {\n",
       "        text-align: right;\n",
       "    }\n",
       "</style>\n",
       "<table border=\"1\" class=\"dataframe\">\n",
       "  <thead>\n",
       "    <tr style=\"text-align: right;\">\n",
       "      <th></th>\n",
       "      <th>length</th>\n",
       "      <th>height</th>\n",
       "      <th>width</th>\n",
       "    </tr>\n",
       "  </thead>\n",
       "  <tbody>\n",
       "    <tr>\n",
       "      <th>0</th>\n",
       "      <td>8.4</td>\n",
       "      <td>2.11</td>\n",
       "      <td>1.41</td>\n",
       "    </tr>\n",
       "    <tr>\n",
       "      <th>1</th>\n",
       "      <td>13.7</td>\n",
       "      <td>3.53</td>\n",
       "      <td>2.00</td>\n",
       "    </tr>\n",
       "    <tr>\n",
       "      <th>2</th>\n",
       "      <td>15.0</td>\n",
       "      <td>3.82</td>\n",
       "      <td>2.43</td>\n",
       "    </tr>\n",
       "    <tr>\n",
       "      <th>3</th>\n",
       "      <td>16.2</td>\n",
       "      <td>4.59</td>\n",
       "      <td>2.63</td>\n",
       "    </tr>\n",
       "    <tr>\n",
       "      <th>4</th>\n",
       "      <td>17.4</td>\n",
       "      <td>4.59</td>\n",
       "      <td>2.94</td>\n",
       "    </tr>\n",
       "  </tbody>\n",
       "</table>\n",
       "</div>"
      ],
      "text/plain": [
       "   length   height   width\n",
       "0     8.4     2.11    1.41\n",
       "1    13.7     3.53    2.00\n",
       "2    15.0     3.82    2.43\n",
       "3    16.2     4.59    2.63\n",
       "4    17.4     4.59    2.94"
      ]
     },
     "execution_count": 3,
     "metadata": {},
     "output_type": "execute_result"
    }
   ],
   "source": [
    "df.head()"
   ]
  },
  {
   "cell_type": "code",
   "execution_count": 4,
   "id": "49cbcee5",
   "metadata": {},
   "outputs": [
    {
     "data": {
      "text/plain": [
       "array([[ 8.4 ,  2.11,  1.41],\n",
       "       [13.7 ,  3.53,  2.  ],\n",
       "       [15.  ,  3.82,  2.43],\n",
       "       [16.2 ,  4.59,  2.63],\n",
       "       [17.4 ,  4.59,  2.94],\n",
       "       [18.  ,  5.22,  3.32],\n",
       "       [18.7 ,  5.2 ,  3.12],\n",
       "       [19.  ,  5.64,  3.05],\n",
       "       [19.6 ,  5.14,  3.04],\n",
       "       [20.  ,  5.08,  2.77]])"
      ]
     },
     "execution_count": 4,
     "metadata": {},
     "output_type": "execute_result"
    }
   ],
   "source": [
    "df_full =  df.to_numpy()\n",
    "df_full[:10]"
   ]
  },
  {
   "cell_type": "code",
   "execution_count": 6,
   "id": "1bc59acd",
   "metadata": {},
   "outputs": [],
   "source": [
    "import numpy as np\n",
    "weight = np.array(\n",
    "    [5.9, 32.0, 40.0, 51.5, 70.0, 100.0, 78.0, 80.0, 85.0, 85.0, \n",
    "     110.0, 115.0, 125.0, 130.0, 120.0, 120.0, 130.0, 135.0, 110.0, \n",
    "     130.0, 150.0, 145.0, 150.0, 170.0, 225.0, 145.0, 188.0, 180.0, \n",
    "     197.0, 218.0, 300.0, 260.0, 265.0, 250.0, 250.0, 300.0, 320.0, \n",
    "     514.0, 556.0, 840.0, 685.0, 700.0, 700.0, 690.0, 900.0, 650.0, \n",
    "     820.0, 850.0, 900.0, 1015.0, 820.0, 1100.0, 1000.0, 1100.0, \n",
    "     1000.0, 1000.0]\n",
    "     )"
   ]
  },
  {
   "cell_type": "code",
   "execution_count": 7,
   "id": "ef209d43",
   "metadata": {},
   "outputs": [
    {
     "data": {
      "text/plain": [
       "(56, 3)"
      ]
     },
     "execution_count": 7,
     "metadata": {},
     "output_type": "execute_result"
    }
   ],
   "source": [
    "df_full.shape"
   ]
  },
  {
   "cell_type": "code",
   "execution_count": 8,
   "id": "8cb039ea",
   "metadata": {},
   "outputs": [
    {
     "data": {
      "text/plain": [
       "56"
      ]
     },
     "execution_count": 8,
     "metadata": {},
     "output_type": "execute_result"
    }
   ],
   "source": [
    "len(weight)"
   ]
  },
  {
   "cell_type": "code",
   "execution_count": 11,
   "id": "01475d1a",
   "metadata": {},
   "outputs": [],
   "source": [
    "# 데이터 분리"
   ]
  },
  {
   "cell_type": "code",
   "execution_count": 13,
   "id": "e40e0156",
   "metadata": {},
   "outputs": [],
   "source": [
    "from sklearn.model_selection import train_test_split\n",
    "train_input,test_input,train_target,test_target =  train_test_split(df_full,weight,random_state=42)"
   ]
  },
  {
   "cell_type": "markdown",
   "id": "cb6b9dc5",
   "metadata": {},
   "source": [
    "### 다항 특성 만들기 - 다항식"
   ]
  },
  {
   "cell_type": "code",
   "execution_count": 15,
   "id": "2553f7e1",
   "metadata": {},
   "outputs": [],
   "source": [
    "from sklearn.preprocessing import PolynomialFeatures"
   ]
  },
  {
   "cell_type": "code",
   "execution_count": 18,
   "id": "984c3c20",
   "metadata": {},
   "outputs": [
    {
     "data": {
      "text/plain": [
       "array([[2., 3., 4., 6., 9.]])"
      ]
     },
     "execution_count": 18,
     "metadata": {},
     "output_type": "execute_result"
    }
   ],
   "source": [
    "poly =  PolynomialFeatures(include_bias=False)\n",
    "poly.fit([[2,3]])\n",
    "poly.transform([[2,3]])\n",
    "# 1(bias), 2, 3, 2**2, 2*3, 3**2"
   ]
  },
  {
   "cell_type": "code",
   "execution_count": 20,
   "id": "e7d15709",
   "metadata": {},
   "outputs": [
    {
     "data": {
      "text/plain": [
       "(42, 9)"
      ]
     },
     "execution_count": 20,
     "metadata": {},
     "output_type": "execute_result"
    }
   ],
   "source": [
    "# 사이킷런의 변환기\n",
    "poly =  PolynomialFeatures(include_bias=False)\n",
    "poly.fit(train_input)\n",
    "train_poly = poly.transform(train_input)\n",
    "train_poly.shape"
   ]
  },
  {
   "cell_type": "code",
   "execution_count": 22,
   "id": "a1ae58d6",
   "metadata": {},
   "outputs": [
    {
     "data": {
      "text/plain": [
       "array([[ 19.6   ,   5.14  ,   3.04  , 384.16  , 100.744 ,  59.584 ,\n",
       "         26.4196,  15.6256,   9.2416]])"
      ]
     },
     "execution_count": 22,
     "metadata": {},
     "output_type": "execute_result"
    }
   ],
   "source": [
    "train_poly[:1]"
   ]
  },
  {
   "cell_type": "code",
   "execution_count": 23,
   "id": "473d6440",
   "metadata": {},
   "outputs": [
    {
     "data": {
      "text/plain": [
       "array(['x0', 'x1', 'x2', 'x0^2', 'x0 x1', 'x0 x2', 'x1^2', 'x1 x2',\n",
       "       'x2^2'], dtype=object)"
      ]
     },
     "execution_count": 23,
     "metadata": {},
     "output_type": "execute_result"
    }
   ],
   "source": [
    "poly.get_feature_names_out()"
   ]
  },
  {
   "cell_type": "code",
   "execution_count": 24,
   "id": "986f8ee8",
   "metadata": {},
   "outputs": [
    {
     "data": {
      "text/plain": [
       "(14, 9)"
      ]
     },
     "execution_count": 24,
     "metadata": {},
     "output_type": "execute_result"
    }
   ],
   "source": [
    "test_poly = poly.transform(test_input)\n",
    "test_poly.shape"
   ]
  },
  {
   "cell_type": "markdown",
   "id": "a64fa5cd",
   "metadata": {},
   "source": [
    "### 선형회귀모델에서 x의 값을 다중으로 넣으면--> 다중 회귀 모델"
   ]
  },
  {
   "cell_type": "code",
   "execution_count": 28,
   "id": "83addb85",
   "metadata": {},
   "outputs": [
    {
     "data": {
      "text/plain": [
       "(0.9903183436982125, 0.9714559911594155)"
      ]
     },
     "execution_count": 28,
     "metadata": {},
     "output_type": "execute_result"
    }
   ],
   "source": [
    "from sklearn.linear_model import LinearRegression\n",
    "lr =  LinearRegression()\n",
    "lr.fit(train_poly,train_target)\n",
    "lr.score(train_poly,train_target), lr.score(test_poly,test_target)"
   ]
  },
  {
   "cell_type": "markdown",
   "id": "6c94d79d",
   "metadata": {},
   "source": [
    "### 특성을 좀더 많이 만들기"
   ]
  },
  {
   "cell_type": "code",
   "execution_count": 30,
   "id": "5417ae79",
   "metadata": {},
   "outputs": [
    {
     "data": {
      "text/plain": [
       "((42, 55), (14, 55))"
      ]
     },
     "execution_count": 30,
     "metadata": {},
     "output_type": "execute_result"
    }
   ],
   "source": [
    "# 사이킷런의 변환기\n",
    "poly =  PolynomialFeatures(degree=5, include_bias=False)\n",
    "poly.fit(train_input)\n",
    "train_poly = poly.transform(train_input)\n",
    "test_poly = poly.transform(test_input)\n",
    "train_poly.shape,   test_poly.shape"
   ]
  },
  {
   "cell_type": "code",
   "execution_count": 31,
   "id": "99257075",
   "metadata": {},
   "outputs": [
    {
     "data": {
      "text/plain": [
       "array(['x0', 'x1', 'x2', 'x0^2', 'x0 x1', 'x0 x2', 'x1^2', 'x1 x2',\n",
       "       'x2^2', 'x0^3', 'x0^2 x1', 'x0^2 x2', 'x0 x1^2', 'x0 x1 x2',\n",
       "       'x0 x2^2', 'x1^3', 'x1^2 x2', 'x1 x2^2', 'x2^3', 'x0^4', 'x0^3 x1',\n",
       "       'x0^3 x2', 'x0^2 x1^2', 'x0^2 x1 x2', 'x0^2 x2^2', 'x0 x1^3',\n",
       "       'x0 x1^2 x2', 'x0 x1 x2^2', 'x0 x2^3', 'x1^4', 'x1^3 x2',\n",
       "       'x1^2 x2^2', 'x1 x2^3', 'x2^4', 'x0^5', 'x0^4 x1', 'x0^4 x2',\n",
       "       'x0^3 x1^2', 'x0^3 x1 x2', 'x0^3 x2^2', 'x0^2 x1^3',\n",
       "       'x0^2 x1^2 x2', 'x0^2 x1 x2^2', 'x0^2 x2^3', 'x0 x1^4',\n",
       "       'x0 x1^3 x2', 'x0 x1^2 x2^2', 'x0 x1 x2^3', 'x0 x2^4', 'x1^5',\n",
       "       'x1^4 x2', 'x1^3 x2^2', 'x1^2 x2^3', 'x1 x2^4', 'x2^5'],\n",
       "      dtype=object)"
      ]
     },
     "execution_count": 31,
     "metadata": {},
     "output_type": "execute_result"
    }
   ],
   "source": [
    "poly.get_feature_names_out()"
   ]
  },
  {
   "cell_type": "code",
   "execution_count": 32,
   "id": "86aece22",
   "metadata": {},
   "outputs": [
    {
     "data": {
      "text/plain": [
       "(0.9999999999938143, -144.40744532797535)"
      ]
     },
     "execution_count": 32,
     "metadata": {},
     "output_type": "execute_result"
    }
   ],
   "source": [
    "lr =  LinearRegression()\n",
    "lr.fit(train_poly,train_target)\n",
    "lr.score(train_poly,train_target), lr.score(test_poly,test_target)"
   ]
  },
  {
   "cell_type": "markdown",
   "id": "fd65198c",
   "metadata": {},
   "source": [
    "### 학습데이터는 잘 반영...그런데 너무 잘반영 -->과 적합.... 그래서 학습하지 않은 데이터는 오히려 못맞추는 경향\n",
    "### -->과적합\n",
    "### 과적합을 해결하기 위해 규제를 한다.\n",
    "##  규제전에 표준화를 한다."
   ]
  },
  {
   "cell_type": "code",
   "execution_count": 34,
   "id": "49147c56",
   "metadata": {},
   "outputs": [],
   "source": [
    "# 표준화.   (값 - mean 평균)std 표준편차   -1 ~ 1\n",
    "from sklearn.preprocessing import StandardScaler"
   ]
  },
  {
   "cell_type": "code",
   "execution_count": 36,
   "id": "1c10683e",
   "metadata": {},
   "outputs": [
    {
     "name": "stdout",
     "output_type": "stream",
     "text": [
      "[[-1.01339619 -1.01007487 -1.01952321 -0.9549757  -0.9496784  -0.95745849\n",
      "  -0.93942079 -0.94342509 -0.94100107 -0.88757122 -0.88399964 -0.89100599\n",
      "  -0.87785292 -0.88311456 -0.88430909 -0.8691891  -0.87259422 -0.87147928\n",
      "  -0.86603533 -0.82233944 -0.82171953 -0.8280588  -0.81928269 -0.82512549\n",
      "  -0.8278857  -0.81486775 -0.82006923 -0.82177279 -0.82010716 -0.80835934\n",
      "  -0.81274154 -0.81321125 -0.8098514  -0.80275974 -0.7637909  -0.76597773\n",
      "  -0.77150714 -0.76668667 -0.77246614 -0.77577893 -0.76571689 -0.77162398\n",
      "  -0.77472752 -0.77517751 -0.76290623 -0.76877311 -0.77148634 -0.77113383\n",
      "  -0.767785   -0.75814062 -0.76376113 -0.76586966 -0.76449499 -0.75967179\n",
      "  -0.75143746]] [[-2.29657672 -2.0645632  -1.95288184 -1.55255604 -1.46585499 -1.45227925\n",
      "  -1.38306012 -1.36853915 -1.3414385  -1.16487216 -1.12766176 -1.12993021\n",
      "  -1.09096504 -1.0919529  -1.08681842 -1.05473034 -1.05422049 -1.04733556\n",
      "  -1.03445922 -0.95097661 -0.93581382 -0.94095847 -0.92003743 -0.92481854\n",
      "  -0.9257405  -0.90344054 -0.9076728  -0.90768173 -0.90365223 -0.88585964\n",
      "  -0.88933355 -0.8882214  -0.88265495 -0.87279092 -0.82345261 -0.81922614\n",
      "  -0.82441462 -0.81401521 -0.81951597 -0.82223805 -0.80760074 -0.81327179\n",
      "  -0.81584326 -0.81548696 -0.79980303 -0.80545985 -0.80768359 -0.80657966\n",
      "  -0.80223729 -0.79049072 -0.7959136  -0.79756241 -0.7954801  -0.78971903\n",
      "  -0.78033726]]\n"
     ]
    },
    {
     "data": {
      "text/plain": [
       "((42, 55), (14, 55))"
      ]
     },
     "execution_count": 36,
     "metadata": {},
     "output_type": "execute_result"
    }
   ],
   "source": [
    "ss = StandardScaler()\n",
    "ss.fit(train_poly)\n",
    "train_scaled =  ss.transform(train_poly)\n",
    "test_scaled = ss.transform(test_poly)\n",
    "print(train_scaled[:1], test_scaled[:1])\n",
    "train_scaled.shape,  test_scaled.shape"
   ]
  },
  {
   "cell_type": "markdown",
   "id": "9a99737a",
   "metadata": {},
   "source": [
    "### 릿지 회귀"
   ]
  },
  {
   "cell_type": "code",
   "execution_count": 38,
   "id": "c77e2732",
   "metadata": {},
   "outputs": [],
   "source": [
    "from sklearn.linear_model import Ridge"
   ]
  },
  {
   "cell_type": "code",
   "execution_count": 40,
   "id": "1402f923",
   "metadata": {},
   "outputs": [
    {
     "data": {
      "text/plain": [
       "(0.9896101671037343, 0.979069397761539)"
      ]
     },
     "execution_count": 40,
     "metadata": {},
     "output_type": "execute_result"
    }
   ],
   "source": [
    "ridge =  Ridge()\n",
    "ridge.fit(train_scaled, train_target)\n",
    "ridge.score(train_scaled,train_target), ridge.score(test_scaled,test_target) "
   ]
  },
  {
   "cell_type": "code",
   "execution_count": null,
   "id": "be413591",
   "metadata": {},
   "outputs": [],
   "source": []
  }
 ],
 "metadata": {
  "kernelspec": {
   "display_name": "Python 3 (ipykernel)",
   "language": "python",
   "name": "python3"
  },
  "language_info": {
   "codemirror_mode": {
    "name": "ipython",
    "version": 3
   },
   "file_extension": ".py",
   "mimetype": "text/x-python",
   "name": "python",
   "nbconvert_exporter": "python",
   "pygments_lexer": "ipython3",
   "version": "3.9.7"
  }
 },
 "nbformat": 4,
 "nbformat_minor": 5
}
