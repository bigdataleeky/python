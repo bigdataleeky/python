{
 "cells": [
  {
   "cell_type": "code",
   "execution_count": 1,
   "id": "c6c12ba6",
   "metadata": {},
   "outputs": [],
   "source": [
    "# 유방암데이터 분류\n",
    "from sklearn.datasets import load_breast_cancer\n",
    "cancer = load_breast_cancer()"
   ]
  },
  {
   "cell_type": "code",
   "execution_count": 2,
   "id": "da4a1a86",
   "metadata": {},
   "outputs": [
    {
     "data": {
      "text/plain": [
       "((569, 30), (569,))"
      ]
     },
     "execution_count": 2,
     "metadata": {},
     "output_type": "execute_result"
    }
   ],
   "source": [
    "cancer.data.shape, cancer.target.shape"
   ]
  },
  {
   "cell_type": "code",
   "execution_count": 3,
   "id": "931e4fc7",
   "metadata": {},
   "outputs": [
    {
     "data": {
      "text/plain": [
       "array([[1.799e+01, 1.038e+01, 1.228e+02, 1.001e+03, 1.184e-01, 2.776e-01,\n",
       "        3.001e-01, 1.471e-01, 2.419e-01, 7.871e-02, 1.095e+00, 9.053e-01,\n",
       "        8.589e+00, 1.534e+02, 6.399e-03, 4.904e-02, 5.373e-02, 1.587e-02,\n",
       "        3.003e-02, 6.193e-03, 2.538e+01, 1.733e+01, 1.846e+02, 2.019e+03,\n",
       "        1.622e-01, 6.656e-01, 7.119e-01, 2.654e-01, 4.601e-01, 1.189e-01]])"
      ]
     },
     "execution_count": 3,
     "metadata": {},
     "output_type": "execute_result"
    }
   ],
   "source": [
    "cancer.data[:1]"
   ]
  },
  {
   "cell_type": "code",
   "execution_count": 5,
   "id": "5b447592",
   "metadata": {},
   "outputs": [
    {
     "data": {
      "image/png": "[encoded data removed]",
      "text/plain": [
       "<Figure size 432x288 with 1 Axes>"
      ]
     },
     "metadata": {
      "needs_background": "light"
     },
     "output_type": "display_data"
    }
   ],
   "source": [
    "import matplotlib.pyplot as plt\n",
    "plt.boxplot(cancer.data)\n",
    "plt.xlabel('feature')\n",
    "plt.ylabel('value')\n",
    "plt.show()"
   ]
  },
  {
   "cell_type": "code",
   "execution_count": 6,
   "id": "29e16b47",
   "metadata": {},
   "outputs": [
    {
     "data": {
      "text/plain": [
       "array(['mean area', 'area error', 'worst area'], dtype='<U23')"
      ]
     },
     "execution_count": 6,
     "metadata": {},
     "output_type": "execute_result"
    }
   ],
   "source": [
    "cancer.feature_names[[3,13,23]]"
   ]
  },
  {
   "cell_type": "code",
   "execution_count": 10,
   "id": "f3ad64e3",
   "metadata": {},
   "outputs": [
    {
     "data": {
      "text/plain": [
       "(array([0, 1]), array([212, 357], dtype=int64))"
      ]
     },
     "execution_count": 10,
     "metadata": {},
     "output_type": "execute_result"
    }
   ],
   "source": [
    "import numpy as np\n",
    "np.unique(cancer.target, return_counts=True)"
   ]
  },
  {
   "cell_type": "code",
   "execution_count": 11,
   "id": "e7f068a7",
   "metadata": {},
   "outputs": [],
   "source": [
    "x = cancer.data\n",
    "y = cancer.target"
   ]
  },
  {
   "cell_type": "code",
   "execution_count": 12,
   "id": "21afdc7b",
   "metadata": {},
   "outputs": [],
   "source": [
    "# 로지스틱 회귀 모델 생성\n",
    "from sklearn.model_selection import train_test_split\n",
    "x_train,x_test,y_train,y_test =  train_test_split(x,y,stratify=y,test_size=0.2,random_state=42)"
   ]
  },
  {
   "cell_type": "code",
   "execution_count": 15,
   "id": "10a137bf",
   "metadata": {},
   "outputs": [
    {
     "data": {
      "text/plain": [
       "((455, 30), (455,), (114, 30), (114,))"
      ]
     },
     "execution_count": 15,
     "metadata": {},
     "output_type": "execute_result"
    }
   ],
   "source": [
    "x_train.shape, y_train.shape, x_test.shape, y_test.shape"
   ]
  },
  {
   "cell_type": "code",
   "execution_count": 16,
   "id": "04082623",
   "metadata": {},
   "outputs": [
    {
     "data": {
      "text/plain": [
       "(array([0, 1]), array([170, 285], dtype=int64))"
      ]
     },
     "execution_count": 16,
     "metadata": {},
     "output_type": "execute_result"
    }
   ],
   "source": [
    "np.unique( y_train, return_counts=True)"
   ]
  },
  {
   "cell_type": "code",
   "execution_count": 29,
   "id": "a7b0b23c",
   "metadata": {},
   "outputs": [],
   "source": [
    "# 로지스틱 회귀를 구현한 뉴런을 제작  w , b\n",
    "class LogisticNeuron:\n",
    "    def __init__(self):\n",
    "        self.w = None  # 가중치 초기화\n",
    "        self.b = None  # 절편을 초기화\n",
    "    def forpass(self, x):  # 정방향\n",
    "        z = np.sum(x*self.w) + self.b # 직선 방정식을 계산\n",
    "        return z\n",
    "    \n",
    "    def backprop(self, x, err):\n",
    "        w_grad = x*err # 가중치에 대한 그레디언트\n",
    "        b_grad = 1*err # 절편에 대한 그레디언트\n",
    "        return w_grad, b_grad\n",
    "    \n",
    "    def activation(self, z):\n",
    "        z = np.clip(z, -100, None) # np.exp() 계산을 안전하게\n",
    "        a = 1 / (1 + np.exp(-z)) # 시그모이드 계산\n",
    "        return a\n",
    "    \n",
    "    def fit(self, x, y, epochs=100):  \n",
    "        self.w = np.ones(x.shape[1])\n",
    "        self.b = 0\n",
    "        for i in range(epochs):  # 에포크만큼 반복학습\n",
    "            for x_i, y_i in zip(x,y): # 모든 셈플에 대해 반복\n",
    "                z = self.forpass(x_i)  # 정방향 계산\n",
    "                a = self.activation(z) # 활성화 함수를 적용\n",
    "                err = -(y_i-a)         # 오차를 계산\n",
    "                w_grad, b_grad =  self.backprop(x_i, err)  # 역방향 계산\n",
    "                self.w -= w_grad      # 가중치 업데이트\n",
    "                self.b -= b_grad      # 절편 업데이트\n",
    "    def predict(self, x):\n",
    "        z = [self.forpass(x_i) for x_i in x] # 정방향 계산\n",
    "        a = self.activation(np.array(z))     # 활성화 함수 적용\n",
    "        return a > 0.5"
   ]
  },
  {
   "cell_type": "code",
   "execution_count": 18,
   "id": "60956f25",
   "metadata": {},
   "outputs": [],
   "source": [
    "a = np.array([1,2,3])\n",
    "b = np.array([3,4,5])"
   ]
  },
  {
   "cell_type": "code",
   "execution_count": 19,
   "id": "6aba0464",
   "metadata": {},
   "outputs": [
    {
     "data": {
      "text/plain": [
       "array([4, 6, 8])"
      ]
     },
     "execution_count": 19,
     "metadata": {},
     "output_type": "execute_result"
    }
   ],
   "source": [
    "a+b"
   ]
  },
  {
   "cell_type": "code",
   "execution_count": 20,
   "id": "9ebacf5d",
   "metadata": {},
   "outputs": [
    {
     "data": {
      "text/plain": [
       "array([ 3,  8, 15])"
      ]
     },
     "execution_count": 20,
     "metadata": {},
     "output_type": "execute_result"
    }
   ],
   "source": [
    "a*b"
   ]
  },
  {
   "cell_type": "code",
   "execution_count": 21,
   "id": "e0217961",
   "metadata": {},
   "outputs": [
    {
     "data": {
      "text/plain": [
       "26"
      ]
     },
     "execution_count": 21,
     "metadata": {},
     "output_type": "execute_result"
    }
   ],
   "source": [
    "np.sum(a*b)"
   ]
  },
  {
   "cell_type": "code",
   "execution_count": 23,
   "id": "15ffbbe7",
   "metadata": {},
   "outputs": [
    {
     "data": {
      "text/plain": [
       "array([[0., 0., 0.],\n",
       "       [0., 0., 0.]])"
      ]
     },
     "execution_count": 23,
     "metadata": {},
     "output_type": "execute_result"
    }
   ],
   "source": [
    "np.zeros((2,3))"
   ]
  },
  {
   "cell_type": "code",
   "execution_count": 24,
   "id": "f434fd07",
   "metadata": {},
   "outputs": [
    {
     "data": {
      "text/plain": [
       "array([[7, 7, 7],\n",
       "       [7, 7, 7]])"
      ]
     },
     "execution_count": 24,
     "metadata": {},
     "output_type": "execute_result"
    }
   ],
   "source": [
    "np.full((2,3),7 )"
   ]
  },
  {
   "cell_type": "code",
   "execution_count": 28,
   "id": "4dc40eab",
   "metadata": {},
   "outputs": [
    {
     "data": {
      "text/plain": [
       "array([[0., 0., 0., 1., 1., 1.],\n",
       "       [0., 0., 0., 1., 1., 1.]])"
      ]
     },
     "execution_count": 28,
     "metadata": {},
     "output_type": "execute_result"
    }
   ],
   "source": [
    "np.c_[ np.zeros((2,3)), np.ones((2,3)) ]"
   ]
  },
  {
   "cell_type": "code",
   "execution_count": 31,
   "id": "1fe8177a",
   "metadata": {},
   "outputs": [],
   "source": [
    "neuron =  LogisticNeuron()\n",
    "neuron.fit(x_train, y_train)"
   ]
  },
  {
   "cell_type": "code",
   "execution_count": 33,
   "id": "b0dc8167",
   "metadata": {},
   "outputs": [
    {
     "data": {
      "text/plain": [
       "0.8245614035087719"
      ]
     },
     "execution_count": 33,
     "metadata": {},
     "output_type": "execute_result"
    }
   ],
   "source": [
    "np.mean( neuron.predict(x_test) == y_test )"
   ]
  },
  {
   "cell_type": "code",
   "execution_count": 35,
   "id": "744e2926",
   "metadata": {},
   "outputs": [
    {
     "data": {
      "text/plain": [
       "array([95, 59, 53, 49, 11,  4,  5, 72, 83, 71, 98, 64, 69, 74, 43, 35, 86,\n",
       "       25, 58, 85, 80, 15,  1, 27, 65, 28, 81, 67, 63, 41, 26, 88, 54, 38,\n",
       "       18, 10, 20, 89, 96,  0, 30,  3, 68, 91, 97, 42, 79,  7, 55, 76, 70,\n",
       "       12, 40, 62, 32, 87,  6, 99, 52, 34, 51, 77, 50,  8, 44, 92, 46, 19,\n",
       "       37, 60, 57,  2, 29, 47, 14, 13, 78, 90, 75, 17, 56, 84, 24, 48, 94,\n",
       "       21, 33, 66, 73, 61, 23, 39, 31, 22, 36, 82, 45,  9, 16, 93])"
      ]
     },
     "execution_count": 35,
     "metadata": {},
     "output_type": "execute_result"
    }
   ],
   "source": [
    "np.random.permutation(np.arange(100))"
   ]
  },
  {
   "cell_type": "code",
   "execution_count": 39,
   "id": "c630e3e3",
   "metadata": {},
   "outputs": [],
   "source": [
    "# 단층 신경망.... 퍼셉트론\n",
    "class SingleLayer:\n",
    "    def __init__(self):\n",
    "        self.w = None\n",
    "        self.b = None\n",
    "        self.losses = []\n",
    "    def forpass(self, x):  # 직선의 방정식\n",
    "        z = np.sum(x * self.w) + self.b\n",
    "        return z\n",
    "    def backprop(self, x, err):\n",
    "        w_grad = x*err # 가중치에 대한 그레디언트\n",
    "        b_grad = 1*err # 절편에 대한 그레디언트\n",
    "        return w_grad, b_grad\n",
    "    def activation(self, z):\n",
    "        z = np.clip(z, -100, None) # np.exp() 계산을 안전하게\n",
    "        a = 1 / (1 + np.exp(-z)) # 시그모이드 계산\n",
    "        return a\n",
    "    def fit(self, x, y, epochs=100):  \n",
    "        self.w = np.ones(x.shape[1])  # 가중치 초기화\n",
    "        self.b = 0                    # 절편을 초기화\n",
    "        for i in range(epochs):  # 에포크만큼 반복학습\n",
    "            loss = 0\n",
    "            # 인덱스 섞기\n",
    "            indexes = np.random.permutation(np.arange(len(x)))\n",
    "            for i in indexes:\n",
    "                z = self.forpass(x[i])  # 정방향 계산\n",
    "                a = self.activation(z) # 활성화 함수를 적용\n",
    "                err = -(y[i]-a)         # 오차를 계산 \n",
    "                w_grad, b_grad =  self.backprop(x[i], err)  # 역방향 계산\n",
    "                self.w -= w_grad      # 가중치 업데이트\n",
    "                self.b -= b_grad      # 절편 업데이트\n",
    "                # 안전한 계산을 위해 클리핑한 후 손실을 누적\n",
    "                a = np.clip(a, 1e-10, 1- 1e-10)\n",
    "                loss += -(y[i]*np.log(a)+(1-y[i])*np.log(1-a))\n",
    "            #에포크마다 손실을 저장\n",
    "            self.losses.append(loss/len(y))\n",
    "    def predict(self, x):\n",
    "        z = [self.forpass(x_i) for x_i in x] # 정방향 계산        \n",
    "        return np.array(z) > 0    # 스텝함수 적용\n",
    "    def score(self, x, y):\n",
    "        return np.mean(self.predict(x) == y)"
   ]
  },
  {
   "cell_type": "code",
   "execution_count": 40,
   "id": "daa04c7d",
   "metadata": {},
   "outputs": [
    {
     "data": {
      "text/plain": [
       "0.9473684210526315"
      ]
     },
     "execution_count": 40,
     "metadata": {},
     "output_type": "execute_result"
    }
   ],
   "source": [
    "layer = SingleLayer()\n",
    "layer.fit(x_train, y_train)\n",
    "layer.score(x_test, y_test)"
   ]
  },
  {
   "cell_type": "code",
   "execution_count": 41,
   "id": "a5c2cd86",
   "metadata": {},
   "outputs": [
    {
     "data": {
      "image/png": "[encoded data removed]",
      "text/plain": [
       "<Figure size 432x288 with 1 Axes>"
      ]
     },
     "metadata": {
      "needs_background": "light"
     },
     "output_type": "display_data"
    }
   ],
   "source": [
    "plt.plot(layer.losses)\n",
    "plt.show()"
   ]
  },
  {
   "cell_type": "code",
   "execution_count": null,
   "id": "6ff3b6fe",
   "metadata": {},
   "outputs": [],
   "source": []
  }
 ],
 "metadata": {
  "kernelspec": {
   "display_name": "Python 3 (ipykernel)",
   "language": "python",
   "name": "python3"
  },
  "language_info": {
   "codemirror_mode": {
    "name": "ipython",
    "version": 3
   },
   "file_extension": ".py",
   "mimetype": "text/x-python",
   "name": "python",
   "nbconvert_exporter": "python",
   "pygments_lexer": "ipython3",
   "version": "3.10.4"
  }
 },
 "nbformat": 4,
 "nbformat_minor": 5
}
