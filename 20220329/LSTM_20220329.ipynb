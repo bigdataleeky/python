{
 "cells": [
  {
   "cell_type": "code",
   "execution_count": 1,
   "id": "5af3d2bb",
   "metadata": {},
   "outputs": [],
   "source": [
    "#LSTM Long Short Term Memory\n"
   ]
  },
  {
   "cell_type": "code",
   "execution_count": 5,
   "id": "a4f32315",
   "metadata": {},
   "outputs": [],
   "source": [
    "import numpy as np\n",
    "from tensorflow.keras.datasets import imdb\n",
    "(x_tr,y_tr),(x_ta,y_ta) = imdb.load_data(num_words=500)\n",
    "x_tr.shape,y_tr.shape,x_ta.shape,y_ta.shape\n",
    "\n",
    "from sklearn.model_selection import train_test_split\n",
    "x_train,x_target,y_train,y_target = train_test_split(x_tr, y_tr, test_size=0.2, random_state=42)\n",
    "x_train.shape, y_train.shape\n",
    "\n",
    "# pad_sequences() 시퀀스 데이터의 길이를 맞춤\n",
    "from tensorflow.keras.preprocessing.sequence import pad_sequences\n",
    "# 최대 단어의(토큰) 개수... 문장의 길이가..... \n",
    "x_train_seq = pad_sequences(x_train, maxlen=100)\n",
    "x_target_seq = pad_sequences(x_target, maxlen=100)\n"
   ]
  },
  {
   "cell_type": "code",
   "execution_count": 10,
   "id": "75e37443",
   "metadata": {},
   "outputs": [
    {
     "name": "stdout",
     "output_type": "stream",
     "text": [
      "Epoch 1/50\n",
      "313/313 [==============================] - 12s 30ms/step - loss: 0.6929 - accuracy: 0.5220 - val_loss: 0.6925 - val_accuracy: 0.5586\n",
      "Epoch 2/50\n",
      "313/313 [==============================] - 8s 27ms/step - loss: 0.6920 - accuracy: 0.5742 - val_loss: 0.6913 - val_accuracy: 0.6018\n",
      "Epoch 3/50\n",
      "313/313 [==============================] - 9s 28ms/step - loss: 0.6900 - accuracy: 0.6173 - val_loss: 0.6884 - val_accuracy: 0.6370\n",
      "Epoch 4/50\n",
      "313/313 [==============================] - 8s 25ms/step - loss: 0.6848 - accuracy: 0.6545 - val_loss: 0.6803 - val_accuracy: 0.6686\n",
      "Epoch 5/50\n",
      "313/313 [==============================] - 8s 25ms/step - loss: 0.6661 - accuracy: 0.6863 - val_loss: 0.6406 - val_accuracy: 0.6994\n",
      "Epoch 6/50\n",
      "313/313 [==============================] - 8s 25ms/step - loss: 0.6101 - accuracy: 0.7236 - val_loss: 0.5940 - val_accuracy: 0.7262\n",
      "Epoch 7/50\n",
      "313/313 [==============================] - 8s 26ms/step - loss: 0.5820 - accuracy: 0.7406 - val_loss: 0.5734 - val_accuracy: 0.7460\n",
      "Epoch 8/50\n",
      "313/313 [==============================] - 8s 27ms/step - loss: 0.5609 - accuracy: 0.7566 - val_loss: 0.5560 - val_accuracy: 0.7542\n",
      "Epoch 9/50\n",
      "313/313 [==============================] - 9s 28ms/step - loss: 0.5424 - accuracy: 0.7707 - val_loss: 0.5399 - val_accuracy: 0.7642\n",
      "Epoch 10/50\n",
      "313/313 [==============================] - 8s 25ms/step - loss: 0.5269 - accuracy: 0.7778 - val_loss: 0.5271 - val_accuracy: 0.7706\n",
      "Epoch 11/50\n",
      "313/313 [==============================] - 8s 24ms/step - loss: 0.5136 - accuracy: 0.7824 - val_loss: 0.5184 - val_accuracy: 0.7744\n",
      "Epoch 12/50\n",
      "313/313 [==============================] - 8s 26ms/step - loss: 0.5026 - accuracy: 0.7879 - val_loss: 0.5091 - val_accuracy: 0.7742\n",
      "Epoch 13/50\n",
      "313/313 [==============================] - 8s 24ms/step - loss: 0.4932 - accuracy: 0.7912 - val_loss: 0.5043 - val_accuracy: 0.7742\n",
      "Epoch 14/50\n",
      "313/313 [==============================] - 8s 24ms/step - loss: 0.4846 - accuracy: 0.7950 - val_loss: 0.4941 - val_accuracy: 0.7808\n",
      "Epoch 15/50\n",
      "313/313 [==============================] - 8s 24ms/step - loss: 0.4771 - accuracy: 0.7969 - val_loss: 0.4887 - val_accuracy: 0.7818\n",
      "Epoch 16/50\n",
      "313/313 [==============================] - 8s 26ms/step - loss: 0.4705 - accuracy: 0.8000 - val_loss: 0.4838 - val_accuracy: 0.7824\n",
      "Epoch 17/50\n",
      "313/313 [==============================] - 8s 26ms/step - loss: 0.4644 - accuracy: 0.8020 - val_loss: 0.4801 - val_accuracy: 0.7826\n",
      "Epoch 18/50\n",
      "313/313 [==============================] - 8s 26ms/step - loss: 0.4590 - accuracy: 0.8041 - val_loss: 0.4753 - val_accuracy: 0.7852\n",
      "Epoch 19/50\n",
      "313/313 [==============================] - 8s 26ms/step - loss: 0.4541 - accuracy: 0.8052 - val_loss: 0.4726 - val_accuracy: 0.7846\n",
      "Epoch 20/50\n",
      "313/313 [==============================] - 8s 27ms/step - loss: 0.4495 - accuracy: 0.8089 - val_loss: 0.4684 - val_accuracy: 0.7896\n",
      "Epoch 21/50\n",
      "313/313 [==============================] - 9s 27ms/step - loss: 0.4459 - accuracy: 0.8089 - val_loss: 0.4676 - val_accuracy: 0.7852\n",
      "Epoch 22/50\n",
      "313/313 [==============================] - 8s 26ms/step - loss: 0.4418 - accuracy: 0.8105 - val_loss: 0.4627 - val_accuracy: 0.7894\n",
      "Epoch 23/50\n",
      "313/313 [==============================] - 9s 27ms/step - loss: 0.4390 - accuracy: 0.8124 - val_loss: 0.4600 - val_accuracy: 0.7900\n",
      "Epoch 24/50\n",
      "313/313 [==============================] - 8s 26ms/step - loss: 0.4362 - accuracy: 0.8120 - val_loss: 0.4576 - val_accuracy: 0.7878\n",
      "Epoch 25/50\n",
      "313/313 [==============================] - 8s 27ms/step - loss: 0.4339 - accuracy: 0.8119 - val_loss: 0.4559 - val_accuracy: 0.7910\n",
      "Epoch 26/50\n",
      "313/313 [==============================] - 8s 26ms/step - loss: 0.4319 - accuracy: 0.8136 - val_loss: 0.4547 - val_accuracy: 0.7908\n",
      "Epoch 27/50\n",
      "313/313 [==============================] - 8s 24ms/step - loss: 0.4296 - accuracy: 0.8124 - val_loss: 0.4532 - val_accuracy: 0.7886\n",
      "Epoch 28/50\n",
      "313/313 [==============================] - 8s 25ms/step - loss: 0.4271 - accuracy: 0.8138 - val_loss: 0.4505 - val_accuracy: 0.7920\n",
      "Epoch 29/50\n",
      "313/313 [==============================] - 8s 24ms/step - loss: 0.4260 - accuracy: 0.8147 - val_loss: 0.4506 - val_accuracy: 0.7926\n",
      "Epoch 30/50\n",
      "313/313 [==============================] - 8s 24ms/step - loss: 0.4242 - accuracy: 0.8160 - val_loss: 0.4506 - val_accuracy: 0.7936\n"
     ]
    }
   ],
   "source": [
    "from tensorflow import keras\n",
    "model = keras.Sequential()\n",
    "model.add(keras.layers.Embedding(500,16,input_length=100))  # 500:빈도수가 높은 단어의 개수 , 16:임베딩 벡터의 크기, 100:토큰의 개수 8:뉴런의 \n",
    "model.add(keras.layers.LSTM(8))\n",
    "model.add(keras.layers.Dense(1, activation='sigmoid'))\n",
    "\n",
    "rmsprop = keras.optimizers.RMSprop(learning_rate= 1e-4) #0.0001\n",
    "model.compile(optimizer=rmsprop, loss='binary_crossentropy', metrics=['accuracy'])\n",
    "\n",
    "checkpoint_cb = keras.callbacks.ModelCheckpoint('best-lstm-model.h5',save_best_only=True)\n",
    "early_stopping_cb = keras.callbacks.EarlyStopping(patience=2, restore_best_weights=True)\n",
    "\n",
    "history = model.fit(x_train_seq, y_train, epochs=50, batch_size=64,\n",
    "                    validation_data=(x_target_seq, y_target), callbacks=[checkpoint_cb,early_stopping_cb])"
   ]
  },
  {
   "cell_type": "code",
   "execution_count": 13,
   "id": "3e904eba",
   "metadata": {},
   "outputs": [
    {
     "data": {
      "image/png": "[encoded data removed]",
      "text/plain": [
       "<Figure size 432x288 with 1 Axes>"
      ]
     },
     "metadata": {
      "needs_background": "light"
     },
     "output_type": "display_data"
    }
   ],
   "source": [
    "import matplotlib.pyplot as plt\n",
    "plt.plot(history.history['loss'])\n",
    "plt.plot(history.history['val_loss'])\n",
    "plt.xlabel('epoch')\n",
    "plt.ylabel('loss')\n",
    "plt.legend(['train','target'])\n",
    "plt.show()"
   ]
  },
  {
   "cell_type": "code",
   "execution_count": 14,
   "id": "fb088cd0",
   "metadata": {},
   "outputs": [
    {
     "name": "stdout",
     "output_type": "stream",
     "text": [
      "Epoch 1/50\n",
      "313/313 [==============================] - 11s 30ms/step - loss: 0.6924 - accuracy: 0.5426 - val_loss: 0.6916 - val_accuracy: 0.5938\n",
      "Epoch 2/50\n",
      "313/313 [==============================] - 10s 30ms/step - loss: 0.6903 - accuracy: 0.6036 - val_loss: 0.6889 - val_accuracy: 0.6222\n",
      "Epoch 3/50\n",
      "313/313 [==============================] - 9s 28ms/step - loss: 0.6854 - accuracy: 0.6379 - val_loss: 0.6816 - val_accuracy: 0.6476\n",
      "Epoch 4/50\n",
      "313/313 [==============================] - 8s 27ms/step - loss: 0.6662 - accuracy: 0.6540 - val_loss: 0.6404 - val_accuracy: 0.6650\n",
      "Epoch 5/50\n",
      "313/313 [==============================] - 8s 26ms/step - loss: 0.6077 - accuracy: 0.7115 - val_loss: 0.5925 - val_accuracy: 0.7268\n",
      "Epoch 6/50\n",
      "313/313 [==============================] - 10s 30ms/step - loss: 0.5764 - accuracy: 0.7327 - val_loss: 0.5679 - val_accuracy: 0.7408\n",
      "Epoch 7/50\n",
      "313/313 [==============================] - 9s 27ms/step - loss: 0.5522 - accuracy: 0.7502 - val_loss: 0.5455 - val_accuracy: 0.7456\n",
      "Epoch 8/50\n",
      "313/313 [==============================] - 8s 27ms/step - loss: 0.5310 - accuracy: 0.7582 - val_loss: 0.5244 - val_accuracy: 0.7602\n",
      "Epoch 9/50\n",
      "313/313 [==============================] - 9s 28ms/step - loss: 0.5105 - accuracy: 0.7647 - val_loss: 0.5041 - val_accuracy: 0.7716\n",
      "Epoch 10/50\n",
      "313/313 [==============================] - 9s 29ms/step - loss: 0.4942 - accuracy: 0.7728 - val_loss: 0.4882 - val_accuracy: 0.7804\n",
      "Epoch 11/50\n",
      "313/313 [==============================] - 8s 26ms/step - loss: 0.4811 - accuracy: 0.7799 - val_loss: 0.4795 - val_accuracy: 0.7780\n",
      "Epoch 12/50\n",
      "313/313 [==============================] - 8s 25ms/step - loss: 0.4698 - accuracy: 0.7862 - val_loss: 0.4700 - val_accuracy: 0.7842\n",
      "Epoch 13/50\n",
      "313/313 [==============================] - 9s 28ms/step - loss: 0.4611 - accuracy: 0.7916 - val_loss: 0.4615 - val_accuracy: 0.7912\n",
      "Epoch 14/50\n",
      "313/313 [==============================] - 8s 26ms/step - loss: 0.4531 - accuracy: 0.7969 - val_loss: 0.4572 - val_accuracy: 0.7914\n",
      "Epoch 15/50\n",
      "313/313 [==============================] - 8s 25ms/step - loss: 0.4478 - accuracy: 0.7976 - val_loss: 0.4516 - val_accuracy: 0.7924\n",
      "Epoch 16/50\n",
      "313/313 [==============================] - 8s 26ms/step - loss: 0.4446 - accuracy: 0.8001 - val_loss: 0.4498 - val_accuracy: 0.7950\n",
      "Epoch 17/50\n",
      "313/313 [==============================] - 8s 25ms/step - loss: 0.4432 - accuracy: 0.7984 - val_loss: 0.4459 - val_accuracy: 0.7948\n",
      "Epoch 18/50\n",
      "313/313 [==============================] - 8s 25ms/step - loss: 0.4386 - accuracy: 0.8018 - val_loss: 0.4453 - val_accuracy: 0.7936\n",
      "Epoch 19/50\n",
      "313/313 [==============================] - 8s 25ms/step - loss: 0.4346 - accuracy: 0.8034 - val_loss: 0.4422 - val_accuracy: 0.7948\n",
      "Epoch 20/50\n",
      "313/313 [==============================] - 8s 25ms/step - loss: 0.4331 - accuracy: 0.8020 - val_loss: 0.4412 - val_accuracy: 0.7966\n",
      "Epoch 21/50\n",
      "313/313 [==============================] - 8s 26ms/step - loss: 0.4332 - accuracy: 0.8033 - val_loss: 0.4382 - val_accuracy: 0.7984\n",
      "Epoch 22/50\n",
      "313/313 [==============================] - 8s 26ms/step - loss: 0.4288 - accuracy: 0.8041 - val_loss: 0.4371 - val_accuracy: 0.7986\n",
      "Epoch 23/50\n",
      "313/313 [==============================] - 8s 26ms/step - loss: 0.4277 - accuracy: 0.8041 - val_loss: 0.4408 - val_accuracy: 0.7930\n",
      "Epoch 24/50\n",
      "313/313 [==============================] - 8s 27ms/step - loss: 0.4271 - accuracy: 0.8042 - val_loss: 0.4356 - val_accuracy: 0.7988\n",
      "Epoch 25/50\n",
      "313/313 [==============================] - 8s 27ms/step - loss: 0.4246 - accuracy: 0.8061 - val_loss: 0.4349 - val_accuracy: 0.7970\n",
      "Epoch 26/50\n",
      "313/313 [==============================] - 8s 26ms/step - loss: 0.4241 - accuracy: 0.8084 - val_loss: 0.4349 - val_accuracy: 0.7980\n",
      "Epoch 27/50\n",
      "313/313 [==============================] - 8s 25ms/step - loss: 0.4233 - accuracy: 0.8084 - val_loss: 0.4339 - val_accuracy: 0.8022\n",
      "Epoch 28/50\n",
      "313/313 [==============================] - 8s 26ms/step - loss: 0.4217 - accuracy: 0.8084 - val_loss: 0.4343 - val_accuracy: 0.7974\n",
      "Epoch 29/50\n",
      "313/313 [==============================] - 9s 30ms/step - loss: 0.4222 - accuracy: 0.8065 - val_loss: 0.4329 - val_accuracy: 0.8020\n",
      "Epoch 30/50\n",
      "313/313 [==============================] - 9s 28ms/step - loss: 0.4205 - accuracy: 0.8080 - val_loss: 0.4336 - val_accuracy: 0.8032\n",
      "Epoch 31/50\n",
      "313/313 [==============================] - 9s 28ms/step - loss: 0.4221 - accuracy: 0.8075 - val_loss: 0.4342 - val_accuracy: 0.7968\n"
     ]
    }
   ],
   "source": [
    "model = keras.Sequential()\n",
    "model.add(keras.layers.Embedding(500,16,input_length=100))  # 500:빈도수가 높은 단어의 개수 , 16:임베딩 벡터의 크기, 100:토큰의 개수 8:뉴런의 \n",
    "model.add(keras.layers.LSTM(8, dropout=0.3))\n",
    "model.add(keras.layers.Dense(1, activation='sigmoid'))\n",
    "\n",
    "rmsprop = keras.optimizers.RMSprop(learning_rate= 1e-4) #0.0001\n",
    "model.compile(optimizer=rmsprop, loss='binary_crossentropy', metrics=['accuracy'])\n",
    "\n",
    "checkpoint_cb = keras.callbacks.ModelCheckpoint('best-lstm-dropout-model.h5',save_best_only=True)\n",
    "early_stopping_cb = keras.callbacks.EarlyStopping(patience=2, restore_best_weights=True)\n",
    "\n",
    "history = model.fit(x_train_seq, y_train, epochs=50, batch_size=64,\n",
    "                    validation_data=(x_target_seq, y_target), callbacks=[checkpoint_cb,early_stopping_cb])"
   ]
  },
  {
   "cell_type": "code",
   "execution_count": 15,
   "id": "e34ed0aa",
   "metadata": {},
   "outputs": [
    {
     "data": {
      "image/png": "[encoded data removed]",
      "text/plain": [
       "<Figure size 432x288 with 1 Axes>"
      ]
     },
     "metadata": {
      "needs_background": "light"
     },
     "output_type": "display_data"
    }
   ],
   "source": [
    "import matplotlib.pyplot as plt\n",
    "plt.plot(history.history['loss'])\n",
    "plt.plot(history.history['val_loss'])\n",
    "plt.xlabel('epoch')\n",
    "plt.ylabel('loss')\n",
    "plt.legend(['train','target'])\n",
    "plt.show()"
   ]
  },
  {
   "cell_type": "code",
   "execution_count": 16,
   "id": "145c0945",
   "metadata": {},
   "outputs": [
    {
     "name": "stdout",
     "output_type": "stream",
     "text": [
      "Epoch 1/50\n",
      "313/313 [==============================] - 22s 57ms/step - loss: 0.6928 - accuracy: 0.5275 - val_loss: 0.6924 - val_accuracy: 0.5002\n",
      "Epoch 2/50\n",
      "313/313 [==============================] - 17s 53ms/step - loss: 0.6905 - accuracy: 0.5471 - val_loss: 0.6875 - val_accuracy: 0.5978\n",
      "Epoch 3/50\n",
      "313/313 [==============================] - 17s 53ms/step - loss: 0.6682 - accuracy: 0.6340 - val_loss: 0.6365 - val_accuracy: 0.6674\n",
      "Epoch 4/50\n",
      "313/313 [==============================] - 16s 51ms/step - loss: 0.6023 - accuracy: 0.7021 - val_loss: 0.5811 - val_accuracy: 0.7144\n",
      "Epoch 5/50\n",
      "313/313 [==============================] - 16s 50ms/step - loss: 0.5653 - accuracy: 0.7301 - val_loss: 0.5516 - val_accuracy: 0.7378\n",
      "Epoch 6/50\n",
      "313/313 [==============================] - 16s 52ms/step - loss: 0.5425 - accuracy: 0.7438 - val_loss: 0.5394 - val_accuracy: 0.7346\n",
      "Epoch 7/50\n",
      "313/313 [==============================] - 18s 56ms/step - loss: 0.5222 - accuracy: 0.7552 - val_loss: 0.5150 - val_accuracy: 0.7556\n",
      "Epoch 8/50\n",
      "313/313 [==============================] - 16s 50ms/step - loss: 0.5095 - accuracy: 0.7613 - val_loss: 0.5066 - val_accuracy: 0.7648\n",
      "Epoch 9/50\n",
      "313/313 [==============================] - 15s 49ms/step - loss: 0.4971 - accuracy: 0.7704 - val_loss: 0.4900 - val_accuracy: 0.7704\n",
      "Epoch 10/50\n",
      "313/313 [==============================] - 16s 52ms/step - loss: 0.4888 - accuracy: 0.7734 - val_loss: 0.4824 - val_accuracy: 0.7756\n",
      "Epoch 11/50\n",
      "313/313 [==============================] - 16s 50ms/step - loss: 0.4799 - accuracy: 0.7807 - val_loss: 0.4762 - val_accuracy: 0.7802\n",
      "Epoch 12/50\n",
      "313/313 [==============================] - 15s 49ms/step - loss: 0.4744 - accuracy: 0.7813 - val_loss: 0.4720 - val_accuracy: 0.7822\n",
      "Epoch 13/50\n",
      "313/313 [==============================] - 15s 48ms/step - loss: 0.4708 - accuracy: 0.7833 - val_loss: 0.4687 - val_accuracy: 0.7842\n",
      "Epoch 14/50\n",
      "313/313 [==============================] - 15s 47ms/step - loss: 0.4663 - accuracy: 0.7857 - val_loss: 0.4656 - val_accuracy: 0.7826\n",
      "Epoch 15/50\n",
      "313/313 [==============================] - 15s 48ms/step - loss: 0.4640 - accuracy: 0.7850 - val_loss: 0.4646 - val_accuracy: 0.7870\n",
      "Epoch 16/50\n",
      "313/313 [==============================] - 15s 48ms/step - loss: 0.4594 - accuracy: 0.7885 - val_loss: 0.4620 - val_accuracy: 0.7876\n",
      "Epoch 17/50\n",
      "313/313 [==============================] - 16s 50ms/step - loss: 0.4565 - accuracy: 0.7915 - val_loss: 0.4625 - val_accuracy: 0.7860\n",
      "Epoch 18/50\n",
      "313/313 [==============================] - 15s 49ms/step - loss: 0.4535 - accuracy: 0.7915 - val_loss: 0.4604 - val_accuracy: 0.7866\n",
      "Epoch 19/50\n",
      "313/313 [==============================] - 16s 51ms/step - loss: 0.4538 - accuracy: 0.7897 - val_loss: 0.4574 - val_accuracy: 0.7878\n",
      "Epoch 20/50\n",
      "313/313 [==============================] - 16s 50ms/step - loss: 0.4500 - accuracy: 0.7908 - val_loss: 0.4550 - val_accuracy: 0.7852\n",
      "Epoch 21/50\n",
      "313/313 [==============================] - 16s 50ms/step - loss: 0.4477 - accuracy: 0.7940 - val_loss: 0.4534 - val_accuracy: 0.7904\n",
      "Epoch 22/50\n",
      "313/313 [==============================] - 15s 49ms/step - loss: 0.4472 - accuracy: 0.7955 - val_loss: 0.4525 - val_accuracy: 0.7906\n",
      "Epoch 23/50\n",
      "313/313 [==============================] - 16s 50ms/step - loss: 0.4441 - accuracy: 0.7969 - val_loss: 0.4502 - val_accuracy: 0.7866\n",
      "Epoch 24/50\n",
      "313/313 [==============================] - 15s 49ms/step - loss: 0.4427 - accuracy: 0.7962 - val_loss: 0.4505 - val_accuracy: 0.7904\n",
      "Epoch 25/50\n",
      "313/313 [==============================] - 16s 53ms/step - loss: 0.4403 - accuracy: 0.7976 - val_loss: 0.4497 - val_accuracy: 0.7916\n",
      "Epoch 26/50\n",
      "313/313 [==============================] - 16s 50ms/step - loss: 0.4404 - accuracy: 0.7961 - val_loss: 0.4494 - val_accuracy: 0.7918\n",
      "Epoch 27/50\n",
      "313/313 [==============================] - 15s 48ms/step - loss: 0.4383 - accuracy: 0.7995 - val_loss: 0.4495 - val_accuracy: 0.7918\n",
      "Epoch 28/50\n",
      "313/313 [==============================] - 16s 50ms/step - loss: 0.4340 - accuracy: 0.8032 - val_loss: 0.4444 - val_accuracy: 0.7958\n",
      "Epoch 29/50\n",
      "313/313 [==============================] - 15s 47ms/step - loss: 0.4344 - accuracy: 0.7996 - val_loss: 0.4438 - val_accuracy: 0.7968\n",
      "Epoch 30/50\n",
      "313/313 [==============================] - 15s 49ms/step - loss: 0.4343 - accuracy: 0.8020 - val_loss: 0.4416 - val_accuracy: 0.7960\n",
      "Epoch 31/50\n",
      "313/313 [==============================] - 16s 51ms/step - loss: 0.4343 - accuracy: 0.8022 - val_loss: 0.4412 - val_accuracy: 0.7952\n",
      "Epoch 32/50\n",
      "313/313 [==============================] - 15s 49ms/step - loss: 0.4316 - accuracy: 0.8040 - val_loss: 0.4406 - val_accuracy: 0.7992\n",
      "Epoch 33/50\n",
      "313/313 [==============================] - 15s 49ms/step - loss: 0.4312 - accuracy: 0.8033 - val_loss: 0.4393 - val_accuracy: 0.7970\n",
      "Epoch 34/50\n",
      "313/313 [==============================] - 15s 49ms/step - loss: 0.4292 - accuracy: 0.8027 - val_loss: 0.4435 - val_accuracy: 0.7912\n",
      "Epoch 35/50\n",
      "313/313 [==============================] - 15s 48ms/step - loss: 0.4276 - accuracy: 0.8047 - val_loss: 0.4385 - val_accuracy: 0.8020\n",
      "Epoch 36/50\n",
      "313/313 [==============================] - 15s 48ms/step - loss: 0.4252 - accuracy: 0.8055 - val_loss: 0.4385 - val_accuracy: 0.7950\n",
      "Epoch 37/50\n",
      "313/313 [==============================] - 15s 48ms/step - loss: 0.4277 - accuracy: 0.8044 - val_loss: 0.4374 - val_accuracy: 0.8006\n",
      "Epoch 38/50\n",
      "313/313 [==============================] - 15s 47ms/step - loss: 0.4255 - accuracy: 0.8072 - val_loss: 0.4353 - val_accuracy: 0.8002\n",
      "Epoch 39/50\n",
      "313/313 [==============================] - 16s 50ms/step - loss: 0.4234 - accuracy: 0.8042 - val_loss: 0.4353 - val_accuracy: 0.8036\n",
      "Epoch 40/50\n",
      "313/313 [==============================] - 16s 50ms/step - loss: 0.4241 - accuracy: 0.8049 - val_loss: 0.4348 - val_accuracy: 0.8010\n",
      "Epoch 41/50\n",
      "313/313 [==============================] - 16s 50ms/step - loss: 0.4233 - accuracy: 0.8061 - val_loss: 0.4336 - val_accuracy: 0.8010\n",
      "Epoch 42/50\n",
      "313/313 [==============================] - 15s 49ms/step - loss: 0.4223 - accuracy: 0.8066 - val_loss: 0.4342 - val_accuracy: 0.8028\n",
      "Epoch 43/50\n",
      "313/313 [==============================] - 16s 51ms/step - loss: 0.4216 - accuracy: 0.8073 - val_loss: 0.4329 - val_accuracy: 0.7988\n",
      "Epoch 44/50\n",
      "313/313 [==============================] - 16s 51ms/step - loss: 0.4204 - accuracy: 0.8083 - val_loss: 0.4327 - val_accuracy: 0.8012\n",
      "Epoch 45/50\n",
      "313/313 [==============================] - 16s 51ms/step - loss: 0.4203 - accuracy: 0.8076 - val_loss: 0.4362 - val_accuracy: 0.8044\n",
      "Epoch 46/50\n",
      "313/313 [==============================] - 16s 50ms/step - loss: 0.4181 - accuracy: 0.8098 - val_loss: 0.4351 - val_accuracy: 0.7964\n"
     ]
    }
   ],
   "source": [
    "model = keras.Sequential()\n",
    "model.add(keras.layers.Embedding(500,16,input_length=100))  # 500:빈도수가 높은 단어의 개수 , 16:임베딩 벡터의 크기, 100:토큰의 개수 8:뉴런의 \n",
    "model.add(keras.layers.LSTM(8, dropout=0.3, return_sequences=True)) # 모든 타임스텝의 은닉상태를 출력          # 은닉층\n",
    "model.add(keras.layers.LSTM(8, dropout=0.3))\n",
    "model.add(keras.layers.Dense(1, activation='sigmoid'))\n",
    "\n",
    "rmsprop = keras.optimizers.RMSprop(learning_rate= 1e-4) #0.0001\n",
    "model.compile(optimizer=rmsprop, loss='binary_crossentropy', metrics=['accuracy'])\n",
    "\n",
    "checkpoint_cb = keras.callbacks.ModelCheckpoint('best-lstm-dropout2-model.h5',save_best_only=True)\n",
    "early_stopping_cb = keras.callbacks.EarlyStopping(patience=2, restore_best_weights=True)\n",
    "\n",
    "history = model.fit(x_train_seq, y_train, epochs=50, batch_size=64,\n",
    "                    validation_data=(x_target_seq, y_target), callbacks=[checkpoint_cb,early_stopping_cb])"
   ]
  },
  {
   "cell_type": "code",
   "execution_count": 17,
   "id": "af29ef59",
   "metadata": {},
   "outputs": [
    {
     "data": {
      "image/png": "[encoded data removed]",
      "text/plain": [
       "<Figure size 432x288 with 1 Axes>"
      ]
     },
     "metadata": {
      "needs_background": "light"
     },
     "output_type": "display_data"
    }
   ],
   "source": [
    "import matplotlib.pyplot as plt\n",
    "plt.plot(history.history['loss'])\n",
    "plt.plot(history.history['val_loss'])\n",
    "plt.xlabel('epoch')\n",
    "plt.ylabel('loss')\n",
    "plt.legend(['train','target'])\n",
    "plt.show()"
   ]
  },
  {
   "cell_type": "code",
   "execution_count": 18,
   "id": "f735688c",
   "metadata": {},
   "outputs": [
    {
     "name": "stdout",
     "output_type": "stream",
     "text": [
      "Epoch 1/50\n",
      "313/313 [==============================] - 11s 30ms/step - loss: 0.6925 - accuracy: 0.5325 - val_loss: 0.6918 - val_accuracy: 0.5552\n",
      "Epoch 2/50\n",
      "313/313 [==============================] - 10s 31ms/step - loss: 0.6907 - accuracy: 0.5733 - val_loss: 0.6899 - val_accuracy: 0.5770\n",
      "Epoch 3/50\n",
      "313/313 [==============================] - 10s 32ms/step - loss: 0.6879 - accuracy: 0.5962 - val_loss: 0.6868 - val_accuracy: 0.5954\n",
      "Epoch 4/50\n",
      "313/313 [==============================] - 10s 30ms/step - loss: 0.6834 - accuracy: 0.6109 - val_loss: 0.6818 - val_accuracy: 0.6040\n",
      "Epoch 5/50\n",
      "313/313 [==============================] - 8s 27ms/step - loss: 0.6767 - accuracy: 0.6199 - val_loss: 0.6746 - val_accuracy: 0.6116\n",
      "Epoch 6/50\n",
      "313/313 [==============================] - 9s 27ms/step - loss: 0.6665 - accuracy: 0.6316 - val_loss: 0.6634 - val_accuracy: 0.6206\n",
      "Epoch 7/50\n",
      "313/313 [==============================] - 9s 28ms/step - loss: 0.6519 - accuracy: 0.6462 - val_loss: 0.6474 - val_accuracy: 0.6344\n",
      "Epoch 8/50\n",
      "313/313 [==============================] - 9s 29ms/step - loss: 0.6293 - accuracy: 0.6666 - val_loss: 0.6213 - val_accuracy: 0.6622\n",
      "Epoch 9/50\n",
      "313/313 [==============================] - 9s 27ms/step - loss: 0.5926 - accuracy: 0.6919 - val_loss: 0.5788 - val_accuracy: 0.7012\n",
      "Epoch 10/50\n",
      "313/313 [==============================] - 9s 27ms/step - loss: 0.5408 - accuracy: 0.7319 - val_loss: 0.5321 - val_accuracy: 0.7350\n",
      "Epoch 11/50\n",
      "313/313 [==============================] - 9s 28ms/step - loss: 0.5060 - accuracy: 0.7574 - val_loss: 0.5106 - val_accuracy: 0.7540\n",
      "Epoch 12/50\n",
      "313/313 [==============================] - 8s 25ms/step - loss: 0.4896 - accuracy: 0.7688 - val_loss: 0.4981 - val_accuracy: 0.7592\n",
      "Epoch 13/50\n",
      "313/313 [==============================] - 8s 25ms/step - loss: 0.4780 - accuracy: 0.7758 - val_loss: 0.4920 - val_accuracy: 0.7638\n",
      "Epoch 14/50\n",
      "313/313 [==============================] - 8s 25ms/step - loss: 0.4683 - accuracy: 0.7821 - val_loss: 0.4806 - val_accuracy: 0.7708\n",
      "Epoch 15/50\n",
      "313/313 [==============================] - 8s 26ms/step - loss: 0.4599 - accuracy: 0.7889 - val_loss: 0.4745 - val_accuracy: 0.7720\n",
      "Epoch 16/50\n",
      "313/313 [==============================] - 8s 26ms/step - loss: 0.4531 - accuracy: 0.7920 - val_loss: 0.4682 - val_accuracy: 0.7800\n",
      "Epoch 17/50\n",
      "313/313 [==============================] - 8s 26ms/step - loss: 0.4477 - accuracy: 0.7953 - val_loss: 0.4634 - val_accuracy: 0.7836\n",
      "Epoch 18/50\n",
      "313/313 [==============================] - 8s 26ms/step - loss: 0.4427 - accuracy: 0.7993 - val_loss: 0.4632 - val_accuracy: 0.7808\n",
      "Epoch 19/50\n",
      "313/313 [==============================] - 8s 25ms/step - loss: 0.4393 - accuracy: 0.8008 - val_loss: 0.4576 - val_accuracy: 0.7912\n",
      "Epoch 20/50\n",
      "313/313 [==============================] - 8s 25ms/step - loss: 0.4356 - accuracy: 0.8030 - val_loss: 0.4559 - val_accuracy: 0.7888\n",
      "Epoch 21/50\n",
      "313/313 [==============================] - 8s 26ms/step - loss: 0.4329 - accuracy: 0.8051 - val_loss: 0.4535 - val_accuracy: 0.7916\n",
      "Epoch 22/50\n",
      "313/313 [==============================] - 8s 26ms/step - loss: 0.4306 - accuracy: 0.8060 - val_loss: 0.4525 - val_accuracy: 0.7872\n",
      "Epoch 23/50\n",
      "313/313 [==============================] - 8s 25ms/step - loss: 0.4282 - accuracy: 0.8087 - val_loss: 0.4540 - val_accuracy: 0.7840\n",
      "Epoch 24/50\n",
      "313/313 [==============================] - 8s 27ms/step - loss: 0.4265 - accuracy: 0.8108 - val_loss: 0.4493 - val_accuracy: 0.7898\n",
      "Epoch 25/50\n",
      "313/313 [==============================] - 8s 26ms/step - loss: 0.4247 - accuracy: 0.8112 - val_loss: 0.4503 - val_accuracy: 0.7958\n",
      "Epoch 26/50\n",
      "313/313 [==============================] - 8s 27ms/step - loss: 0.4232 - accuracy: 0.8123 - val_loss: 0.4499 - val_accuracy: 0.7894\n"
     ]
    }
   ],
   "source": [
    "# GRU는 LSTM은 간소화한 버전이고 셀상태(출력,입력,삭제 게이트)를 계산하지 않고 은닉상태(업데이트게이트,리셋게이트) 하나만 포함, LSTM보다 가중치가 적기때문에 계산량이 적지만\n",
    "# LSTM만큰 성능이 좋다\n",
    "model = keras.Sequential()\n",
    "model.add(keras.layers.Embedding(500,16,input_length=100))  # 500:빈도수가 높은 단어의 개수 , 16:임베딩 벡터의 크기, 100:토큰의 개수 8:뉴런의 \n",
    "model.add(keras.layers.GRU(8))                   # 은닉층\n",
    "model.add(keras.layers.Dense(1, activation='sigmoid'))\n",
    "\n",
    "rmsprop = keras.optimizers.RMSprop(learning_rate= 1e-4) #0.0001\n",
    "model.compile(optimizer=rmsprop, loss='binary_crossentropy', metrics=['accuracy'])\n",
    "\n",
    "checkpoint_cb = keras.callbacks.ModelCheckpoint('best-gru-model.h5',save_best_only=True)\n",
    "early_stopping_cb = keras.callbacks.EarlyStopping(patience=2, restore_best_weights=True)\n",
    "\n",
    "history = model.fit(x_train_seq, y_train, epochs=50, batch_size=64,\n",
    "                    validation_data=(x_target_seq, y_target), callbacks=[checkpoint_cb,early_stopping_cb])"
   ]
  },
  {
   "cell_type": "code",
   "execution_count": 19,
   "id": "b2d257c3",
   "metadata": {},
   "outputs": [
    {
     "data": {
      "image/png": "[encoded data removed]",
      "text/plain": [
       "<Figure size 432x288 with 1 Axes>"
      ]
     },
     "metadata": {
      "needs_background": "light"
     },
     "output_type": "display_data"
    }
   ],
   "source": [
    "import matplotlib.pyplot as plt\n",
    "plt.plot(history.history['loss'])\n",
    "plt.plot(history.history['val_loss'])\n",
    "plt.xlabel('epoch')\n",
    "plt.ylabel('loss')\n",
    "plt.legend(['train','target'])\n",
    "plt.show()"
   ]
  },
  {
   "cell_type": "code",
   "execution_count": null,
   "id": "4e26d1bd",
   "metadata": {},
   "outputs": [],
   "source": []
  }
 ],
 "metadata": {
  "kernelspec": {
   "display_name": "Python 3 (ipykernel)",
   "language": "python",
   "name": "python3"
  },
  "language_info": {
   "codemirror_mode": {
    "name": "ipython",
    "version": 3
   },
   "file_extension": ".py",
   "mimetype": "text/x-python",
   "name": "python",
   "nbconvert_exporter": "python",
   "pygments_lexer": "ipython3",
   "version": "3.9.7"
  }
 },
 "nbformat": 4,
 "nbformat_minor": 5
}
