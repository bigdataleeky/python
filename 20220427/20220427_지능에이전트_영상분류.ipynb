{
  "nbformat": 4,
  "nbformat_minor": 0,
  "metadata": {
    "colab": {
      "name": "20220427_지능에이전트_영상분류.ipynb",
      "provenance": []
    },
    "kernelspec": {
      "name": "python3",
      "display_name": "Python 3"
    },
    "language_info": {
      "name": "python"
    }
  },
  "cells": [
    {
      "cell_type": "code",
      "execution_count": 2,
      "metadata": {
        "id": "ai437XfF_nwh"
      },
      "outputs": [],
      "source": [
        "import tensorflow as tf\n",
        "cnn =  tf.keras.models.load_model(\"/content/drive/MyDrive/my_cnn_for_deploy.h5\")"
      ]
    },
    {
      "cell_type": "code",
      "source": [
        "class_names=['airplane','automobile','bird','cat','deer','dog','flog','horse','ship','truck'] # CIFAR-10의 부류 이름"
      ],
      "metadata": {
        "id": "0JcIwRJM_8qX"
      },
      "execution_count": 3,
      "outputs": []
    },
    {
      "cell_type": "code",
      "source": [
        "import numpy as np\n",
        "from tensorflow.keras.preprocessing import image\n",
        "import os\n",
        "\n",
        "x_test = []\n",
        "fnames = []\n",
        "img_origin = []\n",
        "for filename in os.listdir('/content/test_images'):\n",
        "  if 'jpg' not in filename:\n",
        "    continue  \n",
        "  img = image.load_img('/content/test_images/'+filename, target_size=(32,32))\n",
        "  img_origin.append(img)\n",
        "  fnames.append(filename)\n",
        "  x = np.asarray( img.resize([32,32]))/255.0\n",
        "  x_test.append(x)\n",
        "x_test = np.asarray(x_test)  \n",
        "pred = cnn.predict(x_test) # 예측"
      ],
      "metadata": {
        "id": "euWqH4slAHgG"
      },
      "execution_count": 5,
      "outputs": []
    },
    {
      "cell_type": "code",
      "source": [
        "print(len(pred))\n",
        "print(pred)\n"
      ],
      "metadata": {
        "colab": {
          "base_uri": "https://localhost:8080/"
        },
        "id": "D9Y2LA7QByBf",
        "outputId": "7a44f0f1-67ff-418d-c2ad-0ae9e842f8b6"
      },
      "execution_count": 6,
      "outputs": [
        {
          "output_type": "stream",
          "name": "stdout",
          "text": [
            "12\n",
            "[[6.70119596e-04 8.14599935e-06 5.79792522e-02 1.15025848e-01\n",
            "  7.11737335e-01 7.76344386e-04 1.12007506e-01 1.55645295e-03\n",
            "  9.21466722e-07 2.38068707e-04]\n",
            " [5.25905638e-11 6.01530119e-05 3.05773370e-04 7.39322007e-01\n",
            "  1.29560113e-01 5.01296134e-04 1.30249739e-01 3.11580777e-07\n",
            "  2.62135472e-07 3.01500336e-07]\n",
            " [9.98334110e-01 2.00928071e-07 4.76915971e-04 4.59122839e-06\n",
            "  1.80036324e-04 3.73041082e-08 2.85995938e-08 1.55718431e-06\n",
            "  9.88706131e-04 1.36639619e-05]\n",
            " [1.54702284e-03 1.27473854e-07 4.74626478e-03 3.40772269e-04\n",
            "  1.85273495e-02 3.59844882e-03 3.27911002e-05 9.71143126e-01\n",
            "  1.87325639e-07 6.38534402e-05]\n",
            " [3.99554996e-14 9.94987965e-01 6.02822554e-19 2.08458878e-17\n",
            "  3.38541146e-20 1.07336798e-20 2.65891204e-13 6.26879293e-19\n",
            "  1.02628995e-12 5.01202000e-03]\n",
            " [2.45203776e-03 1.55474197e-06 6.51448817e-12 1.57740998e-14\n",
            "  2.23670019e-12 2.59802806e-17 8.75718843e-17 8.12463892e-16\n",
            "  9.97218966e-01 3.27419810e-04]\n",
            " [1.25141535e-03 4.36976040e-03 7.91652128e-02 1.70614764e-01\n",
            "  5.13492942e-01 1.09080479e-01 6.31692931e-02 3.15931514e-02\n",
            "  4.64774093e-05 2.72164643e-02]\n",
            " [1.21013298e-04 5.07242021e-07 1.92902527e-10 4.78761952e-12\n",
            "  1.00070169e-11 5.24468652e-13 7.00712145e-12 6.31006081e-11\n",
            "  9.99259531e-01 6.18896214e-04]\n",
            " [1.46895118e-05 4.33366836e-08 2.32602218e-07 5.81659260e-04\n",
            "  3.40263723e-05 8.60543636e-08 8.94251186e-03 8.16383683e-10\n",
            "  8.31862152e-01 1.58564553e-01]\n",
            " [8.00689217e-04 2.96499958e-04 1.67729691e-01 1.73665047e-01\n",
            "  6.09787628e-02 1.03667304e-01 4.85260904e-01 1.92796614e-03\n",
            "  4.95100860e-03 7.22050143e-04]\n",
            " [9.87183557e-10 3.26674048e-08 7.06703986e-07 2.38394207e-07\n",
            "  8.51382964e-08 1.55487095e-10 9.99998927e-01 1.88085885e-14\n",
            "  5.34664801e-09 2.02742045e-09]\n",
            " [9.87978979e-08 3.32082912e-08 8.45417599e-05 3.93889750e-05\n",
            "  9.99287307e-01 7.62839306e-07 2.61068868e-04 2.69571301e-05\n",
            "  7.00671166e-09 2.99868960e-04]]\n"
          ]
        }
      ]
    },
    {
      "cell_type": "code",
      "source": [
        "os.chdir('/content/test_images')  # 테스트 이미지로 경로 설정\n",
        "#  분류를 위한 경로 생성\n",
        "if not os.path.isdir('class_buckets'):\n",
        "  os.mkdir('class_buckets')\n",
        "os.chdir('class_buckets')\n",
        "# class 별로 폴더 만들기\n",
        "for i in range(len(class_names)):\n",
        "  if not os.path.isdir(class_names[i]):\n",
        "    os.mkdir(class_names[i])"
      ],
      "metadata": {
        "id": "J0OB32xeAt2d"
      },
      "execution_count": 7,
      "outputs": []
    },
    {
      "cell_type": "code",
      "source": [
        "# pred의 결과에 따라 폴더에 해당 이미지를 저장 - 이미지 분류 서비스를 제공\n",
        "for i in range(len(pred)):\n",
        "  forder_name = class_names[np.argmax(pred[i])]\n",
        "  print(forder_name)\n",
        "  os.chdir(forder_name)\n",
        "  "
      ],
      "metadata": {
        "colab": {
          "base_uri": "https://localhost:8080/"
        },
        "id": "qYAulNIHCkEL",
        "outputId": "d534cb48-8818-47d8-89b2-6b1a1899111d"
      },
      "execution_count": 8,
      "outputs": [
        {
          "output_type": "stream",
          "name": "stdout",
          "text": [
            "deer\n",
            "cat\n",
            "airplane\n",
            "horse\n",
            "automobile\n",
            "ship\n",
            "deer\n",
            "ship\n",
            "ship\n",
            "flog\n",
            "flog\n",
            "deer\n"
          ]
        }
      ]
    },
    {
      "cell_type": "code",
      "source": [
        ""
      ],
      "metadata": {
        "id": "t5VQJkw7C2yu"
      },
      "execution_count": null,
      "outputs": []
    }
  ]
}