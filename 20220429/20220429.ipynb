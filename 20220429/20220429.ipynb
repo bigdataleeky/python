{
 "cells": [
  {
   "cell_type": "code",
   "execution_count": 1,
   "id": "f4e5c4c7",
   "metadata": {},
   "outputs": [],
   "source": [
    "import numpy as np\n",
    "import tensorflow as tf\n",
    "import tkinter as tk\n",
    "from tkinter import filedialog\n",
    "from PIL import Image, ImageTk\n",
    "import winsound\n",
    "from gtts import gTTS\n",
    "import playsound\n",
    "import os"
   ]
  },
  {
   "cell_type": "code",
   "execution_count": 2,
   "id": "e76b4a87",
   "metadata": {},
   "outputs": [
    {
     "data": {
      "text/plain": [
       "''"
      ]
     },
     "execution_count": 2,
     "metadata": {},
     "output_type": "execute_result"
    }
   ],
   "source": [
    "cnn=tf.keras.models.load_model(\"my_cnn_for_deploy.h5\") # 학습된 모델 불러오기\n",
    "\n",
    "class_names_en=['airplane','automobile','bird','cat','deer','dog','frog','horse','ship','truck'] # CIFAR-10의 부류 이름(영어)\n",
    "class_names_fr=['avion','voiture','oiseau','chatte','biche','chienne','grenouille','jument','navire','un camion'] # CIFAR-10의 부류 이름(프랑스어)\n",
    "class_names_de=['Flugzeug','Automobil','Vogel','Katze','Hirsch','Hund','Frosch','Pferd','Schiff','LKW'] # CIFAR-10의 부류 이름(독일어)"
   ]
  },
  {
   "cell_type": "code",
   "execution_count": 3,
   "id": "a059cb3b",
   "metadata": {},
   "outputs": [],
   "source": [
    "# 학습된 영상분류기를 이용해서 특정 영상을 입력하면. 해당영상을 분류해서 사운드를 내는 에이전트를 "
   ]
  },
  {
   "cell_type": "code",
   "execution_count": 4,
   "id": "a84bf76c",
   "metadata": {},
   "outputs": [],
   "source": [
    "from tensorflow.keras.preprocessing import image\n",
    "win=tk.Tk()\n",
    "win.title('다국어 단어 공부')\n",
    "win.geometry('512x500')\n",
    "\n",
    "x_test=[]\n",
    "filename =  filedialog.askopenfilename()\n",
    "img = image.load_img(filename, target_size=(32,32))\n",
    "x = np.asarray(img)/255.0   # 데이터 표준화\n",
    "x_test.append(x)  # 표준화된 데이터로 테스트 테이터 만들고\n",
    "x_test = np.asarray(x_test)  # 넘파이 배열로 변경\n",
    "res = cnn.predict(x_test)  # 선택한 영상을 기 학습된 모델을 이용해서 분류\n",
    "class_id = np.argmax(res)   # 예측한 값은 클래스 종류별로 확률로 나타내기때문에 argmax이용해서 가장큰 인덱스를 찾는다\n",
    "eng_label = class_names_en[class_id] # 해당 클래스의 영문명\n",
    "fr_label = class_names_fr[class_id] # 해당 클래스의 프랑스명\n",
    "de_label =class_names_de[class_id] # 해당 클래스의 독일명\n",
    "\n",
    "win.destroy()"
   ]
  },
  {
   "cell_type": "code",
   "execution_count": 17,
   "id": "bffb703d",
   "metadata": {},
   "outputs": [],
   "source": [
    "# 사운드 출력 - 테스트 \n",
    "import time\n",
    "for i in range(10):\n",
    "    winsound.Beep(frequency=500,duration=250)\n",
    "    time.sleep(1)"
   ]
  },
  {
   "cell_type": "code",
   "execution_count": 8,
   "id": "b8995de6",
   "metadata": {},
   "outputs": [
    {
     "data": {
      "text/plain": [
       "0"
      ]
     },
     "execution_count": 8,
     "metadata": {},
     "output_type": "execute_result"
    }
   ],
   "source": [
    "# 영문 출력\n",
    "tts = gTTS(text=eng_label,lang='en')\n",
    "if os.path.isfile(\"sound.mp3\"): os.remove(\"sound.mp3\")\n",
    "tts.save(\"sound.mp3\")\n",
    "os.system(\"sound.mp3\")"
   ]
  },
  {
   "cell_type": "code",
   "execution_count": 9,
   "id": "062949c0",
   "metadata": {},
   "outputs": [
    {
     "data": {
      "text/plain": [
       "0"
      ]
     },
     "execution_count": 9,
     "metadata": {},
     "output_type": "execute_result"
    }
   ],
   "source": [
    "# 프랑스어 출력\n",
    "tts = gTTS(text=fr_label,lang='fr')\n",
    "if os.path.isfile(\"sound.mp3\"): os.remove(\"sound.mp3\")\n",
    "tts.save(\"sound.mp3\")\n",
    "os.system(\"sound.mp3\")"
   ]
  },
  {
   "cell_type": "code",
   "execution_count": 10,
   "id": "0df6ccd3",
   "metadata": {},
   "outputs": [
    {
     "data": {
      "text/plain": [
       "0"
      ]
     },
     "execution_count": 10,
     "metadata": {},
     "output_type": "execute_result"
    }
   ],
   "source": [
    "# 독일어 출력\n",
    "tts = gTTS(text=de_label,lang='de')\n",
    "if os.path.isfile(\"sound.mp3\"): os.remove(\"sound.mp3\")\n",
    "tts.save(\"sound.mp3\")\n",
    "os.system(\"sound.mp3\")"
   ]
  },
  {
   "cell_type": "code",
   "execution_count": null,
   "id": "cee8d007",
   "metadata": {},
   "outputs": [],
   "source": []
  }
 ],
 "metadata": {
  "kernelspec": {
   "display_name": "Python 3 (ipykernel)",
   "language": "python",
   "name": "python3"
  },
  "language_info": {
   "codemirror_mode": {
    "name": "ipython",
    "version": 3
   },
   "file_extension": ".py",
   "mimetype": "text/x-python",
   "name": "python",
   "nbconvert_exporter": "python",
   "pygments_lexer": "ipython3",
   "version": "3.9.7"
  }
 },
 "nbformat": 4,
 "nbformat_minor": 5
}
