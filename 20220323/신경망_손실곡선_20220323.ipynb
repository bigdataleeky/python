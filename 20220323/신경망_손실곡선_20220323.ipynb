{
 "cells": [
  {
   "cell_type": "code",
   "execution_count": null,
   "id": "707b537c",
   "metadata": {
    "scrolled": true
   },
   "outputs": [],
   "source": [
    "import numpy as np\n",
    "# temp_list = np.array(range(255))\n",
    "# print(temp_list)\n",
    "# print(temp_list / 255.0)"
   ]
  },
  {
   "cell_type": "code",
   "execution_count": 2,
   "id": "09c5e522",
   "metadata": {},
   "outputs": [],
   "source": [
    "# 신경망 모델의 시각화 및 소실 곡선 - 최적화된값을 찾기위함"
   ]
  },
  {
   "cell_type": "code",
   "execution_count": 3,
   "id": "62938ef5",
   "metadata": {},
   "outputs": [
    {
     "data": {
      "text/plain": [
       "((60000, 28, 28), (60000,), (10000, 28, 28), (10000,))"
      ]
     },
     "execution_count": 3,
     "metadata": {},
     "output_type": "execute_result"
    }
   ],
   "source": [
    "from tensorflow import keras\n",
    "(x,y),(xt,yt) =  keras.datasets.fashion_mnist.load_data()\n",
    "x.shape, y.shape, xt.shape,yt.shape"
   ]
  },
  {
   "cell_type": "code",
   "execution_count": 4,
   "id": "da30004f",
   "metadata": {},
   "outputs": [
    {
     "data": {
      "text/plain": [
       "(60000, 784)"
      ]
     },
     "execution_count": 4,
     "metadata": {},
     "output_type": "execute_result"
    }
   ],
   "source": [
    "# 데이터 표준화 0 ~ 1\n",
    "# x_scaled = x / 255.0\n",
    "from sklearn.preprocessing import StandardScaler\n",
    "ss = StandardScaler()\n",
    "x_2d = x.reshape(-1,28*28)\n",
    "x_scaled =  ss.fit_transform(x_2d)\n",
    "x_scaled.shape"
   ]
  },
  {
   "cell_type": "code",
   "execution_count": 5,
   "id": "2b6181d0",
   "metadata": {},
   "outputs": [
    {
     "data": {
      "text/plain": [
       "((45000, 784), (15000, 784), (45000,), (15000,))"
      ]
     },
     "execution_count": 5,
     "metadata": {},
     "output_type": "execute_result"
    }
   ],
   "source": [
    "from sklearn.model_selection import train_test_split\n",
    "x_train,x_target,y_train,y_target =  train_test_split(x_scaled,y)\n",
    "x_train.shape,x_target.shape,y_train.shape,y_target.shape"
   ]
  },
  {
   "cell_type": "code",
   "execution_count": 6,
   "id": "e6510592",
   "metadata": {},
   "outputs": [],
   "source": [
    "# 신경망 모델을 만드는 함수를 작성\n",
    "def make_model(layer = None):\n",
    "    model = keras.Sequential()\n",
    "    model.add(keras.layers.Flatten(input_shape = (28*28,)))\n",
    "    model.add(keras.layers.Dense(100,activation='relu'))\n",
    "    if layer:\n",
    "        model.add(layer)\n",
    "    model.add(keras.layers.Dense(10,activation = 'softmax'))\n",
    "    return model"
   ]
  },
  {
   "cell_type": "code",
   "execution_count": 7,
   "id": "5c10854a",
   "metadata": {},
   "outputs": [
    {
     "name": "stdout",
     "output_type": "stream",
     "text": [
      "Model: \"sequential\"\n",
      "_________________________________________________________________\n",
      " Layer (type)                Output Shape              Param #   \n",
      "=================================================================\n",
      " flatten (Flatten)           (None, 784)               0         \n",
      "                                                                 \n",
      " dense (Dense)               (None, 100)               78500     \n",
      "                                                                 \n",
      " dense_1 (Dense)             (None, 10)                1010      \n",
      "                                                                 \n",
      "=================================================================\n",
      "Total params: 79,510\n",
      "Trainable params: 79,510\n",
      "Non-trainable params: 0\n",
      "_________________________________________________________________\n"
     ]
    }
   ],
   "source": [
    "model = make_model()\n",
    "model.summary()"
   ]
  },
  {
   "cell_type": "code",
   "execution_count": 8,
   "id": "c7510e7d",
   "metadata": {},
   "outputs": [],
   "source": [
    "model.compile(optimizer=\"adam\", loss = 'sparse_categorical_crossentropy', metrics=['accuracy'])"
   ]
  },
  {
   "cell_type": "code",
   "execution_count": 9,
   "id": "60a1ebcb",
   "metadata": {},
   "outputs": [],
   "source": [
    "history =  model.fit(x_train,y_train, epochs=5,verbose=0)"
   ]
  },
  {
   "cell_type": "code",
   "execution_count": 10,
   "id": "bca345be",
   "metadata": {},
   "outputs": [
    {
     "data": {
      "text/plain": [
       "{'loss': [0.4604197144508362,\n",
       "  0.33918026089668274,\n",
       "  0.2986326515674591,\n",
       "  0.27267810702323914,\n",
       "  0.2500283122062683],\n",
       " 'accuracy': [0.8348666429519653,\n",
       "  0.8777555823326111,\n",
       "  0.8904444575309753,\n",
       "  0.8990222215652466,\n",
       "  0.9077777862548828]}"
      ]
     },
     "execution_count": 10,
     "metadata": {},
     "output_type": "execute_result"
    }
   ],
   "source": [
    "history.history"
   ]
  },
  {
   "cell_type": "code",
   "execution_count": 11,
   "id": "3f4f631d",
   "metadata": {},
   "outputs": [
    {
     "data": {
      "text/plain": [
       "dict_keys(['loss', 'accuracy'])"
      ]
     },
     "execution_count": 11,
     "metadata": {},
     "output_type": "execute_result"
    }
   ],
   "source": [
    "history.history.keys()"
   ]
  },
  {
   "cell_type": "code",
   "execution_count": 12,
   "id": "4a649708",
   "metadata": {},
   "outputs": [
    {
     "data": {
      "image/png": "[encoded data removed]",
      "text/plain": [
       "<Figure size 432x288 with 1 Axes>"
      ]
     },
     "metadata": {
      "needs_background": "light"
     },
     "output_type": "display_data"
    }
   ],
   "source": [
    "import matplotlib.pyplot as plt\n",
    "list_temp = history.history['loss']\n",
    "plt.plot(list_temp)\n",
    "plt.xlabel('epoch')\n",
    "plt.ylabel('loss')\n",
    "plt.show()"
   ]
  },
  {
   "cell_type": "code",
   "execution_count": 13,
   "id": "dbda6974",
   "metadata": {},
   "outputs": [
    {
     "data": {
      "image/png": "[encoded data removed]",
      "text/plain": [
       "<Figure size 432x288 with 1 Axes>"
      ]
     },
     "metadata": {
      "needs_background": "light"
     },
     "output_type": "display_data"
    }
   ],
   "source": [
    "# 정확도\n",
    "list_temp = history.history['accuracy']\n",
    "plt.plot(list_temp)\n",
    "plt.xlabel('epoch')\n",
    "plt.ylabel('accuracy')\n",
    "plt.show()"
   ]
  },
  {
   "cell_type": "code",
   "execution_count": 14,
   "id": "4bc188e8",
   "metadata": {},
   "outputs": [],
   "source": [
    "# epoch 늘리면?  25\n",
    "model = make_model()\n",
    "model.compile(optimizer=\"adam\", loss = 'sparse_categorical_crossentropy', metrics=['accuracy'])\n",
    "history =  model.fit(x_train,y_train, epochs=25,verbose=0)"
   ]
  },
  {
   "cell_type": "code",
   "execution_count": 15,
   "id": "f40bc351",
   "metadata": {},
   "outputs": [
    {
     "data": {
      "image/png": "[encoded data removed]",
      "text/plain": [
       "<Figure size 432x288 with 1 Axes>"
      ]
     },
     "metadata": {
      "needs_background": "light"
     },
     "output_type": "display_data"
    }
   ],
   "source": [
    "list_temp = history.history['accuracy']\n",
    "plt.plot(list_temp)\n",
    "plt.xlabel('epoch')\n",
    "plt.ylabel('loss')\n",
    "plt.show()"
   ]
  },
  {
   "cell_type": "code",
   "execution_count": 16,
   "id": "4413997d",
   "metadata": {},
   "outputs": [],
   "source": [
    "# 위에서는 학습데이터를 기반으로한 손실율과 정확성을 봤는데... 과적합을 보기위해서는\n",
    "# target에 대한 검증 데이터도 필요\n",
    "model = make_model()\n",
    "model.compile(optimizer=\"adam\", loss = 'sparse_categorical_crossentropy', metrics=['accuracy'])\n",
    "history =  model.fit(x_train,y_train, epochs=25,verbose=0, validation_data=(x_target,y_target))"
   ]
  },
  {
   "cell_type": "code",
   "execution_count": 17,
   "id": "94089cb1",
   "metadata": {},
   "outputs": [
    {
     "data": {
      "text/plain": [
       "dict_keys(['loss', 'accuracy', 'val_loss', 'val_accuracy'])"
      ]
     },
     "execution_count": 17,
     "metadata": {},
     "output_type": "execute_result"
    }
   ],
   "source": [
    "history.history.keys()"
   ]
  },
  {
   "cell_type": "code",
   "execution_count": 18,
   "id": "f4447501",
   "metadata": {
    "scrolled": true
   },
   "outputs": [
    {
     "data": {
      "image/png": "[encoded data removed]",
      "text/plain": [
       "<Figure size 432x288 with 1 Axes>"
      ]
     },
     "metadata": {
      "needs_background": "light"
     },
     "output_type": "display_data"
    }
   ],
   "source": [
    "train_loss = history.history['loss']\n",
    "target_loss = history.history['val_loss']\n",
    "plt.plot(train_loss)\n",
    "plt.plot(target_loss)\n",
    "plt.xlabel('epoch')\n",
    "plt.ylabel('loss')\n",
    "plt.legend(['train','target'])\n",
    "plt.show()"
   ]
  },
  {
   "cell_type": "code",
   "execution_count": null,
   "id": "7d89c4db",
   "metadata": {},
   "outputs": [],
   "source": [
    "# 인공신경망에서 사용하는 규제 알고리즘..... 드랍아웃....\n",
    "# Drop - out\n",
    "# 일부 출력의 뉴런의 결과를 0으로만든다.... 특정뉴런에 과하게 의존하는걸 막는걸 발견\n",
    "model = make_model(keras.layers.Dropout(0.3))\n",
    "print(model.summary())\n",
    "# 일부 뉴런의 층을 0으로 만들지만 전체 구조는 변경하지 않는다\n",
    "model.compile(optimizer=\"adam\", loss = 'sparse_categorical_crossentropy', metrics=['accuracy'])\n",
    "history =  model.fit(x_train,y_train, epochs=25,verbose=1, validation_data=(x_target,y_target),verbose=0)"
   ]
  },
  {
   "cell_type": "code",
   "execution_count": 20,
   "id": "93680f05",
   "metadata": {},
   "outputs": [
    {
     "data": {
      "image/png": "[encoded data removed]",
      "text/plain": [
       "<Figure size 432x288 with 1 Axes>"
      ]
     },
     "metadata": {
      "needs_background": "light"
     },
     "output_type": "display_data"
    }
   ],
   "source": [
    "train_loss = history.history['loss']\n",
    "target_loss = history.history['val_loss']\n",
    "plt.plot(train_loss)\n",
    "plt.plot(target_loss)\n",
    "plt.xlabel('epoch')\n",
    "plt.ylabel('loss')\n",
    "plt.legend(['train','target'])\n",
    "plt.show()"
   ]
  },
  {
   "cell_type": "code",
   "execution_count": 21,
   "id": "4aae5f8b",
   "metadata": {},
   "outputs": [
    {
     "name": "stdout",
     "output_type": "stream",
     "text": [
      "469/469 [==============================] - 0s 790us/step - loss: 0.3540 - accuracy: 0.8777\n"
     ]
    },
    {
     "data": {
      "text/plain": [
       "[0.35402512550354004, 0.8776666522026062]"
      ]
     },
     "execution_count": 21,
     "metadata": {},
     "output_type": "execute_result"
    }
   ],
   "source": [
    "model = make_model(keras.layers.Dropout(0.3))\n",
    "model.compile(optimizer=\"adam\", loss = 'sparse_categorical_crossentropy', metrics=['accuracy'])\n",
    "model.fit(x_train,y_train, epochs=7,verbose=0, validation_data=(x_target,y_target))\n",
    "model.evaluate(x_target,y_target)"
   ]
  },
  {
   "cell_type": "code",
   "execution_count": 22,
   "id": "905dda33",
   "metadata": {},
   "outputs": [],
   "source": [
    "model.save_weights('model-weight.h5')  # 모델의 파라메터를 저장..... 하이퍼 파라메터"
   ]
  },
  {
   "cell_type": "code",
   "execution_count": 23,
   "id": "ee90c522",
   "metadata": {},
   "outputs": [],
   "source": [
    "model.save('model-whoile.h5') #모델 구조와 파라메터를 같이 저장"
   ]
  },
  {
   "cell_type": "code",
   "execution_count": 24,
   "id": "b33c35f6",
   "metadata": {},
   "outputs": [],
   "source": [
    "# 모델객체를 만든다  Sequencial \n",
    "# 레이어 구성을 한다 model.add(keras.layer.Dense) or Dropout\n",
    "# 모델을 compile \n",
    "# 모델을 적용(훈련세트) or 검증세트   model.fit"
   ]
  },
  {
   "cell_type": "code",
   "execution_count": 29,
   "id": "2d624a0f",
   "metadata": {},
   "outputs": [
    {
     "name": "stdout",
     "output_type": "stream",
     "text": [
      "469/469 [==============================] - 1s 865us/step - loss: 0.3540 - accuracy: 0.8777\n"
     ]
    },
    {
     "data": {
      "text/plain": [
       "[0.35402512550354004, 0.8776666522026062]"
      ]
     },
     "execution_count": 29,
     "metadata": {},
     "output_type": "execute_result"
    }
   ],
   "source": [
    "# 주의점.... 모델을 만들때 저장된 파라메터를 불러올수 있는데.... 이때 이전에 저장했던 모델과 정확히 같아야한다.\n",
    "# 저장된 파라메터를 불러오기\n",
    "model =  make_model(keras.layers.Dropout(0.3))\n",
    "model.load_weights('model-weight.h5')\n",
    "model.compile(optimizer=\"adam\", loss = 'sparse_categorical_crossentropy', metrics=['accuracy'])\n",
    "model.evaluate(x_target, y_target)\n",
    "# 파라메터 적용해서 모델 구성"
   ]
  },
  {
   "cell_type": "code",
   "execution_count": 26,
   "id": "039415b6",
   "metadata": {},
   "outputs": [
    {
     "name": "stdout",
     "output_type": "stream",
     "text": [
      "469/469 [==============================] - 0s 749us/step - loss: 0.3540 - accuracy: 0.8777\n"
     ]
    },
    {
     "data": {
      "text/plain": [
       "[0.35402512550354004, 0.8776666522026062]"
      ]
     },
     "execution_count": 26,
     "metadata": {},
     "output_type": "execute_result"
    }
   ],
   "source": [
    "# 저장된 모델을 불러오기\n",
    "model2 = keras.models.load_model('model-whoile.h5')\n",
    "model2.evaluate(x_target,y_target)"
   ]
  },
  {
   "cell_type": "code",
   "execution_count": 30,
   "id": "1ee960fc",
   "metadata": {},
   "outputs": [],
   "source": [
    "# 콜백 , 조기종료\n",
    "# fit() 메서드의 callbacks 매개변수에 리스트로 전달\n",
    "# ModelcheckPoint 콜백.... 지정된 에포크 횟수동안 최상의 검증 점수를 만드는 모델을 저장"
   ]
  },
  {
   "cell_type": "code",
   "execution_count": null,
   "id": "a7b29654",
   "metadata": {},
   "outputs": [],
   "source": [
    "# ModelCheckpoint 기본적으로 최상의 검증 점수를 만들어서 h5로 저장한다.\n",
    "model = make_model(keras.layers.Dropout(0.3))\n",
    "model.compile(optimizer='adam', loss = 'sparse_categorical_crossentropy',\n",
    "             metrics=['accuracy'])\n",
    "checkpoint= keras.callbacks.ModelCheckpoint('best-model.h5', save_best_only=True)\n",
    "model.fit(x_train,y_train, epochs=25, validation_data=(x_target,y_target),verbose=0,\n",
    "         callbacks=[checkpoint])"
   ]
  },
  {
   "cell_type": "code",
   "execution_count": 41,
   "id": "5fd85c26",
   "metadata": {},
   "outputs": [],
   "source": [
    "# 조기종료..모델이 과적합이 될거 같으면 종료한다.... 일종의 규제방법중에 하나... \n",
    "# 조기종료해 주는 콜백이 존재함\n",
    "# EarlyStopping 하고.. ModelCheckpoint 를 같이 사용하면 가장 낮은 검증손실의 모델을 파일에 저장하고 \n",
    "# 검즘손실이 다시 상승할때 훈련을 중지, 현재 모델의 파라메터를 최상의 파라메터로 전환한다. \n",
    "model = make_model(keras.layers.Dropout(0.3))\n",
    "model.compile(optimizer='adam', loss = 'sparse_categorical_crossentropy',\n",
    "             metrics=['accuracy'])\n",
    "checkpoint= keras.callbacks.ModelCheckpoint('best-model.h5', save_best_only=True)\n",
    "early_stopping = keras.callbacks.EarlyStopping(restore_best_weights=True ,patience=2)\n",
    "history =  model.fit(x_train,y_train, epochs=25, validation_data=(x_target,y_target), verbose=0,\n",
    "         callbacks=[checkpoint,early_stopping])"
   ]
  },
  {
   "cell_type": "code",
   "execution_count": 39,
   "id": "e2083ed1",
   "metadata": {},
   "outputs": [
    {
     "data": {
      "text/plain": [
       "8"
      ]
     },
     "execution_count": 39,
     "metadata": {},
     "output_type": "execute_result"
    }
   ],
   "source": [
    "early_stopping.stopped_epoch"
   ]
  },
  {
   "cell_type": "code",
   "execution_count": 43,
   "id": "ec732c14",
   "metadata": {},
   "outputs": [
    {
     "data": {
      "image/png": "[encoded data removed]",
      "text/plain": [
       "<Figure size 432x288 with 1 Axes>"
      ]
     },
     "metadata": {
      "needs_background": "light"
     },
     "output_type": "display_data"
    }
   ],
   "source": [
    "plt.plot(history.history['loss'])\n",
    "plt.plot(history.history['val_loss'])\n",
    "plt.xlabel('epoch')\n",
    "plt.ylabel('loss')\n",
    "plt.legend(['train','val'])\n",
    "plt.show()"
   ]
  },
  {
   "cell_type": "code",
   "execution_count": 44,
   "id": "a836623b",
   "metadata": {},
   "outputs": [
    {
     "name": "stdout",
     "output_type": "stream",
     "text": [
      "469/469 [==============================] - 0s 910us/step - loss: 0.3499 - accuracy: 0.8803\n"
     ]
    },
    {
     "data": {
      "text/plain": [
       "[0.34985244274139404, 0.8803333044052124]"
      ]
     },
     "execution_count": 44,
     "metadata": {},
     "output_type": "execute_result"
    }
   ],
   "source": [
    "model.evaluate(x_target,y_target)"
   ]
  },
  {
   "cell_type": "code",
   "execution_count": null,
   "id": "41290f26",
   "metadata": {},
   "outputs": [],
   "source": []
  }
 ],
 "metadata": {
  "kernelspec": {
   "display_name": "Python 3 (ipykernel)",
   "language": "python",
   "name": "python3"
  },
  "language_info": {
   "codemirror_mode": {
    "name": "ipython",
    "version": 3
   },
   "file_extension": ".py",
   "mimetype": "text/x-python",
   "name": "python",
   "nbconvert_exporter": "python",
   "pygments_lexer": "ipython3",
   "version": "3.9.7"
  }
 },
 "nbformat": 4,
 "nbformat_minor": 5
}
