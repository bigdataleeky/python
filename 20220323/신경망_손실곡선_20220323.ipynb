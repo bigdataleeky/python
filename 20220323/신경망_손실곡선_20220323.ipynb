{
 "cells": [
  {
   "cell_type": "code",
   "execution_count": 21,
   "id": "707b537c",
   "metadata": {
    "scrolled": true
   },
   "outputs": [
    {
     "name": "stdout",
     "output_type": "stream",
     "text": [
      "[  0   1   2   3   4   5   6   7   8   9  10  11  12  13  14  15  16  17\n",
      "  18  19  20  21  22  23  24  25  26  27  28  29  30  31  32  33  34  35\n",
      "  36  37  38  39  40  41  42  43  44  45  46  47  48  49  50  51  52  53\n",
      "  54  55  56  57  58  59  60  61  62  63  64  65  66  67  68  69  70  71\n",
      "  72  73  74  75  76  77  78  79  80  81  82  83  84  85  86  87  88  89\n",
      "  90  91  92  93  94  95  96  97  98  99 100 101 102 103 104 105 106 107\n",
      " 108 109 110 111 112 113 114 115 116 117 118 119 120 121 122 123 124 125\n",
      " 126 127 128 129 130 131 132 133 134 135 136 137 138 139 140 141 142 143\n",
      " 144 145 146 147 148 149 150 151 152 153 154 155 156 157 158 159 160 161\n",
      " 162 163 164 165 166 167 168 169 170 171 172 173 174 175 176 177 178 179\n",
      " 180 181 182 183 184 185 186 187 188 189 190 191 192 193 194 195 196 197\n",
      " 198 199 200 201 202 203 204 205 206 207 208 209 210 211 212 213 214 215\n",
      " 216 217 218 219 220 221 222 223 224 225 226 227 228 229 230 231 232 233\n",
      " 234 235 236 237 238 239 240 241 242 243 244 245 246 247 248 249 250 251\n",
      " 252 253 254]\n",
      "[0.         0.00392157 0.00784314 0.01176471 0.01568627 0.01960784\n",
      " 0.02352941 0.02745098 0.03137255 0.03529412 0.03921569 0.04313725\n",
      " 0.04705882 0.05098039 0.05490196 0.05882353 0.0627451  0.06666667\n",
      " 0.07058824 0.0745098  0.07843137 0.08235294 0.08627451 0.09019608\n",
      " 0.09411765 0.09803922 0.10196078 0.10588235 0.10980392 0.11372549\n",
      " 0.11764706 0.12156863 0.1254902  0.12941176 0.13333333 0.1372549\n",
      " 0.14117647 0.14509804 0.14901961 0.15294118 0.15686275 0.16078431\n",
      " 0.16470588 0.16862745 0.17254902 0.17647059 0.18039216 0.18431373\n",
      " 0.18823529 0.19215686 0.19607843 0.2        0.20392157 0.20784314\n",
      " 0.21176471 0.21568627 0.21960784 0.22352941 0.22745098 0.23137255\n",
      " 0.23529412 0.23921569 0.24313725 0.24705882 0.25098039 0.25490196\n",
      " 0.25882353 0.2627451  0.26666667 0.27058824 0.2745098  0.27843137\n",
      " 0.28235294 0.28627451 0.29019608 0.29411765 0.29803922 0.30196078\n",
      " 0.30588235 0.30980392 0.31372549 0.31764706 0.32156863 0.3254902\n",
      " 0.32941176 0.33333333 0.3372549  0.34117647 0.34509804 0.34901961\n",
      " 0.35294118 0.35686275 0.36078431 0.36470588 0.36862745 0.37254902\n",
      " 0.37647059 0.38039216 0.38431373 0.38823529 0.39215686 0.39607843\n",
      " 0.4        0.40392157 0.40784314 0.41176471 0.41568627 0.41960784\n",
      " 0.42352941 0.42745098 0.43137255 0.43529412 0.43921569 0.44313725\n",
      " 0.44705882 0.45098039 0.45490196 0.45882353 0.4627451  0.46666667\n",
      " 0.47058824 0.4745098  0.47843137 0.48235294 0.48627451 0.49019608\n",
      " 0.49411765 0.49803922 0.50196078 0.50588235 0.50980392 0.51372549\n",
      " 0.51764706 0.52156863 0.5254902  0.52941176 0.53333333 0.5372549\n",
      " 0.54117647 0.54509804 0.54901961 0.55294118 0.55686275 0.56078431\n",
      " 0.56470588 0.56862745 0.57254902 0.57647059 0.58039216 0.58431373\n",
      " 0.58823529 0.59215686 0.59607843 0.6        0.60392157 0.60784314\n",
      " 0.61176471 0.61568627 0.61960784 0.62352941 0.62745098 0.63137255\n",
      " 0.63529412 0.63921569 0.64313725 0.64705882 0.65098039 0.65490196\n",
      " 0.65882353 0.6627451  0.66666667 0.67058824 0.6745098  0.67843137\n",
      " 0.68235294 0.68627451 0.69019608 0.69411765 0.69803922 0.70196078\n",
      " 0.70588235 0.70980392 0.71372549 0.71764706 0.72156863 0.7254902\n",
      " 0.72941176 0.73333333 0.7372549  0.74117647 0.74509804 0.74901961\n",
      " 0.75294118 0.75686275 0.76078431 0.76470588 0.76862745 0.77254902\n",
      " 0.77647059 0.78039216 0.78431373 0.78823529 0.79215686 0.79607843\n",
      " 0.8        0.80392157 0.80784314 0.81176471 0.81568627 0.81960784\n",
      " 0.82352941 0.82745098 0.83137255 0.83529412 0.83921569 0.84313725\n",
      " 0.84705882 0.85098039 0.85490196 0.85882353 0.8627451  0.86666667\n",
      " 0.87058824 0.8745098  0.87843137 0.88235294 0.88627451 0.89019608\n",
      " 0.89411765 0.89803922 0.90196078 0.90588235 0.90980392 0.91372549\n",
      " 0.91764706 0.92156863 0.9254902  0.92941176 0.93333333 0.9372549\n",
      " 0.94117647 0.94509804 0.94901961 0.95294118 0.95686275 0.96078431\n",
      " 0.96470588 0.96862745 0.97254902 0.97647059 0.98039216 0.98431373\n",
      " 0.98823529 0.99215686 0.99607843]\n"
     ]
    }
   ],
   "source": [
    "import numpy as np\n",
    "temp_list = np.array(range(255))\n",
    "print(temp_list)\n",
    "print(temp_list / 255.0)"
   ]
  },
  {
   "cell_type": "code",
   "execution_count": 1,
   "id": "09c5e522",
   "metadata": {},
   "outputs": [],
   "source": [
    "# 신경망 모델의 시각화 및 소실 곡선 - 최적화된값을 찾기위함"
   ]
  },
  {
   "cell_type": "code",
   "execution_count": 22,
   "id": "62938ef5",
   "metadata": {},
   "outputs": [
    {
     "data": {
      "text/plain": [
       "((60000, 28, 28), (60000,), (10000, 28, 28), (10000,))"
      ]
     },
     "execution_count": 22,
     "metadata": {},
     "output_type": "execute_result"
    }
   ],
   "source": [
    "from tensorflow import keras\n",
    "(x,y),(xt,yt) =  keras.datasets.fashion_mnist.load_data()\n",
    "x.shape, y.shape, xt.shape,yt.shape"
   ]
  },
  {
   "cell_type": "code",
   "execution_count": 65,
   "id": "da30004f",
   "metadata": {},
   "outputs": [
    {
     "data": {
      "text/plain": [
       "(60000, 784)"
      ]
     },
     "execution_count": 65,
     "metadata": {},
     "output_type": "execute_result"
    }
   ],
   "source": [
    "# 데이터 표준화 0 ~ 1\n",
    "# x_scaled = x / 255.0\n",
    "from sklearn.preprocessing import StandardScaler\n",
    "ss = StandardScaler()\n",
    "x_2d = x.reshape(-1,28*28)\n",
    "x_scaled =  ss.fit_transform(x_2d)\n",
    "x_scaled.shape"
   ]
  },
  {
   "cell_type": "code",
   "execution_count": 66,
   "id": "2b6181d0",
   "metadata": {},
   "outputs": [
    {
     "data": {
      "text/plain": [
       "((45000, 784), (15000, 784), (45000,), (15000,))"
      ]
     },
     "execution_count": 66,
     "metadata": {},
     "output_type": "execute_result"
    }
   ],
   "source": [
    "from sklearn.model_selection import train_test_split\n",
    "x_train,x_target,y_train,y_target =  train_test_split(x_scaled,y)\n",
    "x_train.shape,x_target.shape,y_train.shape,y_target.shape"
   ]
  },
  {
   "cell_type": "code",
   "execution_count": 69,
   "id": "e6510592",
   "metadata": {},
   "outputs": [],
   "source": [
    "# 신경망 모델을 만드는 함수를 작성\n",
    "def make_model(layer = None):\n",
    "    model = keras.Sequential()\n",
    "    model.add(keras.layers.Flatten(input_shape = (28*28,)))\n",
    "    model.add(keras.layers.Dense(100,activation='relu'))\n",
    "    if layer:\n",
    "        model.add(layer)\n",
    "    model.add(keras.layers.Dense(10,activation = 'softmax'))\n",
    "    return model"
   ]
  },
  {
   "cell_type": "code",
   "execution_count": 70,
   "id": "5c10854a",
   "metadata": {},
   "outputs": [
    {
     "name": "stdout",
     "output_type": "stream",
     "text": [
      "Model: \"sequential_2\"\n",
      "_________________________________________________________________\n",
      " Layer (type)                Output Shape              Param #   \n",
      "=================================================================\n",
      " flatten_2 (Flatten)         (None, 784)               0         \n",
      "                                                                 \n",
      " dense_2 (Dense)             (None, 100)               78500     \n",
      "                                                                 \n",
      " dense_3 (Dense)             (None, 10)                1010      \n",
      "                                                                 \n",
      "=================================================================\n",
      "Total params: 79,510\n",
      "Trainable params: 79,510\n",
      "Non-trainable params: 0\n",
      "_________________________________________________________________\n"
     ]
    }
   ],
   "source": [
    "model = make_model()\n",
    "model.summary()"
   ]
  },
  {
   "cell_type": "code",
   "execution_count": 71,
   "id": "c7510e7d",
   "metadata": {},
   "outputs": [],
   "source": [
    "model.compile(optimizer=\"adam\", loss = 'sparse_categorical_crossentropy', metrics=['accuracy'])"
   ]
  },
  {
   "cell_type": "code",
   "execution_count": 72,
   "id": "60a1ebcb",
   "metadata": {},
   "outputs": [],
   "source": [
    "history =  model.fit(x_train,y_train, epochs=5,verbose=0)"
   ]
  },
  {
   "cell_type": "code",
   "execution_count": 73,
   "id": "bca345be",
   "metadata": {},
   "outputs": [
    {
     "data": {
      "text/plain": [
       "{'loss': [0.4679825007915497,\n",
       "  0.34416812658309937,\n",
       "  0.3058739900588989,\n",
       "  0.27613168954849243,\n",
       "  0.25774821639060974],\n",
       " 'accuracy': [0.8367111086845398,\n",
       "  0.8754000067710876,\n",
       "  0.8878666758537292,\n",
       "  0.8978888988494873,\n",
       "  0.9052222371101379]}"
      ]
     },
     "execution_count": 73,
     "metadata": {},
     "output_type": "execute_result"
    }
   ],
   "source": [
    "history.history"
   ]
  },
  {
   "cell_type": "code",
   "execution_count": 74,
   "id": "3f4f631d",
   "metadata": {},
   "outputs": [
    {
     "data": {
      "text/plain": [
       "dict_keys(['loss', 'accuracy'])"
      ]
     },
     "execution_count": 74,
     "metadata": {},
     "output_type": "execute_result"
    }
   ],
   "source": [
    "history.history.keys()"
   ]
  },
  {
   "cell_type": "code",
   "execution_count": 76,
   "id": "4a649708",
   "metadata": {},
   "outputs": [
    {
     "data": {
      "image/png": "[encoded data removed]",
      "text/plain": [
       "<Figure size 432x288 with 1 Axes>"
      ]
     },
     "metadata": {
      "needs_background": "light"
     },
     "output_type": "display_data"
    }
   ],
   "source": [
    "import matplotlib.pyplot as plt\n",
    "list_temp = history.history['loss']\n",
    "plt.plot(list_temp)\n",
    "plt.xlabel('epoch')\n",
    "plt.ylabel('loss')\n",
    "plt.show()"
   ]
  },
  {
   "cell_type": "code",
   "execution_count": 77,
   "id": "dbda6974",
   "metadata": {},
   "outputs": [
    {
     "data": {
      "image/png": "[encoded data removed]",
      "text/plain": [
       "<Figure size 432x288 with 1 Axes>"
      ]
     },
     "metadata": {
      "needs_background": "light"
     },
     "output_type": "display_data"
    }
   ],
   "source": [
    "# 정확도\n",
    "list_temp = history.history['accuracy']\n",
    "plt.plot(list_temp)\n",
    "plt.xlabel('epoch')\n",
    "plt.ylabel('accuracy')\n",
    "plt.show()"
   ]
  },
  {
   "cell_type": "code",
   "execution_count": 78,
   "id": "4bc188e8",
   "metadata": {},
   "outputs": [],
   "source": [
    "# epoch 늘리면?  25\n",
    "model = make_model()\n",
    "model.compile(optimizer=\"adam\", loss = 'sparse_categorical_crossentropy', metrics=['accuracy'])\n",
    "history =  model.fit(x_train,y_train, epochs=25,verbose=0)"
   ]
  },
  {
   "cell_type": "code",
   "execution_count": 82,
   "id": "f40bc351",
   "metadata": {},
   "outputs": [
    {
     "data": {
      "image/png": "[encoded data removed]",
      "text/plain": [
       "<Figure size 432x288 with 1 Axes>"
      ]
     },
     "metadata": {
      "needs_background": "light"
     },
     "output_type": "display_data"
    }
   ],
   "source": [
    "list_temp = history.history['accuracy']\n",
    "plt.plot(list_temp)\n",
    "plt.xlabel('epoch')\n",
    "plt.ylabel('loss')\n",
    "plt.show()"
   ]
  },
  {
   "cell_type": "code",
   "execution_count": 83,
   "id": "4413997d",
   "metadata": {},
   "outputs": [],
   "source": [
    "# 위에서는 학습데이터를 기반으로한 손실율과 정확성을 봤는데... 과적합을 보기위해서는\n",
    "# target에 대한 검증 데이터도 필요\n",
    "model = make_model()\n",
    "model.compile(optimizer=\"adam\", loss = 'sparse_categorical_crossentropy', metrics=['accuracy'])\n",
    "history =  model.fit(x_train,y_train, epochs=25,verbose=0, validation_data=(x_target,y_target))"
   ]
  },
  {
   "cell_type": "code",
   "execution_count": 84,
   "id": "94089cb1",
   "metadata": {},
   "outputs": [
    {
     "data": {
      "text/plain": [
       "dict_keys(['loss', 'accuracy', 'val_loss', 'val_accuracy'])"
      ]
     },
     "execution_count": 84,
     "metadata": {},
     "output_type": "execute_result"
    }
   ],
   "source": [
    "history.history.keys()"
   ]
  },
  {
   "cell_type": "code",
   "execution_count": 85,
   "id": "f4447501",
   "metadata": {
    "scrolled": true
   },
   "outputs": [
    {
     "data": {
      "image/png": "[encoded data removed]",
      "text/plain": [
       "<Figure size 432x288 with 1 Axes>"
      ]
     },
     "metadata": {
      "needs_background": "light"
     },
     "output_type": "display_data"
    }
   ],
   "source": [
    "train_loss = history.history['loss']\n",
    "target_loss = history.history['val_loss']\n",
    "plt.plot(train_loss)\n",
    "plt.plot(target_loss)\n",
    "plt.xlabel('epoch')\n",
    "plt.ylabel('loss')\n",
    "plt.legend(['train','target'])\n",
    "plt.show()"
   ]
  },
  {
   "cell_type": "code",
   "execution_count": 90,
   "id": "7d89c4db",
   "metadata": {},
   "outputs": [
    {
     "name": "stdout",
     "output_type": "stream",
     "text": [
      "Model: \"sequential_6\"\n",
      "_________________________________________________________________\n",
      " Layer (type)                Output Shape              Param #   \n",
      "=================================================================\n",
      " flatten_6 (Flatten)         (None, 784)               0         \n",
      "                                                                 \n",
      " dense_10 (Dense)            (None, 100)               78500     \n",
      "                                                                 \n",
      " dropout_1 (Dropout)         (None, 100)               0         \n",
      "                                                                 \n",
      " dense_11 (Dense)            (None, 10)                1010      \n",
      "                                                                 \n",
      "=================================================================\n",
      "Total params: 79,510\n",
      "Trainable params: 79,510\n",
      "Non-trainable params: 0\n",
      "_________________________________________________________________\n",
      "None\n",
      "Epoch 1/25\n",
      "1407/1407 [==============================] - 3s 2ms/step - loss: 0.5455 - accuracy: 0.8102 - val_loss: 0.3918 - val_accuracy: 0.8584\n",
      "Epoch 2/25\n",
      "1407/1407 [==============================] - 2s 2ms/step - loss: 0.4103 - accuracy: 0.8520 - val_loss: 0.3587 - val_accuracy: 0.8709\n",
      "Epoch 3/25\n",
      "1407/1407 [==============================] - 2s 2ms/step - loss: 0.3790 - accuracy: 0.8632 - val_loss: 0.3607 - val_accuracy: 0.8696\n",
      "Epoch 4/25\n",
      "1407/1407 [==============================] - 2s 1ms/step - loss: 0.3564 - accuracy: 0.8703 - val_loss: 0.3411 - val_accuracy: 0.8774\n",
      "Epoch 5/25\n",
      "1407/1407 [==============================] - 2s 1ms/step - loss: 0.3383 - accuracy: 0.8765 - val_loss: 0.3286 - val_accuracy: 0.8822\n",
      "Epoch 6/25\n",
      "1407/1407 [==============================] - 2s 1ms/step - loss: 0.3263 - accuracy: 0.8790 - val_loss: 0.3295 - val_accuracy: 0.8852\n",
      "Epoch 7/25\n",
      "1407/1407 [==============================] - 2s 2ms/step - loss: 0.3162 - accuracy: 0.8847 - val_loss: 0.3367 - val_accuracy: 0.8820\n",
      "Epoch 8/25\n",
      "1407/1407 [==============================] - 2s 1ms/step - loss: 0.3088 - accuracy: 0.8872 - val_loss: 0.3263 - val_accuracy: 0.8849\n",
      "Epoch 9/25\n",
      "1407/1407 [==============================] - 2s 1ms/step - loss: 0.2957 - accuracy: 0.8896 - val_loss: 0.3571 - val_accuracy: 0.8764\n",
      "Epoch 10/25\n",
      "1407/1407 [==============================] - 2s 1ms/step - loss: 0.2889 - accuracy: 0.8940 - val_loss: 0.3370 - val_accuracy: 0.8874\n",
      "Epoch 11/25\n",
      "1407/1407 [==============================] - 2s 1ms/step - loss: 0.2812 - accuracy: 0.8963 - val_loss: 0.3432 - val_accuracy: 0.8881\n",
      "Epoch 12/25\n",
      "1407/1407 [==============================] - 2s 1ms/step - loss: 0.2767 - accuracy: 0.8983 - val_loss: 0.3407 - val_accuracy: 0.8883\n",
      "Epoch 13/25\n",
      "1407/1407 [==============================] - 2s 1ms/step - loss: 0.2726 - accuracy: 0.8998 - val_loss: 0.3497 - val_accuracy: 0.8891\n",
      "Epoch 14/25\n",
      "1407/1407 [==============================] - 2s 1ms/step - loss: 0.2673 - accuracy: 0.9026 - val_loss: 0.3524 - val_accuracy: 0.8858\n",
      "Epoch 15/25\n",
      "1407/1407 [==============================] - 2s 1ms/step - loss: 0.2614 - accuracy: 0.9025 - val_loss: 0.3444 - val_accuracy: 0.8859\n",
      "Epoch 16/25\n",
      "1407/1407 [==============================] - 2s 1ms/step - loss: 0.2560 - accuracy: 0.9054 - val_loss: 0.3447 - val_accuracy: 0.8871\n",
      "Epoch 17/25\n",
      "1407/1407 [==============================] - 2s 1ms/step - loss: 0.2510 - accuracy: 0.9082 - val_loss: 0.3464 - val_accuracy: 0.8889\n",
      "Epoch 18/25\n",
      "1407/1407 [==============================] - 2s 1ms/step - loss: 0.2486 - accuracy: 0.9076 - val_loss: 0.3570 - val_accuracy: 0.8890\n",
      "Epoch 19/25\n",
      "1407/1407 [==============================] - 2s 1ms/step - loss: 0.2410 - accuracy: 0.9104 - val_loss: 0.3560 - val_accuracy: 0.8873\n",
      "Epoch 20/25\n",
      "1407/1407 [==============================] - 2s 1ms/step - loss: 0.2424 - accuracy: 0.9101 - val_loss: 0.3676 - val_accuracy: 0.8864\n",
      "Epoch 21/25\n",
      "1407/1407 [==============================] - 2s 1ms/step - loss: 0.2324 - accuracy: 0.9141 - val_loss: 0.3716 - val_accuracy: 0.8869\n",
      "Epoch 22/25\n",
      "1407/1407 [==============================] - 2s 1ms/step - loss: 0.2348 - accuracy: 0.9133 - val_loss: 0.3733 - val_accuracy: 0.8897\n",
      "Epoch 23/25\n",
      "1407/1407 [==============================] - 2s 2ms/step - loss: 0.2302 - accuracy: 0.9138 - val_loss: 0.3896 - val_accuracy: 0.8853\n",
      "Epoch 24/25\n",
      "1407/1407 [==============================] - 2s 2ms/step - loss: 0.2257 - accuracy: 0.9171 - val_loss: 0.3799 - val_accuracy: 0.8893\n",
      "Epoch 25/25\n",
      "1407/1407 [==============================] - 2s 2ms/step - loss: 0.2216 - accuracy: 0.9172 - val_loss: 0.3853 - val_accuracy: 0.8864\n"
     ]
    }
   ],
   "source": [
    "# 인공신경망에서 사용하는 규제 알고리즘..... 드랍아웃....\n",
    "# Drop - out\n",
    "# 일부 출력의 뉴런의 결과를 0으로만든다.... 특정뉴런에 과하게 의존하는걸 막는걸 발견\n",
    "model = make_model(keras.layers.Dropout(0.3))\n",
    "print(model.summary())\n",
    "# 일부 뉴런의 층을 0으로 만들지만 전체 구조는 변경하지 않는다\n",
    "model.compile(optimizer=\"adam\", loss = 'sparse_categorical_crossentropy', metrics=['accuracy'])\n",
    "history =  model.fit(x_train,y_train, epochs=25,verbose=1, validation_data=(x_target,y_target))"
   ]
  },
  {
   "cell_type": "code",
   "execution_count": 91,
   "id": "93680f05",
   "metadata": {},
   "outputs": [
    {
     "data": {
      "image/png": "[encoded data removed]",
      "text/plain": [
       "<Figure size 432x288 with 1 Axes>"
      ]
     },
     "metadata": {
      "needs_background": "light"
     },
     "output_type": "display_data"
    }
   ],
   "source": [
    "train_loss = history.history['loss']\n",
    "target_loss = history.history['val_loss']\n",
    "plt.plot(train_loss)\n",
    "plt.plot(target_loss)\n",
    "plt.xlabel('epoch')\n",
    "plt.ylabel('loss')\n",
    "plt.legend(['train','target'])\n",
    "plt.show()"
   ]
  },
  {
   "cell_type": "code",
   "execution_count": 101,
   "id": "4aae5f8b",
   "metadata": {},
   "outputs": [
    {
     "name": "stdout",
     "output_type": "stream",
     "text": [
      "469/469 [==============================] - 0s 836us/step - loss: 0.3457 - accuracy: 0.8737\n"
     ]
    },
    {
     "data": {
      "text/plain": [
       "[0.3456703722476959, 0.8737333416938782]"
      ]
     },
     "execution_count": 101,
     "metadata": {},
     "output_type": "execute_result"
    }
   ],
   "source": [
    "model = make_model(keras.layers.Dropout(0.3))\n",
    "model.compile(optimizer=\"adam\", loss = 'sparse_categorical_crossentropy', metrics=['accuracy'])\n",
    "model.fit(x_train,y_train, epochs=7,verbose=0, validation_data=(x_target,y_target))\n",
    "model.evaluate(x_target,y_target)"
   ]
  },
  {
   "cell_type": "code",
   "execution_count": 102,
   "id": "905dda33",
   "metadata": {},
   "outputs": [],
   "source": [
    "model.save_weights('model-weight.h5')  # 모델의 파라메터를 저장..... 하이퍼 파라메터"
   ]
  },
  {
   "cell_type": "code",
   "execution_count": 103,
   "id": "ee90c522",
   "metadata": {},
   "outputs": [],
   "source": [
    "model.save('model-whoile.h5') #모델 구조와 파라메터를 같이 저장"
   ]
  },
  {
   "cell_type": "code",
   "execution_count": 95,
   "id": "b33c35f6",
   "metadata": {},
   "outputs": [],
   "source": [
    "# 모델객체를 만든다  Sequencial \n",
    "# 레이어 구성을 한다 model.add(keras.layer.Dense) or Dropout\n",
    "# 모델을 compile \n",
    "# 모델을 적용(훈련세트) or 검증세트   model.fit"
   ]
  },
  {
   "cell_type": "code",
   "execution_count": 104,
   "id": "2d624a0f",
   "metadata": {},
   "outputs": [],
   "source": [
    "# 주의점.... 모델을 만들때 저장된 파라메터를 불러올수 있는데.... 이때 이전에 저장했던 모델과 정확히 같아야한다.\n",
    "# 저장된 파라메터를 불러오기\n",
    "model =  make_model(keras.layers.Dropout(0.3))\n",
    "model.load_weights('model-weight.h5')\n",
    "# 파라메터 적용해서 모델 구성"
   ]
  },
  {
   "cell_type": "code",
   "execution_count": 106,
   "id": "039415b6",
   "metadata": {},
   "outputs": [
    {
     "name": "stdout",
     "output_type": "stream",
     "text": [
      "469/469 [==============================] - 0s 841us/step - loss: 0.3457 - accuracy: 0.8737\n"
     ]
    },
    {
     "data": {
      "text/plain": [
       "[0.3456703722476959, 0.8737333416938782]"
      ]
     },
     "execution_count": 106,
     "metadata": {},
     "output_type": "execute_result"
    }
   ],
   "source": [
    "# 저장된 모델을 불러오기\n",
    "model2 = keras.models.load_model('model-whoile.h5')\n",
    "model2.evaluate(x_target,y_target)"
   ]
  },
  {
   "cell_type": "code",
   "execution_count": null,
   "id": "1ee960fc",
   "metadata": {},
   "outputs": [],
   "source": [
    "# 콜백 , 조기종료\n",
    "# fit() 메서드의 callbacks 매개변수에 리스트로 전달\n",
    "# ModelcheckPoint 콜백.... 지정된 에포크 횟수동안 최상의 검증 점수를 만드는 모델을 저장"
   ]
  }
 ],
 "metadata": {
  "kernelspec": {
   "display_name": "Python 3 (ipykernel)",
   "language": "python",
   "name": "python3"
  },
  "language_info": {
   "codemirror_mode": {
    "name": "ipython",
    "version": 3
   },
   "file_extension": ".py",
   "mimetype": "text/x-python",
   "name": "python",
   "nbconvert_exporter": "python",
   "pygments_lexer": "ipython3",
   "version": "3.9.7"
  }
 },
 "nbformat": 4,
 "nbformat_minor": 5
}
