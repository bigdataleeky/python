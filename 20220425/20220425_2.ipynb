{
  "nbformat": 4,
  "nbformat_minor": 0,
  "metadata": {
    "colab": {
      "name": "20220425_2.ipynb",
      "provenance": [],
      "collapsed_sections": []
    },
    "kernelspec": {
      "name": "python3",
      "display_name": "Python 3"
    },
    "language_info": {
      "name": "python"
    }
  },
  "cells": [
    {
      "cell_type": "code",
      "execution_count": 1,
      "metadata": {
        "id": "rdXFAWfypeiS"
      },
      "outputs": [],
      "source": [
        "# 성능평가 중요성\n",
        "# 1. 하이퍼 매개변수 최적화나 모델 선택에 중요\n",
        "# 현장 설치여부를 판단 -- 납품\n",
        "\n",
        "#객관적인 평가 방법\n",
        "# 2. 교차검증 : 데이터를 분할해서 여러번 반복해서 통계적으로 신뢰성을 높이\n",
        "\n",
        "#3 .제거조사 ablation study\n",
        "# 여러 선택사항이 있을때 선택사항을 하나씩 빼고 성능을 측정해서 최적의 기여도를 평가\n",
        "\n",
        "# 위의 3가지 옵션에 대한 검증결과를 시각화하고 수치로 보임으로써 신뢰성을 높임"
      ]
    },
    {
      "cell_type": "code",
      "source": [
        "import numpy as np\n",
        "import tensorflow as tf\n",
        "from tensorflow.keras.datasets import cifar10\n",
        "from tensorflow.keras.models import Sequential\n",
        "from tensorflow.keras.layers import Conv2D,MaxPool2D,Flatten,Dense,Dropout\n",
        "from tensorflow.keras.optimizers import Adam\n",
        "from tensorflow.keras.preprocessing.image import ImageDataGenerator\n",
        "from sklearn.model_selection import KFold\n",
        "from tensorflow.keras import regularizers"
      ],
      "metadata": {
        "id": "2xbtgZl6p7kG"
      },
      "execution_count": 2,
      "outputs": []
    },
    {
      "cell_type": "code",
      "source": [
        "# 데이터 준비\n",
        "(x_train,y_train),(x_target,y_target) = cifar10.load_data()\n",
        "x_train = x_train / 255.0 ; x_target = x_target / 255.0\n",
        "y_train = tf.keras.utils.to_categorical(y_train,10)\n",
        "y_target = tf.keras.utils.to_categorical(y_target,10)"
      ],
      "metadata": {
        "colab": {
          "base_uri": "https://localhost:8080/"
        },
        "id": "KkOtAu8kqI7C",
        "outputId": "6c577757-9c3c-4d5d-ed78-e377c751f105"
      },
      "execution_count": 3,
      "outputs": [
        {
          "output_type": "stream",
          "name": "stdout",
          "text": [
            "Downloading data from https://www.cs.toronto.edu/~kriz/cifar-10-python.tar.gz\n",
            "170500096/170498071 [==============================] - 4s 0us/step\n",
            "170508288/170498071 [==============================] - 4s 0us/step\n"
          ]
        }
      ]
    },
    {
      "cell_type": "code",
      "source": [
        "batch_size = 128\n",
        "n_epoch = 10\n",
        "k = 5"
      ],
      "metadata": {
        "id": "ZBgGp4qhqNFr"
      },
      "execution_count": 7,
      "outputs": []
    },
    {
      "cell_type": "code",
      "source": [
        "from tensorflow.keras.losses import categorical_crossentropy\n",
        "def cross_validation(data_gen,dropout_rate,l2_reg):\n",
        "  accuracy = []\n",
        "  for train_index, val_index in  KFold(k).split(x_train):\n",
        "    xtrain, xval = x_train[train_index], x_train[val_index]  # 학습용 데이터, 검증용 데이터\n",
        "    ytrain, yval = y_train[train_index], y_train[val_index]  # 학습용의 정답, 검증용의 정답\n",
        "\n",
        "    # 신경망 설계  C-C-P-D C-C-P-D-FC-D-FC   \n",
        "    # 32 (3,3)  64(3,3)            512  10\n",
        "    # relu                              softmax \n",
        "    # dropout은 dropout_rate[0]  dropout_rate[1]  dropout_rate[2]\n",
        "    cnn=Sequential()  # 신경망 객체생성\n",
        "    cnn.add( Conv2D(32,(3,3), activation='relu',input_shape = (32,32,3) )  )\n",
        "    cnn.add( Conv2D(32,(3,3), activation='relu' )  )\n",
        "    cnn.add(MaxPool2D(pool_size=(2,2)))\n",
        "    cnn.add(Dropout(dropout_rate[0]))\n",
        "\n",
        "    cnn.add( Conv2D(64,(3,3), activation='relu' )  )\n",
        "    cnn.add( Conv2D(64,(3,3), activation='relu' )  )\n",
        "    cnn.add(MaxPool2D(pool_size=(2,2)))\n",
        "    cnn.add(Dropout(dropout_rate[1]))\n",
        "\n",
        "    cnn.add(Flatten())                      # 신경망의 입력층\n",
        "    cnn.add(Dense(512,activation='relu'))   # 신경망의 은닉층\n",
        "    cnn.add(Dropout(dropout_rate[2]))       # 드랍아웃\n",
        "    cnn.add(Dense(10,activation='softmax'),kernel_regularizer = regularizers.l2(l2_reg) )   # 신경망의 출력층 # 가중치감소\n",
        "\n",
        "    # 신경망 모델 학습하고 평가\n",
        "    cnn.compile(loss = categorical_crossentropy, optimizer = Adam(), metrics=['accuracy'])\n",
        "    if data_gen:\n",
        "      generator = ImageDataGenerator(rotation_range=3.0, width_shift_range=0.1,height_shift_range=0.1,horizontal_flip=True )\n",
        "      cnn.fit_generator(generator.flow(xtrain,ytrain,batch_size=batch_size), \n",
        "                        epochs=n_epoch,validation_data=( xval,yval ),verbose=1 )\n",
        "    else:\n",
        "      cnn.fit(xtrain,ytrain,batch_size=batch_size, \n",
        "                        epochs=n_epoch,validation_data=( xval,yval ),verbose=1)   \n",
        "    accuracy.append(cnn.evaluate(xval,yval))\n",
        "  return accuracy"
      ],
      "metadata": {
        "id": "slcPANbCqRgT"
      },
      "execution_count": 6,
      "outputs": []
    },
    {
      "cell_type": "code",
      "source": [
        "# 하이퍼 매개변수 를 달리해서 신경망을 평가\n",
        "c_001 = cross_validation(False, [0,0,0],0.0)\n",
        "c_002 = cross_validation(True, [0,0,0],0.0)\n",
        "\n",
        "c_003 = cross_validation(False, [0,0,0],0.1)\n",
        "c_004 = cross_validation(True, [0,0,0],0.1)\n",
        "\n",
        "c_005 = cross_validation(False, [0.25,0.25,0.5],0.0)\n",
        "c_006 = cross_validation(True, [0.25,0.25,0.5],0.0)\n",
        "\n",
        "c_007 = cross_validation(False, [0.25,0.25,0.5],0.01)\n",
        "c_008 = cross_validation(True, [0.25,0.25,0.5],0.01)"
      ],
      "metadata": {
        "id": "baEU5q-dtads"
      },
      "execution_count": null,
      "outputs": []
    },
    {
      "cell_type": "code",
      "source": [
        "print(f\"[000](, {cvf0} / {np.array(cvf0).mena()}\")\n",
        "\n"
      ],
      "metadata": {
        "id": "3nMmsMtguIsT"
      },
      "execution_count": null,
      "outputs": []
    },
    {
      "cell_type": "code",
      "source": [
        "# 박스 플롯으로 표시\n",
        "#cvf0 아마도 2차원 배열...\n",
        "rc_001, rc_002, rc_003, rc_004 = np.array(c_001).reshape(-1),np.array(c_002).reshape(-1),np.array(c_003).reshape(-1),np.array(c_004).reshape(-1)\n",
        "\n",
        "rc_005, rc_006, rc_007, rc_008 = np.array(c_005).reshape(-1),np.array(c_006).reshape(-1),np.array(c_007).reshape(-1),np.array(c_008).reshape(-1)"
      ],
      "metadata": {
        "id": "KkQb3VZ8vHHz"
      },
      "execution_count": null,
      "outputs": []
    },
    {
      "cell_type": "code",
      "source": [
        "# 박스플롯\n"
      ],
      "metadata": {
        "id": "MQpYfYmow1UU"
      },
      "execution_count": null,
      "outputs": []
    }
  ]
}