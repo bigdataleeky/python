{
 "cells": [
  {
   "cell_type": "code",
   "execution_count": 1,
   "id": "33d0e85c",
   "metadata": {},
   "outputs": [],
   "source": [
    "# 타깃 마케팅...\n",
    "# 온라인 판매 데이터를 분석 타깃 마케팅이 필요한 소비자 군집을 구성\n",
    "# 비지도학습, 군집화, k-평균, 엘보우 방법, 실루엣 방법\n",
    "# UCI Machin Learning Repository 에서 다운로드"
   ]
  },
  {
   "cell_type": "code",
   "execution_count": 2,
   "id": "5d127859",
   "metadata": {},
   "outputs": [],
   "source": [
    "# 비지도학습\n",
    "# - 타깃이 주어지지 않은상태에서 학습\n",
    "# - 훈련데이터를 학습->모델생성->유사한 특성(관계, 패턴)을 가지는 데이터로 클러스터를 구성\n",
    "# - 새로운 데이터의 특성을 분석하여 해당 클러스터를 예측"
   ]
  },
  {
   "cell_type": "code",
   "execution_count": 3,
   "id": "f4366a18",
   "metadata": {},
   "outputs": [],
   "source": [
    "# k-평균\n",
    "# 유클리디안 거리 알고리즘을 이용  평균거리가 작은쪽으로 계속 중심점을 이동"
   ]
  },
  {
   "cell_type": "code",
   "execution_count": 4,
   "id": "5bd93e8f",
   "metadata": {},
   "outputs": [],
   "source": [
    "# 엘보방법\n",
    "#  - 왜곡 : 클러스터의 중심점과 클러스터내의 데이터 거리 차이의 제곱값의 합\n",
    "#  - 클러스터의 개수 k의 변화에 따른 왜곡의 변화를 그래프로 그려보면 그래프가 꺽이는 지점이\n",
    "#     엘보.... 그 곳을 최적의 k로 선택"
   ]
  },
  {
   "cell_type": "code",
   "execution_count": 5,
   "id": "e5741ffa",
   "metadata": {},
   "outputs": [],
   "source": [
    "# 실루엣 분석\n",
    "#  - 클러스터내의 데이터가 얼마나 조밀하게 모여있는지 측정하는 그래프 도구\n",
    "#  - 데이터 i가 해당 클러스터내의 데이터와 얼마나 가까운가를 나타내는 응집력 a(i)\n",
    "#  - 가장 가까운 다른 클러스터내의 데이터와 얼마나 떨어져 있는가를\n",
    "#    나타내는 클러스터 분리도b(i)를 이용\n",
    "#  - 실루엣  계수 s(i)를 계산\n",
    "#  -  -1에서 1상이의 값을 가지며 1에 가까울수록 좋은 군집화\n",
    "#  - s(i) =  ( b(i) - a(i) ) / max(a(i),b(i))"
   ]
  },
  {
   "cell_type": "code",
   "execution_count": null,
   "id": "c64cdf36",
   "metadata": {},
   "outputs": [],
   "source": []
  }
 ],
 "metadata": {
  "kernelspec": {
   "display_name": "Python 3 (ipykernel)",
   "language": "python",
   "name": "python3"
  },
  "language_info": {
   "codemirror_mode": {
    "name": "ipython",
    "version": 3
   },
   "file_extension": ".py",
   "mimetype": "text/x-python",
   "name": "python",
   "nbconvert_exporter": "python",
   "pygments_lexer": "ipython3",
   "version": "3.9.7"
  }
 },
 "nbformat": 4,
 "nbformat_minor": 5
}
