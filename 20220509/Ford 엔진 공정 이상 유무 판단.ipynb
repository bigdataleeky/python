{
 "cells": [
  {
   "cell_type": "code",
   "execution_count": 1,
   "id": "2d686fe1",
   "metadata": {},
   "outputs": [],
   "source": [
    "# Ford 사에서 실제로 자동차 생산할때 엔진을 제작.... 이때 발생하는 진동수를 이용해서 문제점을 찾아 개선... 머신러닝\n",
    "# 엔진의(정상/ 비정상)상태와 연관이 있을 수 있는 주변의 500개의 센서들로 측정\n",
    "\n",
    "#목표 : 여러개의 계측센서가 시간순서대로 측정한 값으로 이루어진 시계열 데이터를 가지고 설비이 정상/비정상을 판단하는 분류 문제\n",
    "\n",
    "#전략 : 도메인 지식(데이터에 대한 지식.)에 기반한 변수 선택 및 추출과정(Feature Selection / Engineering)없이 딥러닝 모델을 활용하여\n",
    "       # 모델이 직접 모니터링 센서 간의 관계성이나 로컬한 특징과 같은 데이터에 내재된 특징을 직접추출하고 이를 통해 분류할수 있는 \n",
    "       # 분석 프레임워크를 구축한다.\n",
    "        \n",
    "# 데이터 수집 방법 : Ford Classification Challenge에 제공한 오픈데이터\n",
    "\n",
    "# 데이터셋 구조 :  총 4,921개의 시계열 구조, 학습용(Training) 3,601개 , 테스트용(Test)1,320개로 구성\n",
    "\n",
    "# 독립변수/종속변수 정의  (표로 구성)\n",
    "#  독립변수 : sensor 1~500번\n",
    "# 종속변수 : 정상/비정상 class(총 1개)\n",
    "\n",
    "# 데이터셋 선정이유 :\n",
    "# 분석모델 소개\n",
    "  # 지도학습(Supervised Leaning)기반의 알고리즘\n",
    "  # 지도학습 기반으로 한 분류 알고리즘을 이용하여 문제를 해결하고자한다.\n",
    "  # 분류를 이용하여 문제를 해결하고자 하는 경우, 입력에 대해 정상(1)일 확율과 비정상(-1)일 확율을 계산하여 확율이 높은 class로\n",
    "  # 예측하는 과정이다.\n",
    "  # 지도학습은 분류와 회귀가 대표적인데.. 분류와 회귀의 차이점은 다음과 같다.\n",
    "   # ------ --- --\n",
    "  # 지도학습   표나 그림으로 대체\n",
    "    # 분류  회귀    \n",
    "    # Linear Model, Ensemble, Neural Network\n",
    "    # 각각에 대해 설명"
   ]
  },
  {
   "cell_type": "code",
   "execution_count": 2,
   "id": "28b50243",
   "metadata": {},
   "outputs": [],
   "source": [
    "save_file = './save/'  #저장 경로\n",
    "file_path = './Data/'  #데이터 경로\n",
    "train_fn = 'FordA_TRAIN.arff'  # train data\n",
    "test_fn = 'FordA_TEST.arff'    # target data"
   ]
  },
  {
   "cell_type": "code",
   "execution_count": 6,
   "id": "3f32c38f",
   "metadata": {},
   "outputs": [],
   "source": [
    "# 라이브러리 로드\n",
    "import itertools\n",
    "from time import time\n",
    "import numpy as np\n",
    "import pandas as pd\n",
    "import matplotlib.pyplot as plt\n",
    "from scipy.io.arff import loadarff\n",
    "from sklearn.preprocessing import StandardScaler, RobustScaler\n",
    "import tensorflow as tf\n",
    "import os"
   ]
  },
  {
   "cell_type": "code",
   "execution_count": 33,
   "id": "e62723b0",
   "metadata": {},
   "outputs": [],
   "source": [
    "# ariff 확장자를 가진 데이터를 load 하는 함수\n",
    "def read_ariff(path):\n",
    "    row_data,meta =  loadarff(path)\n",
    "    cols = [x for x in meta]\n",
    "    data2d = np.zeros([row_data.shape[0],len(cols)])\n",
    "    for i, col in zip(range(len(cols)),cols):\n",
    "        data2d[:,i] = row_data[col]\n",
    "    return data2d"
   ]
  },
  {
   "cell_type": "code",
   "execution_count": 34,
   "id": "ed289298",
   "metadata": {},
   "outputs": [
    {
     "name": "stdout",
     "output_type": "stream",
     "text": [
      "train data sets shape : (3601, 501)\n",
      "target data sets shape : (1320, 501)\n"
     ]
    }
   ],
   "source": [
    "train = read_ariff(file_path+train_fn)\n",
    "target = read_ariff(file_path+test_fn)\n",
    "print(f\"train data sets shape : {train.shape}\")\n",
    "print(f\"target data sets shape : {target.shape}\")"
   ]
  },
  {
   "cell_type": "code",
   "execution_count": 44,
   "id": "5d1d9725",
   "metadata": {},
   "outputs": [
    {
     "data": {
      "text/plain": [
       "((3601, 500), (3601,), (1320, 500), (1320,))"
      ]
     },
     "execution_count": 44,
     "metadata": {},
     "output_type": "execute_result"
    }
   ],
   "source": [
    "x_train =  train[:,:-1]\n",
    "y_train = train[:,-1]\n",
    "x_target = target[:,:-1]\n",
    "y_target = target[:,-1]\n",
    "x_train.shape, y_train.shape, x_target.shape, y_target.shape"
   ]
  },
  {
   "cell_type": "code",
   "execution_count": 52,
   "id": "b6eb303b",
   "metadata": {},
   "outputs": [
    {
     "data": {
      "text/plain": [
       "((1755, 500), (1846, 500), (1755,), (1846,))"
      ]
     },
     "execution_count": 52,
     "metadata": {},
     "output_type": "execute_result"
    }
   ],
   "source": [
    "# 정상데이터와 비정상데이터 구분( 1 / -1)\n",
    "normal_x = x_train[y_train == 1]  # x_train의 정상 데이터\n",
    "abnormal_x = x_train[y_train == -1]  # x_train의 정상 데이터\n",
    "\n",
    "normal_y = y_train[y_train == 1]  # y_train의 정상 데이터\n",
    "abnormal_y = y_train[y_train == -1]  # y_train의 정상 데이터\n",
    "\n",
    "normal_x.shape, abnormal_x.shape, normal_y.shape, abnormal_y.shape"
   ]
  },
  {
   "cell_type": "code",
   "execution_count": 51,
   "id": "2de4b862",
   "metadata": {},
   "outputs": [],
   "source": [
    "# x_train 을 8:2로 분리\n",
    "# y_train  을 8:2로 분리\n",
    "ind_x_normal =  int(normal_x.shape[0]*0.8)\n",
    "ind_y_normal =  int(normal_y.shape[0]*0.8)\n",
    "ind_x_abnormal =  int(abnormal_x.shape[0]*0.8)\n",
    "ind_y_abnormal =  int(abnormal_y.shape[0]*0.8)"
   ]
  },
  {
   "cell_type": "code",
   "execution_count": 58,
   "id": "9ef9d39d",
   "metadata": {},
   "outputs": [],
   "source": [
    "x_train = np.concatenate( (normal_x[:ind_x_normal],abnormal_x[:ind_x_abnormal]), axis = 0)  # 세로로 합친다\n",
    "x_valid = np.concatenate( (normal_x[ind_x_normal:],abnormal_x[ind_x_abnormal:]), axis = 0)  # 세로로 합친다\n",
    "y_train = np.concatenate( (normal_y[:ind_y_normal],abnormal_y[:ind_y_abnormal]), axis = 0)  # 세로로 합친다\n",
    "y_valid = np.concatenate( (normal_y[ind_y_normal:],abnormal_y[ind_y_abnormal:]), axis = 0)  # 세로로 합친다"
   ]
  },
  {
   "cell_type": "code",
   "execution_count": 60,
   "id": "bdef71bb",
   "metadata": {},
   "outputs": [
    {
     "name": "stdout",
     "output_type": "stream",
     "text": [
      "x_train shape : (2880, 500)\n",
      "x_valid shape : (721, 500)\n",
      "y_train shape : (2880,)\n",
      "y_valid shape : (721,)\n",
      "x_target shape : (1320, 500)\n",
      "y_target shape : (1320,)\n"
     ]
    }
   ],
   "source": [
    "print(f\"x_train shape : {x_train.shape}\")\n",
    "print(f\"x_valid shape : {x_valid.shape}\")\n",
    "print(f\"y_train shape : {y_train.shape}\")\n",
    "print(f\"y_valid shape : {y_valid.shape}\")\n",
    "print(f\"x_target shape : {x_target.shape}\")\n",
    "print(f\"y_target shape : {y_target.shape}\")"
   ]
  },
  {
   "cell_type": "markdown",
   "id": "4d21bfbe",
   "metadata": {},
   "source": [
    "# 데이터 시각화"
   ]
  },
  {
   "cell_type": "code",
   "execution_count": 68,
   "id": "41ad57a4",
   "metadata": {},
   "outputs": [],
   "source": [
    "# class의 종류 확인 : 정상 1, 비정상 -1\n",
    "classes =  np.unique( np.concatenate( (y_train, y_target), axis=0))\n",
    "x = np.arange(len(classes)) # plot의 x축의 개수 구하기\n",
    "labels = [\"Abnormal\",\"Normal\"]\n",
    "# train 데이터의 정상/비정상 각 총 개수\n",
    "values_train = [(y_train == i).sum()  for i in classes]\n",
    "# test 데이터의 정상/비정상 각 총 개수\n",
    "values_valid = [(y_valid == i).sum()  for i in classes]\n",
    "values_test = [(y_target == i).sum()  for i in classes]"
   ]
  },
  {
   "cell_type": "code",
   "execution_count": 71,
   "id": "a732cbef",
   "metadata": {},
   "outputs": [
    {
     "data": {
      "image/png": "[encoded data removed]",
      "text/plain": [
       "<Figure size 576x288 with 3 Axes>"
      ]
     },
     "metadata": {
      "needs_background": "light"
     },
     "output_type": "display_data"
    }
   ],
   "source": [
    "plt.figure(figsize=(8,4)) # size 설정\n",
    "plt.subplot(1,3,1) # plot의 틀(figure) 의 3개의 subplot 중에 첫번째 지정\n",
    "plt.title(\"Training Data\")\n",
    "plt.bar(x,values_train,width=0.6,color = [\"red\",\"blue\"])\n",
    "plt.ylim([0,1500])\n",
    "plt.xticks(x,labels)\n",
    "\n",
    "plt.subplot(1,3,2) # plot의 틀(figure) 의 3개의 subplot 중에 두번째 지정\n",
    "plt.title(\"Validation Data\")\n",
    "plt.bar(x,values_valid,width=0.6,color = [\"red\",\"blue\"])\n",
    "plt.ylim([0,1500])\n",
    "plt.xticks(x,labels)\n",
    "\n",
    "plt.subplot(1,3,3) # plot의 틀(figure) 의 3개의 subplot 중에 두번째 지정\n",
    "plt.title(\"Test Data\")\n",
    "plt.bar(x,values_test,width=0.6,color = [\"red\",\"blue\"])\n",
    "plt.ylim([0,1500])\n",
    "plt.xticks(x,labels)\n",
    "\n",
    "plt.tight_layout() # 그림저장\n",
    "plt.savefig(save_file+\"data_imbalance.png\", dpi=100, bbox_inches='tight')\n",
    "plt.show()"
   ]
  },
  {
   "cell_type": "code",
   "execution_count": 72,
   "id": "7a087b0e",
   "metadata": {},
   "outputs": [],
   "source": [
    "# 위의 데이터는 데이터 불균형..... 정상 비정상에 속한 데이터의 수가 차이가 클경우 분류가 제대로 되지 않을 가능성이 매우 높다\n",
    "# 불균형 데이터를 확인해 보고, 불균형하다고 판단될 경우 추가작업이  필요\n",
    "# 두 클래스에 속한 데이터의 수를 맞추는 방법 - Oversampling / underSampling  1:1맞춘다.... 여기서는 거의 비슷.."
   ]
  },
  {
   "cell_type": "code",
   "execution_count": 77,
   "id": "63fa8bbb",
   "metadata": {},
   "outputs": [
    {
     "data": {
      "image/png": "[encoded data removed]",
      "text/plain": [
       "<Figure size 720x288 with 1 Axes>"
      ]
     },
     "metadata": {
      "needs_background": "light"
     },
     "output_type": "display_data"
    }
   ],
   "source": [
    "# 시계열데이터는 특정시간대에 플랏\n",
    "import random\n",
    "labels = np.unique(np.concatenate((y_train, y_target),axis=0))\n",
    "plt.figure(figsize=(10,4))\n",
    "for c in labels:\n",
    "    c_x_train =  x_train[y_train == c]\n",
    "    if c == -1 : c = 0  # 편의상 Abnormal case를 0으로 조정\n",
    "    time_t = random.randint(0, c_x_train.shape[0]) # 0 ~ 0000 사이의 랜던한 정수가 특정 time t가 됨\n",
    "    plt.scatter(range(0,500), c_x_train[time_t], label=\"class = \" + str(int(c)), marker = 'o', s=5)"
   ]
  },
  {
   "cell_type": "code",
   "execution_count": null,
   "id": "51a91b3f",
   "metadata": {},
   "outputs": [],
   "source": []
  }
 ],
 "metadata": {
  "kernelspec": {
   "display_name": "Python 3 (ipykernel)",
   "language": "python",
   "name": "python3"
  },
  "language_info": {
   "codemirror_mode": {
    "name": "ipython",
    "version": 3
   },
   "file_extension": ".py",
   "mimetype": "text/x-python",
   "name": "python",
   "nbconvert_exporter": "python",
   "pygments_lexer": "ipython3",
   "version": "3.9.7"
  }
 },
 "nbformat": 4,
 "nbformat_minor": 5
}
