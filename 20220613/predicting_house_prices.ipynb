{
  "nbformat": 4,
  "nbformat_minor": 0,
  "metadata": {
    "colab": {
      "name": "predicting_house_prices.ipynb",
      "provenance": [],
      "collapsed_sections": []
    },
    "kernelspec": {
      "name": "python3",
      "display_name": "Python 3"
    },
    "language_info": {
      "name": "python"
    }
  },
  "cells": [
    {
      "cell_type": "code",
      "execution_count": 1,
      "metadata": {
        "id": "_J9l6jAdu-4i"
      },
      "outputs": [],
      "source": [
        "# 가격 예측 - 회귀\n",
        "# 보스턴지역의 외각의 주택가격및 가격과 함께 제공되는 정보를 가지고 주택 가격의 중간 값을 예측"
      ]
    },
    {
      "cell_type": "code",
      "source": [
        "from keras.datasets import boston_housing\n",
        "(train_data,train_target),(test_data,test_target) =  boston_housing.load_data()"
      ],
      "metadata": {
        "colab": {
          "base_uri": "https://localhost:8080/"
        },
        "id": "rMP9g17yvppw",
        "outputId": "272f8878-6d2d-49f4-bb0c-04fdf9e4c8ae"
      },
      "execution_count": 2,
      "outputs": [
        {
          "output_type": "stream",
          "name": "stdout",
          "text": [
            "Downloading data from https://storage.googleapis.com/tensorflow/tf-keras-datasets/boston_housing.npz\n",
            "57344/57026 [==============================] - 0s 0us/step\n",
            "65536/57026 [==================================] - 0s 0us/step\n"
          ]
        }
      ]
    },
    {
      "cell_type": "code",
      "source": [
        "train_data.shape, train_target.shape"
      ],
      "metadata": {
        "colab": {
          "base_uri": "https://localhost:8080/"
        },
        "id": "uXsqIP2QwKiP",
        "outputId": "bfa93937-c9ac-45ca-e0b3-79bca6733b96"
      },
      "execution_count": 5,
      "outputs": [
        {
          "output_type": "execute_result",
          "data": {
            "text/plain": [
              "((404, 13), (404,))"
            ]
          },
          "metadata": {},
          "execution_count": 5
        }
      ]
    },
    {
      "cell_type": "code",
      "source": [
        "train_target[:10] # 만달러 ~ 오만달러 1970년대 중반 - 인플레이션에 영향을 안받았다."
      ],
      "metadata": {
        "colab": {
          "base_uri": "https://localhost:8080/"
        },
        "id": "8bL2Hm7gwOOu",
        "outputId": "3fdf1fcb-fb28-417c-c8fe-771c74000b0e"
      },
      "execution_count": 7,
      "outputs": [
        {
          "output_type": "execute_result",
          "data": {
            "text/plain": [
              "array([15.2, 42.3, 50. , 21.1, 17.7, 18.5, 11.3, 15.6, 15.6, 14.4])"
            ]
          },
          "metadata": {},
          "execution_count": 7
        }
      ]
    },
    {
      "cell_type": "code",
      "source": [
        "# 데이터의 특성이 다양하고 다르면.. 입력 데이터에 있는 각 특성(피처, 열)에 대해서 평균을 빼고 표준편차로 나눕니다.\n",
        "# 특성의 중앙이 0근처에 맞춰지고 표준편차가 1이 됩니다. \n",
        "mean =  train_data.mean(axis = 0) # 열을 기준\n",
        "train_data -= mean\n",
        "std = train_data.std(axis = 0)\n",
        "train_data /= std\n",
        "\n",
        "# 머신러닝에서 절대로.. 테스트 데이터 어떠한 계산한 값을 사용해서는 안됨 그래서 아래와 같이 훈련데이터의 평균과 표준편차를 이용해서 정규화\n",
        "test_data -= mean\n",
        "test_data /= std"
      ],
      "metadata": {
        "id": "rmBmSst6wx12"
      },
      "execution_count": 12,
      "outputs": []
    },
    {
      "cell_type": "code",
      "source": [
        "train_data.shape"
      ],
      "metadata": {
        "colab": {
          "base_uri": "https://localhost:8080/"
        },
        "id": "pyLI7i2rzEcc",
        "outputId": "a6b9a8d0-3c6b-4a24-a68d-e8e168b7afd1"
      },
      "execution_count": 13,
      "outputs": [
        {
          "output_type": "execute_result",
          "data": {
            "text/plain": [
              "(404, 13)"
            ]
          },
          "metadata": {},
          "execution_count": 13
        }
      ]
    },
    {
      "cell_type": "code",
      "source": [
        "from keras import models\n",
        "from keras import layers\n",
        "# 동일한 모델을 여러변 생성하기위해서 함수로 작성합니다. - 모델생성\n",
        "def make_model():\n",
        "  model = models.Sequential();\n",
        "  model.add(layers.Dense(64, activation='relu', input_shape = (13,)))\n",
        "  model.add(layers.Dense(64,activation='relu' ))\n",
        "  model.add(layers.Dense(1))  # 선형층\n",
        "  model.compile(optimizer='rmsprop', loss = 'mse', metrics=['mae'])\n",
        "  return model"
      ],
      "metadata": {
        "id": "LITROhkix-U-"
      },
      "execution_count": 14,
      "outputs": []
    },
    {
      "cell_type": "code",
      "source": [
        "# k-fold 검증\n",
        "import numpy as np\n",
        "k = 4\n",
        "num_val_samples =  len(train_data) // k\n",
        "num_epochs = 100\n",
        "all_score = []\n",
        "for i in range(k):\n",
        "  print(\"current fold :\", i)\n",
        "  #검증데이터\n",
        "  val_data =  train_data[i*num_val_samples:(i+1)*num_val_samples]\n",
        "  val_target = train_target[i*num_val_samples:(i+1)*num_val_samples]\n",
        "  #훈련데이터\n",
        "  partial_train_data =  np.concatenate( [train_data[:i*num_val_samples], train_data[(i+1)*num_val_samples:]], axis=0)\n",
        "  partial_train_target =  np.concatenate( [train_target[:i*num_val_samples], train_target[(i+1)*num_val_samples:]], axis=0)\n",
        "\n",
        "  #케라스 모델\n",
        "  model = make_model();\n",
        "  model.fit(partial_train_data,partial_train_target,epochs=num_epochs, batch_size=1, verbose=0)\n",
        "  # 검증세트로 평가\n",
        "  val_mse, val_mae =  model.evaluate(val_data, val_target, verbose=0)"
      ],
      "metadata": {
        "colab": {
          "base_uri": "https://localhost:8080/"
        },
        "id": "9eiS6AYYz-Kv",
        "outputId": "1abf8480-32eb-4b4a-c550-33f6788f4570"
      },
      "execution_count": 19,
      "outputs": [
        {
          "output_type": "stream",
          "name": "stdout",
          "text": [
            "current fold : 0\n",
            "current fold : 1\n",
            "current fold : 2\n",
            "current fold : 3\n"
          ]
        }
      ]
    },
    {
      "cell_type": "code",
      "source": [
        ""
      ],
      "metadata": {
        "id": "ndMhDnyv4Z5d"
      },
      "execution_count": null,
      "outputs": []
    }
  ]
}