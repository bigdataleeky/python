{
 "cells": [
  {
   "cell_type": "code",
   "execution_count": 66,
   "id": "0fea6657",
   "metadata": {},
   "outputs": [],
   "source": [
    "# 딥러닝 Review"
   ]
  },
  {
   "cell_type": "code",
   "execution_count": 67,
   "id": "b4941c02",
   "metadata": {},
   "outputs": [],
   "source": [
    "# 필수 라이브러리\n",
    "import pandas as pd\n",
    "import numpy as np\n",
    "import random\n",
    "import tensorflow as tf"
   ]
  },
  {
   "cell_type": "code",
   "execution_count": 68,
   "id": "69883dcc",
   "metadata": {},
   "outputs": [
    {
     "data": {
      "text/plain": [
       "((5497, 14), (1000, 13), (1000, 2))"
      ]
     },
     "execution_count": 68,
     "metadata": {},
     "output_type": "execute_result"
    }
   ],
   "source": [
    "# 랜덤시드고정 : 테스트할때마다 동일한 데이터를 가지고 학습하기위해서 랜덤값을 고정\n",
    "# 파일 읽어오기\n",
    "drive_path = './wine/data/'\n",
    "train = pd.read_csv(drive_path+'train.csv')\n",
    "test = pd.read_csv(drive_path+'test.csv')\n",
    "submission = pd.read_csv(drive_path+'sample_submission.csv')\n",
    "train.shape, test.shape, submission.shape"
   ]
  },
  {
   "cell_type": "code",
   "execution_count": 69,
   "id": "51a2dbaf",
   "metadata": {},
   "outputs": [
    {
     "data": {
      "text/html": [
       "<div>\n",
       "<style scoped>\n",
       "    .dataframe tbody tr th:only-of-type {\n",
       "        vertical-align: middle;\n",
       "    }\n",
       "\n",
       "    .dataframe tbody tr th {\n",
       "        vertical-align: top;\n",
       "    }\n",
       "\n",
       "    .dataframe thead th {\n",
       "        text-align: right;\n",
       "    }\n",
       "</style>\n",
       "<table border=\"1\" class=\"dataframe\">\n",
       "  <thead>\n",
       "    <tr style=\"text-align: right;\">\n",
       "      <th></th>\n",
       "      <th>index</th>\n",
       "      <th>quality</th>\n",
       "      <th>fixed acidity</th>\n",
       "      <th>volatile acidity</th>\n",
       "      <th>citric acid</th>\n",
       "      <th>residual sugar</th>\n",
       "      <th>chlorides</th>\n",
       "      <th>free sulfur dioxide</th>\n",
       "      <th>total sulfur dioxide</th>\n",
       "      <th>density</th>\n",
       "      <th>pH</th>\n",
       "      <th>sulphates</th>\n",
       "      <th>alcohol</th>\n",
       "      <th>type</th>\n",
       "    </tr>\n",
       "  </thead>\n",
       "  <tbody>\n",
       "    <tr>\n",
       "      <th>0</th>\n",
       "      <td>0</td>\n",
       "      <td>5</td>\n",
       "      <td>5.6</td>\n",
       "      <td>0.695</td>\n",
       "      <td>0.06</td>\n",
       "      <td>6.8</td>\n",
       "      <td>0.042</td>\n",
       "      <td>9.0</td>\n",
       "      <td>84.0</td>\n",
       "      <td>0.99432</td>\n",
       "      <td>3.44</td>\n",
       "      <td>0.44</td>\n",
       "      <td>10.2</td>\n",
       "      <td>white</td>\n",
       "    </tr>\n",
       "    <tr>\n",
       "      <th>1</th>\n",
       "      <td>1</td>\n",
       "      <td>5</td>\n",
       "      <td>8.8</td>\n",
       "      <td>0.610</td>\n",
       "      <td>0.14</td>\n",
       "      <td>2.4</td>\n",
       "      <td>0.067</td>\n",
       "      <td>10.0</td>\n",
       "      <td>42.0</td>\n",
       "      <td>0.99690</td>\n",
       "      <td>3.19</td>\n",
       "      <td>0.59</td>\n",
       "      <td>9.5</td>\n",
       "      <td>red</td>\n",
       "    </tr>\n",
       "    <tr>\n",
       "      <th>2</th>\n",
       "      <td>2</td>\n",
       "      <td>5</td>\n",
       "      <td>7.9</td>\n",
       "      <td>0.210</td>\n",
       "      <td>0.39</td>\n",
       "      <td>2.0</td>\n",
       "      <td>0.057</td>\n",
       "      <td>21.0</td>\n",
       "      <td>138.0</td>\n",
       "      <td>0.99176</td>\n",
       "      <td>3.05</td>\n",
       "      <td>0.52</td>\n",
       "      <td>10.9</td>\n",
       "      <td>white</td>\n",
       "    </tr>\n",
       "    <tr>\n",
       "      <th>3</th>\n",
       "      <td>3</td>\n",
       "      <td>6</td>\n",
       "      <td>7.0</td>\n",
       "      <td>0.210</td>\n",
       "      <td>0.31</td>\n",
       "      <td>6.0</td>\n",
       "      <td>0.046</td>\n",
       "      <td>29.0</td>\n",
       "      <td>108.0</td>\n",
       "      <td>0.99390</td>\n",
       "      <td>3.26</td>\n",
       "      <td>0.50</td>\n",
       "      <td>10.8</td>\n",
       "      <td>white</td>\n",
       "    </tr>\n",
       "    <tr>\n",
       "      <th>4</th>\n",
       "      <td>4</td>\n",
       "      <td>6</td>\n",
       "      <td>7.8</td>\n",
       "      <td>0.400</td>\n",
       "      <td>0.26</td>\n",
       "      <td>9.5</td>\n",
       "      <td>0.059</td>\n",
       "      <td>32.0</td>\n",
       "      <td>178.0</td>\n",
       "      <td>0.99550</td>\n",
       "      <td>3.04</td>\n",
       "      <td>0.43</td>\n",
       "      <td>10.9</td>\n",
       "      <td>white</td>\n",
       "    </tr>\n",
       "  </tbody>\n",
       "</table>\n",
       "</div>"
      ],
      "text/plain": [
       "   index  quality  fixed acidity  volatile acidity  citric acid  \\\n",
       "0      0        5            5.6             0.695         0.06   \n",
       "1      1        5            8.8             0.610         0.14   \n",
       "2      2        5            7.9             0.210         0.39   \n",
       "3      3        6            7.0             0.210         0.31   \n",
       "4      4        6            7.8             0.400         0.26   \n",
       "\n",
       "   residual sugar  chlorides  free sulfur dioxide  total sulfur dioxide  \\\n",
       "0             6.8      0.042                  9.0                  84.0   \n",
       "1             2.4      0.067                 10.0                  42.0   \n",
       "2             2.0      0.057                 21.0                 138.0   \n",
       "3             6.0      0.046                 29.0                 108.0   \n",
       "4             9.5      0.059                 32.0                 178.0   \n",
       "\n",
       "   density    pH  sulphates  alcohol   type  \n",
       "0  0.99432  3.44       0.44     10.2  white  \n",
       "1  0.99690  3.19       0.59      9.5    red  \n",
       "2  0.99176  3.05       0.52     10.9  white  \n",
       "3  0.99390  3.26       0.50     10.8  white  \n",
       "4  0.99550  3.04       0.43     10.9  white  "
      ]
     },
     "execution_count": 69,
     "metadata": {},
     "output_type": "execute_result"
    }
   ],
   "source": [
    "train.head()"
   ]
  },
  {
   "cell_type": "code",
   "execution_count": 70,
   "id": "507d0e18",
   "metadata": {},
   "outputs": [
    {
     "data": {
      "text/html": [
       "<div>\n",
       "<style scoped>\n",
       "    .dataframe tbody tr th:only-of-type {\n",
       "        vertical-align: middle;\n",
       "    }\n",
       "\n",
       "    .dataframe tbody tr th {\n",
       "        vertical-align: top;\n",
       "    }\n",
       "\n",
       "    .dataframe thead th {\n",
       "        text-align: right;\n",
       "    }\n",
       "</style>\n",
       "<table border=\"1\" class=\"dataframe\">\n",
       "  <thead>\n",
       "    <tr style=\"text-align: right;\">\n",
       "      <th></th>\n",
       "      <th>index</th>\n",
       "      <th>quality</th>\n",
       "    </tr>\n",
       "  </thead>\n",
       "  <tbody>\n",
       "    <tr>\n",
       "      <th>0</th>\n",
       "      <td>0</td>\n",
       "      <td>0</td>\n",
       "    </tr>\n",
       "    <tr>\n",
       "      <th>1</th>\n",
       "      <td>1</td>\n",
       "      <td>0</td>\n",
       "    </tr>\n",
       "    <tr>\n",
       "      <th>2</th>\n",
       "      <td>2</td>\n",
       "      <td>0</td>\n",
       "    </tr>\n",
       "    <tr>\n",
       "      <th>3</th>\n",
       "      <td>3</td>\n",
       "      <td>0</td>\n",
       "    </tr>\n",
       "    <tr>\n",
       "      <th>4</th>\n",
       "      <td>4</td>\n",
       "      <td>0</td>\n",
       "    </tr>\n",
       "  </tbody>\n",
       "</table>\n",
       "</div>"
      ],
      "text/plain": [
       "   index  quality\n",
       "0      0        0\n",
       "1      1        0\n",
       "2      2        0\n",
       "3      3        0\n",
       "4      4        0"
      ]
     },
     "execution_count": 70,
     "metadata": {},
     "output_type": "execute_result"
    }
   ],
   "source": [
    "submission.head()  # 제출파일... quality 컬럼에 최종 예측한 값을 넣어서 제출"
   ]
  },
  {
   "cell_type": "code",
   "execution_count": 71,
   "id": "cea5ae16",
   "metadata": {},
   "outputs": [
    {
     "data": {
      "text/plain": [
       "white    4159\n",
       "red      1338\n",
       "Name: type, dtype: int64"
      ]
     },
     "execution_count": 71,
     "metadata": {},
     "output_type": "execute_result"
    }
   ],
   "source": [
    "# 와인의 전반적인 정보취득... type의 데이터 본다.\n",
    "train['type'].value_counts()"
   ]
  },
  {
   "cell_type": "code",
   "execution_count": 72,
   "id": "9cc8fc16",
   "metadata": {},
   "outputs": [],
   "source": [
    "white_index = train[train['type'] == 'white'].index\n",
    "red_index = train[train['type'] == 'red'].index\n",
    "train.loc[white_index,['type']] = 1\n",
    "train.loc[red_index,['type']] = 0\n",
    "#숫자로 타입을 변경\n",
    "train['type'] = train['type'].astype(int)\n",
    "\n",
    "test['type'] =  np.where(test['type'] == 'white',1,0).astype(int)"
   ]
  },
  {
   "cell_type": "code",
   "execution_count": 73,
   "id": "44fff63b",
   "metadata": {},
   "outputs": [
    {
     "name": "stdout",
     "output_type": "stream",
     "text": [
      "<class 'pandas.core.frame.DataFrame'>\n",
      "RangeIndex: 5497 entries, 0 to 5496\n",
      "Data columns (total 14 columns):\n",
      " #   Column                Non-Null Count  Dtype  \n",
      "---  ------                --------------  -----  \n",
      " 0   index                 5497 non-null   int64  \n",
      " 1   quality               5497 non-null   int64  \n",
      " 2   fixed acidity         5497 non-null   float64\n",
      " 3   volatile acidity      5497 non-null   float64\n",
      " 4   citric acid           5497 non-null   float64\n",
      " 5   residual sugar        5497 non-null   float64\n",
      " 6   chlorides             5497 non-null   float64\n",
      " 7   free sulfur dioxide   5497 non-null   float64\n",
      " 8   total sulfur dioxide  5497 non-null   float64\n",
      " 9   density               5497 non-null   float64\n",
      " 10  pH                    5497 non-null   float64\n",
      " 11  sulphates             5497 non-null   float64\n",
      " 12  alcohol               5497 non-null   float64\n",
      " 13  type                  5497 non-null   int32  \n",
      "dtypes: float64(11), int32(1), int64(2)\n",
      "memory usage: 579.9 KB\n"
     ]
    }
   ],
   "source": [
    "\n",
    "train.info()"
   ]
  },
  {
   "cell_type": "code",
   "execution_count": 74,
   "id": "b0c96fb1",
   "metadata": {},
   "outputs": [
    {
     "data": {
      "text/plain": [
       "6    2416\n",
       "5    1788\n",
       "7     924\n",
       "4     186\n",
       "8     152\n",
       "3      26\n",
       "9       5\n",
       "Name: quality, dtype: int64"
      ]
     },
     "execution_count": 74,
     "metadata": {},
     "output_type": "execute_result"
    }
   ],
   "source": [
    "# 레이블 : 정답데이터, 목표변수\n",
    "train['quality'].value_counts()"
   ]
  },
  {
   "cell_type": "code",
   "execution_count": 75,
   "id": "1f7a2f63",
   "metadata": {},
   "outputs": [
    {
     "data": {
      "text/plain": [
       "3    2416\n",
       "2    1788\n",
       "4     924\n",
       "1     186\n",
       "5     152\n",
       "0      26\n",
       "6       5\n",
       "Name: quality, dtype: int64"
      ]
     },
     "execution_count": 75,
     "metadata": {},
     "output_type": "execute_result"
    }
   ],
   "source": [
    "# 레이블 즉 정답 또는 목표변수가 두가지 타입이아니라 3개 이상이면 서로 영향을 주는 형태의 숫자이기때문에\n",
    "# one - hot - incoding을 실시한다\n",
    "# 1 2 3\n",
    "# 100\n",
    "# 010\n",
    "# 001\n",
    "# 3을 차감해서 와인등급을 0 ~ 6 범위로 변경\n",
    "(train.loc[:,'quality']-3).value_counts()"
   ]
  },
  {
   "cell_type": "code",
   "execution_count": 76,
   "id": "de90044b",
   "metadata": {},
   "outputs": [
    {
     "data": {
      "text/plain": [
       "array([0., 0., 1., 0., 0., 0., 0.], dtype=float32)"
      ]
     },
     "execution_count": 76,
     "metadata": {},
     "output_type": "execute_result"
    }
   ],
   "source": [
    "from tensorflow.keras.utils import to_categorical\n",
    "y_train = to_categorical(train.loc[:,'quality']-3)\n",
    "y_train[0]"
   ]
  },
  {
   "cell_type": "code",
   "execution_count": 77,
   "id": "a5c14ee5",
   "metadata": {},
   "outputs": [],
   "source": [
    "# sns.heatmap(corr.values,# 데이터\n",
    "#                           cbar = True, # 오른쪽 컬러 막대 출력 여부\n",
    "#                           annot = True, # 차트에 상관계수 값을 보여줄 것인지 여부\n",
    "#                           annot_kws={'size' : 20}, # 숫자 출력 시 숫자 크기 조절\n",
    "#                            fmt = '.3f', # 숫자의 출력 소수점자리 개수 조절\n",
    "#                            square = 'True', # 차트를 정사각형으로 할 것인지\n",
    "#                           yticklabels=corr_column_names, # y축에 컬럼명 출력\n",
    "#                           xticklabels=corr_column_names) # x축에 컬럼명 출력\n"
   ]
  },
  {
   "cell_type": "code",
   "execution_count": 78,
   "id": "daa572e7",
   "metadata": {},
   "outputs": [
    {
     "data": {
      "image/png": "[encoded data removed]",
      "text/plain": [
       "<Figure size 1440x1440 with 2 Axes>"
      ]
     },
     "metadata": {
      "needs_background": "light"
     },
     "output_type": "display_data"
    }
   ],
   "source": [
    "# 참고용...\n",
    "import matplotlib.pylab as plt\n",
    "import seaborn as sns\n",
    "plt.figure(figsize=(20,20))\n",
    "sns.heatmap(train.corr(),annot=True,square=True)\n",
    "plt.show()"
   ]
  },
  {
   "cell_type": "code",
   "execution_count": 79,
   "id": "50438271",
   "metadata": {},
   "outputs": [
    {
     "data": {
      "text/plain": [
       "((5497, 12), (5497, 12), (1000, 12), (1000, 12))"
      ]
     },
     "execution_count": 79,
     "metadata": {},
     "output_type": "execute_result"
    }
   ],
   "source": [
    "# 학습데이터를 추출\n",
    "x_train =  train.loc[:,'fixed acidity':]\n",
    "x_test = test.loc[:,'fixed acidity':]\n",
    "\n",
    "# 피처 스케일링\n",
    "from sklearn.preprocessing import MinMaxScaler\n",
    "scaler =  MinMaxScaler()\n",
    "x_train_scaled = scaler.fit_transform(x_train)\n",
    "x_test_scaled = scaler.fit_transform(x_test)\n",
    "\n",
    "x_train.shape, x_train_scaled.shape, x_test.shape, x_test_scaled.shape"
   ]
  },
  {
   "cell_type": "code",
   "execution_count": 80,
   "id": "ce743c6f",
   "metadata": {},
   "outputs": [],
   "source": [
    "# 모델 설계 - 신경망으로 설계\n",
    "# 완전 연결 레이어(Dense) : 4  과적합을 피하기위해 dropout 추가\n"
   ]
  },
  {
   "cell_type": "code",
   "execution_count": 84,
   "id": "41a3c35e",
   "metadata": {},
   "outputs": [
    {
     "name": "stdout",
     "output_type": "stream",
     "text": [
      "Model: \"sequential_2\"\n",
      "_________________________________________________________________\n",
      " Layer (type)                Output Shape              Param #   \n",
      "=================================================================\n",
      " dense_8 (Dense)             (None, 128)               1664      \n",
      "                                                                 \n",
      " dropout_4 (Dropout)         (None, 128)               0         \n",
      "                                                                 \n",
      " dense_9 (Dense)             (None, 64)                8256      \n",
      "                                                                 \n",
      " dropout_5 (Dropout)         (None, 64)                0         \n",
      "                                                                 \n",
      " dense_10 (Dense)            (None, 32)                2080      \n",
      "                                                                 \n",
      " dense_11 (Dense)            (None, 7)                 231       \n",
      "                                                                 \n",
      "=================================================================\n",
      "Total params: 12,231\n",
      "Trainable params: 12,231\n",
      "Non-trainable params: 0\n",
      "_________________________________________________________________\n"
     ]
    }
   ],
   "source": [
    "# 신경망 모델\n",
    "from tensorflow.keras import Sequential\n",
    "from tensorflow.keras.layers import Dense, Dropout\n",
    "def build_model(train_data, train_target):\n",
    "    model = Sequential()\n",
    "    model.add(Dense(128,activation='tanh', input_dim = train_data.shape[1]))\n",
    "    model.add(Dropout(0.2))\n",
    "    model.add(Dense(64,activation='tanh'))\n",
    "    model.add(Dropout(0.2))\n",
    "    model.add(Dense(32,activation='tanh'))\n",
    "    model.add(Dense(train_target.shape[1],activation='softmax'))\n",
    "    model.compile(optimizer = 'adam', loss='categorical_crossentropy',metrics=['acc','mae'])\n",
    "    return model\n",
    "model = build_model(x_train_scaled,y_train)\n",
    "model.summary()"
   ]
  },
  {
   "cell_type": "code",
   "execution_count": 85,
   "id": "b6fd5ba1",
   "metadata": {},
   "outputs": [],
   "source": [
    "# 콜백함수 Early Stopping 기법\n",
    "# 과적합이 발생하기전에 stop : 일정 에코크동안 성능이 정채될때(좋아지지 않을때) 이때 허용되는 에포크수\n",
    "# patience 옵션"
   ]
  },
  {
   "cell_type": "code",
   "execution_count": 86,
   "id": "7d5a6d13",
   "metadata": {},
   "outputs": [
    {
     "name": "stdout",
     "output_type": "stream",
     "text": [
      "Epoch 1/200\n",
      "73/73 [==============================] - 1s 4ms/step - loss: 1.3242 - acc: 0.4568 - mae: 0.1953 - val_loss: 1.2009 - val_acc: 0.4824 - val_mae: 0.1835\n",
      "Epoch 2/200\n",
      "73/73 [==============================] - 0s 2ms/step - loss: 1.1774 - acc: 0.4921 - mae: 0.1790 - val_loss: 1.1472 - val_acc: 0.5030 - val_mae: 0.1754\n",
      "Epoch 3/200\n",
      "73/73 [==============================] - 0s 2ms/step - loss: 1.1377 - acc: 0.5060 - mae: 0.1731 - val_loss: 1.1317 - val_acc: 0.4982 - val_mae: 0.1713\n",
      "Epoch 4/200\n",
      "73/73 [==============================] - 0s 2ms/step - loss: 1.1189 - acc: 0.5306 - mae: 0.1712 - val_loss: 1.1199 - val_acc: 0.5200 - val_mae: 0.1713\n",
      "Epoch 5/200\n",
      "73/73 [==============================] - 0s 2ms/step - loss: 1.1211 - acc: 0.5225 - mae: 0.1713 - val_loss: 1.1146 - val_acc: 0.5164 - val_mae: 0.1709\n",
      "Epoch 6/200\n",
      "73/73 [==============================] - 0s 2ms/step - loss: 1.0975 - acc: 0.5385 - mae: 0.1692 - val_loss: 1.1101 - val_acc: 0.5224 - val_mae: 0.1699\n",
      "Epoch 7/200\n",
      "73/73 [==============================] - 0s 2ms/step - loss: 1.0930 - acc: 0.5357 - mae: 0.1691 - val_loss: 1.1157 - val_acc: 0.5091 - val_mae: 0.1718\n",
      "Epoch 8/200\n",
      "73/73 [==============================] - 0s 2ms/step - loss: 1.0893 - acc: 0.5306 - mae: 0.1685 - val_loss: 1.1069 - val_acc: 0.5200 - val_mae: 0.1704\n",
      "Epoch 9/200\n",
      "73/73 [==============================] - 0s 2ms/step - loss: 1.0819 - acc: 0.5392 - mae: 0.1684 - val_loss: 1.1093 - val_acc: 0.5176 - val_mae: 0.1700\n",
      "Epoch 10/200\n",
      "73/73 [==============================] - 0s 2ms/step - loss: 1.0837 - acc: 0.5407 - mae: 0.1680 - val_loss: 1.1071 - val_acc: 0.5139 - val_mae: 0.1680\n",
      "Epoch 11/200\n",
      "73/73 [==============================] - 0s 2ms/step - loss: 1.0814 - acc: 0.5325 - mae: 0.1680 - val_loss: 1.1065 - val_acc: 0.5236 - val_mae: 0.1700\n",
      "Epoch 12/200\n",
      "73/73 [==============================] - 0s 2ms/step - loss: 1.0744 - acc: 0.5366 - mae: 0.1677 - val_loss: 1.1054 - val_acc: 0.5236 - val_mae: 0.1683\n",
      "Epoch 13/200\n",
      "73/73 [==============================] - 0s 2ms/step - loss: 1.0750 - acc: 0.5398 - mae: 0.1665 - val_loss: 1.1070 - val_acc: 0.5164 - val_mae: 0.1671\n",
      "Epoch 14/200\n",
      "73/73 [==============================] - 0s 2ms/step - loss: 1.0762 - acc: 0.5385 - mae: 0.1672 - val_loss: 1.1084 - val_acc: 0.5115 - val_mae: 0.1686\n",
      "Epoch 15/200\n",
      "73/73 [==============================] - 0s 2ms/step - loss: 1.0713 - acc: 0.5411 - mae: 0.1670 - val_loss: 1.1091 - val_acc: 0.5103 - val_mae: 0.1684\n",
      "Epoch 16/200\n",
      "73/73 [==============================] - 0s 2ms/step - loss: 1.0690 - acc: 0.5445 - mae: 0.1667 - val_loss: 1.1056 - val_acc: 0.5200 - val_mae: 0.1694\n",
      "Epoch 17/200\n",
      "73/73 [==============================] - 0s 2ms/step - loss: 1.0685 - acc: 0.5411 - mae: 0.1667 - val_loss: 1.1012 - val_acc: 0.5115 - val_mae: 0.1690\n",
      "Epoch 18/200\n",
      "73/73 [==============================] - 0s 2ms/step - loss: 1.0665 - acc: 0.5490 - mae: 0.1665 - val_loss: 1.1036 - val_acc: 0.5358 - val_mae: 0.1675\n",
      "Epoch 19/200\n",
      "73/73 [==============================] - 0s 2ms/step - loss: 1.0676 - acc: 0.5443 - mae: 0.1665 - val_loss: 1.0977 - val_acc: 0.5164 - val_mae: 0.1680\n",
      "Epoch 20/200\n",
      "73/73 [==============================] - 0s 2ms/step - loss: 1.0599 - acc: 0.5482 - mae: 0.1656 - val_loss: 1.1083 - val_acc: 0.5103 - val_mae: 0.1700\n",
      "Epoch 21/200\n",
      "73/73 [==============================] - 0s 2ms/step - loss: 1.0640 - acc: 0.5422 - mae: 0.1665 - val_loss: 1.1059 - val_acc: 0.5248 - val_mae: 0.1699\n",
      "Epoch 22/200\n",
      "73/73 [==============================] - 0s 2ms/step - loss: 1.0614 - acc: 0.5439 - mae: 0.1657 - val_loss: 1.1010 - val_acc: 0.5236 - val_mae: 0.1690\n",
      "Epoch 23/200\n",
      "73/73 [==============================] - 0s 2ms/step - loss: 1.0619 - acc: 0.5443 - mae: 0.1661 - val_loss: 1.0947 - val_acc: 0.5273 - val_mae: 0.1663\n",
      "Epoch 24/200\n",
      "73/73 [==============================] - 0s 2ms/step - loss: 1.0591 - acc: 0.5443 - mae: 0.1656 - val_loss: 1.0926 - val_acc: 0.5188 - val_mae: 0.1675\n",
      "Epoch 25/200\n",
      "73/73 [==============================] - 0s 2ms/step - loss: 1.0526 - acc: 0.5507 - mae: 0.1650 - val_loss: 1.0888 - val_acc: 0.5345 - val_mae: 0.1670\n",
      "Epoch 26/200\n",
      "73/73 [==============================] - 0s 2ms/step - loss: 1.0516 - acc: 0.5554 - mae: 0.1645 - val_loss: 1.0885 - val_acc: 0.5248 - val_mae: 0.1671\n",
      "Epoch 27/200\n",
      "73/73 [==============================] - 0s 2ms/step - loss: 1.0510 - acc: 0.5492 - mae: 0.1645 - val_loss: 1.0902 - val_acc: 0.5515 - val_mae: 0.1672\n",
      "Epoch 28/200\n",
      "73/73 [==============================] - 0s 2ms/step - loss: 1.0513 - acc: 0.5473 - mae: 0.1643 - val_loss: 1.0875 - val_acc: 0.5358 - val_mae: 0.1659\n",
      "Epoch 29/200\n",
      "73/73 [==============================] - 0s 2ms/step - loss: 1.0528 - acc: 0.5445 - mae: 0.1644 - val_loss: 1.0838 - val_acc: 0.5224 - val_mae: 0.1665\n",
      "Epoch 30/200\n",
      "73/73 [==============================] - 0s 2ms/step - loss: 1.0498 - acc: 0.5497 - mae: 0.1648 - val_loss: 1.0834 - val_acc: 0.5321 - val_mae: 0.1677\n",
      "Epoch 31/200\n",
      "73/73 [==============================] - 0s 2ms/step - loss: 1.0451 - acc: 0.5544 - mae: 0.1639 - val_loss: 1.0896 - val_acc: 0.5273 - val_mae: 0.1702\n",
      "Epoch 32/200\n",
      "73/73 [==============================] - 0s 2ms/step - loss: 1.0450 - acc: 0.5554 - mae: 0.1638 - val_loss: 1.0812 - val_acc: 0.5236 - val_mae: 0.1677\n",
      "Epoch 33/200\n",
      "73/73 [==============================] - 0s 2ms/step - loss: 1.0408 - acc: 0.5589 - mae: 0.1643 - val_loss: 1.0830 - val_acc: 0.5285 - val_mae: 0.1643\n",
      "Epoch 34/200\n",
      "73/73 [==============================] - 0s 2ms/step - loss: 1.0400 - acc: 0.5488 - mae: 0.1635 - val_loss: 1.0754 - val_acc: 0.5285 - val_mae: 0.1673\n",
      "Epoch 35/200\n",
      "73/73 [==============================] - 0s 2ms/step - loss: 1.0376 - acc: 0.5535 - mae: 0.1631 - val_loss: 1.0739 - val_acc: 0.5455 - val_mae: 0.1648\n",
      "Epoch 36/200\n",
      "73/73 [==============================] - 0s 2ms/step - loss: 1.0412 - acc: 0.5565 - mae: 0.1634 - val_loss: 1.0786 - val_acc: 0.5333 - val_mae: 0.1675\n",
      "Epoch 37/200\n",
      "73/73 [==============================] - 0s 2ms/step - loss: 1.0348 - acc: 0.5612 - mae: 0.1632 - val_loss: 1.0730 - val_acc: 0.5394 - val_mae: 0.1658\n",
      "Epoch 38/200\n",
      "73/73 [==============================] - 0s 2ms/step - loss: 1.0312 - acc: 0.5559 - mae: 0.1626 - val_loss: 1.0693 - val_acc: 0.5418 - val_mae: 0.1646\n",
      "Epoch 39/200\n",
      "73/73 [==============================] - 0s 2ms/step - loss: 1.0340 - acc: 0.5610 - mae: 0.1632 - val_loss: 1.0696 - val_acc: 0.5333 - val_mae: 0.1668\n",
      "Epoch 40/200\n",
      "73/73 [==============================] - 0s 2ms/step - loss: 1.0306 - acc: 0.5561 - mae: 0.1628 - val_loss: 1.0702 - val_acc: 0.5297 - val_mae: 0.1648\n",
      "Epoch 41/200\n",
      "73/73 [==============================] - 0s 2ms/step - loss: 1.0340 - acc: 0.5518 - mae: 0.1625 - val_loss: 1.0724 - val_acc: 0.5358 - val_mae: 0.1670\n",
      "Epoch 42/200\n",
      "73/73 [==============================] - 0s 2ms/step - loss: 1.0289 - acc: 0.5584 - mae: 0.1628 - val_loss: 1.0645 - val_acc: 0.5370 - val_mae: 0.1652\n",
      "Epoch 43/200\n",
      "73/73 [==============================] - 0s 2ms/step - loss: 1.0329 - acc: 0.5569 - mae: 0.1625 - val_loss: 1.0749 - val_acc: 0.5382 - val_mae: 0.1643\n",
      "Epoch 44/200\n",
      "73/73 [==============================] - 0s 2ms/step - loss: 1.0292 - acc: 0.5561 - mae: 0.1627 - val_loss: 1.0690 - val_acc: 0.5382 - val_mae: 0.1659\n",
      "Epoch 45/200\n",
      "73/73 [==============================] - 0s 2ms/step - loss: 1.0268 - acc: 0.5561 - mae: 0.1622 - val_loss: 1.0670 - val_acc: 0.5309 - val_mae: 0.1635\n",
      "Epoch 46/200\n",
      "73/73 [==============================] - 0s 2ms/step - loss: 1.0262 - acc: 0.5586 - mae: 0.1618 - val_loss: 1.0676 - val_acc: 0.5455 - val_mae: 0.1654\n",
      "Epoch 47/200\n",
      "73/73 [==============================] - 0s 2ms/step - loss: 1.0286 - acc: 0.5554 - mae: 0.1624 - val_loss: 1.0602 - val_acc: 0.5394 - val_mae: 0.1640\n",
      "Epoch 48/200\n",
      "73/73 [==============================] - 0s 2ms/step - loss: 1.0230 - acc: 0.5608 - mae: 0.1614 - val_loss: 1.0581 - val_acc: 0.5370 - val_mae: 0.1659\n",
      "Epoch 49/200\n",
      "73/73 [==============================] - 0s 2ms/step - loss: 1.0205 - acc: 0.5591 - mae: 0.1618 - val_loss: 1.0598 - val_acc: 0.5442 - val_mae: 0.1648\n",
      "Epoch 50/200\n",
      "73/73 [==============================] - 0s 2ms/step - loss: 1.0176 - acc: 0.5601 - mae: 0.1612 - val_loss: 1.0611 - val_acc: 0.5479 - val_mae: 0.1629\n",
      "Epoch 51/200\n",
      "73/73 [==============================] - 0s 2ms/step - loss: 1.0187 - acc: 0.5685 - mae: 0.1615 - val_loss: 1.0569 - val_acc: 0.5418 - val_mae: 0.1643\n",
      "Epoch 52/200\n",
      "73/73 [==============================] - 0s 2ms/step - loss: 1.0197 - acc: 0.5644 - mae: 0.1607 - val_loss: 1.0585 - val_acc: 0.5491 - val_mae: 0.1640\n",
      "Epoch 53/200\n",
      "73/73 [==============================] - 0s 2ms/step - loss: 1.0202 - acc: 0.5659 - mae: 0.1617 - val_loss: 1.0637 - val_acc: 0.5418 - val_mae: 0.1639\n",
      "Epoch 54/200\n",
      "73/73 [==============================] - 0s 2ms/step - loss: 1.0193 - acc: 0.5627 - mae: 0.1613 - val_loss: 1.0564 - val_acc: 0.5406 - val_mae: 0.1624\n",
      "Epoch 55/200\n",
      "73/73 [==============================] - 0s 2ms/step - loss: 1.0157 - acc: 0.5726 - mae: 0.1605 - val_loss: 1.0561 - val_acc: 0.5406 - val_mae: 0.1634\n",
      "Epoch 56/200\n",
      "73/73 [==============================] - 0s 2ms/step - loss: 1.0126 - acc: 0.5651 - mae: 0.1607 - val_loss: 1.0607 - val_acc: 0.5394 - val_mae: 0.1657\n",
      "Epoch 57/200\n",
      "73/73 [==============================] - 0s 2ms/step - loss: 1.0196 - acc: 0.5595 - mae: 0.1610 - val_loss: 1.0510 - val_acc: 0.5552 - val_mae: 0.1639\n",
      "Epoch 58/200\n",
      "73/73 [==============================] - 0s 2ms/step - loss: 1.0160 - acc: 0.5640 - mae: 0.1610 - val_loss: 1.0557 - val_acc: 0.5467 - val_mae: 0.1652\n",
      "Epoch 59/200\n",
      "73/73 [==============================] - 0s 2ms/step - loss: 1.0108 - acc: 0.5681 - mae: 0.1611 - val_loss: 1.0635 - val_acc: 0.5382 - val_mae: 0.1655\n",
      "Epoch 60/200\n",
      "73/73 [==============================] - 0s 2ms/step - loss: 1.0109 - acc: 0.5693 - mae: 0.1602 - val_loss: 1.0515 - val_acc: 0.5406 - val_mae: 0.1633\n",
      "Epoch 61/200\n",
      "73/73 [==============================] - 0s 2ms/step - loss: 1.0086 - acc: 0.5698 - mae: 0.1599 - val_loss: 1.0649 - val_acc: 0.5248 - val_mae: 0.1662\n",
      "Epoch 62/200\n",
      "73/73 [==============================] - 0s 2ms/step - loss: 1.0157 - acc: 0.5685 - mae: 0.1612 - val_loss: 1.0534 - val_acc: 0.5442 - val_mae: 0.1637\n",
      "Epoch 63/200\n",
      "73/73 [==============================] - 0s 2ms/step - loss: 1.0140 - acc: 0.5672 - mae: 0.1602 - val_loss: 1.0614 - val_acc: 0.5382 - val_mae: 0.1661\n",
      "Epoch 64/200\n",
      "73/73 [==============================] - 0s 2ms/step - loss: 1.0121 - acc: 0.5700 - mae: 0.1601 - val_loss: 1.0533 - val_acc: 0.5418 - val_mae: 0.1644\n",
      "Epoch 65/200\n",
      "73/73 [==============================] - 0s 2ms/step - loss: 1.0138 - acc: 0.5681 - mae: 0.1604 - val_loss: 1.0531 - val_acc: 0.5455 - val_mae: 0.1658\n",
      "Epoch 66/200\n",
      "73/73 [==============================] - 0s 2ms/step - loss: 1.0092 - acc: 0.5700 - mae: 0.1609 - val_loss: 1.0583 - val_acc: 0.5455 - val_mae: 0.1636\n",
      "Epoch 67/200\n",
      "73/73 [==============================] - 0s 2ms/step - loss: 1.0093 - acc: 0.5691 - mae: 0.1603 - val_loss: 1.0519 - val_acc: 0.5442 - val_mae: 0.1634\n"
     ]
    }
   ],
   "source": [
    "from sklearn.model_selection import train_test_split\n",
    "from tensorflow.keras.callbacks import EarlyStopping\n",
    "x_tr,x_val,y_tr,y_val =  train_test_split(x_train_scaled,y_train, test_size=0.15, random_state=42)\n",
    "early_stopping = EarlyStopping(monitor = 'val_loss',patience = 10)\n",
    "history = model.fit(x_tr, y_tr,batch_size=64, epochs=200,\n",
    "                   validation_data=(x_val, y_val),\n",
    "                   callbacks=[early_stopping],\n",
    "                   verbose=1)"
   ]
  },
  {
   "cell_type": "code",
   "execution_count": 88,
   "id": "ac59e229",
   "metadata": {},
   "outputs": [
    {
     "name": "stdout",
     "output_type": "stream",
     "text": [
      "26/26 [==============================] - 0s 1ms/step - loss: 1.0519 - acc: 0.5442 - mae: 0.1634\n"
     ]
    },
    {
     "data": {
      "text/plain": [
       "[1.0518656969070435, 0.5442424416542053, 0.16342344880104065]"
      ]
     },
     "execution_count": 88,
     "metadata": {},
     "output_type": "execute_result"
    }
   ],
   "source": [
    "model.evaluate(x_val, y_val)"
   ]
  },
  {
   "cell_type": "code",
   "execution_count": 89,
   "id": "b20a0e06",
   "metadata": {},
   "outputs": [
    {
     "name": "stdout",
     "output_type": "stream",
     "text": [
      "32/32 [==============================] - 0s 713us/step\n"
     ]
    },
    {
     "data": {
      "text/plain": [
       "array([[0.24013282, 0.00567759, 0.03135345, 0.0531606 , 0.13489759,\n",
       "        0.33410022, 0.20067775],\n",
       "       [0.28149873, 0.00206523, 0.00969656, 0.02752979, 0.11703593,\n",
       "        0.2033697 , 0.35880408],\n",
       "       [0.27432233, 0.01774901, 0.07639445, 0.07532484, 0.1258941 ,\n",
       "        0.2296274 , 0.2006879 ],\n",
       "       [0.24473922, 0.03280017, 0.13782173, 0.09758695, 0.12600112,\n",
       "        0.21815696, 0.14289385],\n",
       "       [0.288001  , 0.00501454, 0.01777888, 0.04058054, 0.1390885 ,\n",
       "        0.26580596, 0.24373055]], dtype=float32)"
      ]
     },
     "execution_count": 89,
     "metadata": {},
     "output_type": "execute_result"
    }
   ],
   "source": [
    "# test 데이터에 대한 예측값 정리\n",
    "y_pred_proba = model.predict(x_test)\n",
    "y_pred_proba[:5]"
   ]
  },
  {
   "cell_type": "code",
   "execution_count": 95,
   "id": "660a1d25",
   "metadata": {},
   "outputs": [],
   "source": [
    "# np.argmax 함수를 사용\n",
    "y_pred_label = np.argmax(y_pred_proba,axis=-1)+3"
   ]
  },
  {
   "cell_type": "code",
   "execution_count": 97,
   "id": "73f9ade0",
   "metadata": {},
   "outputs": [
    {
     "data": {
      "text/plain": [
       "array([5, 6, 0, 0, 0, 0], dtype=int64)"
      ]
     },
     "execution_count": 97,
     "metadata": {},
     "output_type": "execute_result"
    }
   ],
   "source": [
    "y_pred_label[:6]"
   ]
  },
  {
   "cell_type": "code",
   "execution_count": 98,
   "id": "6a56e9ba",
   "metadata": {},
   "outputs": [
    {
     "data": {
      "text/html": [
       "<div>\n",
       "<style scoped>\n",
       "    .dataframe tbody tr th:only-of-type {\n",
       "        vertical-align: middle;\n",
       "    }\n",
       "\n",
       "    .dataframe tbody tr th {\n",
       "        vertical-align: top;\n",
       "    }\n",
       "\n",
       "    .dataframe thead th {\n",
       "        text-align: right;\n",
       "    }\n",
       "</style>\n",
       "<table border=\"1\" class=\"dataframe\">\n",
       "  <thead>\n",
       "    <tr style=\"text-align: right;\">\n",
       "      <th></th>\n",
       "      <th>index</th>\n",
       "      <th>quality</th>\n",
       "    </tr>\n",
       "  </thead>\n",
       "  <tbody>\n",
       "    <tr>\n",
       "      <th>0</th>\n",
       "      <td>0</td>\n",
       "      <td>5</td>\n",
       "    </tr>\n",
       "    <tr>\n",
       "      <th>1</th>\n",
       "      <td>1</td>\n",
       "      <td>6</td>\n",
       "    </tr>\n",
       "    <tr>\n",
       "      <th>2</th>\n",
       "      <td>2</td>\n",
       "      <td>0</td>\n",
       "    </tr>\n",
       "    <tr>\n",
       "      <th>3</th>\n",
       "      <td>3</td>\n",
       "      <td>0</td>\n",
       "    </tr>\n",
       "    <tr>\n",
       "      <th>4</th>\n",
       "      <td>4</td>\n",
       "      <td>0</td>\n",
       "    </tr>\n",
       "  </tbody>\n",
       "</table>\n",
       "</div>"
      ],
      "text/plain": [
       "   index  quality\n",
       "0      0        5\n",
       "1      1        6\n",
       "2      2        0\n",
       "3      3        0\n",
       "4      4        0"
      ]
     },
     "execution_count": 98,
     "metadata": {},
     "output_type": "execute_result"
    }
   ],
   "source": [
    "submission['quality'] = y_pred_label.astype(int)\n",
    "submission.head()"
   ]
  },
  {
   "cell_type": "code",
   "execution_count": 99,
   "id": "85ed9589",
   "metadata": {},
   "outputs": [],
   "source": [
    "submission.to_csv(drive_path+'wine_001.csv', index=False)"
   ]
  },
  {
   "cell_type": "code",
   "execution_count": 100,
   "id": "493002d9",
   "metadata": {},
   "outputs": [
    {
     "data": {
      "text/plain": [
       "'./wine/data/'"
      ]
     },
     "execution_count": 100,
     "metadata": {},
     "output_type": "execute_result"
    }
   ],
   "source": []
  }
 ],
 "metadata": {
  "kernelspec": {
   "display_name": "Python 3 (ipykernel)",
   "language": "python",
   "name": "python3"
  },
  "language_info": {
   "codemirror_mode": {
    "name": "ipython",
    "version": 3
   },
   "file_extension": ".py",
   "mimetype": "text/x-python",
   "name": "python",
   "nbconvert_exporter": "python",
   "pygments_lexer": "ipython3",
   "version": "3.10.4"
  }
 },
 "nbformat": 4,
 "nbformat_minor": 5
}
