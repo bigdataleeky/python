{
 "cells": [
  {
   "cell_type": "code",
   "execution_count": null,
   "id": "b23fa882",
   "metadata": {},
   "outputs": [],
   "source": [
    "# 타깃 마케팅...\n",
    "# 온라인 판매 데이터를 분석 타깃 마케팅이 필요한 소비자 군집을 구성\n",
    "# 비지도학습, 군집화, k-평균, 엘보우 방법, 실루엣 방법\n",
    "# UCI Machin Learning Repository 에서 다운로드\n",
    "# 비지도학습\n",
    "# - 타깃이 주어지지 않은상태에서 학습\n",
    "# - 훈련데이터를 학습->모델생성->유사한 특성(관계, 패턴)을 가지는 데이터로 클러스터를 구성\n",
    "# - 새로운 데이터의 특성을 분석하여 해당 클러스터를 예측\n",
    "# k-평균\n",
    "# 유클리디안 거리 알고리즘을 이용  평균거리가 작은쪽으로 계속 중심점을 이동\n",
    "# 엘보방법\n",
    "#  - 왜곡 : 클러스터의 중심점과 클러스터내의 데이터 거리 차이의 제곱값의 합\n",
    "#  - 클러스터의 개수 k의 변화에 따른 왜곡의 변화를 그래프로 그려보면 그래프가 꺽이는 지점이\n",
    "#     엘보.... 그 곳을 최적의 k로 선택\n",
    "# 실루엣 분석\n",
    "#  - 클러스터내의 데이터가 얼마나 조밀하게 모여있는지 측정하는 그래프 도구\n",
    "#  - 데이터 i가 해당 클러스터내의 데이터와 얼마나 가까운가를 나타내는 응집력 a(i)\n",
    "#  - 가장 가까운 다른 클러스터내의 데이터와 얼마나 떨어져 있는가를\n",
    "#    나타내는 클러스터 분리도b(i)를 이용\n",
    "#  - 실루엣  계수 s(i)를 계산\n",
    "#  -  -1에서 1상이의 값을 가지며 1에 가까울수록 좋은 군집화\n",
    "#  - s(i) =  ( b(i) - a(i) ) / max(a(i),b(i))"
   ]
  },
  {
   "cell_type": "code",
   "execution_count": 2,
   "id": "108f17e1",
   "metadata": {},
   "outputs": [],
   "source": [
    "# nvoiceNo: 6자리 정수로 이루어진 송장 번호. ‘C’로 시작하는 것은 취소 주문 \n",
    "# StockCode: 제품 고유의 품목 코드 \n",
    "# Description: 제품 설명 \n",
    "# Quantity: 주문 수량\n",
    "# Country: 주문 고객의 국적\n",
    "# InvoiceDate: 주문 날짜와 시간 \n",
    "# UnitPrice: 제품 단가(£, 영국 파운드화)\n",
    "# CustomerID: 주문 고객 번호 "
   ]
  },
  {
   "cell_type": "code",
   "execution_count": 3,
   "id": "feb29759",
   "metadata": {},
   "outputs": [],
   "source": [
    "import pandas as pd\n",
    "import math"
   ]
  },
  {
   "cell_type": "code",
   "execution_count": 5,
   "id": "03d4ec23",
   "metadata": {},
   "outputs": [
    {
     "name": "stdout",
     "output_type": "stream",
     "text": [
      "Collecting openpyxl\n",
      "  Downloading openpyxl-3.0.9-py2.py3-none-any.whl (242 kB)\n",
      "Collecting et-xmlfile\n",
      "  Downloading et_xmlfile-1.1.0-py3-none-any.whl (4.7 kB)\n",
      "Installing collected packages: et-xmlfile, openpyxl\n",
      "Successfully installed et-xmlfile-1.1.0 openpyxl-3.0.9\n"
     ]
    }
   ],
   "source": [
    "!pip install openpyxl"
   ]
  },
  {
   "cell_type": "code",
   "execution_count": 61,
   "id": "a4e12c68",
   "metadata": {},
   "outputs": [
    {
     "data": {
      "text/html": [
       "<div>\n",
       "<style scoped>\n",
       "    .dataframe tbody tr th:only-of-type {\n",
       "        vertical-align: middle;\n",
       "    }\n",
       "\n",
       "    .dataframe tbody tr th {\n",
       "        vertical-align: top;\n",
       "    }\n",
       "\n",
       "    .dataframe thead th {\n",
       "        text-align: right;\n",
       "    }\n",
       "</style>\n",
       "<table border=\"1\" class=\"dataframe\">\n",
       "  <thead>\n",
       "    <tr style=\"text-align: right;\">\n",
       "      <th></th>\n",
       "      <th>InvoiceNo</th>\n",
       "      <th>StockCode</th>\n",
       "      <th>Description</th>\n",
       "      <th>Quantity</th>\n",
       "      <th>InvoiceDate</th>\n",
       "      <th>UnitPrice</th>\n",
       "      <th>CustomerID</th>\n",
       "      <th>Country</th>\n",
       "    </tr>\n",
       "  </thead>\n",
       "  <tbody>\n",
       "    <tr>\n",
       "      <th>0</th>\n",
       "      <td>536365</td>\n",
       "      <td>85123A</td>\n",
       "      <td>WHITE HANGING HEART T-LIGHT HOLDER</td>\n",
       "      <td>6</td>\n",
       "      <td>2010-12-01 08:26:00</td>\n",
       "      <td>2.55</td>\n",
       "      <td>17850.0</td>\n",
       "      <td>United Kingdom</td>\n",
       "    </tr>\n",
       "    <tr>\n",
       "      <th>1</th>\n",
       "      <td>536365</td>\n",
       "      <td>71053</td>\n",
       "      <td>WHITE METAL LANTERN</td>\n",
       "      <td>6</td>\n",
       "      <td>2010-12-01 08:26:00</td>\n",
       "      <td>3.39</td>\n",
       "      <td>17850.0</td>\n",
       "      <td>United Kingdom</td>\n",
       "    </tr>\n",
       "    <tr>\n",
       "      <th>2</th>\n",
       "      <td>536365</td>\n",
       "      <td>84406B</td>\n",
       "      <td>CREAM CUPID HEARTS COAT HANGER</td>\n",
       "      <td>8</td>\n",
       "      <td>2010-12-01 08:26:00</td>\n",
       "      <td>2.75</td>\n",
       "      <td>17850.0</td>\n",
       "      <td>United Kingdom</td>\n",
       "    </tr>\n",
       "    <tr>\n",
       "      <th>3</th>\n",
       "      <td>536365</td>\n",
       "      <td>84029G</td>\n",
       "      <td>KNITTED UNION FLAG HOT WATER BOTTLE</td>\n",
       "      <td>6</td>\n",
       "      <td>2010-12-01 08:26:00</td>\n",
       "      <td>3.39</td>\n",
       "      <td>17850.0</td>\n",
       "      <td>United Kingdom</td>\n",
       "    </tr>\n",
       "    <tr>\n",
       "      <th>4</th>\n",
       "      <td>536365</td>\n",
       "      <td>84029E</td>\n",
       "      <td>RED WOOLLY HOTTIE WHITE HEART.</td>\n",
       "      <td>6</td>\n",
       "      <td>2010-12-01 08:26:00</td>\n",
       "      <td>3.39</td>\n",
       "      <td>17850.0</td>\n",
       "      <td>United Kingdom</td>\n",
       "    </tr>\n",
       "  </tbody>\n",
       "</table>\n",
       "</div>"
      ],
      "text/plain": [
       "  InvoiceNo StockCode                          Description  Quantity  \\\n",
       "0    536365    85123A   WHITE HANGING HEART T-LIGHT HOLDER         6   \n",
       "1    536365     71053                  WHITE METAL LANTERN         6   \n",
       "2    536365    84406B       CREAM CUPID HEARTS COAT HANGER         8   \n",
       "3    536365    84029G  KNITTED UNION FLAG HOT WATER BOTTLE         6   \n",
       "4    536365    84029E       RED WOOLLY HOTTIE WHITE HEART.         6   \n",
       "\n",
       "          InvoiceDate  UnitPrice  CustomerID         Country  \n",
       "0 2010-12-01 08:26:00       2.55     17850.0  United Kingdom  \n",
       "1 2010-12-01 08:26:00       3.39     17850.0  United Kingdom  \n",
       "2 2010-12-01 08:26:00       2.75     17850.0  United Kingdom  \n",
       "3 2010-12-01 08:26:00       3.39     17850.0  United Kingdom  \n",
       "4 2010-12-01 08:26:00       3.39     17850.0  United Kingdom  "
      ]
     },
     "execution_count": 61,
     "metadata": {},
     "output_type": "execute_result"
    }
   ],
   "source": [
    "retail_df =  pd.read_excel('D:/ML/Online_Retail.xlsx') # 개인 경로\n",
    "retail_df.head()"
   ]
  },
  {
   "cell_type": "code",
   "execution_count": 62,
   "id": "4e7eacaa",
   "metadata": {},
   "outputs": [
    {
     "data": {
      "text/plain": [
       "(541909, 8)"
      ]
     },
     "execution_count": 62,
     "metadata": {},
     "output_type": "execute_result"
    }
   ],
   "source": [
    "retail_df.shape"
   ]
  },
  {
   "cell_type": "code",
   "execution_count": 63,
   "id": "337a96d3",
   "metadata": {},
   "outputs": [
    {
     "name": "stdout",
     "output_type": "stream",
     "text": [
      "<class 'pandas.core.frame.DataFrame'>\n",
      "RangeIndex: 541909 entries, 0 to 541908\n",
      "Data columns (total 8 columns):\n",
      " #   Column       Non-Null Count   Dtype         \n",
      "---  ------       --------------   -----         \n",
      " 0   InvoiceNo    541909 non-null  object        \n",
      " 1   StockCode    541909 non-null  object        \n",
      " 2   Description  540455 non-null  object        \n",
      " 3   Quantity     541909 non-null  int64         \n",
      " 4   InvoiceDate  541909 non-null  datetime64[ns]\n",
      " 5   UnitPrice    541909 non-null  float64       \n",
      " 6   CustomerID   406829 non-null  float64       \n",
      " 7   Country      541909 non-null  object        \n",
      "dtypes: datetime64[ns](1), float64(2), int64(1), object(4)\n",
      "memory usage: 33.1+ MB\n"
     ]
    }
   ],
   "source": [
    "# 데이터 준비 및 탐색\n",
    "# 데이터 정제하기 - 데이터 확인\n",
    "retail_df.info()"
   ]
  },
  {
   "cell_type": "code",
   "execution_count": 64,
   "id": "f0e7c3d3",
   "metadata": {},
   "outputs": [],
   "source": [
    "retail_df = retail_df[retail_df['CustomerID'].notnull()]"
   ]
  },
  {
   "cell_type": "code",
   "execution_count": 65,
   "id": "b14f2ad7",
   "metadata": {},
   "outputs": [
    {
     "data": {
      "text/plain": [
       "8905"
      ]
     },
     "execution_count": 65,
     "metadata": {},
     "output_type": "execute_result"
    }
   ],
   "source": [
    "sum(retail_df['Quantity']<0)"
   ]
  },
  {
   "cell_type": "code",
   "execution_count": 66,
   "id": "7be48d32",
   "metadata": {},
   "outputs": [],
   "source": [
    "retail_df = retail_df[retail_df['Quantity']>0]"
   ]
  },
  {
   "cell_type": "code",
   "execution_count": 67,
   "id": "ec9a738e",
   "metadata": {},
   "outputs": [
    {
     "data": {
      "text/plain": [
       "0"
      ]
     },
     "execution_count": 67,
     "metadata": {},
     "output_type": "execute_result"
    }
   ],
   "source": [
    "sum(retail_df['UnitPrice']<0)"
   ]
  },
  {
   "cell_type": "code",
   "execution_count": 68,
   "id": "ee9f5505",
   "metadata": {},
   "outputs": [
    {
     "data": {
      "text/plain": [
       "0"
      ]
     },
     "execution_count": 68,
     "metadata": {},
     "output_type": "execute_result"
    }
   ],
   "source": [
    "sum(retail_df['Quantity']<0)"
   ]
  },
  {
   "cell_type": "code",
   "execution_count": 69,
   "id": "7e2dcc1e",
   "metadata": {},
   "outputs": [
    {
     "data": {
      "text/plain": [
       "0"
      ]
     },
     "execution_count": 69,
     "metadata": {},
     "output_type": "execute_result"
    }
   ],
   "source": [
    "sum(retail_df['CustomerID'].isna())"
   ]
  },
  {
   "cell_type": "code",
   "execution_count": 70,
   "id": "a91ffb18",
   "metadata": {},
   "outputs": [],
   "source": [
    "# customerId가 정수형태로 변환  DataFrame.astype(int)\n",
    "retail_df['CustomerID'] = retail_df['CustomerID'].astype(int)"
   ]
  },
  {
   "cell_type": "code",
   "execution_count": 71,
   "id": "22a50b29",
   "metadata": {},
   "outputs": [
    {
     "name": "stdout",
     "output_type": "stream",
     "text": [
      "<class 'pandas.core.frame.DataFrame'>\n",
      "Int64Index: 397924 entries, 0 to 541908\n",
      "Data columns (total 8 columns):\n",
      " #   Column       Non-Null Count   Dtype         \n",
      "---  ------       --------------   -----         \n",
      " 0   InvoiceNo    397924 non-null  object        \n",
      " 1   StockCode    397924 non-null  object        \n",
      " 2   Description  397924 non-null  object        \n",
      " 3   Quantity     397924 non-null  int64         \n",
      " 4   InvoiceDate  397924 non-null  datetime64[ns]\n",
      " 5   UnitPrice    397924 non-null  float64       \n",
      " 6   CustomerID   397924 non-null  int32         \n",
      " 7   Country      397924 non-null  object        \n",
      "dtypes: datetime64[ns](1), float64(1), int32(1), int64(1), object(4)\n",
      "memory usage: 25.8+ MB\n"
     ]
    }
   ],
   "source": [
    "retail_df.info()"
   ]
  },
  {
   "cell_type": "code",
   "execution_count": 72,
   "id": "aeaebd6a",
   "metadata": {},
   "outputs": [
    {
     "data": {
      "text/html": [
       "<div>\n",
       "<style scoped>\n",
       "    .dataframe tbody tr th:only-of-type {\n",
       "        vertical-align: middle;\n",
       "    }\n",
       "\n",
       "    .dataframe tbody tr th {\n",
       "        vertical-align: top;\n",
       "    }\n",
       "\n",
       "    .dataframe thead th {\n",
       "        text-align: right;\n",
       "    }\n",
       "</style>\n",
       "<table border=\"1\" class=\"dataframe\">\n",
       "  <thead>\n",
       "    <tr style=\"text-align: right;\">\n",
       "      <th></th>\n",
       "      <th>InvoiceNo</th>\n",
       "      <th>StockCode</th>\n",
       "      <th>Description</th>\n",
       "      <th>Quantity</th>\n",
       "      <th>InvoiceDate</th>\n",
       "      <th>UnitPrice</th>\n",
       "      <th>CustomerID</th>\n",
       "      <th>Country</th>\n",
       "    </tr>\n",
       "  </thead>\n",
       "  <tbody>\n",
       "    <tr>\n",
       "      <th>0</th>\n",
       "      <td>536365</td>\n",
       "      <td>85123A</td>\n",
       "      <td>WHITE HANGING HEART T-LIGHT HOLDER</td>\n",
       "      <td>6</td>\n",
       "      <td>2010-12-01 08:26:00</td>\n",
       "      <td>2.55</td>\n",
       "      <td>17850</td>\n",
       "      <td>United Kingdom</td>\n",
       "    </tr>\n",
       "    <tr>\n",
       "      <th>1</th>\n",
       "      <td>536365</td>\n",
       "      <td>71053</td>\n",
       "      <td>WHITE METAL LANTERN</td>\n",
       "      <td>6</td>\n",
       "      <td>2010-12-01 08:26:00</td>\n",
       "      <td>3.39</td>\n",
       "      <td>17850</td>\n",
       "      <td>United Kingdom</td>\n",
       "    </tr>\n",
       "    <tr>\n",
       "      <th>2</th>\n",
       "      <td>536365</td>\n",
       "      <td>84406B</td>\n",
       "      <td>CREAM CUPID HEARTS COAT HANGER</td>\n",
       "      <td>8</td>\n",
       "      <td>2010-12-01 08:26:00</td>\n",
       "      <td>2.75</td>\n",
       "      <td>17850</td>\n",
       "      <td>United Kingdom</td>\n",
       "    </tr>\n",
       "    <tr>\n",
       "      <th>3</th>\n",
       "      <td>536365</td>\n",
       "      <td>84029G</td>\n",
       "      <td>KNITTED UNION FLAG HOT WATER BOTTLE</td>\n",
       "      <td>6</td>\n",
       "      <td>2010-12-01 08:26:00</td>\n",
       "      <td>3.39</td>\n",
       "      <td>17850</td>\n",
       "      <td>United Kingdom</td>\n",
       "    </tr>\n",
       "    <tr>\n",
       "      <th>4</th>\n",
       "      <td>536365</td>\n",
       "      <td>84029E</td>\n",
       "      <td>RED WOOLLY HOTTIE WHITE HEART.</td>\n",
       "      <td>6</td>\n",
       "      <td>2010-12-01 08:26:00</td>\n",
       "      <td>3.39</td>\n",
       "      <td>17850</td>\n",
       "      <td>United Kingdom</td>\n",
       "    </tr>\n",
       "  </tbody>\n",
       "</table>\n",
       "</div>"
      ],
      "text/plain": [
       "  InvoiceNo StockCode                          Description  Quantity  \\\n",
       "0    536365    85123A   WHITE HANGING HEART T-LIGHT HOLDER         6   \n",
       "1    536365     71053                  WHITE METAL LANTERN         6   \n",
       "2    536365    84406B       CREAM CUPID HEARTS COAT HANGER         8   \n",
       "3    536365    84029G  KNITTED UNION FLAG HOT WATER BOTTLE         6   \n",
       "4    536365    84029E       RED WOOLLY HOTTIE WHITE HEART.         6   \n",
       "\n",
       "          InvoiceDate  UnitPrice  CustomerID         Country  \n",
       "0 2010-12-01 08:26:00       2.55       17850  United Kingdom  \n",
       "1 2010-12-01 08:26:00       3.39       17850  United Kingdom  \n",
       "2 2010-12-01 08:26:00       2.75       17850  United Kingdom  \n",
       "3 2010-12-01 08:26:00       3.39       17850  United Kingdom  \n",
       "4 2010-12-01 08:26:00       3.39       17850  United Kingdom  "
      ]
     },
     "execution_count": 72,
     "metadata": {},
     "output_type": "execute_result"
    }
   ],
   "source": [
    "retail_df.head()"
   ]
  },
  {
   "cell_type": "code",
   "execution_count": 108,
   "id": "0bca0515",
   "metadata": {},
   "outputs": [
    {
     "data": {
      "text/html": [
       "<div>\n",
       "<style scoped>\n",
       "    .dataframe tbody tr th:only-of-type {\n",
       "        vertical-align: middle;\n",
       "    }\n",
       "\n",
       "    .dataframe tbody tr th {\n",
       "        vertical-align: top;\n",
       "    }\n",
       "\n",
       "    .dataframe thead th {\n",
       "        text-align: right;\n",
       "    }\n",
       "</style>\n",
       "<table border=\"1\" class=\"dataframe\">\n",
       "  <thead>\n",
       "    <tr style=\"text-align: right;\">\n",
       "      <th></th>\n",
       "      <th></th>\n",
       "      <th></th>\n",
       "      <th></th>\n",
       "      <th></th>\n",
       "      <th></th>\n",
       "      <th></th>\n",
       "      <th>Country</th>\n",
       "    </tr>\n",
       "    <tr>\n",
       "      <th>InvoiceNo</th>\n",
       "      <th>StockCode</th>\n",
       "      <th>Description</th>\n",
       "      <th>Quantity</th>\n",
       "      <th>InvoiceDate</th>\n",
       "      <th>UnitPrice</th>\n",
       "      <th>CustomerID</th>\n",
       "      <th></th>\n",
       "    </tr>\n",
       "  </thead>\n",
       "  <tbody>\n",
       "    <tr>\n",
       "      <th rowspan=\"5\" valign=\"top\">536365</th>\n",
       "      <th>21730</th>\n",
       "      <th>GLASS STAR FROSTED T-LIGHT HOLDER</th>\n",
       "      <th>6</th>\n",
       "      <th>2010-12-01 08:26:00</th>\n",
       "      <th>4.25</th>\n",
       "      <th>17850</th>\n",
       "      <td>False</td>\n",
       "    </tr>\n",
       "    <tr>\n",
       "      <th>22752</th>\n",
       "      <th>SET 7 BABUSHKA NESTING BOXES</th>\n",
       "      <th>2</th>\n",
       "      <th>2010-12-01 08:26:00</th>\n",
       "      <th>7.65</th>\n",
       "      <th>17850</th>\n",
       "      <td>False</td>\n",
       "    </tr>\n",
       "    <tr>\n",
       "      <th>71053</th>\n",
       "      <th>WHITE METAL LANTERN</th>\n",
       "      <th>6</th>\n",
       "      <th>2010-12-01 08:26:00</th>\n",
       "      <th>3.39</th>\n",
       "      <th>17850</th>\n",
       "      <td>False</td>\n",
       "    </tr>\n",
       "    <tr>\n",
       "      <th>84029E</th>\n",
       "      <th>RED WOOLLY HOTTIE WHITE HEART.</th>\n",
       "      <th>6</th>\n",
       "      <th>2010-12-01 08:26:00</th>\n",
       "      <th>3.39</th>\n",
       "      <th>17850</th>\n",
       "      <td>False</td>\n",
       "    </tr>\n",
       "    <tr>\n",
       "      <th>84029G</th>\n",
       "      <th>KNITTED UNION FLAG HOT WATER BOTTLE</th>\n",
       "      <th>6</th>\n",
       "      <th>2010-12-01 08:26:00</th>\n",
       "      <th>3.39</th>\n",
       "      <th>17850</th>\n",
       "      <td>False</td>\n",
       "    </tr>\n",
       "    <tr>\n",
       "      <th>...</th>\n",
       "      <th>...</th>\n",
       "      <th>...</th>\n",
       "      <th>...</th>\n",
       "      <th>...</th>\n",
       "      <th>...</th>\n",
       "      <th>...</th>\n",
       "      <td>...</td>\n",
       "    </tr>\n",
       "    <tr>\n",
       "      <th rowspan=\"5\" valign=\"top\">581587</th>\n",
       "      <th>22730</th>\n",
       "      <th>ALARM CLOCK BAKELIKE IVORY</th>\n",
       "      <th>4</th>\n",
       "      <th>2011-12-09 12:50:00</th>\n",
       "      <th>3.75</th>\n",
       "      <th>12680</th>\n",
       "      <td>False</td>\n",
       "    </tr>\n",
       "    <tr>\n",
       "      <th>22899</th>\n",
       "      <th>CHILDREN'S APRON DOLLY GIRL</th>\n",
       "      <th>6</th>\n",
       "      <th>2011-12-09 12:50:00</th>\n",
       "      <th>2.10</th>\n",
       "      <th>12680</th>\n",
       "      <td>False</td>\n",
       "    </tr>\n",
       "    <tr>\n",
       "      <th>23254</th>\n",
       "      <th>CHILDRENS CUTLERY DOLLY GIRL</th>\n",
       "      <th>4</th>\n",
       "      <th>2011-12-09 12:50:00</th>\n",
       "      <th>4.15</th>\n",
       "      <th>12680</th>\n",
       "      <td>False</td>\n",
       "    </tr>\n",
       "    <tr>\n",
       "      <th>23255</th>\n",
       "      <th>CHILDRENS CUTLERY CIRCUS PARADE</th>\n",
       "      <th>4</th>\n",
       "      <th>2011-12-09 12:50:00</th>\n",
       "      <th>4.15</th>\n",
       "      <th>12680</th>\n",
       "      <td>False</td>\n",
       "    </tr>\n",
       "    <tr>\n",
       "      <th>23256</th>\n",
       "      <th>CHILDRENS CUTLERY SPACEBOY</th>\n",
       "      <th>4</th>\n",
       "      <th>2011-12-09 12:50:00</th>\n",
       "      <th>4.15</th>\n",
       "      <th>12680</th>\n",
       "      <td>False</td>\n",
       "    </tr>\n",
       "  </tbody>\n",
       "</table>\n",
       "<p>392732 rows × 1 columns</p>\n",
       "</div>"
      ],
      "text/plain": [
       "                                                                                                           Country\n",
       "InvoiceNo StockCode Description                         Quantity InvoiceDate         UnitPrice CustomerID         \n",
       "536365    21730     GLASS STAR FROSTED T-LIGHT HOLDER   6        2010-12-01 08:26:00 4.25      17850         False\n",
       "          22752     SET 7 BABUSHKA NESTING BOXES        2        2010-12-01 08:26:00 7.65      17850         False\n",
       "          71053     WHITE METAL LANTERN                 6        2010-12-01 08:26:00 3.39      17850         False\n",
       "          84029E    RED WOOLLY HOTTIE WHITE HEART.      6        2010-12-01 08:26:00 3.39      17850         False\n",
       "          84029G    KNITTED UNION FLAG HOT WATER BOTTLE 6        2010-12-01 08:26:00 3.39      17850         False\n",
       "...                                                                                                            ...\n",
       "581587    22730     ALARM CLOCK BAKELIKE IVORY          4        2011-12-09 12:50:00 3.75      12680         False\n",
       "          22899     CHILDREN'S APRON DOLLY GIRL         6        2011-12-09 12:50:00 2.10      12680         False\n",
       "          23254     CHILDRENS CUTLERY DOLLY GIRL        4        2011-12-09 12:50:00 4.15      12680         False\n",
       "          23255     CHILDRENS CUTLERY CIRCUS PARADE     4        2011-12-09 12:50:00 4.15      12680         False\n",
       "          23256     CHILDRENS CUTLERY SPACEBOY          4        2011-12-09 12:50:00 4.15      12680         False\n",
       "\n",
       "[392732 rows x 1 columns]"
      ]
     },
     "execution_count": 108,
     "metadata": {},
     "output_type": "execute_result"
    }
   ],
   "source": [
    "# 중복 데이터 확인\n",
    "#list(retail_df.columns)\n",
    "#retail_df.columns.tolist()\n",
    "temp = retail_df.groupby(['InvoiceNo','StockCode','Description','Quantity','InvoiceDate','UnitPrice','CustomerID']).count() > 1\n",
    "temp\n",
    "# retail_df.groupby(['InvoiceNo','StockCode']).count()"
   ]
  },
  {
   "cell_type": "code",
   "execution_count": 109,
   "id": "f9613304",
   "metadata": {},
   "outputs": [
    {
     "name": "stdout",
     "output_type": "stream",
     "text": [
      "(397924, 8)\n",
      "(392732, 8)\n"
     ]
    }
   ],
   "source": [
    "# 중복 레코드 제거\n",
    "print(retail_df.shape)\n",
    "retail_df.drop_duplicates(inplace=True)\n",
    "print(retail_df.shape)"
   ]
  },
  {
   "cell_type": "code",
   "execution_count": 110,
   "id": "e33d4e9b",
   "metadata": {},
   "outputs": [
    {
     "data": {
      "text/html": [
       "<div>\n",
       "<style scoped>\n",
       "    .dataframe tbody tr th:only-of-type {\n",
       "        vertical-align: middle;\n",
       "    }\n",
       "\n",
       "    .dataframe tbody tr th {\n",
       "        vertical-align: top;\n",
       "    }\n",
       "\n",
       "    .dataframe thead th {\n",
       "        text-align: right;\n",
       "    }\n",
       "</style>\n",
       "<table border=\"1\" class=\"dataframe\">\n",
       "  <thead>\n",
       "    <tr style=\"text-align: right;\">\n",
       "      <th></th>\n",
       "      <th>Product</th>\n",
       "      <th>Transaction</th>\n",
       "      <th>Customer</th>\n",
       "    </tr>\n",
       "  </thead>\n",
       "  <tbody>\n",
       "    <tr>\n",
       "      <th>counts</th>\n",
       "      <td>3665</td>\n",
       "      <td>18536</td>\n",
       "      <td>4339</td>\n",
       "    </tr>\n",
       "  </tbody>\n",
       "</table>\n",
       "</div>"
      ],
      "text/plain": [
       "        Product  Transaction  Customer\n",
       "counts     3665        18536      4339"
      ]
     },
     "execution_count": 110,
     "metadata": {},
     "output_type": "execute_result"
    }
   ],
   "source": [
    "# 제품의  수(Product), 거래건수(Transaction), 고객 수(Customer) \n",
    "retail_df['StockCode'].value_counts()\n",
    "retail_df['InvoiceNo'].value_counts()\n",
    "retail_df['CustomerID'].value_counts()\n",
    "\n",
    "pd.DataFrame({\n",
    "    'Product':[len(retail_df['StockCode'].value_counts())],\n",
    "    'Transaction':[len(retail_df['InvoiceNo'].value_counts())],\n",
    "    'Customer' : [len(retail_df['CustomerID'].value_counts())]\n",
    "},index = ['counts'])\n",
    "\n",
    "# d = {\n",
    "#     'Product': [3665], \n",
    "#     'Transaction': [18536]\n",
    "# }\n",
    "# df = pd.DataFrame(data=d)\n",
    "# df   "
   ]
  },
  {
   "cell_type": "code",
   "execution_count": 111,
   "id": "485299cc",
   "metadata": {},
   "outputs": [
    {
     "data": {
      "text/plain": [
       "United Kingdom          349227\n",
       "Germany                   9027\n",
       "France                    8327\n",
       "EIRE                      7228\n",
       "Spain                     2480\n",
       "Netherlands               2363\n",
       "Belgium                   2031\n",
       "Switzerland               1842\n",
       "Portugal                  1453\n",
       "Australia                 1184\n",
       "Norway                    1072\n",
       "Italy                      758\n",
       "Channel Islands            747\n",
       "Finland                    685\n",
       "Cyprus                     603\n",
       "Sweden                     450\n",
       "Austria                    398\n",
       "Denmark                    380\n",
       "Poland                     330\n",
       "Japan                      321\n",
       "Israel                     245\n",
       "Unspecified                241\n",
       "Singapore                  222\n",
       "Iceland                    182\n",
       "USA                        179\n",
       "Canada                     151\n",
       "Greece                     145\n",
       "Malta                      112\n",
       "United Arab Emirates        68\n",
       "European Community          60\n",
       "RSA                         58\n",
       "Lebanon                     45\n",
       "Lithuania                   35\n",
       "Brazil                      32\n",
       "Czech Republic              25\n",
       "Bahrain                     17\n",
       "Saudi Arabia                 9\n",
       "Name: Country, dtype: int64"
      ]
     },
     "execution_count": 111,
     "metadata": {},
     "output_type": "execute_result"
    }
   ],
   "source": [
    "retail_df['Country'].value_counts()"
   ]
  },
  {
   "cell_type": "code",
   "execution_count": 112,
   "id": "2d61fdc3",
   "metadata": {},
   "outputs": [
    {
     "data": {
      "text/html": [
       "<div>\n",
       "<style scoped>\n",
       "    .dataframe tbody tr th:only-of-type {\n",
       "        vertical-align: middle;\n",
       "    }\n",
       "\n",
       "    .dataframe tbody tr th {\n",
       "        vertical-align: top;\n",
       "    }\n",
       "\n",
       "    .dataframe thead th {\n",
       "        text-align: right;\n",
       "    }\n",
       "</style>\n",
       "<table border=\"1\" class=\"dataframe\">\n",
       "  <thead>\n",
       "    <tr style=\"text-align: right;\">\n",
       "      <th></th>\n",
       "      <th>InvoiceNo</th>\n",
       "      <th>StockCode</th>\n",
       "      <th>Description</th>\n",
       "      <th>Quantity</th>\n",
       "      <th>InvoiceDate</th>\n",
       "      <th>UnitPrice</th>\n",
       "      <th>CustomerID</th>\n",
       "      <th>Country</th>\n",
       "    </tr>\n",
       "  </thead>\n",
       "  <tbody>\n",
       "    <tr>\n",
       "      <th>0</th>\n",
       "      <td>536365</td>\n",
       "      <td>85123A</td>\n",
       "      <td>WHITE HANGING HEART T-LIGHT HOLDER</td>\n",
       "      <td>6</td>\n",
       "      <td>2010-12-01 08:26:00</td>\n",
       "      <td>2.55</td>\n",
       "      <td>17850</td>\n",
       "      <td>United Kingdom</td>\n",
       "    </tr>\n",
       "    <tr>\n",
       "      <th>1</th>\n",
       "      <td>536365</td>\n",
       "      <td>71053</td>\n",
       "      <td>WHITE METAL LANTERN</td>\n",
       "      <td>6</td>\n",
       "      <td>2010-12-01 08:26:00</td>\n",
       "      <td>3.39</td>\n",
       "      <td>17850</td>\n",
       "      <td>United Kingdom</td>\n",
       "    </tr>\n",
       "    <tr>\n",
       "      <th>2</th>\n",
       "      <td>536365</td>\n",
       "      <td>84406B</td>\n",
       "      <td>CREAM CUPID HEARTS COAT HANGER</td>\n",
       "      <td>8</td>\n",
       "      <td>2010-12-01 08:26:00</td>\n",
       "      <td>2.75</td>\n",
       "      <td>17850</td>\n",
       "      <td>United Kingdom</td>\n",
       "    </tr>\n",
       "    <tr>\n",
       "      <th>3</th>\n",
       "      <td>536365</td>\n",
       "      <td>84029G</td>\n",
       "      <td>KNITTED UNION FLAG HOT WATER BOTTLE</td>\n",
       "      <td>6</td>\n",
       "      <td>2010-12-01 08:26:00</td>\n",
       "      <td>3.39</td>\n",
       "      <td>17850</td>\n",
       "      <td>United Kingdom</td>\n",
       "    </tr>\n",
       "    <tr>\n",
       "      <th>4</th>\n",
       "      <td>536365</td>\n",
       "      <td>84029E</td>\n",
       "      <td>RED WOOLLY HOTTIE WHITE HEART.</td>\n",
       "      <td>6</td>\n",
       "      <td>2010-12-01 08:26:00</td>\n",
       "      <td>3.39</td>\n",
       "      <td>17850</td>\n",
       "      <td>United Kingdom</td>\n",
       "    </tr>\n",
       "  </tbody>\n",
       "</table>\n",
       "</div>"
      ],
      "text/plain": [
       "  InvoiceNo StockCode                          Description  Quantity  \\\n",
       "0    536365    85123A   WHITE HANGING HEART T-LIGHT HOLDER         6   \n",
       "1    536365     71053                  WHITE METAL LANTERN         6   \n",
       "2    536365    84406B       CREAM CUPID HEARTS COAT HANGER         8   \n",
       "3    536365    84029G  KNITTED UNION FLAG HOT WATER BOTTLE         6   \n",
       "4    536365    84029E       RED WOOLLY HOTTIE WHITE HEART.         6   \n",
       "\n",
       "          InvoiceDate  UnitPrice  CustomerID         Country  \n",
       "0 2010-12-01 08:26:00       2.55       17850  United Kingdom  \n",
       "1 2010-12-01 08:26:00       3.39       17850  United Kingdom  \n",
       "2 2010-12-01 08:26:00       2.75       17850  United Kingdom  \n",
       "3 2010-12-01 08:26:00       3.39       17850  United Kingdom  \n",
       "4 2010-12-01 08:26:00       3.39       17850  United Kingdom  "
      ]
     },
     "execution_count": 112,
     "metadata": {},
     "output_type": "execute_result"
    }
   ],
   "source": [
    "# 분석용 데이터 생성\n",
    "retail_df.head()"
   ]
  },
  {
   "cell_type": "code",
   "execution_count": 113,
   "id": "23727d20",
   "metadata": {},
   "outputs": [
    {
     "data": {
      "text/html": [
       "<div>\n",
       "<style scoped>\n",
       "    .dataframe tbody tr th:only-of-type {\n",
       "        vertical-align: middle;\n",
       "    }\n",
       "\n",
       "    .dataframe tbody tr th {\n",
       "        vertical-align: top;\n",
       "    }\n",
       "\n",
       "    .dataframe thead th {\n",
       "        text-align: right;\n",
       "    }\n",
       "</style>\n",
       "<table border=\"1\" class=\"dataframe\">\n",
       "  <thead>\n",
       "    <tr style=\"text-align: right;\">\n",
       "      <th></th>\n",
       "      <th>InvoiceNo</th>\n",
       "      <th>StockCode</th>\n",
       "      <th>Description</th>\n",
       "      <th>Quantity</th>\n",
       "      <th>InvoiceDate</th>\n",
       "      <th>UnitPrice</th>\n",
       "      <th>CustomerID</th>\n",
       "      <th>Country</th>\n",
       "      <th>SaleAmount</th>\n",
       "    </tr>\n",
       "  </thead>\n",
       "  <tbody>\n",
       "    <tr>\n",
       "      <th>0</th>\n",
       "      <td>536365</td>\n",
       "      <td>85123A</td>\n",
       "      <td>WHITE HANGING HEART T-LIGHT HOLDER</td>\n",
       "      <td>6</td>\n",
       "      <td>2010-12-01 08:26:00</td>\n",
       "      <td>2.55</td>\n",
       "      <td>17850</td>\n",
       "      <td>United Kingdom</td>\n",
       "      <td>15.30</td>\n",
       "    </tr>\n",
       "    <tr>\n",
       "      <th>1</th>\n",
       "      <td>536365</td>\n",
       "      <td>71053</td>\n",
       "      <td>WHITE METAL LANTERN</td>\n",
       "      <td>6</td>\n",
       "      <td>2010-12-01 08:26:00</td>\n",
       "      <td>3.39</td>\n",
       "      <td>17850</td>\n",
       "      <td>United Kingdom</td>\n",
       "      <td>20.34</td>\n",
       "    </tr>\n",
       "    <tr>\n",
       "      <th>2</th>\n",
       "      <td>536365</td>\n",
       "      <td>84406B</td>\n",
       "      <td>CREAM CUPID HEARTS COAT HANGER</td>\n",
       "      <td>8</td>\n",
       "      <td>2010-12-01 08:26:00</td>\n",
       "      <td>2.75</td>\n",
       "      <td>17850</td>\n",
       "      <td>United Kingdom</td>\n",
       "      <td>22.00</td>\n",
       "    </tr>\n",
       "    <tr>\n",
       "      <th>3</th>\n",
       "      <td>536365</td>\n",
       "      <td>84029G</td>\n",
       "      <td>KNITTED UNION FLAG HOT WATER BOTTLE</td>\n",
       "      <td>6</td>\n",
       "      <td>2010-12-01 08:26:00</td>\n",
       "      <td>3.39</td>\n",
       "      <td>17850</td>\n",
       "      <td>United Kingdom</td>\n",
       "      <td>20.34</td>\n",
       "    </tr>\n",
       "    <tr>\n",
       "      <th>4</th>\n",
       "      <td>536365</td>\n",
       "      <td>84029E</td>\n",
       "      <td>RED WOOLLY HOTTIE WHITE HEART.</td>\n",
       "      <td>6</td>\n",
       "      <td>2010-12-01 08:26:00</td>\n",
       "      <td>3.39</td>\n",
       "      <td>17850</td>\n",
       "      <td>United Kingdom</td>\n",
       "      <td>20.34</td>\n",
       "    </tr>\n",
       "  </tbody>\n",
       "</table>\n",
       "</div>"
      ],
      "text/plain": [
       "  InvoiceNo StockCode                          Description  Quantity  \\\n",
       "0    536365    85123A   WHITE HANGING HEART T-LIGHT HOLDER         6   \n",
       "1    536365     71053                  WHITE METAL LANTERN         6   \n",
       "2    536365    84406B       CREAM CUPID HEARTS COAT HANGER         8   \n",
       "3    536365    84029G  KNITTED UNION FLAG HOT WATER BOTTLE         6   \n",
       "4    536365    84029E       RED WOOLLY HOTTIE WHITE HEART.         6   \n",
       "\n",
       "          InvoiceDate  UnitPrice  CustomerID         Country  SaleAmount  \n",
       "0 2010-12-01 08:26:00       2.55       17850  United Kingdom       15.30  \n",
       "1 2010-12-01 08:26:00       3.39       17850  United Kingdom       20.34  \n",
       "2 2010-12-01 08:26:00       2.75       17850  United Kingdom       22.00  \n",
       "3 2010-12-01 08:26:00       3.39       17850  United Kingdom       20.34  \n",
       "4 2010-12-01 08:26:00       3.39       17850  United Kingdom       20.34  "
      ]
     },
     "execution_count": 113,
     "metadata": {},
     "output_type": "execute_result"
    }
   ],
   "source": [
    "# 주문 금액 추가 SaleAmount\n",
    "retail_df['SaleAmount']  = retail_df['UnitPrice']*retail_df['Quantity']\n",
    "retail_df.head()\n"
   ]
  },
  {
   "cell_type": "code",
   "execution_count": 121,
   "id": "8f338c21",
   "metadata": {},
   "outputs": [
    {
     "data": {
      "text/html": [
       "<div>\n",
       "<style scoped>\n",
       "    .dataframe tbody tr th:only-of-type {\n",
       "        vertical-align: middle;\n",
       "    }\n",
       "\n",
       "    .dataframe tbody tr th {\n",
       "        vertical-align: top;\n",
       "    }\n",
       "\n",
       "    .dataframe thead th {\n",
       "        text-align: right;\n",
       "    }\n",
       "</style>\n",
       "<table border=\"1\" class=\"dataframe\">\n",
       "  <thead>\n",
       "    <tr style=\"text-align: right;\">\n",
       "      <th></th>\n",
       "      <th>CustomerID</th>\n",
       "      <th>InvoiceNo</th>\n",
       "      <th>SaleAmount</th>\n",
       "      <th>InvoiceDate</th>\n",
       "    </tr>\n",
       "  </thead>\n",
       "  <tbody>\n",
       "    <tr>\n",
       "      <th>0</th>\n",
       "      <td>12346</td>\n",
       "      <td>1</td>\n",
       "      <td>77183.60</td>\n",
       "      <td>2011-01-18 10:01:00</td>\n",
       "    </tr>\n",
       "    <tr>\n",
       "      <th>1</th>\n",
       "      <td>12347</td>\n",
       "      <td>182</td>\n",
       "      <td>4310.00</td>\n",
       "      <td>2011-12-07 15:52:00</td>\n",
       "    </tr>\n",
       "    <tr>\n",
       "      <th>2</th>\n",
       "      <td>12348</td>\n",
       "      <td>31</td>\n",
       "      <td>1797.24</td>\n",
       "      <td>2011-09-25 13:13:00</td>\n",
       "    </tr>\n",
       "    <tr>\n",
       "      <th>3</th>\n",
       "      <td>12349</td>\n",
       "      <td>73</td>\n",
       "      <td>1757.55</td>\n",
       "      <td>2011-11-21 09:51:00</td>\n",
       "    </tr>\n",
       "    <tr>\n",
       "      <th>4</th>\n",
       "      <td>12350</td>\n",
       "      <td>17</td>\n",
       "      <td>334.40</td>\n",
       "      <td>2011-02-02 16:01:00</td>\n",
       "    </tr>\n",
       "  </tbody>\n",
       "</table>\n",
       "</div>"
      ],
      "text/plain": [
       "   CustomerID  InvoiceNo  SaleAmount         InvoiceDate\n",
       "0       12346          1    77183.60 2011-01-18 10:01:00\n",
       "1       12347        182     4310.00 2011-12-07 15:52:00\n",
       "2       12348         31     1797.24 2011-09-25 13:13:00\n",
       "3       12349         73     1757.55 2011-11-21 09:51:00\n",
       "4       12350         17      334.40 2011-02-02 16:01:00"
      ]
     },
     "execution_count": 121,
     "metadata": {},
     "output_type": "execute_result"
    }
   ],
   "source": [
    "# 마케팅에 이용하려면.. 고객의 주문 횟수, 주문 총액, 마지막 주문후 며칠이 지났는지\n",
    "# retail_df.groupby('CustomerID')['InvoiceNo'].count()\n",
    "# retail_df.groupby('CustomerID')['SaleAmount'].sum()\n",
    "customer_df =  retail_df.groupby('CustomerID').agg({\n",
    "    'InvoiceNo':'count',\n",
    "    'SaleAmount':'sum',\n",
    "    'InvoiceDate':'max'\n",
    "})\n",
    "customer_df = customer_df.reset_index()\n",
    "customer_df.head()"
   ]
  },
  {
   "cell_type": "code",
   "execution_count": 123,
   "id": "28170a52",
   "metadata": {},
   "outputs": [
    {
     "data": {
      "text/html": [
       "<div>\n",
       "<style scoped>\n",
       "    .dataframe tbody tr th:only-of-type {\n",
       "        vertical-align: middle;\n",
       "    }\n",
       "\n",
       "    .dataframe tbody tr th {\n",
       "        vertical-align: top;\n",
       "    }\n",
       "\n",
       "    .dataframe thead th {\n",
       "        text-align: right;\n",
       "    }\n",
       "</style>\n",
       "<table border=\"1\" class=\"dataframe\">\n",
       "  <thead>\n",
       "    <tr style=\"text-align: right;\">\n",
       "      <th></th>\n",
       "      <th>CustomerID</th>\n",
       "      <th>Freq</th>\n",
       "      <th>SaleAmount</th>\n",
       "      <th>ElapsedDays</th>\n",
       "    </tr>\n",
       "  </thead>\n",
       "  <tbody>\n",
       "    <tr>\n",
       "      <th>0</th>\n",
       "      <td>12346</td>\n",
       "      <td>1</td>\n",
       "      <td>77183.60</td>\n",
       "      <td>2011-01-18 10:01:00</td>\n",
       "    </tr>\n",
       "    <tr>\n",
       "      <th>1</th>\n",
       "      <td>12347</td>\n",
       "      <td>182</td>\n",
       "      <td>4310.00</td>\n",
       "      <td>2011-12-07 15:52:00</td>\n",
       "    </tr>\n",
       "    <tr>\n",
       "      <th>2</th>\n",
       "      <td>12348</td>\n",
       "      <td>31</td>\n",
       "      <td>1797.24</td>\n",
       "      <td>2011-09-25 13:13:00</td>\n",
       "    </tr>\n",
       "    <tr>\n",
       "      <th>3</th>\n",
       "      <td>12349</td>\n",
       "      <td>73</td>\n",
       "      <td>1757.55</td>\n",
       "      <td>2011-11-21 09:51:00</td>\n",
       "    </tr>\n",
       "    <tr>\n",
       "      <th>4</th>\n",
       "      <td>12350</td>\n",
       "      <td>17</td>\n",
       "      <td>334.40</td>\n",
       "      <td>2011-02-02 16:01:00</td>\n",
       "    </tr>\n",
       "  </tbody>\n",
       "</table>\n",
       "</div>"
      ],
      "text/plain": [
       "   CustomerID  Freq  SaleAmount         ElapsedDays\n",
       "0       12346     1    77183.60 2011-01-18 10:01:00\n",
       "1       12347   182     4310.00 2011-12-07 15:52:00\n",
       "2       12348    31     1797.24 2011-09-25 13:13:00\n",
       "3       12349    73     1757.55 2011-11-21 09:51:00\n",
       "4       12350    17      334.40 2011-02-02 16:01:00"
      ]
     },
     "execution_count": 123,
     "metadata": {},
     "output_type": "execute_result"
    }
   ],
   "source": [
    "#customer_df.columns = ['CustomerID','Freq','SaleAmount','ElapsedDays']\n",
    "customer_df = customer_df.rename(columns={\n",
    "    'InvoiceNo':'Freq',\n",
    "    'InvoiceDate':'ElapsedDays'\n",
    "})\n",
    "customer_df.head()"
   ]
  },
  {
   "cell_type": "code",
   "execution_count": 130,
   "id": "3d604ead",
   "metadata": {},
   "outputs": [
    {
     "data": {
      "text/plain": [
       "2022"
      ]
     },
     "execution_count": 130,
     "metadata": {},
     "output_type": "execute_result"
    }
   ],
   "source": [
    "# 마지막 주문일로부터 며칠이 지났는지에 대한 값을 ElapsedDays 컬럼에 저장\n",
    "import datetime\n",
    "datetime.datetime.today()\n",
    "datetime.datetime.today().year"
   ]
  },
  {
   "cell_type": "code",
   "execution_count": 132,
   "id": "c6008863",
   "metadata": {},
   "outputs": [],
   "source": [
    "# 기준 날자를 2011 12 31로 정해\n",
    "customer_df['ElapsedDays'] = datetime.datetime(2011,12,31) - customer_df['ElapsedDays']"
   ]
  },
  {
   "cell_type": "code",
   "execution_count": 133,
   "id": "10ad381c",
   "metadata": {},
   "outputs": [
    {
     "data": {
      "text/html": [
       "<div>\n",
       "<style scoped>\n",
       "    .dataframe tbody tr th:only-of-type {\n",
       "        vertical-align: middle;\n",
       "    }\n",
       "\n",
       "    .dataframe tbody tr th {\n",
       "        vertical-align: top;\n",
       "    }\n",
       "\n",
       "    .dataframe thead th {\n",
       "        text-align: right;\n",
       "    }\n",
       "</style>\n",
       "<table border=\"1\" class=\"dataframe\">\n",
       "  <thead>\n",
       "    <tr style=\"text-align: right;\">\n",
       "      <th></th>\n",
       "      <th>CustomerID</th>\n",
       "      <th>Freq</th>\n",
       "      <th>SaleAmount</th>\n",
       "      <th>ElapsedDays</th>\n",
       "    </tr>\n",
       "  </thead>\n",
       "  <tbody>\n",
       "    <tr>\n",
       "      <th>0</th>\n",
       "      <td>12346</td>\n",
       "      <td>1</td>\n",
       "      <td>77183.60</td>\n",
       "      <td>346 days 13:59:00</td>\n",
       "    </tr>\n",
       "    <tr>\n",
       "      <th>1</th>\n",
       "      <td>12347</td>\n",
       "      <td>182</td>\n",
       "      <td>4310.00</td>\n",
       "      <td>23 days 08:08:00</td>\n",
       "    </tr>\n",
       "    <tr>\n",
       "      <th>2</th>\n",
       "      <td>12348</td>\n",
       "      <td>31</td>\n",
       "      <td>1797.24</td>\n",
       "      <td>96 days 10:47:00</td>\n",
       "    </tr>\n",
       "    <tr>\n",
       "      <th>3</th>\n",
       "      <td>12349</td>\n",
       "      <td>73</td>\n",
       "      <td>1757.55</td>\n",
       "      <td>39 days 14:09:00</td>\n",
       "    </tr>\n",
       "    <tr>\n",
       "      <th>4</th>\n",
       "      <td>12350</td>\n",
       "      <td>17</td>\n",
       "      <td>334.40</td>\n",
       "      <td>331 days 07:59:00</td>\n",
       "    </tr>\n",
       "  </tbody>\n",
       "</table>\n",
       "</div>"
      ],
      "text/plain": [
       "   CustomerID  Freq  SaleAmount       ElapsedDays\n",
       "0       12346     1    77183.60 346 days 13:59:00\n",
       "1       12347   182     4310.00  23 days 08:08:00\n",
       "2       12348    31     1797.24  96 days 10:47:00\n",
       "3       12349    73     1757.55  39 days 14:09:00\n",
       "4       12350    17      334.40 331 days 07:59:00"
      ]
     },
     "execution_count": 133,
     "metadata": {},
     "output_type": "execute_result"
    }
   ],
   "source": [
    "customer_df.head()"
   ]
  },
  {
   "cell_type": "code",
   "execution_count": 136,
   "id": "b01d55bf",
   "metadata": {},
   "outputs": [
    {
     "data": {
      "text/plain": [
       "347"
      ]
     },
     "execution_count": 136,
     "metadata": {},
     "output_type": "execute_result"
    }
   ],
   "source": [
    "customer_df['ElapsedDays'][0].days+1"
   ]
  },
  {
   "cell_type": "code",
   "execution_count": 139,
   "id": "c75892e4",
   "metadata": {},
   "outputs": [
    {
     "data": {
      "text/html": [
       "<div>\n",
       "<style scoped>\n",
       "    .dataframe tbody tr th:only-of-type {\n",
       "        vertical-align: middle;\n",
       "    }\n",
       "\n",
       "    .dataframe tbody tr th {\n",
       "        vertical-align: top;\n",
       "    }\n",
       "\n",
       "    .dataframe thead th {\n",
       "        text-align: right;\n",
       "    }\n",
       "</style>\n",
       "<table border=\"1\" class=\"dataframe\">\n",
       "  <thead>\n",
       "    <tr style=\"text-align: right;\">\n",
       "      <th></th>\n",
       "      <th>CustomerID</th>\n",
       "      <th>Freq</th>\n",
       "      <th>SaleAmount</th>\n",
       "      <th>ElapsedDays</th>\n",
       "    </tr>\n",
       "  </thead>\n",
       "  <tbody>\n",
       "    <tr>\n",
       "      <th>0</th>\n",
       "      <td>12346</td>\n",
       "      <td>1</td>\n",
       "      <td>77183.60</td>\n",
       "      <td>347</td>\n",
       "    </tr>\n",
       "    <tr>\n",
       "      <th>1</th>\n",
       "      <td>12347</td>\n",
       "      <td>182</td>\n",
       "      <td>4310.00</td>\n",
       "      <td>24</td>\n",
       "    </tr>\n",
       "    <tr>\n",
       "      <th>2</th>\n",
       "      <td>12348</td>\n",
       "      <td>31</td>\n",
       "      <td>1797.24</td>\n",
       "      <td>97</td>\n",
       "    </tr>\n",
       "    <tr>\n",
       "      <th>3</th>\n",
       "      <td>12349</td>\n",
       "      <td>73</td>\n",
       "      <td>1757.55</td>\n",
       "      <td>40</td>\n",
       "    </tr>\n",
       "    <tr>\n",
       "      <th>4</th>\n",
       "      <td>12350</td>\n",
       "      <td>17</td>\n",
       "      <td>334.40</td>\n",
       "      <td>332</td>\n",
       "    </tr>\n",
       "  </tbody>\n",
       "</table>\n",
       "</div>"
      ],
      "text/plain": [
       "   CustomerID  Freq  SaleAmount  ElapsedDays\n",
       "0       12346     1    77183.60          347\n",
       "1       12347   182     4310.00           24\n",
       "2       12348    31     1797.24           97\n",
       "3       12349    73     1757.55           40\n",
       "4       12350    17      334.40          332"
      ]
     },
     "execution_count": 139,
     "metadata": {},
     "output_type": "execute_result"
    }
   ],
   "source": [
    "# def customF(x):\n",
    "#     return x.day+1\n",
    "customer_df['ElapsedDays'] = customer_df['ElapsedDays'].apply(lambda x: x.days+1)\n",
    "customer_df.head()"
   ]
  },
  {
   "cell_type": "code",
   "execution_count": 140,
   "id": "86039cb0",
   "metadata": {},
   "outputs": [],
   "source": [
    "# 데이터의 치우침 정도를 보기위해 boxplot을 사용\n",
    "import matplotlib.pyplot as plt\n",
    "import seaborn as sns"
   ]
  },
  {
   "cell_type": "code",
   "execution_count": 147,
   "id": "35e8ced2",
   "metadata": {},
   "outputs": [
    {
     "data": {
      "image/png": "[encoded data removed]",
      "text/plain": [
       "<Figure size 432x288 with 1 Axes>"
      ]
     },
     "metadata": {
      "needs_background": "light"
     },
     "output_type": "display_data"
    }
   ],
   "source": [
    "fig,ax =  plt.subplots()\n",
    "ax.boxplot( [customer_df['Freq'],customer_df['SaleAmount'],customer_df['ElapsedDays']], sym='bo')\n",
    "plt.xticks([1,2,3],['Freq','SaleAmount','ElapsedDays'])\n",
    "plt.show()"
   ]
  },
  {
   "cell_type": "code",
   "execution_count": 148,
   "id": "5ff50c97",
   "metadata": {},
   "outputs": [
    {
     "data": {
      "text/html": [
       "<div>\n",
       "<style scoped>\n",
       "    .dataframe tbody tr th:only-of-type {\n",
       "        vertical-align: middle;\n",
       "    }\n",
       "\n",
       "    .dataframe tbody tr th {\n",
       "        vertical-align: top;\n",
       "    }\n",
       "\n",
       "    .dataframe thead th {\n",
       "        text-align: right;\n",
       "    }\n",
       "</style>\n",
       "<table border=\"1\" class=\"dataframe\">\n",
       "  <thead>\n",
       "    <tr style=\"text-align: right;\">\n",
       "      <th></th>\n",
       "      <th>CustomerID</th>\n",
       "      <th>Freq</th>\n",
       "      <th>SaleAmount</th>\n",
       "      <th>ElapsedDays</th>\n",
       "      <th>Freq_log</th>\n",
       "      <th>SaleAmount_log</th>\n",
       "      <th>ElapsedDays_log</th>\n",
       "    </tr>\n",
       "  </thead>\n",
       "  <tbody>\n",
       "    <tr>\n",
       "      <th>0</th>\n",
       "      <td>12346</td>\n",
       "      <td>1</td>\n",
       "      <td>77183.60</td>\n",
       "      <td>347</td>\n",
       "      <td>0.693147</td>\n",
       "      <td>11.253955</td>\n",
       "      <td>5.852202</td>\n",
       "    </tr>\n",
       "    <tr>\n",
       "      <th>1</th>\n",
       "      <td>12347</td>\n",
       "      <td>182</td>\n",
       "      <td>4310.00</td>\n",
       "      <td>24</td>\n",
       "      <td>5.209486</td>\n",
       "      <td>8.368925</td>\n",
       "      <td>3.218876</td>\n",
       "    </tr>\n",
       "    <tr>\n",
       "      <th>2</th>\n",
       "      <td>12348</td>\n",
       "      <td>31</td>\n",
       "      <td>1797.24</td>\n",
       "      <td>97</td>\n",
       "      <td>3.465736</td>\n",
       "      <td>7.494564</td>\n",
       "      <td>4.584967</td>\n",
       "    </tr>\n",
       "    <tr>\n",
       "      <th>3</th>\n",
       "      <td>12349</td>\n",
       "      <td>73</td>\n",
       "      <td>1757.55</td>\n",
       "      <td>40</td>\n",
       "      <td>4.304065</td>\n",
       "      <td>7.472245</td>\n",
       "      <td>3.713572</td>\n",
       "    </tr>\n",
       "    <tr>\n",
       "      <th>4</th>\n",
       "      <td>12350</td>\n",
       "      <td>17</td>\n",
       "      <td>334.40</td>\n",
       "      <td>332</td>\n",
       "      <td>2.890372</td>\n",
       "      <td>5.815324</td>\n",
       "      <td>5.808142</td>\n",
       "    </tr>\n",
       "  </tbody>\n",
       "</table>\n",
       "</div>"
      ],
      "text/plain": [
       "   CustomerID  Freq  SaleAmount  ElapsedDays  Freq_log  SaleAmount_log  \\\n",
       "0       12346     1    77183.60          347  0.693147       11.253955   \n",
       "1       12347   182     4310.00           24  5.209486        8.368925   \n",
       "2       12348    31     1797.24           97  3.465736        7.494564   \n",
       "3       12349    73     1757.55           40  4.304065        7.472245   \n",
       "4       12350    17      334.40          332  2.890372        5.815324   \n",
       "\n",
       "   ElapsedDays_log  \n",
       "0         5.852202  \n",
       "1         3.218876  \n",
       "2         4.584967  \n",
       "3         3.713572  \n",
       "4         5.808142  "
      ]
     },
     "execution_count": 148,
     "metadata": {},
     "output_type": "execute_result"
    }
   ],
   "source": [
    "# 각 컬럼에 대해서 log함수를 이용해서 값의 분포를 고르게 조정(StandardSacle과 유사)\n",
    "import numpy as np\n",
    "customer_df['Freq_log'] = np.log1p(customer_df['Freq'])\n",
    "customer_df['SaleAmount_log'] = np.log1p(customer_df['SaleAmount'])\n",
    "customer_df['ElapsedDays_log'] = np.log1p(customer_df['ElapsedDays'])\n",
    "customer_df.head()"
   ]
  },
  {
   "cell_type": "code",
   "execution_count": 149,
   "id": "62dcb552",
   "metadata": {},
   "outputs": [],
   "source": [
    "# 시각화를 위해서 데이터 조정이 필요하면... np.log1p() 적용해서 시각화 한다.\n",
    "# 학습을 위한 데이터 조정이 필요하면 SandardScale을 적용한다. "
   ]
  },
  {
   "cell_type": "code",
   "execution_count": 150,
   "id": "0e4420ed",
   "metadata": {},
   "outputs": [
    {
     "data": {
      "image/png": "[encoded data removed]",
      "text/plain": [
       "<Figure size 432x288 with 1 Axes>"
      ]
     },
     "metadata": {
      "needs_background": "light"
     },
     "output_type": "display_data"
    }
   ],
   "source": [
    "fig,ax =  plt.subplots()\n",
    "ax.boxplot( [customer_df['Freq_log'],customer_df['SaleAmount_log'],customer_df['ElapsedDays_log']], sym='bo')\n",
    "plt.xticks([1,2,3],['Freq_log','SaleAmount_log','ElapsedDays_log'])\n",
    "plt.show()"
   ]
  },
  {
   "cell_type": "code",
   "execution_count": 151,
   "id": "1b38db88",
   "metadata": {},
   "outputs": [],
   "source": [
    "# k-평균 군집화 모델\n",
    "from sklearn.cluster import KMeans\n",
    "from sklearn.metrics import silhouette_score,silhouette_samples"
   ]
  },
  {
   "cell_type": "code",
   "execution_count": 157,
   "id": "80a9860e",
   "metadata": {},
   "outputs": [],
   "source": [
    "x_feature = customer_df.iloc[:,-3:].values"
   ]
  },
  {
   "cell_type": "code",
   "execution_count": 158,
   "id": "3b803e3d",
   "metadata": {},
   "outputs": [],
   "source": [
    "from sklearn.preprocessing import StandardScaler\n",
    "x_feature_scaled= StandardScaler().fit_transform(x_feature)"
   ]
  },
  {
   "cell_type": "code",
   "execution_count": 161,
   "id": "c9332cbc",
   "metadata": {},
   "outputs": [
    {
     "data": {
      "image/png": "[encoded data removed]",
      "text/plain": [
       "<Figure size 432x288 with 1 Axes>"
      ]
     },
     "metadata": {
      "needs_background": "light"
     },
     "output_type": "display_data"
    }
   ],
   "source": [
    "# k-평균 군집화 모델을 이용\n",
    "# 엘보 방법을 이용해서 군집의 갯수를 선택\n",
    "Distortion = []  # 왜곡\n",
    "for i in range(1,11):  # 1  ~ 10\n",
    "    kmeans_i =  KMeans(n_clusters=i, random_state=0)  # 모델 생성\n",
    "    kmeans_i.fit(x_feature_scaled)\n",
    "    Distortion.append(kmeans_i.inertia_)  # 왜곡 값을 저장\n",
    "    \n",
    "plt.plot(range(1,11),Distortion, marker='o')\n",
    "plt.xlabel(\"Number of clusters\")\n",
    "plt.ylabel(\"Distortion\")\n",
    "plt.show()"
   ]
  },
  {
   "cell_type": "code",
   "execution_count": null,
   "id": "4d90484a",
   "metadata": {},
   "outputs": [],
   "source": [
    "# 클러스터의 개수 k를 3으로 설정해서 k-평균 모델을 다시 구축한뒤에 모델에서 만든 클러스터 레이블을 확인한다\n"
   ]
  }
 ],
 "metadata": {
  "kernelspec": {
   "display_name": "Python 3 (ipykernel)",
   "language": "python",
   "name": "python3"
  },
  "language_info": {
   "codemirror_mode": {
    "name": "ipython",
    "version": 3
   },
   "file_extension": ".py",
   "mimetype": "text/x-python",
   "name": "python",
   "nbconvert_exporter": "python",
   "pygments_lexer": "ipython3",
   "version": "3.9.7"
  }
 },
 "nbformat": 4,
 "nbformat_minor": 5
}
