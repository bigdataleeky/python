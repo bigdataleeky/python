{
 "cells": [
  {
   "cell_type": "code",
   "execution_count": null,
   "id": "51646974",
   "metadata": {},
   "outputs": [],
   "source": [
    "# 순차데이터\n",
    "# 1. 텍스트  i am a boy\n",
    "# 2. 시계열.. 1일 15도  , 2일 17도\n",
    "\n",
    "# 순환신경망... (RNN)\n",
    "# 순환신경망에서 데이터를 처리하는 한 단계를 타임스텝.. 층을 셀\n",
    "# 타임스텝프 A에서 셀의 출력 Oa 가 사라지지 않고 다음 스텝프 B에서 셀의 출력 Ob가 다시 타임스텝 C의 셀로 주입\n",
    "# tanh - 하이볼릭 탄젠트... \n",
    "# IMDB 리뷰 데이터셋을 "
   ]
  },
  {
   "cell_type": "code",
   "execution_count": null,
   "id": "4bac4967",
   "metadata": {},
   "outputs": [],
   "source": [
    "!pip install tensorflow"
   ]
  },
  {
   "cell_type": "code",
   "execution_count": 2,
   "id": "63a5e1d8",
   "metadata": {},
   "outputs": [],
   "source": [
    "from tensorflow.keras.datasets import imdb"
   ]
  },
  {
   "cell_type": "code",
   "execution_count": 21,
   "id": "6d67b115",
   "metadata": {},
   "outputs": [
    {
     "data": {
      "text/plain": [
       "((25000,), (25000,), (25000,), (25000,))"
      ]
     },
     "execution_count": 21,
     "metadata": {},
     "output_type": "execute_result"
    }
   ],
   "source": [
    "(x_tr,y_tr),(x_ta,y_ta) = imdb.load_data(num_words=500)\n",
    "x_tr.shape,y_tr.shape,x_ta.shape,y_ta.shape"
   ]
  },
  {
   "cell_type": "code",
   "execution_count": 22,
   "id": "fd2cdf58",
   "metadata": {},
   "outputs": [
    {
     "data": {
      "text/plain": [
       "(218, 189)"
      ]
     },
     "execution_count": 22,
     "metadata": {},
     "output_type": "execute_result"
    }
   ],
   "source": [
    "# 토근의 갯수 확인하기\n",
    "# 문장에서 분리된 단어를 토큰\n",
    "# 하나의 토큰이 하나의 타임스템프\n",
    "# Sentence: i love you  token :'i','love,'you'   \n",
    "# 한글은... 조사가 있어서. 공백으로 분리 안됨... 형태소 분석을 통해서 토큰분리하고... 라이브러 존재\n",
    "len(x_tr[0]), len(x_tr[1])"
   ]
  },
  {
   "cell_type": "code",
   "execution_count": 23,
   "id": "a47730b2",
   "metadata": {},
   "outputs": [
    {
     "name": "stdout",
     "output_type": "stream",
     "text": [
      "[1, 14, 22, 16, 43, 2, 2, 2, 2, 65, 458, 2, 66, 2, 4, 173, 36, 256, 5, 25, 100, 43, 2, 112, 50, 2, 2, 9, 35, 480, 284, 5, 150, 4, 172, 112, 167, 2, 336, 385, 39, 4, 172, 2, 2, 17, 2, 38, 13, 447, 4, 192, 50, 16, 6, 147, 2, 19, 14, 22, 4, 2, 2, 469, 4, 22, 71, 87, 12, 16, 43, 2, 38, 76, 15, 13, 2, 4, 22, 17, 2, 17, 12, 16, 2, 18, 2, 5, 62, 386, 12, 8, 316, 8, 106, 5, 4, 2, 2, 16, 480, 66, 2, 33, 4, 130, 12, 16, 38, 2, 5, 25, 124, 51, 36, 135, 48, 25, 2, 33, 6, 22, 12, 215, 28, 77, 52, 5, 14, 407, 16, 82, 2, 8, 4, 107, 117, 2, 15, 256, 4, 2, 7, 2, 5, 2, 36, 71, 43, 2, 476, 26, 400, 317, 46, 7, 4, 2, 2, 13, 104, 88, 4, 381, 15, 297, 98, 32, 2, 56, 26, 141, 6, 194, 2, 18, 4, 226, 22, 21, 134, 476, 26, 480, 5, 144, 30, 2, 18, 51, 36, 28, 224, 92, 25, 104, 4, 226, 65, 16, 38, 2, 88, 12, 16, 283, 5, 16, 2, 113, 103, 32, 15, 16, 2, 19, 178, 32]\n"
     ]
    }
   ],
   "source": [
    "print(x_tr[0])"
   ]
  },
  {
   "cell_type": "code",
   "execution_count": 13,
   "id": "908b27c3",
   "metadata": {},
   "outputs": [
    {
     "name": "stdout",
     "output_type": "stream",
     "text": [
      "Requirement already satisfied: numpy in c:\\anaconda\\envs\\crawling\\lib\\site-packages (1.21.2)\n"
     ]
    }
   ],
   "source": [
    "!pip install numpy"
   ]
  },
  {
   "cell_type": "code",
   "execution_count": 24,
   "id": "3f2647fa",
   "metadata": {},
   "outputs": [
    {
     "data": {
      "text/plain": [
       "array([0, 1], dtype=int64)"
      ]
     },
     "execution_count": 24,
     "metadata": {},
     "output_type": "execute_result"
    }
   ],
   "source": [
    "import numpy as np\n",
    "np.unique(y_tr)"
   ]
  },
  {
   "cell_type": "code",
   "execution_count": 16,
   "id": "ce1f6e26",
   "metadata": {},
   "outputs": [],
   "source": [
    "# 학습데이터와 훈련 데이터를 나눈다."
   ]
  },
  {
   "cell_type": "code",
   "execution_count": 17,
   "id": "09488f6b",
   "metadata": {},
   "outputs": [
    {
     "name": "stdout",
     "output_type": "stream",
     "text": [
      "Collecting sklearn\n",
      "  Downloading sklearn-0.0.tar.gz (1.1 kB)\n",
      "Requirement already satisfied: scikit-learn in c:\\anaconda\\envs\\crawling\\lib\\site-packages (from sklearn) (1.0.1)\n",
      "Requirement already satisfied: joblib>=0.11 in c:\\anaconda\\envs\\crawling\\lib\\site-packages (from scikit-learn->sklearn) (1.1.0)\n",
      "Requirement already satisfied: threadpoolctl>=2.0.0 in c:\\anaconda\\envs\\crawling\\lib\\site-packages (from scikit-learn->sklearn) (3.0.0)\n",
      "Requirement already satisfied: numpy>=1.14.6 in c:\\anaconda\\envs\\crawling\\lib\\site-packages (from scikit-learn->sklearn) (1.21.2)\n",
      "Requirement already satisfied: scipy>=1.1.0 in c:\\anaconda\\envs\\crawling\\lib\\site-packages (from scikit-learn->sklearn) (1.7.3)\n",
      "Building wheels for collected packages: sklearn\n",
      "  Building wheel for sklearn (setup.py): started\n",
      "  Building wheel for sklearn (setup.py): finished with status 'done'\n",
      "  Created wheel for sklearn: filename=sklearn-0.0-py2.py3-none-any.whl size=1309 sha256=9f27ac4d748b4d419a56ae8c0664da08d195692da594b7677e6b9592ffb8853c\n",
      "  Stored in directory: c:\\users\\이규영\\appdata\\local\\pip\\cache\\wheels\\e4\\7b\\98\\b6466d71b8d738a0c547008b9eb39bf8676d1ff6ca4b22af1c\n",
      "Successfully built sklearn\n",
      "Installing collected packages: sklearn\n",
      "Successfully installed sklearn-0.0\n"
     ]
    }
   ],
   "source": [
    "!pip install sklearn"
   ]
  },
  {
   "cell_type": "code",
   "execution_count": 25,
   "id": "340652ed",
   "metadata": {},
   "outputs": [
    {
     "data": {
      "text/plain": [
       "((20000,), (20000,))"
      ]
     },
     "execution_count": 25,
     "metadata": {},
     "output_type": "execute_result"
    }
   ],
   "source": [
    "from sklearn.model_selection import train_test_split\n",
    "x_train,x_target,y_train,y_target = train_test_split(x_tr, y_tr, test_size=0.2, random_state=42)\n",
    "x_train.shape, y_train.shape"
   ]
  },
  {
   "cell_type": "code",
   "execution_count": 39,
   "id": "c0cf714c",
   "metadata": {},
   "outputs": [],
   "source": [
    "lengths = np.array([len(i) for i in x_train])"
   ]
  },
  {
   "cell_type": "code",
   "execution_count": 31,
   "id": "7030745e",
   "metadata": {},
   "outputs": [
    {
     "name": "stdout",
     "output_type": "stream",
     "text": [
      "Collecting matplotlib\n",
      "  Downloading matplotlib-3.5.1-cp39-cp39-win_amd64.whl (7.2 MB)\n",
      "Requirement already satisfied: pyparsing>=2.2.1 in c:\\anaconda\\envs\\crawling\\lib\\site-packages (from matplotlib) (3.0.4)\n",
      "Requirement already satisfied: python-dateutil>=2.7 in c:\\anaconda\\envs\\crawling\\lib\\site-packages (from matplotlib) (2.8.2)\n",
      "Requirement already satisfied: numpy>=1.17 in c:\\anaconda\\envs\\crawling\\lib\\site-packages (from matplotlib) (1.21.2)\n",
      "Requirement already satisfied: packaging>=20.0 in c:\\anaconda\\envs\\crawling\\lib\\site-packages (from matplotlib) (21.3)\n",
      "Collecting pillow>=6.2.0\n",
      "  Downloading Pillow-9.0.1-cp39-cp39-win_amd64.whl (3.2 MB)\n",
      "Collecting fonttools>=4.22.0\n",
      "  Downloading fonttools-4.31.2-py3-none-any.whl (899 kB)\n",
      "Collecting cycler>=0.10\n",
      "  Downloading cycler-0.11.0-py3-none-any.whl (6.4 kB)\n",
      "Collecting kiwisolver>=1.0.1\n",
      "  Downloading kiwisolver-1.4.1-cp39-cp39-win_amd64.whl (55 kB)\n",
      "Requirement already satisfied: six>=1.5 in c:\\anaconda\\envs\\crawling\\lib\\site-packages (from python-dateutil>=2.7->matplotlib) (1.16.0)\n",
      "Installing collected packages: pillow, kiwisolver, fonttools, cycler, matplotlib\n",
      "Successfully installed cycler-0.11.0 fonttools-4.31.2 kiwisolver-1.4.1 matplotlib-3.5.1 pillow-9.0.1\n"
     ]
    }
   ],
   "source": [
    "!pip install matplotlib"
   ]
  },
  {
   "cell_type": "code",
   "execution_count": 41,
   "id": "e102a300",
   "metadata": {},
   "outputs": [
    {
     "data": {
      "image/png": "[encoded data removed]",
      "text/plain": [
       "<Figure size 432x288 with 1 Axes>"
      ]
     },
     "metadata": {
      "needs_background": "light"
     },
     "output_type": "display_data"
    }
   ],
   "source": [
    "import matplotlib.pyplot as plt\n",
    "plt.hist(lengths)\n",
    "plt.xlabel('length')\n",
    "plt.ylabel('frequency')\n",
    "plt.show()"
   ]
  },
  {
   "cell_type": "code",
   "execution_count": 42,
   "id": "c5be9869",
   "metadata": {},
   "outputs": [],
   "source": [
    "# pad_sequences() 시퀀스 데이터의 길이를 맞춤\n",
    "from tensorflow.keras.preprocessing.sequence import pad_sequences"
   ]
  },
  {
   "cell_type": "code",
   "execution_count": 43,
   "id": "825a5053",
   "metadata": {},
   "outputs": [],
   "source": [
    "# 최대 단어의(토큰) 개수... 문장의 길이가..... \n",
    "x_train_seq = pad_sequences(x_train, maxlen=100)\n",
    "x_target_seq = pad_sequences(x_target, maxlen=100)"
   ]
  },
  {
   "cell_type": "code",
   "execution_count": 44,
   "id": "12e78507",
   "metadata": {},
   "outputs": [
    {
     "data": {
      "text/plain": [
       "((20000, 100), (5000, 100))"
      ]
     },
     "execution_count": 44,
     "metadata": {},
     "output_type": "execute_result"
    }
   ],
   "source": [
    "x_train_seq.shape , x_target_seq.shape"
   ]
  },
  {
   "cell_type": "code",
   "execution_count": 50,
   "id": "25835022",
   "metadata": {},
   "outputs": [
    {
     "data": {
      "text/plain": [
       "100"
      ]
     },
     "execution_count": 50,
     "metadata": {},
     "output_type": "execute_result"
    }
   ],
   "source": [
    "len(x_train_seq[0])"
   ]
  },
  {
   "cell_type": "code",
   "execution_count": 51,
   "id": "cccd44da",
   "metadata": {},
   "outputs": [],
   "source": [
    "# 케라스는 순환신경알고리즘 ... 그 중에 가장 간단한 SimpleRNN 클래스를 사용\n",
    "# input_shape = (100,500)  "
   ]
  },
  {
   "cell_type": "code",
   "execution_count": 70,
   "id": "9025d664",
   "metadata": {},
   "outputs": [
    {
     "data": {
      "text/plain": [
       "(20000, 100)"
      ]
     },
     "execution_count": 70,
     "metadata": {},
     "output_type": "execute_result"
    }
   ],
   "source": [
    "x_train_seq.shape"
   ]
  },
  {
   "cell_type": "code",
   "execution_count": 69,
   "id": "7ab823b1",
   "metadata": {},
   "outputs": [
    {
     "name": "stdout",
     "output_type": "stream",
     "text": [
      "[ 10   4  20   9   2 364 352   5  45   6   2   2  33 269   8   2 142   2\n",
      "   5   2  17  73  17 204   5   2  19  55   2   2  92  66 104  14  20  93\n",
      "  76   2 151  33   4  58  12 188   2 151  12 215  69 224 142  73 237   6\n",
      "   2   7   2   2 188   2 103  14  31  10  10 451   7   2   5   2  80  91\n",
      "   2  30   2  34  14  20 151  50  26 131  49   2  84  46  50  37  80  79\n",
      "   6   2  46   7  14  20  10  10 470 158]\n",
      "[[[0. 0. 0. ... 0. 0. 0.]\n",
      "  [0. 0. 0. ... 0. 0. 0.]\n",
      "  [0. 0. 0. ... 0. 0. 0.]\n",
      "  ...\n",
      "  [0. 0. 0. ... 0. 0. 0.]\n",
      "  [0. 0. 0. ... 0. 0. 0.]\n",
      "  [0. 0. 0. ... 0. 0. 0.]]\n",
      "\n",
      " [[0. 0. 0. ... 0. 0. 0.]\n",
      "  [0. 0. 1. ... 0. 0. 0.]\n",
      "  [0. 0. 0. ... 0. 0. 0.]\n",
      "  ...\n",
      "  [0. 0. 0. ... 0. 0. 0.]\n",
      "  [0. 0. 1. ... 0. 0. 0.]\n",
      "  [0. 0. 1. ... 0. 0. 0.]]]\n"
     ]
    }
   ],
   "source": [
    "# 토큰을 정수로 변환한 데이터를 사용.... -> 신경망에 주입.. 단지 숫자로 변환한것에 불과하기 때문에..\n",
    "# 값이 커서 가중치가 커지는 것을 방지하기 위해.. 그리고 숫자사이의 관계를 없애기 위해서... on-hot-encoding을 사용한다.\n",
    "print(x_train_seq[0])\n",
    "x_train_oh= keras.utils.to_categorical(x_train_seq)\n",
    "print(x_train_oh[:2])"
   ]
  },
  {
   "cell_type": "code",
   "execution_count": 57,
   "id": "c3e6b721",
   "metadata": {},
   "outputs": [],
   "source": [
    "x_target_oh= keras.utils.to_categorical(x_target_seq)"
   ]
  },
  {
   "cell_type": "code",
   "execution_count": 58,
   "id": "14b29c67",
   "metadata": {},
   "outputs": [
    {
     "data": {
      "text/plain": [
       "((20000, 100, 500), (5000, 100, 500))"
      ]
     },
     "execution_count": 58,
     "metadata": {},
     "output_type": "execute_result"
    }
   ],
   "source": [
    "x_train_oh.shape, x_target_oh.shape"
   ]
  },
  {
   "cell_type": "code",
   "execution_count": 71,
   "id": "4c9541fd",
   "metadata": {},
   "outputs": [
    {
     "data": {
      "text/plain": [
       "1.0"
      ]
     },
     "execution_count": 71,
     "metadata": {},
     "output_type": "execute_result"
    }
   ],
   "source": [
    "np.sum(x_train_oh[100][0])"
   ]
  },
  {
   "cell_type": "code",
   "execution_count": 80,
   "id": "a5f1b555",
   "metadata": {},
   "outputs": [
    {
     "name": "stdout",
     "output_type": "stream",
     "text": [
      "Epoch 1/50\n",
      "313/313 [==============================] - 10s 29ms/step - loss: 0.5306 - accuracy: 0.7724 - val_loss: 0.5535 - val_accuracy: 0.7520\n",
      "Epoch 2/50\n",
      "313/313 [==============================] - 8s 25ms/step - loss: 0.5197 - accuracy: 0.7776 - val_loss: 0.5459 - val_accuracy: 0.7552\n",
      "Epoch 3/50\n",
      "313/313 [==============================] - 8s 26ms/step - loss: 0.5110 - accuracy: 0.7801 - val_loss: 0.5370 - val_accuracy: 0.7600\n",
      "Epoch 4/50\n",
      "313/313 [==============================] - 8s 24ms/step - loss: 0.5025 - accuracy: 0.7848 - val_loss: 0.5318 - val_accuracy: 0.7596\n",
      "Epoch 5/50\n",
      "313/313 [==============================] - 8s 25ms/step - loss: 0.4950 - accuracy: 0.7872 - val_loss: 0.5247 - val_accuracy: 0.7646\n",
      "Epoch 6/50\n",
      "313/313 [==============================] - 8s 26ms/step - loss: 0.4872 - accuracy: 0.7911 - val_loss: 0.5198 - val_accuracy: 0.7634\n",
      "Epoch 7/50\n",
      "313/313 [==============================] - 7s 24ms/step - loss: 0.4800 - accuracy: 0.7936 - val_loss: 0.5142 - val_accuracy: 0.7690\n",
      "Epoch 8/50\n",
      "313/313 [==============================] - 7s 22ms/step - loss: 0.4734 - accuracy: 0.7958 - val_loss: 0.5087 - val_accuracy: 0.7712\n",
      "Epoch 9/50\n",
      "313/313 [==============================] - 6s 20ms/step - loss: 0.4675 - accuracy: 0.7972 - val_loss: 0.5042 - val_accuracy: 0.7756\n",
      "Epoch 10/50\n",
      "313/313 [==============================] - 6s 20ms/step - loss: 0.4614 - accuracy: 0.8022 - val_loss: 0.5000 - val_accuracy: 0.7766\n",
      "Epoch 11/50\n",
      "313/313 [==============================] - 7s 22ms/step - loss: 0.4566 - accuracy: 0.8019 - val_loss: 0.4971 - val_accuracy: 0.7790\n",
      "Epoch 12/50\n",
      "313/313 [==============================] - 6s 20ms/step - loss: 0.4511 - accuracy: 0.8051 - val_loss: 0.4971 - val_accuracy: 0.7742\n",
      "Epoch 13/50\n",
      "313/313 [==============================] - 6s 20ms/step - loss: 0.4468 - accuracy: 0.8074 - val_loss: 0.4931 - val_accuracy: 0.7782\n",
      "Epoch 14/50\n",
      "313/313 [==============================] - 7s 21ms/step - loss: 0.4430 - accuracy: 0.8089 - val_loss: 0.4901 - val_accuracy: 0.7784\n",
      "Epoch 15/50\n",
      "313/313 [==============================] - 6s 21ms/step - loss: 0.4386 - accuracy: 0.8091 - val_loss: 0.4906 - val_accuracy: 0.7774\n",
      "Epoch 16/50\n",
      "313/313 [==============================] - 6s 20ms/step - loss: 0.4354 - accuracy: 0.8122 - val_loss: 0.4883 - val_accuracy: 0.7772\n",
      "Epoch 17/50\n",
      "313/313 [==============================] - 6s 20ms/step - loss: 0.4324 - accuracy: 0.8124 - val_loss: 0.4843 - val_accuracy: 0.7808\n",
      "Epoch 18/50\n",
      "313/313 [==============================] - 6s 20ms/step - loss: 0.4290 - accuracy: 0.8164 - val_loss: 0.4835 - val_accuracy: 0.7852\n",
      "Epoch 19/50\n",
      "313/313 [==============================] - 6s 20ms/step - loss: 0.4269 - accuracy: 0.8152 - val_loss: 0.4815 - val_accuracy: 0.7820\n",
      "Epoch 20/50\n",
      "313/313 [==============================] - 6s 20ms/step - loss: 0.4241 - accuracy: 0.8171 - val_loss: 0.4812 - val_accuracy: 0.7828\n",
      "Epoch 21/50\n",
      "313/313 [==============================] - 6s 20ms/step - loss: 0.4216 - accuracy: 0.8181 - val_loss: 0.4791 - val_accuracy: 0.7830\n",
      "Epoch 22/50\n",
      "313/313 [==============================] - 6s 20ms/step - loss: 0.4197 - accuracy: 0.8184 - val_loss: 0.4809 - val_accuracy: 0.7782\n",
      "Epoch 23/50\n",
      "313/313 [==============================] - 6s 21ms/step - loss: 0.4173 - accuracy: 0.8199 - val_loss: 0.4815 - val_accuracy: 0.7804\n"
     ]
    }
   ],
   "source": [
    "model =  keras.Sequential()\n",
    "model.add(keras.layers.SimpleRNN(8, input_shape=(100,500))) # 100은 각 샘플의 길이, 500은 빈도수가 높은 단어의 개수, 8:뉴런의 개수\n",
    "model.add(keras.layers.Dense(1, activation='sigmoid')) # 이진 분류\n",
    "\n",
    "rmsprop =  keras.optimizers.RMSprop(learning_rate=1e-4) #0.0001  \n",
    "model.compile(optimizer=rmsprop, loss='binary_crossentropy', metrics=['accuracy'])\n",
    "\n",
    "checkpoint_cb = keras.callbacks.ModelCheckpoint('best-simplernn-model.h5')\n",
    "early_stopping_cb = keras.callbacks.EarlyStopping(patience=2, restore_best_weights=True)\n",
    "history = model.fit(x_train_oh, y_train, epochs=50, batch_size=64, validation_data=(x_target_oh,y_target), \n",
    "          callbacks=[checkpoint_cb,early_stopping_cb])"
   ]
  },
  {
   "cell_type": "code",
   "execution_count": 81,
   "id": "ea99f34b",
   "metadata": {},
   "outputs": [
    {
     "data": {
      "text/plain": [
       "dict_keys(['loss', 'accuracy', 'val_loss', 'val_accuracy'])"
      ]
     },
     "execution_count": 81,
     "metadata": {},
     "output_type": "execute_result"
    }
   ],
   "source": [
    "history.history.keys()"
   ]
  },
  {
   "cell_type": "code",
   "execution_count": 82,
   "id": "3eb4f148",
   "metadata": {},
   "outputs": [
    {
     "data": {
      "image/png": "[encoded data removed]",
      "text/plain": [
       "<Figure size 432x288 with 1 Axes>"
      ]
     },
     "metadata": {
      "needs_background": "light"
     },
     "output_type": "display_data"
    }
   ],
   "source": [
    "plt.plot(history.history['loss'])\n",
    "plt.plot(history.history['val_loss'])\n",
    "plt.xlabel('epoch')\n",
    "plt.ylabel('loss')\n",
    "plt.legend(['train','target'])\n",
    "plt.show()"
   ]
  },
  {
   "cell_type": "code",
   "execution_count": 83,
   "id": "10480156",
   "metadata": {},
   "outputs": [],
   "source": [
    "# 지금까지의 훈련 상황\n",
    "# 주요단어 500\n",
    "# 토큰의 수를 100개로 한정\n",
    "# 토큰 자체가 숫자로 이루어진 값이기 때문에... 그냥 두면... 큰일.... 숫자가 높은 면 가중치가 폭발....\n",
    "# Question and homework..... ont hot encoding 대신에 standard scale을 사용해서 비교\n",
    "# 원핫인코딩의 단점 - 토큰 1개가 500차원으로 늘어났다.... --> 명심 또 명심.... 결국은 데이터가 매우 커졌다.\n",
    "\n",
    "# 단어 임베딩(Word embedding) - 실수로 된 고정된 크기의 벡터로 표현   \n",
    "# 원핫인코딩에 배해서 의미값을 더 많이 사용, 데이터의 크기도 줄여준다."
   ]
  },
  {
   "cell_type": "code",
   "execution_count": 86,
   "id": "bd74d811",
   "metadata": {},
   "outputs": [
    {
     "data": {
      "text/plain": [
       "((20000, 100, 500), (20000,))"
      ]
     },
     "execution_count": 86,
     "metadata": {},
     "output_type": "execute_result"
    }
   ],
   "source": [
    "x_train_oh.shape, y_train.shape"
   ]
  },
  {
   "cell_type": "code",
   "execution_count": 90,
   "id": "5176b0ee",
   "metadata": {},
   "outputs": [
    {
     "name": "stdout",
     "output_type": "stream",
     "text": [
      "Epoch 1/20\n",
      "313/313 [==============================] - 5s 15ms/step - loss: 0.6902 - accuracy: 0.5289 - val_loss: 0.6623 - val_accuracy: 0.6194\n",
      "Epoch 2/20\n",
      "313/313 [==============================] - 5s 14ms/step - loss: 0.6425 - accuracy: 0.6547 - val_loss: 0.6265 - val_accuracy: 0.6828\n",
      "Epoch 3/20\n",
      "313/313 [==============================] - 5s 16ms/step - loss: 0.6126 - accuracy: 0.7035 - val_loss: 0.6035 - val_accuracy: 0.7134\n",
      "Epoch 4/20\n",
      "313/313 [==============================] - 5s 16ms/step - loss: 0.5903 - accuracy: 0.7276 - val_loss: 0.5871 - val_accuracy: 0.7232\n",
      "Epoch 5/20\n",
      "313/313 [==============================] - 5s 16ms/step - loss: 0.5715 - accuracy: 0.7448 - val_loss: 0.5721 - val_accuracy: 0.7312\n",
      "Epoch 6/20\n",
      "313/313 [==============================] - 5s 16ms/step - loss: 0.5545 - accuracy: 0.7556 - val_loss: 0.5579 - val_accuracy: 0.7494\n",
      "Epoch 7/20\n",
      "313/313 [==============================] - 4s 14ms/step - loss: 0.5395 - accuracy: 0.7668 - val_loss: 0.5492 - val_accuracy: 0.7442\n",
      "Epoch 8/20\n",
      "313/313 [==============================] - 4s 14ms/step - loss: 0.5254 - accuracy: 0.7718 - val_loss: 0.5358 - val_accuracy: 0.7580\n",
      "Epoch 9/20\n",
      "313/313 [==============================] - 4s 14ms/step - loss: 0.5123 - accuracy: 0.7817 - val_loss: 0.5228 - val_accuracy: 0.7636\n",
      "Epoch 10/20\n",
      "313/313 [==============================] - 4s 14ms/step - loss: 0.5004 - accuracy: 0.7839 - val_loss: 0.5192 - val_accuracy: 0.7672\n",
      "Epoch 11/20\n",
      "313/313 [==============================] - 4s 14ms/step - loss: 0.4889 - accuracy: 0.7894 - val_loss: 0.5067 - val_accuracy: 0.7678\n",
      "Epoch 12/20\n",
      "313/313 [==============================] - 4s 13ms/step - loss: 0.4786 - accuracy: 0.7952 - val_loss: 0.4981 - val_accuracy: 0.7756\n",
      "Epoch 13/20\n",
      "313/313 [==============================] - 4s 13ms/step - loss: 0.4695 - accuracy: 0.7980 - val_loss: 0.4946 - val_accuracy: 0.7722\n",
      "Epoch 14/20\n",
      "313/313 [==============================] - 4s 13ms/step - loss: 0.4598 - accuracy: 0.8037 - val_loss: 0.4899 - val_accuracy: 0.7716\n",
      "Epoch 15/20\n",
      "313/313 [==============================] - 4s 13ms/step - loss: 0.4514 - accuracy: 0.8067 - val_loss: 0.4810 - val_accuracy: 0.7750\n",
      "Epoch 16/20\n",
      "313/313 [==============================] - 4s 13ms/step - loss: 0.4443 - accuracy: 0.8088 - val_loss: 0.4751 - val_accuracy: 0.7794\n",
      "Epoch 17/20\n",
      "313/313 [==============================] - 4s 13ms/step - loss: 0.4371 - accuracy: 0.8128 - val_loss: 0.4741 - val_accuracy: 0.7776\n",
      "Epoch 18/20\n",
      "313/313 [==============================] - 4s 13ms/step - loss: 0.4317 - accuracy: 0.8145 - val_loss: 0.4697 - val_accuracy: 0.7818\n",
      "Epoch 19/20\n",
      "313/313 [==============================] - 4s 13ms/step - loss: 0.4260 - accuracy: 0.8168 - val_loss: 0.4683 - val_accuracy: 0.7808\n",
      "Epoch 20/20\n",
      "313/313 [==============================] - 4s 14ms/step - loss: 0.4210 - accuracy: 0.8178 - val_loss: 0.4644 - val_accuracy: 0.7840\n"
     ]
    }
   ],
   "source": [
    "model2 = keras.Sequential()\n",
    "model2.add(keras.layers.Embedding(500,16,input_length=100))  # 500:빈도수가 높은 단어의 개수 , 16:임베딩 벡터의 크기, 100:토큰의 개수 8:뉴런의 \n",
    "model2.add(keras.layers.SimpleRNN(8))\n",
    "model2.add(keras.layers.Dense(1, activation='sigmoid'))\n",
    "\n",
    "rmsprop = keras.optimizers.RMSprop(learning_rate= 1e-4) #0.0001\n",
    "model2.compile(optimizer=rmsprop, loss='binary_crossentropy', metrics=['accuracy'])\n",
    "\n",
    "checkpoint_cb = keras.callbacks.ModelCheckpoint('best-embedding-model.h5',save_best_only=True)\n",
    "early_stopping_cb = keras.callbacks.EarlyStopping(patience=2, restore_best_weights=True)\n",
    "\n",
    "history = model2.fit(x_train_seq, y_train, epochs=20, batch_size=64, validation_data=(x_target_seq,y_target), \n",
    "          callbacks=[checkpoint_cb,early_stopping_cb])"
   ]
  },
  {
   "cell_type": "code",
   "execution_count": 91,
   "id": "0575e882",
   "metadata": {},
   "outputs": [
    {
     "data": {
      "image/png": "[encoded data removed]",
      "text/plain": [
       "<Figure size 432x288 with 1 Axes>"
      ]
     },
     "metadata": {
      "needs_background": "light"
     },
     "output_type": "display_data"
    }
   ],
   "source": [
    "plt.plot(history.history['loss'])\n",
    "plt.plot(history.history['val_loss'])\n",
    "plt.xlabel('epoch')\n",
    "plt.ylabel('loss')\n",
    "plt.legend(['train','target'])\n",
    "plt.show()"
   ]
  },
  {
   "cell_type": "code",
   "execution_count": null,
   "id": "520e5528",
   "metadata": {},
   "outputs": [],
   "source": []
  }
 ],
 "metadata": {
  "kernelspec": {
   "display_name": "Python 3 (ipykernel)",
   "language": "python",
   "name": "python3"
  },
  "language_info": {
   "codemirror_mode": {
    "name": "ipython",
    "version": 3
   },
   "file_extension": ".py",
   "mimetype": "text/x-python",
   "name": "python",
   "nbconvert_exporter": "python",
   "pygments_lexer": "ipython3",
   "version": "3.9.7"
  }
 },
 "nbformat": 4,
 "nbformat_minor": 5
}
