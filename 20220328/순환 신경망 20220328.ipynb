{
 "cells": [
  {
   "cell_type": "code",
   "execution_count": null,
   "id": "51646974",
   "metadata": {},
   "outputs": [],
   "source": [
    "# 순차데이터\n",
    "# 1. 텍스트  i am a boy\n",
    "# 2. 시계열.. 1일 15도  , 2일 17도\n",
    "\n",
    "# 순환신경망... (RNN)\n",
    "# 순환신경망에서 데이터를 처리하는 한 단계를 타임스텝.. 층을 셀\n",
    "# 타임스텝프 A에서 셀의 출력 Oa 가 사라지지 않고 다음 스텝프 B에서 셀의 출력 Ob가 다시 타임스텝 C의 셀로 주입\n",
    "# tanh - 하이볼릭 탄젠트... \n",
    "# IMDB 리뷰 데이터셋을 "
   ]
  },
  {
   "cell_type": "code",
   "execution_count": null,
   "id": "4bac4967",
   "metadata": {},
   "outputs": [],
   "source": [
    "!pip install tensorflow"
   ]
  },
  {
   "cell_type": "code",
   "execution_count": 2,
   "id": "63a5e1d8",
   "metadata": {},
   "outputs": [],
   "source": [
    "from tensorflow.keras.datasets import imdb"
   ]
  },
  {
   "cell_type": "code",
   "execution_count": 21,
   "id": "6d67b115",
   "metadata": {},
   "outputs": [
    {
     "data": {
      "text/plain": [
       "((25000,), (25000,), (25000,), (25000,))"
      ]
     },
     "execution_count": 21,
     "metadata": {},
     "output_type": "execute_result"
    }
   ],
   "source": [
    "(x_tr,y_tr),(x_ta,y_ta) = imdb.load_data(num_words=500)\n",
    "x_tr.shape,y_tr.shape,x_ta.shape,y_ta.shape"
   ]
  },
  {
   "cell_type": "code",
   "execution_count": 22,
   "id": "98463158",
   "metadata": {},
   "outputs": [
    {
     "data": {
      "text/plain": [
       "(218, 189)"
      ]
     },
     "execution_count": 22,
     "metadata": {},
     "output_type": "execute_result"
    }
   ],
   "source": [
    "# 토근의 갯수 확인하기\n",
    "# 문장에서 분리된 단어를 토큰\n",
    "# 하나의 토큰이 하나의 타임스템프\n",
    "# Sentence: i love you  token :'i','love,'you'   \n",
    "# 한글은... 조사가 있어서. 공백으로 분리 안됨... 형태소 분석을 통해서 토큰분리하고... 라이브러 존재\n",
    "len(x_tr[0]), len(x_tr[1])"
   ]
  },
  {
   "cell_type": "code",
   "execution_count": 23,
   "id": "6288bc6d",
   "metadata": {},
   "outputs": [
    {
     "name": "stdout",
     "output_type": "stream",
     "text": [
      "[1, 14, 22, 16, 43, 2, 2, 2, 2, 65, 458, 2, 66, 2, 4, 173, 36, 256, 5, 25, 100, 43, 2, 112, 50, 2, 2, 9, 35, 480, 284, 5, 150, 4, 172, 112, 167, 2, 336, 385, 39, 4, 172, 2, 2, 17, 2, 38, 13, 447, 4, 192, 50, 16, 6, 147, 2, 19, 14, 22, 4, 2, 2, 469, 4, 22, 71, 87, 12, 16, 43, 2, 38, 76, 15, 13, 2, 4, 22, 17, 2, 17, 12, 16, 2, 18, 2, 5, 62, 386, 12, 8, 316, 8, 106, 5, 4, 2, 2, 16, 480, 66, 2, 33, 4, 130, 12, 16, 38, 2, 5, 25, 124, 51, 36, 135, 48, 25, 2, 33, 6, 22, 12, 215, 28, 77, 52, 5, 14, 407, 16, 82, 2, 8, 4, 107, 117, 2, 15, 256, 4, 2, 7, 2, 5, 2, 36, 71, 43, 2, 476, 26, 400, 317, 46, 7, 4, 2, 2, 13, 104, 88, 4, 381, 15, 297, 98, 32, 2, 56, 26, 141, 6, 194, 2, 18, 4, 226, 22, 21, 134, 476, 26, 480, 5, 144, 30, 2, 18, 51, 36, 28, 224, 92, 25, 104, 4, 226, 65, 16, 38, 2, 88, 12, 16, 283, 5, 16, 2, 113, 103, 32, 15, 16, 2, 19, 178, 32]\n"
     ]
    }
   ],
   "source": [
    "print(x_tr[0])"
   ]
  },
  {
   "cell_type": "code",
   "execution_count": 13,
   "id": "dcc3f2a6",
   "metadata": {},
   "outputs": [
    {
     "name": "stdout",
     "output_type": "stream",
     "text": [
      "Requirement already satisfied: numpy in c:\\anaconda\\envs\\crawling\\lib\\site-packages (1.21.2)\n"
     ]
    }
   ],
   "source": [
    "!pip install numpy"
   ]
  },
  {
   "cell_type": "code",
   "execution_count": 24,
   "id": "fda297a4",
   "metadata": {},
   "outputs": [
    {
     "data": {
      "text/plain": [
       "array([0, 1], dtype=int64)"
      ]
     },
     "execution_count": 24,
     "metadata": {},
     "output_type": "execute_result"
    }
   ],
   "source": [
    "import numpy as np\n",
    "np.unique(y_tr)"
   ]
  },
  {
   "cell_type": "code",
   "execution_count": 16,
   "id": "e1f4c2b0",
   "metadata": {},
   "outputs": [],
   "source": [
    "# 학습데이터와 훈련 데이터를 나눈다."
   ]
  },
  {
   "cell_type": "code",
   "execution_count": 17,
   "id": "b2978f69",
   "metadata": {},
   "outputs": [
    {
     "name": "stdout",
     "output_type": "stream",
     "text": [
      "Collecting sklearn\n",
      "  Downloading sklearn-0.0.tar.gz (1.1 kB)\n",
      "Requirement already satisfied: scikit-learn in c:\\anaconda\\envs\\crawling\\lib\\site-packages (from sklearn) (1.0.1)\n",
      "Requirement already satisfied: joblib>=0.11 in c:\\anaconda\\envs\\crawling\\lib\\site-packages (from scikit-learn->sklearn) (1.1.0)\n",
      "Requirement already satisfied: threadpoolctl>=2.0.0 in c:\\anaconda\\envs\\crawling\\lib\\site-packages (from scikit-learn->sklearn) (3.0.0)\n",
      "Requirement already satisfied: numpy>=1.14.6 in c:\\anaconda\\envs\\crawling\\lib\\site-packages (from scikit-learn->sklearn) (1.21.2)\n",
      "Requirement already satisfied: scipy>=1.1.0 in c:\\anaconda\\envs\\crawling\\lib\\site-packages (from scikit-learn->sklearn) (1.7.3)\n",
      "Building wheels for collected packages: sklearn\n",
      "  Building wheel for sklearn (setup.py): started\n",
      "  Building wheel for sklearn (setup.py): finished with status 'done'\n",
      "  Created wheel for sklearn: filename=sklearn-0.0-py2.py3-none-any.whl size=1309 sha256=9f27ac4d748b4d419a56ae8c0664da08d195692da594b7677e6b9592ffb8853c\n",
      "  Stored in directory: c:\\users\\이규영\\appdata\\local\\pip\\cache\\wheels\\e4\\7b\\98\\b6466d71b8d738a0c547008b9eb39bf8676d1ff6ca4b22af1c\n",
      "Successfully built sklearn\n",
      "Installing collected packages: sklearn\n",
      "Successfully installed sklearn-0.0\n"
     ]
    }
   ],
   "source": [
    "!pip install sklearn"
   ]
  },
  {
   "cell_type": "code",
   "execution_count": 25,
   "id": "f69938ad",
   "metadata": {},
   "outputs": [
    {
     "data": {
      "text/plain": [
       "((20000,), (20000,))"
      ]
     },
     "execution_count": 25,
     "metadata": {},
     "output_type": "execute_result"
    }
   ],
   "source": [
    "from sklearn.model_selection import train_test_split\n",
    "x_train,x_target,y_train,y_target = train_test_split(x_tr, y_tr, test_size=0.2, random_state=42)\n",
    "x_train.shape, y_train.shape"
   ]
  },
  {
   "cell_type": "code",
   "execution_count": 39,
   "id": "b56f1aa5",
   "metadata": {},
   "outputs": [],
   "source": [
    "lengths = np.array([len(i) for i in x_train])"
   ]
  },
  {
   "cell_type": "code",
   "execution_count": 31,
   "id": "ee00c727",
   "metadata": {},
   "outputs": [
    {
     "name": "stdout",
     "output_type": "stream",
     "text": [
      "Collecting matplotlib\n",
      "  Downloading matplotlib-3.5.1-cp39-cp39-win_amd64.whl (7.2 MB)\n",
      "Requirement already satisfied: pyparsing>=2.2.1 in c:\\anaconda\\envs\\crawling\\lib\\site-packages (from matplotlib) (3.0.4)\n",
      "Requirement already satisfied: python-dateutil>=2.7 in c:\\anaconda\\envs\\crawling\\lib\\site-packages (from matplotlib) (2.8.2)\n",
      "Requirement already satisfied: numpy>=1.17 in c:\\anaconda\\envs\\crawling\\lib\\site-packages (from matplotlib) (1.21.2)\n",
      "Requirement already satisfied: packaging>=20.0 in c:\\anaconda\\envs\\crawling\\lib\\site-packages (from matplotlib) (21.3)\n",
      "Collecting pillow>=6.2.0\n",
      "  Downloading Pillow-9.0.1-cp39-cp39-win_amd64.whl (3.2 MB)\n",
      "Collecting fonttools>=4.22.0\n",
      "  Downloading fonttools-4.31.2-py3-none-any.whl (899 kB)\n",
      "Collecting cycler>=0.10\n",
      "  Downloading cycler-0.11.0-py3-none-any.whl (6.4 kB)\n",
      "Collecting kiwisolver>=1.0.1\n",
      "  Downloading kiwisolver-1.4.1-cp39-cp39-win_amd64.whl (55 kB)\n",
      "Requirement already satisfied: six>=1.5 in c:\\anaconda\\envs\\crawling\\lib\\site-packages (from python-dateutil>=2.7->matplotlib) (1.16.0)\n",
      "Installing collected packages: pillow, kiwisolver, fonttools, cycler, matplotlib\n",
      "Successfully installed cycler-0.11.0 fonttools-4.31.2 kiwisolver-1.4.1 matplotlib-3.5.1 pillow-9.0.1\n"
     ]
    }
   ],
   "source": [
    "!pip install matplotlib"
   ]
  },
  {
   "cell_type": "code",
   "execution_count": 41,
   "id": "d84d634a",
   "metadata": {},
   "outputs": [
    {
     "data": {
      "image/png": "[encoded data removed]",
      "text/plain": [
       "<Figure size 432x288 with 1 Axes>"
      ]
     },
     "metadata": {
      "needs_background": "light"
     },
     "output_type": "display_data"
    }
   ],
   "source": [
    "import matplotlib.pyplot as plt\n",
    "plt.hist(lengths)\n",
    "plt.xlabel('length')\n",
    "plt.ylabel('frequency')\n",
    "plt.show()"
   ]
  },
  {
   "cell_type": "code",
   "execution_count": 42,
   "id": "a909d5a8",
   "metadata": {},
   "outputs": [],
   "source": [
    "# pad_sequences() 시퀀스 데이터의 길이를 맞춤\n",
    "from tensorflow.keras.preprocessing.sequence import pad_sequences"
   ]
  },
  {
   "cell_type": "code",
   "execution_count": 43,
   "id": "ec66a538",
   "metadata": {},
   "outputs": [],
   "source": [
    "# 최대 단어의(토큰) 개수... 문장의 길이가..... \n",
    "x_train_seq = pad_sequences(x_train, maxlen=100)\n",
    "x_target_seq = pad_sequences(x_target, maxlen=100)"
   ]
  },
  {
   "cell_type": "code",
   "execution_count": 44,
   "id": "676b2779",
   "metadata": {},
   "outputs": [
    {
     "data": {
      "text/plain": [
       "((20000, 100), (5000, 100))"
      ]
     },
     "execution_count": 44,
     "metadata": {},
     "output_type": "execute_result"
    }
   ],
   "source": [
    "x_train_seq.shape , x_target_seq.shape"
   ]
  },
  {
   "cell_type": "code",
   "execution_count": 50,
   "id": "8966cf6d",
   "metadata": {},
   "outputs": [
    {
     "data": {
      "text/plain": [
       "100"
      ]
     },
     "execution_count": 50,
     "metadata": {},
     "output_type": "execute_result"
    }
   ],
   "source": [
    "len(x_train_seq[0])"
   ]
  },
  {
   "cell_type": "code",
   "execution_count": 51,
   "id": "ec9009b7",
   "metadata": {},
   "outputs": [],
   "source": [
    "# 케라스는 순환신경알고리즘 ... 그 중에 가장 간단한 SimpleRNN 클래스를 사용\n",
    "# input_shape = (100,500)  "
   ]
  },
  {
   "cell_type": "code",
   "execution_count": 54,
   "id": "672c1a47",
   "metadata": {},
   "outputs": [],
   "source": [
    "from tensorflow import keras\n",
    "model =  keras.Sequential()\n",
    "model.add(keras.layers.SimpleRNN(8, input_shape=(100,500))) # 100은 각 샘플의 길이, 500은 빈도수가 높은 단어의 개수\n",
    "model.add(keras.layers.Dense(1, activation='sigmoid')) # 이진 분류"
   ]
  },
  {
   "cell_type": "code",
   "execution_count": 70,
   "id": "e6821221",
   "metadata": {},
   "outputs": [
    {
     "data": {
      "text/plain": [
       "(20000, 100)"
      ]
     },
     "execution_count": 70,
     "metadata": {},
     "output_type": "execute_result"
    }
   ],
   "source": [
    "x_train_seq.shape"
   ]
  },
  {
   "cell_type": "code",
   "execution_count": 69,
   "id": "fab69583",
   "metadata": {},
   "outputs": [
    {
     "name": "stdout",
     "output_type": "stream",
     "text": [
      "[ 10   4  20   9   2 364 352   5  45   6   2   2  33 269   8   2 142   2\n",
      "   5   2  17  73  17 204   5   2  19  55   2   2  92  66 104  14  20  93\n",
      "  76   2 151  33   4  58  12 188   2 151  12 215  69 224 142  73 237   6\n",
      "   2   7   2   2 188   2 103  14  31  10  10 451   7   2   5   2  80  91\n",
      "   2  30   2  34  14  20 151  50  26 131  49   2  84  46  50  37  80  79\n",
      "   6   2  46   7  14  20  10  10 470 158]\n",
      "[[[0. 0. 0. ... 0. 0. 0.]\n",
      "  [0. 0. 0. ... 0. 0. 0.]\n",
      "  [0. 0. 0. ... 0. 0. 0.]\n",
      "  ...\n",
      "  [0. 0. 0. ... 0. 0. 0.]\n",
      "  [0. 0. 0. ... 0. 0. 0.]\n",
      "  [0. 0. 0. ... 0. 0. 0.]]\n",
      "\n",
      " [[0. 0. 0. ... 0. 0. 0.]\n",
      "  [0. 0. 1. ... 0. 0. 0.]\n",
      "  [0. 0. 0. ... 0. 0. 0.]\n",
      "  ...\n",
      "  [0. 0. 0. ... 0. 0. 0.]\n",
      "  [0. 0. 1. ... 0. 0. 0.]\n",
      "  [0. 0. 1. ... 0. 0. 0.]]]\n"
     ]
    }
   ],
   "source": [
    "# 토큰을 정수로 변환한 데이터를 사용.... -> 신경망에 주입.. 단지 숫자로 변환한것에 불과하기 때문에..\n",
    "# 값이 커서 가중치가 커지는 것을 방지하기 위해.. 그리고 숫자사이의 관계를 없애기 위해서... on-hot-encoding을 사용한다.\n",
    "print(x_train_seq[0])\n",
    "x_train_oh= keras.utils.to_categorical(x_train_seq)\n",
    "print(x_train_oh[:2])"
   ]
  },
  {
   "cell_type": "code",
   "execution_count": 57,
   "id": "f744ae0a",
   "metadata": {},
   "outputs": [],
   "source": [
    "x_target_oh= keras.utils.to_categorical(x_target_seq)"
   ]
  },
  {
   "cell_type": "code",
   "execution_count": 58,
   "id": "b3eb71d6",
   "metadata": {},
   "outputs": [
    {
     "data": {
      "text/plain": [
       "((20000, 100, 500), (5000, 100, 500))"
      ]
     },
     "execution_count": 58,
     "metadata": {},
     "output_type": "execute_result"
    }
   ],
   "source": [
    "x_train_oh.shape, x_target_oh.shape"
   ]
  },
  {
   "cell_type": "code",
   "execution_count": 71,
   "id": "b052ecda",
   "metadata": {},
   "outputs": [
    {
     "data": {
      "text/plain": [
       "1.0"
      ]
     },
     "execution_count": 71,
     "metadata": {},
     "output_type": "execute_result"
    }
   ],
   "source": [
    "np.sum(x_train_oh[100][0])"
   ]
  },
  {
   "cell_type": "code",
   "execution_count": 73,
   "id": "8978e701",
   "metadata": {},
   "outputs": [
    {
     "name": "stdout",
     "output_type": "stream",
     "text": [
      "Epoch 1/20\n",
      "313/313 [==============================] - 10s 29ms/step - loss: 0.6874 - accuracy: 0.5477 - val_loss: 0.6920 - val_accuracy: 0.5178\n",
      "Epoch 2/20\n",
      "313/313 [==============================] - 8s 24ms/step - loss: 0.6863 - accuracy: 0.5529 - val_loss: 0.6919 - val_accuracy: 0.5206\n",
      "Epoch 3/20\n",
      "313/313 [==============================] - 7s 23ms/step - loss: 0.6852 - accuracy: 0.5586 - val_loss: 0.6920 - val_accuracy: 0.5216\n",
      "Epoch 4/20\n",
      "313/313 [==============================] - 7s 23ms/step - loss: 0.6841 - accuracy: 0.5595 - val_loss: 0.6918 - val_accuracy: 0.5224\n",
      "Epoch 5/20\n",
      "313/313 [==============================] - 7s 24ms/step - loss: 0.6829 - accuracy: 0.5644 - val_loss: 0.6915 - val_accuracy: 0.5248\n",
      "Epoch 6/20\n",
      "313/313 [==============================] - 7s 23ms/step - loss: 0.6817 - accuracy: 0.5691 - val_loss: 0.6912 - val_accuracy: 0.5288\n",
      "Epoch 7/20\n",
      "313/313 [==============================] - 7s 22ms/step - loss: 0.6800 - accuracy: 0.5738 - val_loss: 0.6902 - val_accuracy: 0.5310\n",
      "Epoch 8/20\n",
      "313/313 [==============================] - 7s 22ms/step - loss: 0.6762 - accuracy: 0.5828 - val_loss: 0.6856 - val_accuracy: 0.5514\n",
      "Epoch 9/20\n",
      "313/313 [==============================] - 7s 21ms/step - loss: 0.6691 - accuracy: 0.6144 - val_loss: 0.6787 - val_accuracy: 0.5734\n",
      "Epoch 10/20\n",
      "313/313 [==============================] - 7s 21ms/step - loss: 0.6595 - accuracy: 0.6424 - val_loss: 0.6697 - val_accuracy: 0.6018\n",
      "Epoch 11/20\n",
      "313/313 [==============================] - 7s 21ms/step - loss: 0.6482 - accuracy: 0.6668 - val_loss: 0.6596 - val_accuracy: 0.6292\n",
      "Epoch 12/20\n",
      "313/313 [==============================] - 6s 21ms/step - loss: 0.6361 - accuracy: 0.6885 - val_loss: 0.6492 - val_accuracy: 0.6538\n",
      "Epoch 13/20\n",
      "313/313 [==============================] - 7s 22ms/step - loss: 0.6236 - accuracy: 0.7045 - val_loss: 0.6378 - val_accuracy: 0.6714\n",
      "Epoch 14/20\n",
      "313/313 [==============================] - 7s 21ms/step - loss: 0.6115 - accuracy: 0.7177 - val_loss: 0.6264 - val_accuracy: 0.6920\n",
      "Epoch 15/20\n",
      "313/313 [==============================] - 7s 22ms/step - loss: 0.5991 - accuracy: 0.7284 - val_loss: 0.6132 - val_accuracy: 0.7054\n",
      "Epoch 16/20\n",
      "313/313 [==============================] - 7s 22ms/step - loss: 0.5867 - accuracy: 0.7384 - val_loss: 0.6056 - val_accuracy: 0.7130\n",
      "Epoch 17/20\n",
      "313/313 [==============================] - 7s 22ms/step - loss: 0.5750 - accuracy: 0.7467 - val_loss: 0.5921 - val_accuracy: 0.7232\n",
      "Epoch 18/20\n",
      "313/313 [==============================] - 6s 21ms/step - loss: 0.5636 - accuracy: 0.7534 - val_loss: 0.5823 - val_accuracy: 0.7328\n",
      "Epoch 19/20\n",
      "313/313 [==============================] - 6s 20ms/step - loss: 0.5517 - accuracy: 0.7619 - val_loss: 0.5750 - val_accuracy: 0.7322\n",
      "Epoch 20/20\n",
      "313/313 [==============================] - 7s 21ms/step - loss: 0.5406 - accuracy: 0.7666 - val_loss: 0.5628 - val_accuracy: 0.7434\n"
     ]
    }
   ],
   "source": [
    "rmsprop =  keras.optimizers.RMSprop(learning_rate=1e-4) #0.0001  \n",
    "model.compile(optimizer=rmsprop, loss='binary_crossentropy', metrics=['accuracy'])\n",
    "\n",
    "checkpoint_cb = keras.callbacks.ModelCheckpoint('best-simplernn-model.h5')\n",
    "early_stopping_cb = keras.callbacks.EarlyStopping(patience=2, restore_best_weights=True)\n",
    "history = model.fit(x_train_oh, y_train, epochs=20, batch_size=64, validation_data=(x_target_oh,y_target), \n",
    "          callbacks=[checkpoint_cb,early_stopping_cb])"
   ]
  },
  {
   "cell_type": "code",
   "execution_count": null,
   "id": "06390c9c",
   "metadata": {},
   "outputs": [],
   "source": []
  }
 ],
 "metadata": {
  "kernelspec": {
   "display_name": "Python 3 (ipykernel)",
   "language": "python",
   "name": "python3"
  },
  "language_info": {
   "codemirror_mode": {
    "name": "ipython",
    "version": 3
   },
   "file_extension": ".py",
   "mimetype": "text/x-python",
   "name": "python",
   "nbconvert_exporter": "python",
   "pygments_lexer": "ipython3",
   "version": "3.9.7"
  }
 },
 "nbformat": 4,
 "nbformat_minor": 5
}
