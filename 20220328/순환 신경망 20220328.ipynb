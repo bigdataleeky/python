{
 "cells": [
  {
   "cell_type": "code",
   "execution_count": null,
   "id": "51646974",
   "metadata": {},
   "outputs": [],
   "source": [
    "# 순차데이터\n",
    "# 1. 텍스트  i am a boy\n",
    "# 2. 시계열.. 1일 15도  , 2일 17도\n",
    "\n",
    "# 순환신경망... (RNN)\n",
    "# 순환신경망에서 데이터를 처리하는 한 단계를 타임스텝.. 층을 셀\n",
    "# 타임스텝프 A에서 셀의 출력 Oa 가 사라지지 않고 다음 스텝프 B에서 셀의 출력 Ob가 다시 타임스텝 C의 셀로 주입\n",
    "# tanh - 하이볼릭 탄젠트... \n",
    "# IMDB 리뷰 데이터셋을 "
   ]
  },
  {
   "cell_type": "code",
   "execution_count": null,
   "id": "4bac4967",
   "metadata": {},
   "outputs": [],
   "source": [
    "!pip install tensorflow"
   ]
  },
  {
   "cell_type": "code",
   "execution_count": 2,
   "id": "63a5e1d8",
   "metadata": {},
   "outputs": [],
   "source": [
    "from tensorflow.keras.datasets import imdb"
   ]
  },
  {
   "cell_type": "code",
   "execution_count": 21,
   "id": "6d67b115",
   "metadata": {},
   "outputs": [
    {
     "data": {
      "text/plain": [
       "((25000,), (25000,), (25000,), (25000,))"
      ]
     },
     "execution_count": 21,
     "metadata": {},
     "output_type": "execute_result"
    }
   ],
   "source": [
    "(x_tr,y_tr),(x_ta,y_ta) = imdb.load_data(num_words=500)\n",
    "x_tr.shape,y_tr.shape,x_ta.shape,y_ta.shape"
   ]
  },
  {
   "cell_type": "code",
   "execution_count": 22,
   "id": "c4bb8578",
   "metadata": {},
   "outputs": [
    {
     "data": {
      "text/plain": [
       "(218, 189)"
      ]
     },
     "execution_count": 22,
     "metadata": {},
     "output_type": "execute_result"
    }
   ],
   "source": [
    "# 토근의 갯수 확인하기\n",
    "# 문장에서 분리된 단어를 토큰\n",
    "# 하나의 토큰이 하나의 타임스템프\n",
    "# Sentence: i love you  token :'i','love,'you'   \n",
    "# 한글은... 조사가 있어서. 공백으로 분리 안됨... 형태소 분석을 통해서 토큰분리하고... 라이브러 존재\n",
    "len(x_tr[0]), len(x_tr[1])"
   ]
  },
  {
   "cell_type": "code",
   "execution_count": 23,
   "id": "f13de324",
   "metadata": {},
   "outputs": [
    {
     "name": "stdout",
     "output_type": "stream",
     "text": [
      "[1, 14, 22, 16, 43, 2, 2, 2, 2, 65, 458, 2, 66, 2, 4, 173, 36, 256, 5, 25, 100, 43, 2, 112, 50, 2, 2, 9, 35, 480, 284, 5, 150, 4, 172, 112, 167, 2, 336, 385, 39, 4, 172, 2, 2, 17, 2, 38, 13, 447, 4, 192, 50, 16, 6, 147, 2, 19, 14, 22, 4, 2, 2, 469, 4, 22, 71, 87, 12, 16, 43, 2, 38, 76, 15, 13, 2, 4, 22, 17, 2, 17, 12, 16, 2, 18, 2, 5, 62, 386, 12, 8, 316, 8, 106, 5, 4, 2, 2, 16, 480, 66, 2, 33, 4, 130, 12, 16, 38, 2, 5, 25, 124, 51, 36, 135, 48, 25, 2, 33, 6, 22, 12, 215, 28, 77, 52, 5, 14, 407, 16, 82, 2, 8, 4, 107, 117, 2, 15, 256, 4, 2, 7, 2, 5, 2, 36, 71, 43, 2, 476, 26, 400, 317, 46, 7, 4, 2, 2, 13, 104, 88, 4, 381, 15, 297, 98, 32, 2, 56, 26, 141, 6, 194, 2, 18, 4, 226, 22, 21, 134, 476, 26, 480, 5, 144, 30, 2, 18, 51, 36, 28, 224, 92, 25, 104, 4, 226, 65, 16, 38, 2, 88, 12, 16, 283, 5, 16, 2, 113, 103, 32, 15, 16, 2, 19, 178, 32]\n"
     ]
    }
   ],
   "source": [
    "print(x_tr[0])"
   ]
  },
  {
   "cell_type": "code",
   "execution_count": 13,
   "id": "86a5b0fd",
   "metadata": {},
   "outputs": [
    {
     "name": "stdout",
     "output_type": "stream",
     "text": [
      "Requirement already satisfied: numpy in c:\\anaconda\\envs\\crawling\\lib\\site-packages (1.21.2)\n"
     ]
    }
   ],
   "source": [
    "!pip install numpy"
   ]
  },
  {
   "cell_type": "code",
   "execution_count": 24,
   "id": "1a6781d7",
   "metadata": {},
   "outputs": [
    {
     "data": {
      "text/plain": [
       "array([0, 1], dtype=int64)"
      ]
     },
     "execution_count": 24,
     "metadata": {},
     "output_type": "execute_result"
    }
   ],
   "source": [
    "import numpy as np\n",
    "np.unique(y_tr)"
   ]
  },
  {
   "cell_type": "code",
   "execution_count": 16,
   "id": "eb520aea",
   "metadata": {},
   "outputs": [],
   "source": [
    "# 학습데이터와 훈련 데이터를 나눈다."
   ]
  },
  {
   "cell_type": "code",
   "execution_count": 17,
   "id": "23629872",
   "metadata": {},
   "outputs": [
    {
     "name": "stdout",
     "output_type": "stream",
     "text": [
      "Collecting sklearn\n",
      "  Downloading sklearn-0.0.tar.gz (1.1 kB)\n",
      "Requirement already satisfied: scikit-learn in c:\\anaconda\\envs\\crawling\\lib\\site-packages (from sklearn) (1.0.1)\n",
      "Requirement already satisfied: joblib>=0.11 in c:\\anaconda\\envs\\crawling\\lib\\site-packages (from scikit-learn->sklearn) (1.1.0)\n",
      "Requirement already satisfied: threadpoolctl>=2.0.0 in c:\\anaconda\\envs\\crawling\\lib\\site-packages (from scikit-learn->sklearn) (3.0.0)\n",
      "Requirement already satisfied: numpy>=1.14.6 in c:\\anaconda\\envs\\crawling\\lib\\site-packages (from scikit-learn->sklearn) (1.21.2)\n",
      "Requirement already satisfied: scipy>=1.1.0 in c:\\anaconda\\envs\\crawling\\lib\\site-packages (from scikit-learn->sklearn) (1.7.3)\n",
      "Building wheels for collected packages: sklearn\n",
      "  Building wheel for sklearn (setup.py): started\n",
      "  Building wheel for sklearn (setup.py): finished with status 'done'\n",
      "  Created wheel for sklearn: filename=sklearn-0.0-py2.py3-none-any.whl size=1309 sha256=9f27ac4d748b4d419a56ae8c0664da08d195692da594b7677e6b9592ffb8853c\n",
      "  Stored in directory: c:\\users\\이규영\\appdata\\local\\pip\\cache\\wheels\\e4\\7b\\98\\b6466d71b8d738a0c547008b9eb39bf8676d1ff6ca4b22af1c\n",
      "Successfully built sklearn\n",
      "Installing collected packages: sklearn\n",
      "Successfully installed sklearn-0.0\n"
     ]
    }
   ],
   "source": [
    "!pip install sklearn"
   ]
  },
  {
   "cell_type": "code",
   "execution_count": 25,
   "id": "ca9ae311",
   "metadata": {},
   "outputs": [
    {
     "data": {
      "text/plain": [
       "((20000,), (20000,))"
      ]
     },
     "execution_count": 25,
     "metadata": {},
     "output_type": "execute_result"
    }
   ],
   "source": [
    "from sklearn.model_selection import train_test_split\n",
    "x_train,x_target,y_train,y_target = train_test_split(x_tr, y_tr, test_size=0.2, random_state=42)\n",
    "x_train.shape, y_train.shape"
   ]
  },
  {
   "cell_type": "code",
   "execution_count": 39,
   "id": "397ff549",
   "metadata": {},
   "outputs": [],
   "source": [
    "lengths = np.array([len(i) for i in x_train])"
   ]
  },
  {
   "cell_type": "code",
   "execution_count": 31,
   "id": "5d422a8e",
   "metadata": {},
   "outputs": [
    {
     "name": "stdout",
     "output_type": "stream",
     "text": [
      "Collecting matplotlib\n",
      "  Downloading matplotlib-3.5.1-cp39-cp39-win_amd64.whl (7.2 MB)\n",
      "Requirement already satisfied: pyparsing>=2.2.1 in c:\\anaconda\\envs\\crawling\\lib\\site-packages (from matplotlib) (3.0.4)\n",
      "Requirement already satisfied: python-dateutil>=2.7 in c:\\anaconda\\envs\\crawling\\lib\\site-packages (from matplotlib) (2.8.2)\n",
      "Requirement already satisfied: numpy>=1.17 in c:\\anaconda\\envs\\crawling\\lib\\site-packages (from matplotlib) (1.21.2)\n",
      "Requirement already satisfied: packaging>=20.0 in c:\\anaconda\\envs\\crawling\\lib\\site-packages (from matplotlib) (21.3)\n",
      "Collecting pillow>=6.2.0\n",
      "  Downloading Pillow-9.0.1-cp39-cp39-win_amd64.whl (3.2 MB)\n",
      "Collecting fonttools>=4.22.0\n",
      "  Downloading fonttools-4.31.2-py3-none-any.whl (899 kB)\n",
      "Collecting cycler>=0.10\n",
      "  Downloading cycler-0.11.0-py3-none-any.whl (6.4 kB)\n",
      "Collecting kiwisolver>=1.0.1\n",
      "  Downloading kiwisolver-1.4.1-cp39-cp39-win_amd64.whl (55 kB)\n",
      "Requirement already satisfied: six>=1.5 in c:\\anaconda\\envs\\crawling\\lib\\site-packages (from python-dateutil>=2.7->matplotlib) (1.16.0)\n",
      "Installing collected packages: pillow, kiwisolver, fonttools, cycler, matplotlib\n",
      "Successfully installed cycler-0.11.0 fonttools-4.31.2 kiwisolver-1.4.1 matplotlib-3.5.1 pillow-9.0.1\n"
     ]
    }
   ],
   "source": [
    "!pip install matplotlib"
   ]
  },
  {
   "cell_type": "code",
   "execution_count": 41,
   "id": "e7627e94",
   "metadata": {},
   "outputs": [
    {
     "data": {
      "image/png": "[encoded data removed]",
      "text/plain": [
       "<Figure size 432x288 with 1 Axes>"
      ]
     },
     "metadata": {
      "needs_background": "light"
     },
     "output_type": "display_data"
    }
   ],
   "source": [
    "import matplotlib.pyplot as plt\n",
    "plt.hist(lengths)\n",
    "plt.xlabel('length')\n",
    "plt.ylabel('frequency')\n",
    "plt.show()"
   ]
  },
  {
   "cell_type": "code",
   "execution_count": 42,
   "id": "e1dd8572",
   "metadata": {},
   "outputs": [],
   "source": [
    "# pad_sequences() 시퀀스 데이터의 길이를 맞춤\n",
    "from tensorflow.keras.preprocessing.sequence import pad_sequences"
   ]
  },
  {
   "cell_type": "code",
   "execution_count": 43,
   "id": "b4f64d46",
   "metadata": {},
   "outputs": [],
   "source": [
    "# 최대 단어의(토큰) 개수... 문장의 길이가..... \n",
    "x_train_seq = pad_sequences(x_train, maxlen=100)\n",
    "x_target_seq = pad_sequences(x_target, maxlen=100)"
   ]
  },
  {
   "cell_type": "code",
   "execution_count": 44,
   "id": "a662674a",
   "metadata": {},
   "outputs": [
    {
     "data": {
      "text/plain": [
       "((20000, 100), (5000, 100))"
      ]
     },
     "execution_count": 44,
     "metadata": {},
     "output_type": "execute_result"
    }
   ],
   "source": [
    "x_train_seq.shape , x_target_seq.shape"
   ]
  },
  {
   "cell_type": "code",
   "execution_count": 48,
   "id": "339cf938",
   "metadata": {},
   "outputs": [
    {
     "data": {
      "text/plain": [
       "100"
      ]
     },
     "execution_count": 48,
     "metadata": {},
     "output_type": "execute_result"
    }
   ],
   "source": [
    "len(x_train_seq[0])"
   ]
  },
  {
   "cell_type": "code",
   "execution_count": null,
   "id": "be2d6284",
   "metadata": {},
   "outputs": [],
   "source": []
  }
 ],
 "metadata": {
  "kernelspec": {
   "display_name": "Python 3 (ipykernel)",
   "language": "python",
   "name": "python3"
  },
  "language_info": {
   "codemirror_mode": {
    "name": "ipython",
    "version": 3
   },
   "file_extension": ".py",
   "mimetype": "text/x-python",
   "name": "python",
   "nbconvert_exporter": "python",
   "pygments_lexer": "ipython3",
   "version": "3.9.7"
  }
 },
 "nbformat": 4,
 "nbformat_minor": 5
}
